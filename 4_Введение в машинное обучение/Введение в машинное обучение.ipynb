{
 "cells": [
  {
   "cell_type": "markdown",
   "metadata": {},
   "source": [
    "# Рекомендация тарифов"
   ]
  },
  {
   "cell_type": "markdown",
   "metadata": {},
   "source": [
    "## Цели проекта"
   ]
  },
  {
   "cell_type": "markdown",
   "metadata": {},
   "source": [
    "Построить модель для задачи классификации, которая поможет оператору мобильной связи «Мегалайн» построить систему, способную проанализировать поведение клиентов и предложить пользователям новый тариф: «Смарт» или «Ультра»."
   ]
  },
  {
   "cell_type": "markdown",
   "metadata": {},
   "source": [
    "## Описание данных"
   ]
  },
  {
   "cell_type": "markdown",
   "metadata": {},
   "source": [
    "Каждый объект в наборе данных — это информация о поведении одного пользователя за месяц. Известно:\n",
    "* сalls — количество звонков,\n",
    "* minutes — суммарная длительность звонков в минутах,\n",
    "* messages — количество sms-сообщений,\n",
    "* mb_used — израсходованный интернет-трафик в Мб,\n",
    "* is_ultra — каким тарифом пользовался в течение месяца («Ультра» — 1, «Смарт» — 0)."
   ]
  },
  {
   "cell_type": "markdown",
   "metadata": {},
   "source": [
    "## Ход работы"
   ]
  },
  {
   "cell_type": "markdown",
   "metadata": {},
   "source": [
    "1. Познакомиться с данными из датасета `users_behavior.csv`.\n",
    "2. Разделить исходные данные на обучающую, валидационную и тестовую выборки.\n",
    "3. Исследовать качество разных моделей, меняя гиперпараметры. Описать выводы исследования.\n",
    "4. Проверить качество модели на тестовой выборке."
   ]
  },
  {
   "cell_type": "markdown",
   "metadata": {},
   "source": [
    "## Знакомство с данными"
   ]
  },
  {
   "cell_type": "code",
   "execution_count": 1,
   "metadata": {
    "tags": []
   },
   "outputs": [],
   "source": [
    "# import of library\n",
    "import math\n",
    "\n",
    "import matplotlib.pyplot as plt\n",
    "import pandas as pd\n",
    "import seaborn as sbrn\n",
    "from sklearn.ensemble import RandomForestClassifier\n",
    "from sklearn.linear_model import LogisticRegression\n",
    "from sklearn.metrics import accuracy_score\n",
    "from sklearn.model_selection import train_test_split\n",
    "from sklearn.tree import DecisionTreeClassifier"
   ]
  },
  {
   "cell_type": "code",
   "execution_count": 2,
   "metadata": {
    "tags": []
   },
   "outputs": [
    {
     "name": "stdout",
     "output_type": "stream",
     "text": [
      "<class 'pandas.core.frame.DataFrame'>\n",
      "RangeIndex: 3214 entries, 0 to 3213\n",
      "Data columns (total 5 columns):\n",
      " #   Column    Non-Null Count  Dtype  \n",
      "---  ------    --------------  -----  \n",
      " 0   calls     3214 non-null   float64\n",
      " 1   minutes   3214 non-null   float64\n",
      " 2   messages  3214 non-null   float64\n",
      " 3   mb_used   3214 non-null   float64\n",
      " 4   is_ultra  3214 non-null   int64  \n",
      "dtypes: float64(4), int64(1)\n",
      "memory usage: 125.7 KB\n"
     ]
    },
    {
     "data": {
      "text/html": [
       "<div>\n",
       "<style scoped>\n",
       "    .dataframe tbody tr th:only-of-type {\n",
       "        vertical-align: middle;\n",
       "    }\n",
       "\n",
       "    .dataframe tbody tr th {\n",
       "        vertical-align: top;\n",
       "    }\n",
       "\n",
       "    .dataframe thead th {\n",
       "        text-align: right;\n",
       "    }\n",
       "</style>\n",
       "<table border=\"1\" class=\"dataframe\">\n",
       "  <thead>\n",
       "    <tr style=\"text-align: right;\">\n",
       "      <th></th>\n",
       "      <th>calls</th>\n",
       "      <th>minutes</th>\n",
       "      <th>messages</th>\n",
       "      <th>mb_used</th>\n",
       "      <th>is_ultra</th>\n",
       "    </tr>\n",
       "  </thead>\n",
       "  <tbody>\n",
       "    <tr>\n",
       "      <th>0</th>\n",
       "      <td>40.0</td>\n",
       "      <td>311.90</td>\n",
       "      <td>83.0</td>\n",
       "      <td>19915.42</td>\n",
       "      <td>0</td>\n",
       "    </tr>\n",
       "    <tr>\n",
       "      <th>1</th>\n",
       "      <td>85.0</td>\n",
       "      <td>516.75</td>\n",
       "      <td>56.0</td>\n",
       "      <td>22696.96</td>\n",
       "      <td>0</td>\n",
       "    </tr>\n",
       "    <tr>\n",
       "      <th>2</th>\n",
       "      <td>77.0</td>\n",
       "      <td>467.66</td>\n",
       "      <td>86.0</td>\n",
       "      <td>21060.45</td>\n",
       "      <td>0</td>\n",
       "    </tr>\n",
       "    <tr>\n",
       "      <th>3</th>\n",
       "      <td>106.0</td>\n",
       "      <td>745.53</td>\n",
       "      <td>81.0</td>\n",
       "      <td>8437.39</td>\n",
       "      <td>1</td>\n",
       "    </tr>\n",
       "    <tr>\n",
       "      <th>4</th>\n",
       "      <td>66.0</td>\n",
       "      <td>418.74</td>\n",
       "      <td>1.0</td>\n",
       "      <td>14502.75</td>\n",
       "      <td>0</td>\n",
       "    </tr>\n",
       "    <tr>\n",
       "      <th>5</th>\n",
       "      <td>58.0</td>\n",
       "      <td>344.56</td>\n",
       "      <td>21.0</td>\n",
       "      <td>15823.37</td>\n",
       "      <td>0</td>\n",
       "    </tr>\n",
       "    <tr>\n",
       "      <th>6</th>\n",
       "      <td>57.0</td>\n",
       "      <td>431.64</td>\n",
       "      <td>20.0</td>\n",
       "      <td>3738.90</td>\n",
       "      <td>1</td>\n",
       "    </tr>\n",
       "    <tr>\n",
       "      <th>7</th>\n",
       "      <td>15.0</td>\n",
       "      <td>132.40</td>\n",
       "      <td>6.0</td>\n",
       "      <td>21911.60</td>\n",
       "      <td>0</td>\n",
       "    </tr>\n",
       "    <tr>\n",
       "      <th>8</th>\n",
       "      <td>7.0</td>\n",
       "      <td>43.39</td>\n",
       "      <td>3.0</td>\n",
       "      <td>2538.67</td>\n",
       "      <td>1</td>\n",
       "    </tr>\n",
       "    <tr>\n",
       "      <th>9</th>\n",
       "      <td>90.0</td>\n",
       "      <td>665.41</td>\n",
       "      <td>38.0</td>\n",
       "      <td>17358.61</td>\n",
       "      <td>0</td>\n",
       "    </tr>\n",
       "  </tbody>\n",
       "</table>\n",
       "</div>"
      ],
      "text/plain": [
       "   calls  minutes  messages   mb_used  is_ultra\n",
       "0   40.0   311.90      83.0  19915.42         0\n",
       "1   85.0   516.75      56.0  22696.96         0\n",
       "2   77.0   467.66      86.0  21060.45         0\n",
       "3  106.0   745.53      81.0   8437.39         1\n",
       "4   66.0   418.74       1.0  14502.75         0\n",
       "5   58.0   344.56      21.0  15823.37         0\n",
       "6   57.0   431.64      20.0   3738.90         1\n",
       "7   15.0   132.40       6.0  21911.60         0\n",
       "8    7.0    43.39       3.0   2538.67         1\n",
       "9   90.0   665.41      38.0  17358.61         0"
      ]
     },
     "execution_count": 2,
     "metadata": {},
     "output_type": "execute_result"
    }
   ],
   "source": [
    "try:\n",
    "    df = pd.read_csv(\"/datasets/users_behavior.csv\")\n",
    "except:\n",
    "    df = pd.read_csv(\"users_behavior.csv\")\n",
    "df.info()\n",
    "df.head(10)"
   ]
  },
  {
   "cell_type": "markdown",
   "metadata": {},
   "source": [
    "Можно поменять тип данных у столбцов *calls и messages* на целочисленное значение:"
   ]
  },
  {
   "cell_type": "code",
   "execution_count": 3,
   "metadata": {
    "tags": []
   },
   "outputs": [
    {
     "name": "stdout",
     "output_type": "stream",
     "text": [
      "<class 'pandas.core.frame.DataFrame'>\n",
      "RangeIndex: 3214 entries, 0 to 3213\n",
      "Data columns (total 5 columns):\n",
      " #   Column    Non-Null Count  Dtype  \n",
      "---  ------    --------------  -----  \n",
      " 0   calls     3214 non-null   int32  \n",
      " 1   minutes   3214 non-null   float64\n",
      " 2   messages  3214 non-null   int32  \n",
      " 3   mb_used   3214 non-null   float64\n",
      " 4   is_ultra  3214 non-null   int64  \n",
      "dtypes: float64(2), int32(2), int64(1)\n",
      "memory usage: 100.6 KB\n"
     ]
    },
    {
     "data": {
      "text/html": [
       "<div>\n",
       "<style scoped>\n",
       "    .dataframe tbody tr th:only-of-type {\n",
       "        vertical-align: middle;\n",
       "    }\n",
       "\n",
       "    .dataframe tbody tr th {\n",
       "        vertical-align: top;\n",
       "    }\n",
       "\n",
       "    .dataframe thead th {\n",
       "        text-align: right;\n",
       "    }\n",
       "</style>\n",
       "<table border=\"1\" class=\"dataframe\">\n",
       "  <thead>\n",
       "    <tr style=\"text-align: right;\">\n",
       "      <th></th>\n",
       "      <th>calls</th>\n",
       "      <th>minutes</th>\n",
       "      <th>messages</th>\n",
       "      <th>mb_used</th>\n",
       "      <th>is_ultra</th>\n",
       "    </tr>\n",
       "  </thead>\n",
       "  <tbody>\n",
       "    <tr>\n",
       "      <th>0</th>\n",
       "      <td>40</td>\n",
       "      <td>311.90</td>\n",
       "      <td>83</td>\n",
       "      <td>19915.42</td>\n",
       "      <td>0</td>\n",
       "    </tr>\n",
       "    <tr>\n",
       "      <th>1</th>\n",
       "      <td>85</td>\n",
       "      <td>516.75</td>\n",
       "      <td>56</td>\n",
       "      <td>22696.96</td>\n",
       "      <td>0</td>\n",
       "    </tr>\n",
       "    <tr>\n",
       "      <th>2</th>\n",
       "      <td>77</td>\n",
       "      <td>467.66</td>\n",
       "      <td>86</td>\n",
       "      <td>21060.45</td>\n",
       "      <td>0</td>\n",
       "    </tr>\n",
       "    <tr>\n",
       "      <th>3</th>\n",
       "      <td>106</td>\n",
       "      <td>745.53</td>\n",
       "      <td>81</td>\n",
       "      <td>8437.39</td>\n",
       "      <td>1</td>\n",
       "    </tr>\n",
       "    <tr>\n",
       "      <th>4</th>\n",
       "      <td>66</td>\n",
       "      <td>418.74</td>\n",
       "      <td>1</td>\n",
       "      <td>14502.75</td>\n",
       "      <td>0</td>\n",
       "    </tr>\n",
       "    <tr>\n",
       "      <th>5</th>\n",
       "      <td>58</td>\n",
       "      <td>344.56</td>\n",
       "      <td>21</td>\n",
       "      <td>15823.37</td>\n",
       "      <td>0</td>\n",
       "    </tr>\n",
       "    <tr>\n",
       "      <th>6</th>\n",
       "      <td>57</td>\n",
       "      <td>431.64</td>\n",
       "      <td>20</td>\n",
       "      <td>3738.90</td>\n",
       "      <td>1</td>\n",
       "    </tr>\n",
       "    <tr>\n",
       "      <th>7</th>\n",
       "      <td>15</td>\n",
       "      <td>132.40</td>\n",
       "      <td>6</td>\n",
       "      <td>21911.60</td>\n",
       "      <td>0</td>\n",
       "    </tr>\n",
       "    <tr>\n",
       "      <th>8</th>\n",
       "      <td>7</td>\n",
       "      <td>43.39</td>\n",
       "      <td>3</td>\n",
       "      <td>2538.67</td>\n",
       "      <td>1</td>\n",
       "    </tr>\n",
       "    <tr>\n",
       "      <th>9</th>\n",
       "      <td>90</td>\n",
       "      <td>665.41</td>\n",
       "      <td>38</td>\n",
       "      <td>17358.61</td>\n",
       "      <td>0</td>\n",
       "    </tr>\n",
       "  </tbody>\n",
       "</table>\n",
       "</div>"
      ],
      "text/plain": [
       "   calls  minutes  messages   mb_used  is_ultra\n",
       "0     40   311.90        83  19915.42         0\n",
       "1     85   516.75        56  22696.96         0\n",
       "2     77   467.66        86  21060.45         0\n",
       "3    106   745.53        81   8437.39         1\n",
       "4     66   418.74         1  14502.75         0\n",
       "5     58   344.56        21  15823.37         0\n",
       "6     57   431.64        20   3738.90         1\n",
       "7     15   132.40         6  21911.60         0\n",
       "8      7    43.39         3   2538.67         1\n",
       "9     90   665.41        38  17358.61         0"
      ]
     },
     "execution_count": 3,
     "metadata": {},
     "output_type": "execute_result"
    }
   ],
   "source": [
    "df[\"calls\"] = df[\"calls\"].astype(\"int\")\n",
    "df[\"messages\"] = df[\"messages\"].astype(\"int\")\n",
    "df.info()\n",
    "df.head(10)"
   ]
  },
  {
   "cell_type": "code",
   "execution_count": 4,
   "metadata": {
    "tags": []
   },
   "outputs": [
    {
     "data": {
      "text/plain": [
       "0"
      ]
     },
     "execution_count": 4,
     "metadata": {},
     "output_type": "execute_result"
    }
   ],
   "source": [
    "# number of duplicates\n",
    "df.duplicated().sum()"
   ]
  },
  {
   "cell_type": "code",
   "execution_count": 5,
   "metadata": {
    "tags": []
   },
   "outputs": [
    {
     "data": {
      "image/png": "[encoded data removed]",
      "text/plain": [
       "<Figure size 1500x500 with 4 Axes>"
      ]
     },
     "metadata": {},
     "output_type": "display_data"
    }
   ],
   "source": [
    "# subplot для столбцов\n",
    "columns_plot = df.columns.to_list()\n",
    "del columns_plot[4]\n",
    "\n",
    "fig, axs = plt.subplots(1, len(columns_plot), figsize=(15, 5))\n",
    "fig.tight_layout(w_pad=5)\n",
    "col = 0\n",
    "for i in columns_plot:\n",
    "    ax = sbrn.boxplot(y=df[i], ax=axs[col])\n",
    "    ax.set_title(i)\n",
    "    col += 1\n",
    "fig.suptitle(\"Блочные диаграммы для столбцов\")\n",
    "plt.subplots_adjust(top=0.8)"
   ]
  },
  {
   "cell_type": "markdown",
   "metadata": {},
   "source": [
    "Пропусков нет, дубликатов нет, явных выбросов в данных нет, поменяли тип данных у столбцов с количеством вызовов и сообщений на целочисленный."
   ]
  },
  {
   "cell_type": "markdown",
   "metadata": {},
   "source": [
    "## Разбивка данных на выборки"
   ]
  },
  {
   "cell_type": "code",
   "execution_count": 6,
   "metadata": {
    "tags": []
   },
   "outputs": [
    {
     "name": "stdout",
     "output_type": "stream",
     "text": [
      "Количество объектов в обучающей выборке: 1928 , в процентах:  60 %\n",
      "Количество объектов в тестовой выборке: 643 , в процентах:  20 %\n",
      "Количество объектов в валидационной выборке: 643 , в процентах:  20 %\n"
     ]
    }
   ],
   "source": [
    "features = df.drop(\"is_ultra\", axis=1)  # признаки\n",
    "target = df[\"is_ultra\"]  # целевой признак\n",
    "\n",
    "features_train, features_test, target_train, target_test = train_test_split(\n",
    "    features, target, train_size=0.6, random_state=12345\n",
    ")  # отделим 60% данных для обучающей выборки выборки\n",
    "\n",
    "features_test, features_valid, target_test, target_valid = train_test_split(\n",
    "    features_test, target_test, test_size=0.5, random_state=12345\n",
    ")  # отделим 50% от тестового набора на валидационный набор\n",
    "\n",
    "print(\n",
    "    \"Количество объектов в обучающей выборке:\",\n",
    "    target_train.count(),\n",
    "    \", в процентах: \",\n",
    "    math.ceil(100 * target_train.count() / target.count()),\n",
    "    \"%\",\n",
    ")\n",
    "print(\n",
    "    \"Количество объектов в тестовой выборке:\",\n",
    "    target_test.count(),\n",
    "    \", в процентах: \",\n",
    "    int(100 * target_test.count() / target.count()),\n",
    "    \"%\",\n",
    ")\n",
    "print(\n",
    "    \"Количество объектов в валидационной выборке:\",\n",
    "    target_valid.count(),\n",
    "    \", в процентах: \",\n",
    "    int(100 * target_valid.count() / target.count()),\n",
    "    \"%\",\n",
    ")"
   ]
  },
  {
   "cell_type": "markdown",
   "metadata": {},
   "source": [
    "## Исследование модели"
   ]
  },
  {
   "cell_type": "markdown",
   "metadata": {},
   "source": [
    "В нашем случае целевой признак категориальный, причем категорий всего две (1 - тариф «Ультра», 0 - «Смарт»), значит будет решаться задача **бинарной классификации**."
   ]
  },
  {
   "cell_type": "markdown",
   "metadata": {},
   "source": [
    "### Дерево решений"
   ]
  },
  {
   "cell_type": "markdown",
   "metadata": {},
   "source": [
    "#### max_depth"
   ]
  },
  {
   "cell_type": "markdown",
   "metadata": {},
   "source": [
    "Рассмотрим модели \"Дерево решений\" с различной глубиной дерева и выберем модель с наилучшим значением метрики accuracy:"
   ]
  },
  {
   "cell_type": "code",
   "execution_count": 7,
   "metadata": {
    "tags": []
   },
   "outputs": [
    {
     "name": "stdout",
     "output_type": "stream",
     "text": [
      "Accuracy лучшей модели: 0.799\n",
      "Значение лучшей глубины дерева: 7\n"
     ]
    }
   ],
   "source": [
    "best_model = None\n",
    "best_result = 0\n",
    "best_depth = 0\n",
    "for depth in range(1, 11):\n",
    "    model = DecisionTreeClassifier(random_state=12345, max_depth=depth)\n",
    "    model.fit(features_train, target_train)\n",
    "    predictions = model.predict(features_valid)\n",
    "    result = accuracy_score(target_valid, predictions)\n",
    "    if result > best_result:\n",
    "        best_model = model\n",
    "        best_result = result\n",
    "        best_depth = depth\n",
    "\n",
    "print(\"Accuracy лучшей модели:\", round(best_result, 3))\n",
    "print(\"Значение лучшей глубины дерева:\", best_depth)"
   ]
  },
  {
   "cell_type": "markdown",
   "metadata": {},
   "source": [
    "#### criterion"
   ]
  },
  {
   "cell_type": "markdown",
   "metadata": {},
   "source": [
    "Далее настроим гиперпараметр *criterion* с *gini* на *entropy*:"
   ]
  },
  {
   "cell_type": "code",
   "execution_count": 8,
   "metadata": {
    "tags": []
   },
   "outputs": [
    {
     "name": "stdout",
     "output_type": "stream",
     "text": [
      "Accuracy модели: 0.796\n"
     ]
    }
   ],
   "source": [
    "model = DecisionTreeClassifier(random_state=12345, max_depth=7, criterion=\"entropy\")\n",
    "model.fit(features_train, target_train)\n",
    "predictions = model.predict(features_valid)\n",
    "result = accuracy_score(target_valid, predictions)\n",
    "print(\"Accuracy модели:\", round(result, 3))"
   ]
  },
  {
   "cell_type": "markdown",
   "metadata": {},
   "source": [
    "Качество модели самую малость, но уступает модели с гиперпараметром criterion=\"gini\", значит оставим *'gini'*."
   ]
  },
  {
   "cell_type": "markdown",
   "metadata": {},
   "source": [
    "#### splitter"
   ]
  },
  {
   "cell_type": "markdown",
   "metadata": {},
   "source": [
    "Теперь поменяем гиперпараметр *splitter* с *best* на *random*:"
   ]
  },
  {
   "cell_type": "code",
   "execution_count": 9,
   "metadata": {
    "tags": []
   },
   "outputs": [
    {
     "name": "stdout",
     "output_type": "stream",
     "text": [
      "Accuracy модели: 0.776\n"
     ]
    }
   ],
   "source": [
    "model = DecisionTreeClassifier(random_state=12345, max_depth=7, splitter=\"random\")\n",
    "model.fit(features_train, target_train)\n",
    "predictions = model.predict(features_valid)\n",
    "result = accuracy_score(target_valid, predictions)\n",
    "print(\"Accuracy модели:\", round(result, 3))"
   ]
  },
  {
   "cell_type": "markdown",
   "metadata": {},
   "source": [
    "Снова качество новой модели уступает модели с гиперпараметром splitter='best ', значит оставим 'best'."
   ]
  },
  {
   "cell_type": "markdown",
   "metadata": {},
   "source": [
    "#### Промежуточный итог"
   ]
  },
  {
   "cell_type": "markdown",
   "metadata": {},
   "source": [
    "Поэксперементировали с гиперпараметрами splitter, criterion, max_depth. Пришли к выводу, что самые оптимальные значения:\n",
    "* splitter = 'best' (по умолчанию)\n",
    "* criterion = 'gini' (по умолчанию)\n",
    "* max_depth = 7\n",
    "\n",
    "Максимальное значение качества модели: **0.799**"
   ]
  },
  {
   "cell_type": "markdown",
   "metadata": {},
   "source": [
    "### Cлучайный лес"
   ]
  },
  {
   "cell_type": "markdown",
   "metadata": {},
   "source": [
    "#### max_depth, n_estimators"
   ]
  },
  {
   "cell_type": "markdown",
   "metadata": {},
   "source": [
    "Рассмотрим модели \"Cлучайный лес\" с различной глубиной деревьев и их количеством и выберем модель с наилучшим значением метрики accuracy:"
   ]
  },
  {
   "cell_type": "code",
   "execution_count": 10,
   "metadata": {
    "tags": []
   },
   "outputs": [
    {
     "name": "stdout",
     "output_type": "stream",
     "text": [
      "Accuracy лучшей модели: 0.815\n",
      "Значение лучшей глубины дерева: 9\n",
      "Значение лучшего количества деревьев: 14\n"
     ]
    }
   ],
   "source": [
    "best_model = None\n",
    "best_result = 0\n",
    "best_depth = 0\n",
    "\n",
    "n_three = 0\n",
    "best_depth = 0\n",
    "for est in range(1, 21):\n",
    "    for depth in range(1, 11):\n",
    "        model = RandomForestClassifier(\n",
    "            random_state=12345, max_depth=depth, n_estimators=est\n",
    "        )\n",
    "        model.fit(features_train, target_train)\n",
    "        result = model.score(features_valid, target_valid)\n",
    "        if result > best_result:\n",
    "            best_model = model\n",
    "            best_result = result\n",
    "            best_depth = depth\n",
    "            n_three = est\n",
    "print(\"Accuracy лучшей модели:\", round(best_result, 3))\n",
    "print(\"Значение лучшей глубины дерева:\", best_depth)\n",
    "print(\"Значение лучшего количества деревьев:\", n_three)"
   ]
  },
  {
   "cell_type": "markdown",
   "metadata": {},
   "source": [
    "#### criterion"
   ]
  },
  {
   "cell_type": "markdown",
   "metadata": {},
   "source": [
    "Далее снова поменяем гиперпараметр *criterion* с *gini* на *entropy*:"
   ]
  },
  {
   "cell_type": "code",
   "execution_count": 11,
   "metadata": {
    "tags": []
   },
   "outputs": [
    {
     "name": "stdout",
     "output_type": "stream",
     "text": [
      "Accuracy модели: 0.823\n"
     ]
    }
   ],
   "source": [
    "model = RandomForestClassifier(\n",
    "    random_state=12345, max_depth=9, n_estimators=14, criterion=\"entropy\"\n",
    ")\n",
    "model.fit(features_train, target_train)\n",
    "result = model.score(features_valid, target_valid)\n",
    "print(\"Accuracy модели:\", round(result, 3))\n",
    "\n",
    "best_random_forest_model = best_model"
   ]
  },
  {
   "cell_type": "markdown",
   "metadata": {},
   "source": [
    "Качество модели улучшилось, значит остановимся на *'entropy'*."
   ]
  },
  {
   "cell_type": "markdown",
   "metadata": {},
   "source": [
    "#### bootstrap"
   ]
  },
  {
   "cell_type": "markdown",
   "metadata": {},
   "source": [
    "Теперь изменим гиперпараметр bootstrap с True на False."
   ]
  },
  {
   "cell_type": "code",
   "execution_count": 12,
   "metadata": {
    "tags": []
   },
   "outputs": [
    {
     "name": "stdout",
     "output_type": "stream",
     "text": [
      "Accuracy модели: 0.788\n"
     ]
    }
   ],
   "source": [
    "model = RandomForestClassifier(\n",
    "    random_state=12345,\n",
    "    max_depth=9,\n",
    "    n_estimators=14,\n",
    "    criterion=\"entropy\",\n",
    "    bootstrap=False,\n",
    ")\n",
    "model.fit(features_train, target_train)\n",
    "result = model.score(features_valid, target_valid)\n",
    "print(\"Accuracy модели:\", round(result, 3))\n",
    "\n",
    "best_random_forest_model = best_model"
   ]
  },
  {
   "cell_type": "markdown",
   "metadata": {},
   "source": [
    "Качество модели ухудшилось, значит остановимся на значении True."
   ]
  },
  {
   "cell_type": "markdown",
   "metadata": {},
   "source": [
    "#### warm_start"
   ]
  },
  {
   "cell_type": "markdown",
   "metadata": {},
   "source": [
    "Теперь изменим гиперпараметр warm_start с Flase на True. "
   ]
  },
  {
   "cell_type": "code",
   "execution_count": 13,
   "metadata": {
    "tags": []
   },
   "outputs": [
    {
     "name": "stdout",
     "output_type": "stream",
     "text": [
      "Accuracy модели: 0.823\n"
     ]
    }
   ],
   "source": [
    "model = RandomForestClassifier(\n",
    "    random_state=12345,\n",
    "    max_depth=9,\n",
    "    n_estimators=14,\n",
    "    criterion=\"entropy\",\n",
    "    warm_start=True,\n",
    ")\n",
    "model.fit(features_train, target_train)\n",
    "result = model.score(features_valid, target_valid)\n",
    "print(\"Accuracy модели:\", round(result, 3))"
   ]
  },
  {
   "cell_type": "markdown",
   "metadata": {},
   "source": [
    "Значение качества не поменялось. Можно оставить все по умолчанию."
   ]
  },
  {
   "cell_type": "markdown",
   "metadata": {},
   "source": [
    "Сохраним лучшую модель с самыми оптимальными гиперпараметрами в переменную ***best_random_forest_model***:"
   ]
  },
  {
   "cell_type": "code",
   "execution_count": 14,
   "metadata": {
    "tags": []
   },
   "outputs": [],
   "source": [
    "model = RandomForestClassifier(\n",
    "    random_state=12345, max_depth=9, n_estimators=14, criterion=\"entropy\"\n",
    ")\n",
    "model.fit(features_train, target_train)\n",
    "result = model.score(features_valid, target_valid)\n",
    "\n",
    "best_random_forest_model = model"
   ]
  },
  {
   "cell_type": "markdown",
   "metadata": {},
   "source": [
    "#### Промежуточный итог"
   ]
  },
  {
   "cell_type": "markdown",
   "metadata": {},
   "source": [
    "Поэксперементировали с гиперпараметрами n_estimators, criterion, max_depth, bootstrap, warm_start. Пришли к выводу, что самые оптимальные значения:\n",
    "* n_estimators = 14\n",
    "* max_depth = 9\n",
    "* bootstrap = True (по умолчанию)\n",
    "* criterion = 'entropy'\n",
    "* warm_start = False (по умолчанию)\n",
    "\n",
    "Максимальное значение качества модели: **0.823**"
   ]
  },
  {
   "cell_type": "markdown",
   "metadata": {},
   "source": [
    "### Логистическая регрессия"
   ]
  },
  {
   "cell_type": "markdown",
   "metadata": {},
   "source": [
    "#### max_iter"
   ]
  },
  {
   "cell_type": "markdown",
   "metadata": {},
   "source": [
    "Попробуем различные значения максимального количества итераций начиная от 50 до 10000 с шагом 50:"
   ]
  },
  {
   "cell_type": "code",
   "execution_count": 15,
   "metadata": {
    "tags": []
   },
   "outputs": [
    {
     "name": "stdout",
     "output_type": "stream",
     "text": [
      "Accuracy модели при max_iter=50:  0.68429\n",
      "Accuracy модели при max_iter=100:  0.68429\n",
      "Accuracy модели при max_iter=1000: : 0.68429\n",
      "Accuracy лучшей модели: 0.684\n",
      "Значение лучшего количества итераций: 50\n"
     ]
    }
   ],
   "source": [
    "best_model = None\n",
    "best_result = 0\n",
    "best_max_iter = 0\n",
    "for i in range(50, 10001, 50):\n",
    "    model = LogisticRegression(random_state=12345, max_iter=i)\n",
    "    model.fit(features_train, target_train)\n",
    "    result = model.score(features_valid, target_valid)\n",
    "    if result > best_result:\n",
    "        best_model = model\n",
    "        best_result = result\n",
    "        best_max_iter = i\n",
    "    if i == 50:\n",
    "        print(\"Accuracy модели при max_iter=50: \", round(result, 5))\n",
    "    if i == 100:\n",
    "        print(\"Accuracy модели при max_iter=100: \", round(result, 5))\n",
    "    if i == 1000:\n",
    "        print(\"Accuracy модели при max_iter=1000: :\", round(result, 5))\n",
    "print(\"Accuracy лучшей модели:\", round(best_result, 3))\n",
    "print(\"Значение лучшего количества итераций:\", best_max_iter)"
   ]
  },
  {
   "cell_type": "markdown",
   "metadata": {},
   "source": [
    "Accuracy не отличаются, можно оставить значение max_iter самое большое из рассмотренных (10000)."
   ]
  },
  {
   "cell_type": "markdown",
   "metadata": {},
   "source": [
    "#### solver"
   ]
  },
  {
   "cell_type": "markdown",
   "metadata": {},
   "source": [
    "По умолчанию гиперпараметр *solver* имеет значение \"lbfgs\", проверим значения Accuracy с другими алгоритмами ['liblinear','newton-cg','sag']:"
   ]
  },
  {
   "cell_type": "code",
   "execution_count": 16,
   "metadata": {
    "tags": []
   },
   "outputs": [
    {
     "name": "stdout",
     "output_type": "stream",
     "text": [
      "Accuracy лучшей модели: 0.739\n",
      "Значение лучшего solver: newton-cg\n"
     ]
    }
   ],
   "source": [
    "best_model = None\n",
    "best_result = 0\n",
    "best_solver = \"\"\n",
    "for i in [\"liblinear\", \"newton-cg\", \"sag\"]:\n",
    "    model = LogisticRegression(random_state=12345, max_iter=10000, solver=i)\n",
    "    model.fit(features_train, target_train)\n",
    "    result = model.score(features_valid, target_valid)\n",
    "    if result > best_result:\n",
    "        best_model = model\n",
    "        best_result = result\n",
    "        best_solver = i\n",
    "print(\"Accuracy лучшей модели:\", round(best_result, 3))\n",
    "print(\"Значение лучшего solver:\", best_solver)"
   ]
  },
  {
   "cell_type": "markdown",
   "metadata": {},
   "source": [
    "Качество модели улучшилось с алгоритмом *newton-cg*."
   ]
  },
  {
   "cell_type": "markdown",
   "metadata": {},
   "source": [
    "#### С"
   ]
  },
  {
   "cell_type": "code",
   "execution_count": 17,
   "metadata": {
    "tags": []
   },
   "outputs": [
    {
     "name": "stdout",
     "output_type": "stream",
     "text": [
      "Accuracy лучшей модели: 0.739\n",
      "Значение лучшего С: 0.01\n"
     ]
    }
   ],
   "source": [
    "import warnings\n",
    "\n",
    "warnings.filterwarnings(\"ignore\")\n",
    "\n",
    "best_model = None\n",
    "best_result = 0\n",
    "best_c = 1.0\n",
    "\n",
    "for c in [x / 100 for x in range(1, 51, 2)]:\n",
    "    model = LogisticRegression(\n",
    "        random_state=12345, max_iter=10000, solver=\"newton-cg\", C=c\n",
    "    )\n",
    "    model.fit(features_train, target_train)\n",
    "    result = model.score(features_valid, target_valid)\n",
    "    if result > best_result:\n",
    "        best_model = model\n",
    "        best_result = result\n",
    "        best_c = c\n",
    "print(\"Accuracy лучшей модели:\", round(best_result, 3))\n",
    "print(\"Значение лучшего С:\", best_c)\n",
    "warnings.resetwarnings()"
   ]
  },
  {
   "cell_type": "markdown",
   "metadata": {},
   "source": [
    "Добиться улучшения метрики не удалось, оставляем 'C' по умолчанию 1.0."
   ]
  },
  {
   "cell_type": "markdown",
   "metadata": {},
   "source": [
    "#### Промежуточный итог"
   ]
  },
  {
   "cell_type": "markdown",
   "metadata": {},
   "source": [
    "Поэксперементировали с гиперпараметрами max_iter, solver, С. Пришли к выводу, что самые оптимальные значения:\n",
    "* max_iter = 10000\n",
    "* solver = 'newton-cg'\n",
    "* С = 1.0\n",
    "\n",
    "Максимальное значение качества модели: **0.739**"
   ]
  },
  {
   "cell_type": "markdown",
   "metadata": {},
   "source": [
    "### Вывод"
   ]
  },
  {
   "cell_type": "markdown",
   "metadata": {},
   "source": [
    "Наилучшую метрику качества со значением **0.823** показала модель \"Случайный лес\"  со следующими гиперпараметрами: \n",
    "* n_estimators = 14\n",
    "* max_depth = 9\n",
    "* bootstrap = True (по умолчанию)\n",
    "* criterion = 'entropy'\n",
    "* warm_start = False (по умолчанию)\n",
    "\n",
    "Сохранили эту модель в переменной *best_random_forest_model*."
   ]
  },
  {
   "cell_type": "markdown",
   "metadata": {},
   "source": [
    "## Проверка модели на тестовой выборке"
   ]
  },
  {
   "cell_type": "code",
   "execution_count": 18,
   "metadata": {
    "tags": []
   },
   "outputs": [
    {
     "name": "stdout",
     "output_type": "stream",
     "text": [
      "Accuracy на тестовой выборке: 0.804\n"
     ]
    }
   ],
   "source": [
    "result = best_random_forest_model.score(features_test, target_test)\n",
    "print(\"Accuracy на тестовой выборке:\", round(result, 3))"
   ]
  },
  {
   "cell_type": "markdown",
   "metadata": {},
   "source": [
    "Выбранная модель показала на тестовой выборке вполне себе высокую точность классификации **0.804**. Учитывая еще и то, что на валидационной выборке это значение было еще выше **0.823**, можно смело утверждать, что данную модель можно советовать оператору мобильной связи «Мегалайн». "
   ]
  },
  {
   "cell_type": "markdown",
   "metadata": {},
   "source": [
    "## Вывод"
   ]
  },
  {
   "cell_type": "markdown",
   "metadata": {},
   "source": [
    "1. Ознакомились с данными, убедились в отсутствии дубликатов, выбросов.\n",
    "2. Разбили выборку на три части: обучающую (60%), валидационную(20%), тестовую(20%).\n",
    "3. Исследовали три типа модели обучения (\"Дерево решений\", \"Случайный лес\", \"Логистическая регрессия\") с разными гиперпараметрами. Пришли к выводу, что наибольшее значение метрики качества равное **0.823** показала модель \"Случайный лес\" cо следующими гиперпараметрами: \n",
    "* n_estimators = 14\n",
    "* max_depth = 9\n",
    "* bootstrap = True (по умолчанию)\n",
    "* criterion = 'entropy'\n",
    "* warm_start = False (по умолчанию)\n",
    "4. Данная модель на тестовой выборке показала также высокую точность классификации **0.804**, что говорит о работоспособности модели."
   ]
  }
 ],
 "metadata": {
  "ExecuteTimeLog": [
   {
    "duration": 420,
    "start_time": "2023-05-20T09:07:56.063Z"
   },
   {
    "duration": 2,
    "start_time": "2023-05-20T09:08:20.693Z"
   },
   {
    "duration": 77,
    "start_time": "2023-05-20T09:08:55.125Z"
   },
   {
    "duration": 35,
    "start_time": "2023-05-20T09:11:51.689Z"
   },
   {
    "duration": 56,
    "start_time": "2023-05-20T09:12:20.304Z"
   },
   {
    "duration": 47,
    "start_time": "2023-05-20T09:12:58.846Z"
   },
   {
    "duration": 44,
    "start_time": "2023-05-20T09:13:07.845Z"
   },
   {
    "duration": 44,
    "start_time": "2023-05-20T09:13:16.516Z"
   },
   {
    "duration": 7,
    "start_time": "2023-05-20T09:15:58.939Z"
   },
   {
    "duration": 6,
    "start_time": "2023-05-20T09:16:51.898Z"
   },
   {
    "duration": 6,
    "start_time": "2023-05-20T09:18:06.607Z"
   },
   {
    "duration": 920,
    "start_time": "2023-05-20T09:21:10.034Z"
   },
   {
    "duration": 163,
    "start_time": "2023-05-20T09:33:13.101Z"
   },
   {
    "duration": 104,
    "start_time": "2023-05-20T09:42:24.056Z"
   },
   {
    "duration": 2,
    "start_time": "2023-05-20T09:42:41.964Z"
   },
   {
    "duration": 11,
    "start_time": "2023-05-20T09:42:44.934Z"
   },
   {
    "duration": 366,
    "start_time": "2023-05-20T09:43:06.550Z"
   },
   {
    "duration": 346,
    "start_time": "2023-05-20T09:43:37.085Z"
   },
   {
    "duration": 448,
    "start_time": "2023-05-20T09:43:58.479Z"
   },
   {
    "duration": 499,
    "start_time": "2023-05-20T09:44:30.428Z"
   },
   {
    "duration": 3,
    "start_time": "2023-05-20T09:44:40.868Z"
   },
   {
    "duration": 51,
    "start_time": "2023-05-20T09:44:40.873Z"
   },
   {
    "duration": 5,
    "start_time": "2023-05-20T09:44:40.926Z"
   },
   {
    "duration": 395,
    "start_time": "2023-05-20T09:44:42.429Z"
   },
   {
    "duration": 400,
    "start_time": "2023-05-20T09:45:29.314Z"
   },
   {
    "duration": 393,
    "start_time": "2023-05-20T09:47:01.871Z"
   },
   {
    "duration": 48,
    "start_time": "2023-05-20T09:48:31.123Z"
   },
   {
    "duration": 389,
    "start_time": "2023-05-20T09:48:41.973Z"
   },
   {
    "duration": 432,
    "start_time": "2023-05-20T09:48:49.444Z"
   },
   {
    "duration": 314,
    "start_time": "2023-05-20T09:48:59.434Z"
   },
   {
    "duration": 507,
    "start_time": "2023-05-20T09:50:05.638Z"
   },
   {
    "duration": 353,
    "start_time": "2023-05-20T09:50:17.702Z"
   },
   {
    "duration": 495,
    "start_time": "2023-05-20T09:50:26.271Z"
   },
   {
    "duration": 518,
    "start_time": "2023-05-20T09:52:42.435Z"
   },
   {
    "duration": 478,
    "start_time": "2023-05-20T09:52:48.004Z"
   },
   {
    "duration": 438,
    "start_time": "2023-05-20T09:53:35.365Z"
   },
   {
    "duration": 418,
    "start_time": "2023-05-20T09:53:40.467Z"
   },
   {
    "duration": 427,
    "start_time": "2023-05-20T09:54:03.357Z"
   },
   {
    "duration": 489,
    "start_time": "2023-05-20T09:55:30.669Z"
   },
   {
    "duration": 598,
    "start_time": "2023-05-20T09:55:44.352Z"
   },
   {
    "duration": 469,
    "start_time": "2023-05-20T09:58:06.806Z"
   },
   {
    "duration": 486,
    "start_time": "2023-05-20T09:58:23.682Z"
   },
   {
    "duration": 1072,
    "start_time": "2023-05-20T09:59:28.127Z"
   },
   {
    "duration": 1173,
    "start_time": "2023-05-20T10:00:08.690Z"
   },
   {
    "duration": 1246,
    "start_time": "2023-05-20T10:00:23.841Z"
   },
   {
    "duration": 491,
    "start_time": "2023-05-20T10:03:33.091Z"
   },
   {
    "duration": 428,
    "start_time": "2023-05-20T10:03:48.043Z"
   },
   {
    "duration": 326,
    "start_time": "2023-05-20T10:04:01.246Z"
   },
   {
    "duration": 502,
    "start_time": "2023-05-20T10:04:58.699Z"
   },
   {
    "duration": 474,
    "start_time": "2023-05-20T10:05:06.395Z"
   },
   {
    "duration": 582,
    "start_time": "2023-05-20T10:05:10.791Z"
   },
   {
    "duration": 469,
    "start_time": "2023-05-20T10:05:23.512Z"
   },
   {
    "duration": 468,
    "start_time": "2023-05-20T10:05:29.202Z"
   },
   {
    "duration": 423,
    "start_time": "2023-05-20T10:06:22.717Z"
   },
   {
    "duration": 461,
    "start_time": "2023-05-20T10:06:31.666Z"
   },
   {
    "duration": 595,
    "start_time": "2023-05-20T10:06:47.903Z"
   },
   {
    "duration": 526,
    "start_time": "2023-05-20T10:06:57.857Z"
   },
   {
    "duration": 471,
    "start_time": "2023-05-20T10:07:07.450Z"
   },
   {
    "duration": 518,
    "start_time": "2023-05-20T10:07:53.186Z"
   },
   {
    "duration": 543,
    "start_time": "2023-05-20T10:07:59.302Z"
   },
   {
    "duration": 477,
    "start_time": "2023-05-20T10:08:04.492Z"
   },
   {
    "duration": 585,
    "start_time": "2023-05-20T10:08:09.125Z"
   },
   {
    "duration": 482,
    "start_time": "2023-05-20T10:08:13.324Z"
   },
   {
    "duration": 483,
    "start_time": "2023-05-20T10:08:16.429Z"
   },
   {
    "duration": 4,
    "start_time": "2023-05-20T10:11:33.482Z"
   },
   {
    "duration": 5,
    "start_time": "2023-05-20T10:11:45.404Z"
   },
   {
    "duration": 23,
    "start_time": "2023-05-20T10:11:58.589Z"
   },
   {
    "duration": 9,
    "start_time": "2023-05-20T10:12:23.900Z"
   },
   {
    "duration": 485,
    "start_time": "2023-05-20T10:12:26.172Z"
   },
   {
    "duration": 45,
    "start_time": "2023-05-20T10:13:35.694Z"
   },
   {
    "duration": 38,
    "start_time": "2023-05-20T10:13:45.934Z"
   },
   {
    "duration": 47,
    "start_time": "2023-05-20T10:14:01.712Z"
   },
   {
    "duration": 46,
    "start_time": "2023-05-20T10:14:08.295Z"
   },
   {
    "duration": 47,
    "start_time": "2023-05-20T10:14:17.735Z"
   },
   {
    "duration": 19,
    "start_time": "2023-05-20T10:14:32.791Z"
   },
   {
    "duration": 19,
    "start_time": "2023-05-20T10:14:48.920Z"
   },
   {
    "duration": 7,
    "start_time": "2023-05-20T10:14:52.181Z"
   },
   {
    "duration": 526,
    "start_time": "2023-05-20T10:14:53.485Z"
   },
   {
    "duration": 384,
    "start_time": "2023-05-20T10:41:37.014Z"
   },
   {
    "duration": 8,
    "start_time": "2023-05-20T11:04:37.367Z"
   },
   {
    "duration": 10,
    "start_time": "2023-05-20T11:05:36.349Z"
   },
   {
    "duration": 28,
    "start_time": "2023-05-20T11:06:53.640Z"
   },
   {
    "duration": 521,
    "start_time": "2023-05-20T11:07:15.067Z"
   },
   {
    "duration": 9,
    "start_time": "2023-05-20T11:07:39.958Z"
   },
   {
    "duration": 11,
    "start_time": "2023-05-20T11:07:47.348Z"
   },
   {
    "duration": 9,
    "start_time": "2023-05-20T11:08:39.057Z"
   },
   {
    "duration": 10,
    "start_time": "2023-05-20T11:16:05.968Z"
   },
   {
    "duration": 11,
    "start_time": "2023-05-20T11:16:40.350Z"
   },
   {
    "duration": 47,
    "start_time": "2023-05-20T11:18:20.657Z"
   },
   {
    "duration": 16,
    "start_time": "2023-05-20T11:18:37.125Z"
   },
   {
    "duration": 3,
    "start_time": "2023-05-20T11:18:54.823Z"
   },
   {
    "duration": 12,
    "start_time": "2023-05-20T11:18:58.528Z"
   },
   {
    "duration": 12,
    "start_time": "2023-05-20T11:19:19.937Z"
   },
   {
    "duration": 2,
    "start_time": "2023-05-20T12:52:57.981Z"
   },
   {
    "duration": 10,
    "start_time": "2023-05-20T13:07:33.020Z"
   },
   {
    "duration": 10,
    "start_time": "2023-05-20T13:07:54.467Z"
   },
   {
    "duration": 41,
    "start_time": "2023-05-20T13:08:09.937Z"
   },
   {
    "duration": 70,
    "start_time": "2023-05-20T13:08:13.766Z"
   },
   {
    "duration": 62,
    "start_time": "2023-05-20T13:08:19.616Z"
   },
   {
    "duration": 67,
    "start_time": "2023-05-20T13:09:18.745Z"
   },
   {
    "duration": 46,
    "start_time": "2023-05-20T13:12:52.285Z"
   },
   {
    "duration": 12,
    "start_time": "2023-05-20T19:58:20.646Z"
   },
   {
    "duration": 12,
    "start_time": "2023-05-20T19:59:06.210Z"
   },
   {
    "duration": 3574,
    "start_time": "2023-05-20T19:59:10.405Z"
   },
   {
    "duration": 8400,
    "start_time": "2023-05-20T19:59:37.559Z"
   },
   {
    "duration": 3612,
    "start_time": "2023-05-20T19:59:59.675Z"
   },
   {
    "duration": 11,
    "start_time": "2023-05-20T20:13:16.596Z"
   },
   {
    "duration": 3,
    "start_time": "2023-05-20T20:13:25.691Z"
   },
   {
    "duration": 24,
    "start_time": "2023-05-20T20:13:31.443Z"
   },
   {
    "duration": 24,
    "start_time": "2023-05-20T20:18:35.970Z"
   },
   {
    "duration": 16,
    "start_time": "2023-05-20T20:18:39.446Z"
   },
   {
    "duration": 28,
    "start_time": "2023-05-20T20:18:45.455Z"
   },
   {
    "duration": 25,
    "start_time": "2023-05-20T20:18:48.271Z"
   },
   {
    "duration": 26,
    "start_time": "2023-05-20T20:18:58.319Z"
   },
   {
    "duration": 25,
    "start_time": "2023-05-20T20:19:02.462Z"
   },
   {
    "duration": 23,
    "start_time": "2023-05-20T20:19:20.599Z"
   },
   {
    "duration": 23,
    "start_time": "2023-05-20T20:19:24.963Z"
   },
   {
    "duration": 3,
    "start_time": "2023-05-20T20:21:01.587Z"
   },
   {
    "duration": 5853,
    "start_time": "2023-05-20T20:24:53.650Z"
   },
   {
    "duration": 12858,
    "start_time": "2023-05-20T20:25:25.147Z"
   },
   {
    "duration": 5833,
    "start_time": "2023-05-20T20:27:58.585Z"
   },
   {
    "duration": 5400,
    "start_time": "2023-05-20T20:38:05.483Z"
   },
   {
    "duration": 27,
    "start_time": "2023-05-20T20:38:48.278Z"
   },
   {
    "duration": 19,
    "start_time": "2023-05-20T20:55:03.224Z"
   },
   {
    "duration": 24,
    "start_time": "2023-05-20T20:55:37.479Z"
   },
   {
    "duration": 3,
    "start_time": "2023-05-20T20:58:36.545Z"
   },
   {
    "duration": 48,
    "start_time": "2023-05-20T20:58:36.550Z"
   },
   {
    "duration": 20,
    "start_time": "2023-05-20T20:58:36.599Z"
   },
   {
    "duration": 7,
    "start_time": "2023-05-20T20:58:36.621Z"
   },
   {
    "duration": 461,
    "start_time": "2023-05-20T20:58:36.631Z"
   },
   {
    "duration": 11,
    "start_time": "2023-05-20T20:58:37.094Z"
   },
   {
    "duration": 82,
    "start_time": "2023-05-20T20:58:37.107Z"
   },
   {
    "duration": 5353,
    "start_time": "2023-05-20T20:58:37.191Z"
   },
   {
    "duration": 32,
    "start_time": "2023-05-20T20:58:42.546Z"
   },
   {
    "duration": 28,
    "start_time": "2023-05-20T20:58:45.284Z"
   },
   {
    "duration": 9,
    "start_time": "2023-05-20T20:59:26.759Z"
   },
   {
    "duration": 12,
    "start_time": "2023-05-20T21:00:35.675Z"
   },
   {
    "duration": 18,
    "start_time": "2023-05-20T21:00:57.619Z"
   },
   {
    "duration": 15,
    "start_time": "2023-05-20T21:01:01.967Z"
   },
   {
    "duration": 26,
    "start_time": "2023-05-20T21:02:01.416Z"
   },
   {
    "duration": 11,
    "start_time": "2023-05-20T21:02:42.921Z"
   },
   {
    "duration": 12,
    "start_time": "2023-05-20T21:03:05.059Z"
   },
   {
    "duration": 14,
    "start_time": "2023-05-20T21:03:38.670Z"
   },
   {
    "duration": 24,
    "start_time": "2023-05-20T21:03:48.798Z"
   },
   {
    "duration": 28,
    "start_time": "2023-05-20T21:04:55.187Z"
   },
   {
    "duration": 22,
    "start_time": "2023-05-20T21:06:41.058Z"
   },
   {
    "duration": 23,
    "start_time": "2023-05-20T21:19:20.863Z"
   },
   {
    "duration": 24,
    "start_time": "2023-05-20T21:21:50.665Z"
   },
   {
    "duration": 23,
    "start_time": "2023-05-20T21:29:41.096Z"
   },
   {
    "duration": 27,
    "start_time": "2023-05-20T21:30:08.356Z"
   },
   {
    "duration": 13,
    "start_time": "2023-05-20T21:32:32.615Z"
   },
   {
    "duration": 14,
    "start_time": "2023-05-20T21:33:31.156Z"
   },
   {
    "duration": 9,
    "start_time": "2023-05-20T21:34:26.938Z"
   },
   {
    "duration": 63,
    "start_time": "2023-05-20T21:35:20.507Z"
   },
   {
    "duration": 4,
    "start_time": "2023-05-20T21:36:36.755Z"
   },
   {
    "duration": 65,
    "start_time": "2023-05-20T21:36:36.760Z"
   },
   {
    "duration": 18,
    "start_time": "2023-05-20T21:36:36.827Z"
   },
   {
    "duration": 20,
    "start_time": "2023-05-20T21:36:36.846Z"
   },
   {
    "duration": 623,
    "start_time": "2023-05-20T21:36:36.868Z"
   },
   {
    "duration": 13,
    "start_time": "2023-05-20T21:36:37.492Z"
   },
   {
    "duration": 90,
    "start_time": "2023-05-20T21:36:37.506Z"
   },
   {
    "duration": 5670,
    "start_time": "2023-05-20T21:36:37.598Z"
   },
   {
    "duration": 26,
    "start_time": "2023-05-20T21:36:43.269Z"
   },
   {
    "duration": 17,
    "start_time": "2023-05-20T21:36:43.297Z"
   },
   {
    "duration": 25,
    "start_time": "2023-05-20T21:37:31.611Z"
   },
   {
    "duration": 13,
    "start_time": "2023-05-20T21:37:34.312Z"
   },
   {
    "duration": 10,
    "start_time": "2023-05-20T21:37:50.816Z"
   },
   {
    "duration": 3,
    "start_time": "2023-05-20T21:46:22.302Z"
   },
   {
    "duration": 13,
    "start_time": "2023-05-20T21:57:04.699Z"
   },
   {
    "duration": 4,
    "start_time": "2023-05-20T22:00:02.496Z"
   },
   {
    "duration": 68,
    "start_time": "2023-05-20T22:00:02.502Z"
   },
   {
    "duration": 54,
    "start_time": "2023-05-20T22:00:02.572Z"
   },
   {
    "duration": 42,
    "start_time": "2023-05-20T22:00:02.628Z"
   },
   {
    "duration": 516,
    "start_time": "2023-05-20T22:00:02.673Z"
   },
   {
    "duration": 12,
    "start_time": "2023-05-20T22:00:03.190Z"
   },
   {
    "duration": 81,
    "start_time": "2023-05-20T22:00:03.203Z"
   },
   {
    "duration": 5369,
    "start_time": "2023-05-20T22:00:03.285Z"
   },
   {
    "duration": 22,
    "start_time": "2023-05-20T22:00:08.657Z"
   },
   {
    "duration": 8,
    "start_time": "2023-05-20T22:00:08.681Z"
   },
   {
    "duration": 44,
    "start_time": "2023-05-21T09:32:51.357Z"
   },
   {
    "duration": 3,
    "start_time": "2023-05-21T09:34:30.812Z"
   },
   {
    "duration": 77,
    "start_time": "2023-05-21T09:34:30.817Z"
   },
   {
    "duration": 20,
    "start_time": "2023-05-21T09:34:30.895Z"
   },
   {
    "duration": 15,
    "start_time": "2023-05-21T09:34:30.917Z"
   },
   {
    "duration": 573,
    "start_time": "2023-05-21T09:34:30.933Z"
   },
   {
    "duration": 13,
    "start_time": "2023-05-21T09:34:31.508Z"
   },
   {
    "duration": 107,
    "start_time": "2023-05-21T09:34:31.523Z"
   },
   {
    "duration": 14,
    "start_time": "2023-05-21T09:34:37.773Z"
   },
   {
    "duration": 49,
    "start_time": "2023-05-21T10:58:43.554Z"
   },
   {
    "duration": 46,
    "start_time": "2023-05-21T11:35:19.736Z"
   },
   {
    "duration": 9,
    "start_time": "2023-05-21T11:37:12.530Z"
   },
   {
    "duration": 55,
    "start_time": "2023-05-21T11:40:44.330Z"
   },
   {
    "duration": 2,
    "start_time": "2023-05-21T11:44:20.906Z"
   },
   {
    "duration": 9,
    "start_time": "2023-05-21T11:58:38.172Z"
   },
   {
    "duration": 50,
    "start_time": "2023-05-21T12:05:13.660Z"
   },
   {
    "duration": 63,
    "start_time": "2023-05-21T13:10:49.019Z"
   },
   {
    "duration": 45,
    "start_time": "2023-05-21T13:11:35.571Z"
   },
   {
    "duration": 65,
    "start_time": "2023-05-21T13:12:53.243Z"
   },
   {
    "duration": 62,
    "start_time": "2023-05-21T13:12:59.706Z"
   },
   {
    "duration": 69,
    "start_time": "2023-05-21T13:13:02.592Z"
   },
   {
    "duration": 54,
    "start_time": "2023-05-21T13:18:36.159Z"
   },
   {
    "duration": 62,
    "start_time": "2023-05-21T13:18:46.786Z"
   },
   {
    "duration": 55,
    "start_time": "2023-05-21T13:19:06.478Z"
   },
   {
    "duration": 53,
    "start_time": "2023-05-21T13:19:19.643Z"
   },
   {
    "duration": 55,
    "start_time": "2023-05-21T13:19:40.289Z"
   },
   {
    "duration": 47,
    "start_time": "2023-05-21T13:19:58.879Z"
   },
   {
    "duration": 3,
    "start_time": "2023-05-21T13:24:18.330Z"
   },
   {
    "duration": 72,
    "start_time": "2023-05-21T13:24:35.635Z"
   },
   {
    "duration": 63,
    "start_time": "2023-05-21T13:26:58.950Z"
   },
   {
    "duration": 3,
    "start_time": "2023-05-21T13:27:27.769Z"
   },
   {
    "duration": 6177,
    "start_time": "2023-05-21T13:27:45.045Z"
   },
   {
    "duration": 3,
    "start_time": "2023-05-21T13:29:08.904Z"
   },
   {
    "duration": 45,
    "start_time": "2023-05-21T13:29:54.340Z"
   },
   {
    "duration": 60,
    "start_time": "2023-05-21T13:30:02.221Z"
   },
   {
    "duration": 49,
    "start_time": "2023-05-21T13:30:43.542Z"
   },
   {
    "duration": 3,
    "start_time": "2023-05-21T13:31:41.001Z"
   },
   {
    "duration": 55,
    "start_time": "2023-05-21T13:42:42.709Z"
   },
   {
    "duration": 1780,
    "start_time": "2023-05-21T13:43:41.259Z"
   },
   {
    "duration": 1903,
    "start_time": "2023-05-21T13:44:41.360Z"
   },
   {
    "duration": 1798,
    "start_time": "2023-05-21T13:44:50.043Z"
   },
   {
    "duration": 16678,
    "start_time": "2023-05-21T13:45:04.108Z"
   },
   {
    "duration": 17490,
    "start_time": "2023-05-21T13:45:28.648Z"
   },
   {
    "duration": 8900,
    "start_time": "2023-05-21T13:46:19.715Z"
   },
   {
    "duration": 3352,
    "start_time": "2023-05-21T13:46:39.498Z"
   },
   {
    "duration": 2727,
    "start_time": "2023-05-21T13:47:02.761Z"
   },
   {
    "duration": 3258,
    "start_time": "2023-05-21T13:47:19.853Z"
   },
   {
    "duration": 2865,
    "start_time": "2023-05-21T13:47:25.996Z"
   },
   {
    "duration": 2748,
    "start_time": "2023-05-21T13:47:35.550Z"
   },
   {
    "duration": 2898,
    "start_time": "2023-05-21T13:47:56.846Z"
   },
   {
    "duration": 3563,
    "start_time": "2023-05-21T13:48:55.248Z"
   },
   {
    "duration": 665,
    "start_time": "2023-05-21T13:51:08.447Z"
   },
   {
    "duration": 3417,
    "start_time": "2023-05-21T13:51:20.103Z"
   },
   {
    "duration": 3441,
    "start_time": "2023-05-21T13:53:02.249Z"
   },
   {
    "duration": 3051,
    "start_time": "2023-05-21T13:53:06.045Z"
   },
   {
    "duration": 2954,
    "start_time": "2023-05-21T13:53:09.806Z"
   },
   {
    "duration": 2748,
    "start_time": "2023-05-21T13:53:13.343Z"
   },
   {
    "duration": 17294,
    "start_time": "2023-05-21T13:53:27.057Z"
   },
   {
    "duration": 1875,
    "start_time": "2023-05-21T13:53:47.691Z"
   },
   {
    "duration": 1802,
    "start_time": "2023-05-21T13:54:07.445Z"
   },
   {
    "duration": 1757,
    "start_time": "2023-05-21T13:56:49.908Z"
   },
   {
    "duration": 1725,
    "start_time": "2023-05-21T13:57:12.437Z"
   },
   {
    "duration": 1964,
    "start_time": "2023-05-21T14:00:03.185Z"
   },
   {
    "duration": 1733,
    "start_time": "2023-05-21T14:00:27.009Z"
   },
   {
    "duration": 50,
    "start_time": "2023-05-21T14:01:39.266Z"
   },
   {
    "duration": 1704,
    "start_time": "2023-05-21T14:02:34.464Z"
   },
   {
    "duration": 231,
    "start_time": "2023-05-21T14:12:25.020Z"
   },
   {
    "duration": 224,
    "start_time": "2023-05-21T14:13:04.910Z"
   },
   {
    "duration": 74,
    "start_time": "2023-05-21T14:13:16.598Z"
   },
   {
    "duration": 225,
    "start_time": "2023-05-21T14:14:13.607Z"
   },
   {
    "duration": 76,
    "start_time": "2023-05-21T14:14:17.373Z"
   },
   {
    "duration": 58,
    "start_time": "2023-05-21T14:14:23.649Z"
   },
   {
    "duration": 104,
    "start_time": "2023-05-21T14:14:30.957Z"
   },
   {
    "duration": 34,
    "start_time": "2023-05-21T14:14:40.859Z"
   },
   {
    "duration": 281,
    "start_time": "2023-05-21T14:15:18.744Z"
   },
   {
    "duration": 231,
    "start_time": "2023-05-21T14:15:38.949Z"
   },
   {
    "duration": 35,
    "start_time": "2023-05-21T14:21:12.960Z"
   },
   {
    "duration": 31,
    "start_time": "2023-05-21T14:23:27.368Z"
   },
   {
    "duration": 71,
    "start_time": "2023-05-21T14:24:40.058Z"
   },
   {
    "duration": 12,
    "start_time": "2023-05-21T14:29:51.188Z"
   },
   {
    "duration": 12,
    "start_time": "2023-05-21T14:30:21.093Z"
   },
   {
    "duration": 12,
    "start_time": "2023-05-21T14:30:28.847Z"
   },
   {
    "duration": 12,
    "start_time": "2023-05-21T14:31:16.779Z"
   },
   {
    "duration": 1056,
    "start_time": "2023-05-21T14:31:52.497Z"
   },
   {
    "duration": 12,
    "start_time": "2023-05-21T14:34:30.816Z"
   },
   {
    "duration": 402,
    "start_time": "2023-05-21T14:34:38.982Z"
   },
   {
    "duration": 1252,
    "start_time": "2023-05-21T14:35:01.470Z"
   },
   {
    "duration": 406,
    "start_time": "2023-05-21T14:35:15.251Z"
   },
   {
    "duration": 57,
    "start_time": "2023-05-21T14:37:20.073Z"
   },
   {
    "duration": 60,
    "start_time": "2023-05-21T14:39:15.784Z"
   },
   {
    "duration": 54,
    "start_time": "2023-05-21T14:39:23.245Z"
   },
   {
    "duration": 64,
    "start_time": "2023-05-21T14:39:47.925Z"
   },
   {
    "duration": 9,
    "start_time": "2023-05-21T14:40:18.062Z"
   },
   {
    "duration": 9,
    "start_time": "2023-05-21T14:40:40.993Z"
   },
   {
    "duration": 3,
    "start_time": "2023-05-21T14:42:07.883Z"
   },
   {
    "duration": 49,
    "start_time": "2023-05-21T14:42:07.889Z"
   },
   {
    "duration": 20,
    "start_time": "2023-05-21T14:42:07.940Z"
   },
   {
    "duration": 6,
    "start_time": "2023-05-21T14:42:07.961Z"
   },
   {
    "duration": 645,
    "start_time": "2023-05-21T14:42:07.969Z"
   },
   {
    "duration": 12,
    "start_time": "2023-05-21T14:42:08.616Z"
   },
   {
    "duration": 86,
    "start_time": "2023-05-21T14:42:08.629Z"
   },
   {
    "duration": 13,
    "start_time": "2023-05-21T14:42:08.717Z"
   },
   {
    "duration": 28,
    "start_time": "2023-05-21T14:42:08.731Z"
   },
   {
    "duration": 5589,
    "start_time": "2023-05-21T14:42:08.761Z"
   },
   {
    "duration": 57,
    "start_time": "2023-05-21T14:42:14.357Z"
   },
   {
    "duration": 83,
    "start_time": "2023-05-21T14:42:14.416Z"
   },
   {
    "duration": 67,
    "start_time": "2023-05-21T14:42:14.501Z"
   },
   {
    "duration": 55,
    "start_time": "2023-05-21T14:42:14.571Z"
   },
   {
    "duration": 1896,
    "start_time": "2023-05-21T14:42:14.628Z"
   },
   {
    "duration": 41,
    "start_time": "2023-05-21T14:42:16.526Z"
   },
   {
    "duration": 427,
    "start_time": "2023-05-21T14:42:16.569Z"
   },
   {
    "duration": 9,
    "start_time": "2023-05-21T14:42:16.998Z"
   },
   {
    "duration": 5667,
    "start_time": "2023-05-21T14:43:16.845Z"
   },
   {
    "duration": 400,
    "start_time": "2023-05-21T14:44:18.458Z"
   },
   {
    "duration": 9,
    "start_time": "2023-05-21T14:44:44.797Z"
   },
   {
    "duration": 47,
    "start_time": "2023-05-21T14:45:45.088Z"
   }
  ],
  "kernelspec": {
   "display_name": "Python 3 (ipykernel)",
   "language": "python",
   "name": "python3"
  },
  "language_info": {
   "codemirror_mode": {
    "name": "ipython",
    "version": 3
   },
   "file_extension": ".py",
   "mimetype": "text/x-python",
   "name": "python",
   "nbconvert_exporter": "python",
   "pygments_lexer": "ipython3",
   "version": "3.9.16"
  },
  "toc": {
   "base_numbering": 1,
   "nav_menu": {},
   "number_sections": true,
   "sideBar": true,
   "skip_h1_title": true,
   "title_cell": "Table of Contents",
   "title_sidebar": "Contents",
   "toc_cell": false,
   "toc_position": {},
   "toc_section_display": true,
   "toc_window_display": true
  }
 },
 "nbformat": 4,
 "nbformat_minor": 4
}
