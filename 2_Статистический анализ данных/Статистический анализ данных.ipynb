{
 "cells": [
  {
   "cell_type": "markdown",
   "id": "7b0f0c1c",
   "metadata": {},
   "source": [
    "# Анализ данных для сервиса аренды самокатов GoFast"
   ]
  },
  {
   "cell_type": "markdown",
   "id": "4dd6d73e",
   "metadata": {},
   "source": [
    "## Цели работы"
   ]
  },
  {
   "cell_type": "markdown",
   "id": "2c898c00",
   "metadata": {},
   "source": [
    "Анализ данных и проверка гипотез, которые могут помочь бизнесу вырасти."
   ]
  },
  {
   "cell_type": "markdown",
   "id": "fc2d5232",
   "metadata": {},
   "source": [
    "## Описание данных"
   ]
  },
  {
   "cell_type": "markdown",
   "id": "178dcf34",
   "metadata": {},
   "source": [
    "Имеются три датафрейма: <br>\n",
    "1. `users_go.csv` - информация о пользователях из нескольких городов;\n",
    "2. `rides_go.csv` - информация о поездках;\n",
    "3. `subscriptions_go.csv` - информация о подписках.\n",
    "\n",
    "Столбы в таблице *users_go.csv*:\n",
    "1. `user_id` - уникальный номер пользователя;\n",
    "2. `name` - имя пользователя;\n",
    "3. `age` - возраст;\n",
    "4. `city` - город пользователя;\n",
    "5. `subscription_type` - тип подписки.\n",
    "\n",
    "Есть два значения в столце subscription_type:\n",
    "1. `free` \n",
    "* *без подписки*\n",
    "* абонентская плата отсутствует;\n",
    "* стоимость одной минуты поездки — 8 рублей;\n",
    "* стоимость старта (начала поездки) — 50 рублей;\n",
    "\n",
    "2. `ultra`\n",
    "\n",
    "* *с подпиской Ultra*\n",
    "* абонентская плата — 199 рублей в месяц;\n",
    "* стоимость одной минуты поездки — 6 рублей;\n",
    "* стоимость старта — бесплатно.\n",
    "\n",
    "Столбы в таблице *rides_go.csv*:\n",
    "1. `user_id` - уникальный номер пользователя;\n",
    "2. `distance` - дистанция данной поездки в метрах;\n",
    "3. `duration` - длительность поездки в минутах;\n",
    "4. `date` - дата поездки.\n",
    "\n",
    "Столбы в таблице *subscriptions_go.csv*:\n",
    "1. `subscription_type` - тип подписки;\n",
    "2. `minute_price` - стоимость одной минуты поездки;\n",
    "3. `start_ride_price` - стоимость старта (начала поездки);\n",
    "4. `subscription_fee` -абонентская плата  в месяц.\n"
   ]
  },
  {
   "cell_type": "markdown",
   "id": "2810f7b9",
   "metadata": {},
   "source": [
    "## План работ"
   ]
  },
  {
   "cell_type": "markdown",
   "id": "c8d329bd",
   "metadata": {},
   "source": [
    "### Шаг 1. Знакомство с данными."
   ]
  },
  {
   "cell_type": "markdown",
   "id": "4e3a6873",
   "metadata": {},
   "source": [
    "<b>1.1.</b> Считаем CSV-файлы с данными с помощью библиотеки Pandas и сохраним их в датафреймы. Пути к файлам: <br>\n",
    "/datasets/users_go.csv<br>\n",
    "/datasets/rides_go.csv<br>\n",
    "/datasets/subscriptions_go.csv<br>\n",
    "<b>1.2.</b> Выведем первые строки каждого набора данных. Изучим общую информацию о каждом датафрейме."
   ]
  },
  {
   "cell_type": "markdown",
   "id": "8d07ef39",
   "metadata": {},
   "source": [
    "### Шаг 2. Предобработка данных"
   ]
  },
  {
   "cell_type": "markdown",
   "id": "3f42b2a8",
   "metadata": {},
   "source": [
    "**2.1** Приведем столбец date к типу даты Pandas. <br>\n",
    "**2.2** Создадим новый столбец с номером месяца на основе столбца date.<br>\n",
    "**2.3** Проверим наличие пропущенных значений и дубликатов в датафреймах. Обработаем их, если такие значения присутствуют."
   ]
  },
  {
   "cell_type": "markdown",
   "id": "f52212ba",
   "metadata": {},
   "source": [
    "### Шаг 3. Исследовательский анализ данных"
   ]
  },
  {
   "cell_type": "markdown",
   "id": "ef371fd1",
   "metadata": {},
   "source": [
    "Опишем и визуализируем общую информацию о пользователях и поездках:<br>\n",
    "**3.1** частота встречаемости городов <br>\n",
    "**3.2** соотношение пользователей с подпиской и без подписки<br>\n",
    "**3.3** возраст пользователей<br>\n",
    "**3.4** расстояние, которое пользователь преодолел за одну поездку<br>\n",
    "**3.5** продолжительность поездок."
   ]
  },
  {
   "cell_type": "markdown",
   "id": "20d05ae0",
   "metadata": {},
   "source": [
    "### Шаг 4. Объединение данных"
   ]
  },
  {
   "cell_type": "markdown",
   "id": "f964da03",
   "metadata": {},
   "source": [
    "**4.1** Объединим данные о пользователях, поездках и подписках в один датафрейм. Для этого воспользуйтесь методом merge().<br>\n",
    "**4.2** Создадим ещё два датафрейма из датафрейма, созданного на этапе 4.1:<br>\n",
    "c данными о пользователях без подписки;<br>\n",
    "с данными о пользователях с подпиской.<br>\n",
    "**4.3** Визуализируем информацию о расстоянии и времени поездок для пользователей обеих категорий.<br>"
   ]
  },
  {
   "cell_type": "markdown",
   "id": "4103a5f6",
   "metadata": {},
   "source": [
    "### Шаг 5. Подсчёт выручки"
   ]
  },
  {
   "cell_type": "markdown",
   "id": "f82d3e9d",
   "metadata": {},
   "source": [
    "**5.1** Создадим датафрейм с агрегированными данными о поездках на основе датафрейма с объединёнными данными из шага 4: найдем суммарное расстояние, количество поездок и суммарное время для каждого пользователя за каждый месяц. <br>\n",
    "**5.2** В этот же датафрейм добавим столбец с помесячной выручкой, которую принёс каждый пользователь — обратимся к информации об условиях оплаты для подписчиков и и тех, у кого нет подписки. Минуты при подсчёте стоимости округлим до ближайшего целого числа. <br>"
   ]
  },
  {
   "cell_type": "markdown",
   "id": "c1694012",
   "metadata": {},
   "source": [
    "### Шаг 6. Проверка гипотез"
   ]
  },
  {
   "cell_type": "markdown",
   "id": "fa71659d",
   "metadata": {},
   "source": [
    "Продакт-менеджеры сервиса хотят увеличить количество пользователей с подпиской. Для этого они будут проводить различные акции, но сначала нужно выяснить несколько важных моментов.<br>\n",
    "**6.1**  Важно понять, тратят ли пользователи с подпиской больше времени на поездки?  Проверим гипотезу. Используем исходные данные о продолжительности каждой сессии — отдельно для подписчиков и тех, у кого нет подписки.<br>\n",
    "**6.2** Расстояние одной поездки в 3130 метров — оптимальное с точки зрения износа самоката. Можно ли сказать, что расстояние, которое проезжают пользователи с подпиской за одну поездку, меньше 3130 метров? Проверим гипотезу и сделаем выводы.<br>\n",
    "**6.3** Проверим гипотезу о том, будет ли выручка от пользователей с подпиской выше, чем выручка от пользователей без подписки.<br>\n",
    "**6.4** Представим такую ситуацию: техническая команда сервиса обновила сервера, с которыми взаимодействует мобильное <br>приложение. Она надеется, что из-за этого количество обращений в техподдержку значимо снизилось. Некоторый файл содержит для каждого пользователя данные о количестве обращений до обновления и после него. Какой тест нам понадобился бы для проверки этой гипотезы?"
   ]
  },
  {
   "cell_type": "markdown",
   "id": "7493cf13",
   "metadata": {},
   "source": [
    "### Шаг 7. Распределения"
   ]
  },
  {
   "cell_type": "markdown",
   "id": "3107b8dd",
   "metadata": {},
   "source": [
    "**7.1** Отделу маркетинга GoFast поставили задачу: нужно провести акцию с раздачей промокодов на один бесплатный месяц подписки, в рамках которой как минимум 100 существующих клиентов должны продлить эту подписку. То есть по завершении периода действия подписки пользователь может либо отказаться от неё, либо продлить, совершив соотвествующий платёж. \n",
    "Эта акция уже проводилась ранее и по итогу выяснилось, что после бесплатного пробного периода подписку продлевают 10% пользователей. Выясним, какое минимальное количество промокодов нужно разослать, чтобы вероятность не выполнить план была примерно 5%. Подберем параметры распределения, описывающего эту ситуацию, построим график распределения и сформулируем ответ на вопрос о количестве промокодов. <br>\n",
    "**7.2** Отдел маркетинга рассылает клиентам push-уведомления в мобильном приложении. Клиенты могут открыть его или не открывать. Известно, что уведомления открывают около 40% получивших клиентов. Отдел планирует разослать 1 млн уведомлений. С помощью аппроксимации построим примерный график распределения и оценим вероятность того, что уведомление откроют не более 399,5 тыс. пользователей."
   ]
  },
  {
   "cell_type": "markdown",
   "id": "918db409",
   "metadata": {},
   "source": [
    "## Шаг 1. Загрузка данных"
   ]
  },
  {
   "cell_type": "code",
   "execution_count": 1,
   "id": "72576667",
   "metadata": {
    "tags": []
   },
   "outputs": [],
   "source": [
    "from math import factorial, sqrt\n",
    "\n",
    "import matplotlib.pyplot as plt\n",
    "import numpy as np\n",
    "import pandas as pd\n",
    "import seaborn as sbrn\n",
    "from scipy import stats as st\n",
    "from scipy.stats import binom, norm"
   ]
  },
  {
   "cell_type": "code",
   "execution_count": 2,
   "id": "ccefe5d2",
   "metadata": {
    "tags": []
   },
   "outputs": [],
   "source": [
    "pd.set_option(\"display.max_columns\", None)"
   ]
  },
  {
   "cell_type": "code",
   "execution_count": 3,
   "id": "e8b81df7",
   "metadata": {
    "tags": []
   },
   "outputs": [],
   "source": [
    "def head_and_info(df, name_df):\n",
    "    print(\"Первые 5 строк датафрейма {0}: \\n\".format(name_df))\n",
    "    display(df.head())\n",
    "    print()\n",
    "    print(\"Краткая информация по датафрейму\")\n",
    "    display(df.info())"
   ]
  },
  {
   "cell_type": "markdown",
   "id": "ac5077af",
   "metadata": {},
   "source": [
    "Загрузим и рассмотрим в кратце датафрейм с информацией о пользователях."
   ]
  },
  {
   "cell_type": "code",
   "execution_count": 4,
   "id": "eff9f206",
   "metadata": {
    "tags": []
   },
   "outputs": [
    {
     "name": "stdout",
     "output_type": "stream",
     "text": [
      "Первые 5 строк датафрейма Пользователи: \n",
      "\n"
     ]
    },
    {
     "data": {
      "text/html": [
       "<div>\n",
       "<style scoped>\n",
       "    .dataframe tbody tr th:only-of-type {\n",
       "        vertical-align: middle;\n",
       "    }\n",
       "\n",
       "    .dataframe tbody tr th {\n",
       "        vertical-align: top;\n",
       "    }\n",
       "\n",
       "    .dataframe thead th {\n",
       "        text-align: right;\n",
       "    }\n",
       "</style>\n",
       "<table border=\"1\" class=\"dataframe\">\n",
       "  <thead>\n",
       "    <tr style=\"text-align: right;\">\n",
       "      <th></th>\n",
       "      <th>user_id</th>\n",
       "      <th>name</th>\n",
       "      <th>age</th>\n",
       "      <th>city</th>\n",
       "      <th>subscription_type</th>\n",
       "    </tr>\n",
       "  </thead>\n",
       "  <tbody>\n",
       "    <tr>\n",
       "      <th>0</th>\n",
       "      <td>1</td>\n",
       "      <td>Кира</td>\n",
       "      <td>22</td>\n",
       "      <td>Тюмень</td>\n",
       "      <td>ultra</td>\n",
       "    </tr>\n",
       "    <tr>\n",
       "      <th>1</th>\n",
       "      <td>2</td>\n",
       "      <td>Станислав</td>\n",
       "      <td>31</td>\n",
       "      <td>Омск</td>\n",
       "      <td>ultra</td>\n",
       "    </tr>\n",
       "    <tr>\n",
       "      <th>2</th>\n",
       "      <td>3</td>\n",
       "      <td>Алексей</td>\n",
       "      <td>20</td>\n",
       "      <td>Москва</td>\n",
       "      <td>ultra</td>\n",
       "    </tr>\n",
       "    <tr>\n",
       "      <th>3</th>\n",
       "      <td>4</td>\n",
       "      <td>Константин</td>\n",
       "      <td>26</td>\n",
       "      <td>Ростов-на-Дону</td>\n",
       "      <td>ultra</td>\n",
       "    </tr>\n",
       "    <tr>\n",
       "      <th>4</th>\n",
       "      <td>5</td>\n",
       "      <td>Адель</td>\n",
       "      <td>28</td>\n",
       "      <td>Омск</td>\n",
       "      <td>ultra</td>\n",
       "    </tr>\n",
       "  </tbody>\n",
       "</table>\n",
       "</div>"
      ],
      "text/plain": [
       "   user_id        name  age            city subscription_type\n",
       "0        1        Кира   22          Тюмень             ultra\n",
       "1        2   Станислав   31            Омск             ultra\n",
       "2        3     Алексей   20          Москва             ultra\n",
       "3        4  Константин   26  Ростов-на-Дону             ultra\n",
       "4        5       Адель   28            Омск             ultra"
      ]
     },
     "metadata": {},
     "output_type": "display_data"
    },
    {
     "name": "stdout",
     "output_type": "stream",
     "text": [
      "\n",
      "Краткая информация по датафрейму\n",
      "<class 'pandas.core.frame.DataFrame'>\n",
      "RangeIndex: 1565 entries, 0 to 1564\n",
      "Data columns (total 5 columns):\n",
      " #   Column             Non-Null Count  Dtype \n",
      "---  ------             --------------  ----- \n",
      " 0   user_id            1565 non-null   int64 \n",
      " 1   name               1565 non-null   object\n",
      " 2   age                1565 non-null   int64 \n",
      " 3   city               1565 non-null   object\n",
      " 4   subscription_type  1565 non-null   object\n",
      "dtypes: int64(2), object(3)\n",
      "memory usage: 61.3+ KB\n"
     ]
    },
    {
     "data": {
      "text/plain": [
       "None"
      ]
     },
     "metadata": {},
     "output_type": "display_data"
    }
   ],
   "source": [
    "try:\n",
    "    df_users = pd.read_csv(\"/datasets/users_go.csv\")\n",
    "except:\n",
    "    df_users = pd.read_csv(\"datasets/users_go.csv\")\n",
    "head_and_info(df_users, \"Пользователи\")"
   ]
  },
  {
   "cell_type": "markdown",
   "id": "08b67797",
   "metadata": {},
   "source": [
    "В таблице <b>1565</b> строк, <b>4</b> столбца. Пропусков нет."
   ]
  },
  {
   "cell_type": "markdown",
   "id": "801872fe",
   "metadata": {},
   "source": [
    "Загрузим и рассмотрим в кратце датафрейм с информацией о поездках."
   ]
  },
  {
   "cell_type": "code",
   "execution_count": 5,
   "id": "ef442284",
   "metadata": {
    "tags": []
   },
   "outputs": [
    {
     "name": "stdout",
     "output_type": "stream",
     "text": [
      "Первые 5 строк датафрейма Поездки: \n",
      "\n"
     ]
    },
    {
     "data": {
      "text/html": [
       "<div>\n",
       "<style scoped>\n",
       "    .dataframe tbody tr th:only-of-type {\n",
       "        vertical-align: middle;\n",
       "    }\n",
       "\n",
       "    .dataframe tbody tr th {\n",
       "        vertical-align: top;\n",
       "    }\n",
       "\n",
       "    .dataframe thead th {\n",
       "        text-align: right;\n",
       "    }\n",
       "</style>\n",
       "<table border=\"1\" class=\"dataframe\">\n",
       "  <thead>\n",
       "    <tr style=\"text-align: right;\">\n",
       "      <th></th>\n",
       "      <th>user_id</th>\n",
       "      <th>distance</th>\n",
       "      <th>duration</th>\n",
       "      <th>date</th>\n",
       "    </tr>\n",
       "  </thead>\n",
       "  <tbody>\n",
       "    <tr>\n",
       "      <th>0</th>\n",
       "      <td>1</td>\n",
       "      <td>4409.919140</td>\n",
       "      <td>25.599769</td>\n",
       "      <td>2021-01-01</td>\n",
       "    </tr>\n",
       "    <tr>\n",
       "      <th>1</th>\n",
       "      <td>1</td>\n",
       "      <td>2617.592153</td>\n",
       "      <td>15.816871</td>\n",
       "      <td>2021-01-18</td>\n",
       "    </tr>\n",
       "    <tr>\n",
       "      <th>2</th>\n",
       "      <td>1</td>\n",
       "      <td>754.159807</td>\n",
       "      <td>6.232113</td>\n",
       "      <td>2021-04-20</td>\n",
       "    </tr>\n",
       "    <tr>\n",
       "      <th>3</th>\n",
       "      <td>1</td>\n",
       "      <td>2694.783254</td>\n",
       "      <td>18.511000</td>\n",
       "      <td>2021-08-11</td>\n",
       "    </tr>\n",
       "    <tr>\n",
       "      <th>4</th>\n",
       "      <td>1</td>\n",
       "      <td>4028.687306</td>\n",
       "      <td>26.265803</td>\n",
       "      <td>2021-08-28</td>\n",
       "    </tr>\n",
       "  </tbody>\n",
       "</table>\n",
       "</div>"
      ],
      "text/plain": [
       "   user_id     distance   duration        date\n",
       "0        1  4409.919140  25.599769  2021-01-01\n",
       "1        1  2617.592153  15.816871  2021-01-18\n",
       "2        1   754.159807   6.232113  2021-04-20\n",
       "3        1  2694.783254  18.511000  2021-08-11\n",
       "4        1  4028.687306  26.265803  2021-08-28"
      ]
     },
     "metadata": {},
     "output_type": "display_data"
    },
    {
     "name": "stdout",
     "output_type": "stream",
     "text": [
      "\n",
      "Краткая информация по датафрейму\n",
      "<class 'pandas.core.frame.DataFrame'>\n",
      "RangeIndex: 18068 entries, 0 to 18067\n",
      "Data columns (total 4 columns):\n",
      " #   Column    Non-Null Count  Dtype  \n",
      "---  ------    --------------  -----  \n",
      " 0   user_id   18068 non-null  int64  \n",
      " 1   distance  18068 non-null  float64\n",
      " 2   duration  18068 non-null  float64\n",
      " 3   date      18068 non-null  object \n",
      "dtypes: float64(2), int64(1), object(1)\n",
      "memory usage: 564.8+ KB\n"
     ]
    },
    {
     "data": {
      "text/plain": [
       "None"
      ]
     },
     "metadata": {},
     "output_type": "display_data"
    }
   ],
   "source": [
    "try:\n",
    "    df_rides = pd.read_csv(\"/datasets/rides_go.csv\")\n",
    "except:\n",
    "    df_rides = pd.read_csv(\"datasets/rides_go.csv\")\n",
    "\n",
    "head_and_info(df_rides, \"Поездки\")"
   ]
  },
  {
   "cell_type": "markdown",
   "id": "337ac78a",
   "metadata": {},
   "source": [
    "В таблице **18068** строк, **4** столбца. Пропусков нет. Видим, что столбец с датами имеет тип данных object, во время преобработки данных приведем тип столбца к типу дат *datetime64*."
   ]
  },
  {
   "cell_type": "markdown",
   "id": "6e479d20",
   "metadata": {},
   "source": [
    "Загрузим и рассмотрим в кратце датафрейм с информацией о подписках."
   ]
  },
  {
   "cell_type": "code",
   "execution_count": 6,
   "id": "cb49b275",
   "metadata": {
    "tags": []
   },
   "outputs": [
    {
     "name": "stdout",
     "output_type": "stream",
     "text": [
      "Первые 5 строк датафрейма Подписки: \n",
      "\n"
     ]
    },
    {
     "data": {
      "text/html": [
       "<div>\n",
       "<style scoped>\n",
       "    .dataframe tbody tr th:only-of-type {\n",
       "        vertical-align: middle;\n",
       "    }\n",
       "\n",
       "    .dataframe tbody tr th {\n",
       "        vertical-align: top;\n",
       "    }\n",
       "\n",
       "    .dataframe thead th {\n",
       "        text-align: right;\n",
       "    }\n",
       "</style>\n",
       "<table border=\"1\" class=\"dataframe\">\n",
       "  <thead>\n",
       "    <tr style=\"text-align: right;\">\n",
       "      <th></th>\n",
       "      <th>subscription_type</th>\n",
       "      <th>minute_price</th>\n",
       "      <th>start_ride_price</th>\n",
       "      <th>subscription_fee</th>\n",
       "    </tr>\n",
       "  </thead>\n",
       "  <tbody>\n",
       "    <tr>\n",
       "      <th>0</th>\n",
       "      <td>free</td>\n",
       "      <td>8</td>\n",
       "      <td>50</td>\n",
       "      <td>0</td>\n",
       "    </tr>\n",
       "    <tr>\n",
       "      <th>1</th>\n",
       "      <td>ultra</td>\n",
       "      <td>6</td>\n",
       "      <td>0</td>\n",
       "      <td>199</td>\n",
       "    </tr>\n",
       "  </tbody>\n",
       "</table>\n",
       "</div>"
      ],
      "text/plain": [
       "  subscription_type  minute_price  start_ride_price  subscription_fee\n",
       "0              free             8                50                 0\n",
       "1             ultra             6                 0               199"
      ]
     },
     "metadata": {},
     "output_type": "display_data"
    },
    {
     "name": "stdout",
     "output_type": "stream",
     "text": [
      "\n",
      "Краткая информация по датафрейму\n",
      "<class 'pandas.core.frame.DataFrame'>\n",
      "RangeIndex: 2 entries, 0 to 1\n",
      "Data columns (total 4 columns):\n",
      " #   Column             Non-Null Count  Dtype \n",
      "---  ------             --------------  ----- \n",
      " 0   subscription_type  2 non-null      object\n",
      " 1   minute_price       2 non-null      int64 \n",
      " 2   start_ride_price   2 non-null      int64 \n",
      " 3   subscription_fee   2 non-null      int64 \n",
      "dtypes: int64(3), object(1)\n",
      "memory usage: 192.0+ bytes\n"
     ]
    },
    {
     "data": {
      "text/plain": [
       "None"
      ]
     },
     "metadata": {},
     "output_type": "display_data"
    }
   ],
   "source": [
    "try:\n",
    "    df_subscriptions = pd.read_csv(\"/datasets/subscriptions_go.csv\")\n",
    "except:\n",
    "    df_subscriptions = pd.read_csv(\"datasets/subscriptions_go.csv\")\n",
    "\n",
    "head_and_info(df_subscriptions, \"Подписки\")"
   ]
  },
  {
   "cell_type": "markdown",
   "id": "5afb9e63",
   "metadata": {},
   "source": [
    "В таблице **2** строк, **4** столбца. Пропусков нет."
   ]
  },
  {
   "cell_type": "markdown",
   "id": "4779076a",
   "metadata": {},
   "source": [
    "##### Промежуточный итог"
   ]
  },
  {
   "cell_type": "markdown",
   "id": "23227209",
   "metadata": {},
   "source": [
    "Пропусков в датафреймах нет, стилистика наименования столбцов выдержана. Единственное замечание: тип данных в колонке *date* в датафрейме с поездками надо поменять на  тип дат *datetime64*."
   ]
  },
  {
   "cell_type": "markdown",
   "id": "e95ebca7",
   "metadata": {},
   "source": [
    "## Шаг 2. Предобработка данных"
   ]
  },
  {
   "cell_type": "markdown",
   "id": "c4379977",
   "metadata": {},
   "source": [
    "#### Приведем столбец *date* в датафрейме с информацией о поездке к типу дат *datetime64*."
   ]
  },
  {
   "cell_type": "code",
   "execution_count": 7,
   "id": "af6d202c",
   "metadata": {
    "tags": []
   },
   "outputs": [
    {
     "name": "stdout",
     "output_type": "stream",
     "text": [
      "Первые 5 строк датафрейма Поездки: \n",
      "\n"
     ]
    },
    {
     "data": {
      "text/html": [
       "<div>\n",
       "<style scoped>\n",
       "    .dataframe tbody tr th:only-of-type {\n",
       "        vertical-align: middle;\n",
       "    }\n",
       "\n",
       "    .dataframe tbody tr th {\n",
       "        vertical-align: top;\n",
       "    }\n",
       "\n",
       "    .dataframe thead th {\n",
       "        text-align: right;\n",
       "    }\n",
       "</style>\n",
       "<table border=\"1\" class=\"dataframe\">\n",
       "  <thead>\n",
       "    <tr style=\"text-align: right;\">\n",
       "      <th></th>\n",
       "      <th>user_id</th>\n",
       "      <th>distance</th>\n",
       "      <th>duration</th>\n",
       "      <th>date</th>\n",
       "    </tr>\n",
       "  </thead>\n",
       "  <tbody>\n",
       "    <tr>\n",
       "      <th>0</th>\n",
       "      <td>1</td>\n",
       "      <td>4409.919140</td>\n",
       "      <td>25.599769</td>\n",
       "      <td>2021-01-01</td>\n",
       "    </tr>\n",
       "    <tr>\n",
       "      <th>1</th>\n",
       "      <td>1</td>\n",
       "      <td>2617.592153</td>\n",
       "      <td>15.816871</td>\n",
       "      <td>2021-01-18</td>\n",
       "    </tr>\n",
       "    <tr>\n",
       "      <th>2</th>\n",
       "      <td>1</td>\n",
       "      <td>754.159807</td>\n",
       "      <td>6.232113</td>\n",
       "      <td>2021-04-20</td>\n",
       "    </tr>\n",
       "    <tr>\n",
       "      <th>3</th>\n",
       "      <td>1</td>\n",
       "      <td>2694.783254</td>\n",
       "      <td>18.511000</td>\n",
       "      <td>2021-08-11</td>\n",
       "    </tr>\n",
       "    <tr>\n",
       "      <th>4</th>\n",
       "      <td>1</td>\n",
       "      <td>4028.687306</td>\n",
       "      <td>26.265803</td>\n",
       "      <td>2021-08-28</td>\n",
       "    </tr>\n",
       "  </tbody>\n",
       "</table>\n",
       "</div>"
      ],
      "text/plain": [
       "   user_id     distance   duration       date\n",
       "0        1  4409.919140  25.599769 2021-01-01\n",
       "1        1  2617.592153  15.816871 2021-01-18\n",
       "2        1   754.159807   6.232113 2021-04-20\n",
       "3        1  2694.783254  18.511000 2021-08-11\n",
       "4        1  4028.687306  26.265803 2021-08-28"
      ]
     },
     "metadata": {},
     "output_type": "display_data"
    },
    {
     "name": "stdout",
     "output_type": "stream",
     "text": [
      "\n",
      "Краткая информация по датафрейму\n",
      "<class 'pandas.core.frame.DataFrame'>\n",
      "RangeIndex: 18068 entries, 0 to 18067\n",
      "Data columns (total 4 columns):\n",
      " #   Column    Non-Null Count  Dtype         \n",
      "---  ------    --------------  -----         \n",
      " 0   user_id   18068 non-null  int64         \n",
      " 1   distance  18068 non-null  float64       \n",
      " 2   duration  18068 non-null  float64       \n",
      " 3   date      18068 non-null  datetime64[ns]\n",
      "dtypes: datetime64[ns](1), float64(2), int64(1)\n",
      "memory usage: 564.8 KB\n"
     ]
    },
    {
     "data": {
      "text/plain": [
       "None"
      ]
     },
     "metadata": {},
     "output_type": "display_data"
    }
   ],
   "source": [
    "df_rides[\"date\"] = pd.to_datetime(df_rides[\"date\"], format=\"%Y-%m-%d\")\n",
    "head_and_info(df_rides, \"Поездки\")"
   ]
  },
  {
   "cell_type": "markdown",
   "id": "173abdb7",
   "metadata": {},
   "source": [
    "Как видим, тип данных колонки *date* успешно поменян на *datetime64*."
   ]
  },
  {
   "cell_type": "markdown",
   "id": "36e92ac1",
   "metadata": {},
   "source": [
    "#### Создадим новый столбец с номером месяца на основе столбца date."
   ]
  },
  {
   "cell_type": "code",
   "execution_count": 8,
   "id": "12592bc2",
   "metadata": {
    "tags": []
   },
   "outputs": [
    {
     "data": {
      "text/html": [
       "<div>\n",
       "<style scoped>\n",
       "    .dataframe tbody tr th:only-of-type {\n",
       "        vertical-align: middle;\n",
       "    }\n",
       "\n",
       "    .dataframe tbody tr th {\n",
       "        vertical-align: top;\n",
       "    }\n",
       "\n",
       "    .dataframe thead th {\n",
       "        text-align: right;\n",
       "    }\n",
       "</style>\n",
       "<table border=\"1\" class=\"dataframe\">\n",
       "  <thead>\n",
       "    <tr style=\"text-align: right;\">\n",
       "      <th></th>\n",
       "      <th>user_id</th>\n",
       "      <th>distance</th>\n",
       "      <th>duration</th>\n",
       "      <th>date</th>\n",
       "      <th>month</th>\n",
       "    </tr>\n",
       "  </thead>\n",
       "  <tbody>\n",
       "    <tr>\n",
       "      <th>0</th>\n",
       "      <td>1</td>\n",
       "      <td>4409.919140</td>\n",
       "      <td>25.599769</td>\n",
       "      <td>2021-01-01</td>\n",
       "      <td>1</td>\n",
       "    </tr>\n",
       "    <tr>\n",
       "      <th>1</th>\n",
       "      <td>1</td>\n",
       "      <td>2617.592153</td>\n",
       "      <td>15.816871</td>\n",
       "      <td>2021-01-18</td>\n",
       "      <td>1</td>\n",
       "    </tr>\n",
       "    <tr>\n",
       "      <th>2</th>\n",
       "      <td>1</td>\n",
       "      <td>754.159807</td>\n",
       "      <td>6.232113</td>\n",
       "      <td>2021-04-20</td>\n",
       "      <td>4</td>\n",
       "    </tr>\n",
       "    <tr>\n",
       "      <th>3</th>\n",
       "      <td>1</td>\n",
       "      <td>2694.783254</td>\n",
       "      <td>18.511000</td>\n",
       "      <td>2021-08-11</td>\n",
       "      <td>8</td>\n",
       "    </tr>\n",
       "    <tr>\n",
       "      <th>4</th>\n",
       "      <td>1</td>\n",
       "      <td>4028.687306</td>\n",
       "      <td>26.265803</td>\n",
       "      <td>2021-08-28</td>\n",
       "      <td>8</td>\n",
       "    </tr>\n",
       "  </tbody>\n",
       "</table>\n",
       "</div>"
      ],
      "text/plain": [
       "   user_id     distance   duration       date  month\n",
       "0        1  4409.919140  25.599769 2021-01-01      1\n",
       "1        1  2617.592153  15.816871 2021-01-18      1\n",
       "2        1   754.159807   6.232113 2021-04-20      4\n",
       "3        1  2694.783254  18.511000 2021-08-11      8\n",
       "4        1  4028.687306  26.265803 2021-08-28      8"
      ]
     },
     "execution_count": 8,
     "metadata": {},
     "output_type": "execute_result"
    }
   ],
   "source": [
    "df_rides[\"month\"] = pd.DatetimeIndex(df_rides[\"date\"]).month\n",
    "df_rides.head()"
   ]
  },
  {
   "cell_type": "markdown",
   "id": "74b264c8",
   "metadata": {},
   "source": [
    "#### Обработка пропущенных значений и дубликатов в датафреймах."
   ]
  },
  {
   "cell_type": "code",
   "execution_count": 9,
   "id": "851eb608",
   "metadata": {
    "tags": []
   },
   "outputs": [
    {
     "name": "stdout",
     "output_type": "stream",
     "text": [
      "Пропуски в датафрейме с пользователями\n"
     ]
    },
    {
     "data": {
      "text/plain": [
       "user_id              0\n",
       "name                 0\n",
       "age                  0\n",
       "city                 0\n",
       "subscription_type    0\n",
       "dtype: int64"
      ]
     },
     "execution_count": 9,
     "metadata": {},
     "output_type": "execute_result"
    }
   ],
   "source": [
    "print(\"Пропуски в датафрейме с пользователями\")\n",
    "df_users.isna().sum()"
   ]
  },
  {
   "cell_type": "code",
   "execution_count": 10,
   "id": "bc9fad6d",
   "metadata": {
    "tags": []
   },
   "outputs": [
    {
     "name": "stdout",
     "output_type": "stream",
     "text": [
      "Пропуски в датафрейме с подписками\n"
     ]
    },
    {
     "data": {
      "text/plain": [
       "subscription_type    0\n",
       "minute_price         0\n",
       "start_ride_price     0\n",
       "subscription_fee     0\n",
       "dtype: int64"
      ]
     },
     "execution_count": 10,
     "metadata": {},
     "output_type": "execute_result"
    }
   ],
   "source": [
    "print(\"Пропуски в датафрейме с подписками\")\n",
    "df_subscriptions.isna().sum()"
   ]
  },
  {
   "cell_type": "code",
   "execution_count": 11,
   "id": "59c48682",
   "metadata": {
    "tags": []
   },
   "outputs": [
    {
     "name": "stdout",
     "output_type": "stream",
     "text": [
      "Пропуски в датафрейме с поездками\n"
     ]
    },
    {
     "data": {
      "text/plain": [
       "user_id     0\n",
       "distance    0\n",
       "duration    0\n",
       "date        0\n",
       "month       0\n",
       "dtype: int64"
      ]
     },
     "execution_count": 11,
     "metadata": {},
     "output_type": "execute_result"
    }
   ],
   "source": [
    "print(\"Пропуски в датафрейме с поездками\")\n",
    "df_rides.isna().sum()"
   ]
  },
  {
   "cell_type": "markdown",
   "id": "c5ff27d1",
   "metadata": {},
   "source": [
    "Подтвердили, что пропусков в данных нет. "
   ]
  },
  {
   "cell_type": "markdown",
   "id": "06ebd801",
   "metadata": {},
   "source": [
    "Проверим наличие дубликатов. Так как таблица с подписками содержит только две строки, и её мы полностью выводили ранее и видели, что дубликатов нет, то остается только рассмотреть таблицу с пользователями и поездками."
   ]
  },
  {
   "cell_type": "code",
   "execution_count": 12,
   "id": "8006f65c",
   "metadata": {
    "tags": []
   },
   "outputs": [
    {
     "data": {
      "text/plain": [
       "31"
      ]
     },
     "execution_count": 12,
     "metadata": {},
     "output_type": "execute_result"
    }
   ],
   "source": [
    "df_users.duplicated().sum()"
   ]
  },
  {
   "cell_type": "markdown",
   "id": "51ced9a8",
   "metadata": {},
   "source": [
    "Видим, что есть 31 дубликат. Их не должно быть, так как пользователи должны быть уникальными. Избавимся от них:"
   ]
  },
  {
   "cell_type": "code",
   "execution_count": 13,
   "id": "160bff15",
   "metadata": {
    "tags": []
   },
   "outputs": [
    {
     "name": "stdout",
     "output_type": "stream",
     "text": [
      "<class 'pandas.core.frame.DataFrame'>\n",
      "RangeIndex: 1534 entries, 0 to 1533\n",
      "Data columns (total 5 columns):\n",
      " #   Column             Non-Null Count  Dtype \n",
      "---  ------             --------------  ----- \n",
      " 0   user_id            1534 non-null   int64 \n",
      " 1   name               1534 non-null   object\n",
      " 2   age                1534 non-null   int64 \n",
      " 3   city               1534 non-null   object\n",
      " 4   subscription_type  1534 non-null   object\n",
      "dtypes: int64(2), object(3)\n",
      "memory usage: 60.0+ KB\n"
     ]
    }
   ],
   "source": [
    "df_users = df_users.drop_duplicates().reset_index(drop=True)\n",
    "df_users.info()"
   ]
  },
  {
   "cell_type": "markdown",
   "id": "779a09df",
   "metadata": {},
   "source": [
    "От дубликатов строк избавились. Теперь оценим, есть ли неявные дубликаты в столбце с городами:"
   ]
  },
  {
   "cell_type": "code",
   "execution_count": 14,
   "id": "b8f9ed72",
   "metadata": {
    "tags": []
   },
   "outputs": [
    {
     "data": {
      "text/plain": [
       "array(['Тюмень', 'Омск', 'Москва', 'Ростов-на-Дону', 'Краснодар',\n",
       "       'Пятигорск', 'Екатеринбург', 'Сочи'], dtype=object)"
      ]
     },
     "execution_count": 14,
     "metadata": {},
     "output_type": "execute_result"
    }
   ],
   "source": [
    "df_users[\"city\"].unique()"
   ]
  },
  {
   "cell_type": "markdown",
   "id": "906d3a53",
   "metadata": {},
   "source": [
    "Все значения уникальны, никаких неявных дубликатов нет. Проверим также на неявные дубликаты столбцы *subscription_type, user_id*."
   ]
  },
  {
   "cell_type": "code",
   "execution_count": 15,
   "id": "25395399",
   "metadata": {
    "tags": []
   },
   "outputs": [
    {
     "name": "stdout",
     "output_type": "stream",
     "text": [
      "['ultra' 'free']\n"
     ]
    },
    {
     "data": {
      "text/plain": [
       "0"
      ]
     },
     "execution_count": 15,
     "metadata": {},
     "output_type": "execute_result"
    }
   ],
   "source": [
    "print(df_users[\"subscription_type\"].unique())\n",
    "df_users[\"user_id\"].duplicated().sum()"
   ]
  },
  {
   "cell_type": "markdown",
   "id": "cd1f2487",
   "metadata": {},
   "source": [
    "Как видим, в столбце *subscription_type* неявных дубликатов нет. Для столбца *user_id* вывели количество дубликатов, так как значения столбца это просто большое количество целых чисел, и проще проверить именно количество дубликатов. Их количество оказалось равным нулю. <br> Далее проверим дубликаты в датафрейме с поездками. Будет очень подозрительно, если для одного и того же пользователя будут абсолютно одинаковые поездки по всем данным параметрам."
   ]
  },
  {
   "cell_type": "code",
   "execution_count": 16,
   "id": "ebf325eb",
   "metadata": {
    "tags": []
   },
   "outputs": [
    {
     "data": {
      "text/plain": [
       "0"
      ]
     },
     "execution_count": 16,
     "metadata": {},
     "output_type": "execute_result"
    }
   ],
   "source": [
    "df_rides.duplicated().sum()"
   ]
  },
  {
   "cell_type": "markdown",
   "id": "59fd2310",
   "metadata": {},
   "source": [
    "Дубликатов в таблице с поездками нет."
   ]
  },
  {
   "cell_type": "markdown",
   "id": "40df2332",
   "metadata": {},
   "source": [
    "#### Промежуточный итог."
   ]
  },
  {
   "cell_type": "markdown",
   "id": "af1eb758",
   "metadata": {},
   "source": [
    "Проведена предобработка данных:\n",
    "1. Убедились, что пропусков в данных нет.\n",
    "2. Привели столбец *date* в датафрейме с информацией о поездках к типу дат *datetime64*.\n",
    "3. В датафрейме с поездками создали новый столбец с номером месяца на основе столбца *date*.\n",
    "4. Избавились от дубликатов в таблице с пользователями, их оказалось **31** штука."
   ]
  },
  {
   "cell_type": "markdown",
   "id": "212593c7",
   "metadata": {},
   "source": [
    "## Шаг 3. Исследовательский анализ данных"
   ]
  },
  {
   "cell_type": "markdown",
   "id": "8c46d0ac",
   "metadata": {},
   "source": [
    "Опишем и визуализируем общую информацию о пользователях и поездках."
   ]
  },
  {
   "cell_type": "markdown",
   "id": "843cf276",
   "metadata": {},
   "source": [
    "#### Частота встречаемости городов"
   ]
  },
  {
   "cell_type": "code",
   "execution_count": 17,
   "id": "06316f0c",
   "metadata": {
    "tags": []
   },
   "outputs": [
    {
     "name": "stdout",
     "output_type": "stream",
     "text": [
      "Числовая характеристика столбца с количеством упоминаний города:\n"
     ]
    },
    {
     "data": {
      "text/plain": [
       "count      8.000000\n",
       "mean     191.750000\n",
       "std       15.672998\n",
       "min      168.000000\n",
       "25%      182.250000\n",
       "50%      191.000000\n",
       "75%      199.500000\n",
       "max      219.000000\n",
       "Name: count_city, dtype: float64"
      ]
     },
     "execution_count": 17,
     "metadata": {},
     "output_type": "execute_result"
    },
    {
     "data": {
      "image/png": "[encoded data removed]",
      "text/plain": [
       "<Figure size 640x480 with 1 Axes>"
      ]
     },
     "metadata": {},
     "output_type": "display_data"
    }
   ],
   "source": [
    "# создадим сводную таблицу из датафрейма с пользователями, где будут индексами  города,\n",
    "# и будет столбец с количеством упоминаний этого города (количество пользователей)\n",
    "df_count_city = pd.pivot_table(\n",
    "    df_users, index=\"city\", values=\"user_id\", aggfunc=\"count\"\n",
    ")\n",
    "# переименуем название столбца\n",
    "df_count_city.columns = [\"count_city\"]\n",
    "# отсортируем по убыванию и визуализируем\n",
    "df_count_city = df_count_city.sort_values(by=\"count_city\", ascending=False)\n",
    "sbrn.ylabel = \"Города\"\n",
    "ax = sbrn.barplot(y=df_count_city.index, x=\"count_city\", data=df_count_city)\n",
    "ax.set(\n",
    "    xlabel=\"Упоминание городов, шт\",\n",
    "    ylabel=\"Города\",\n",
    "    title=\"Количество пользователей по городам\",\n",
    ")\n",
    "# выведем численную информацию столбца 'count_city'\n",
    "print(\"Числовая характеристика столбца с количеством упоминаний города:\")\n",
    "df_count_city[\"count_city\"].describe()"
   ]
  },
  {
   "cell_type": "markdown",
   "id": "1176de8b",
   "metadata": {},
   "source": [
    "В целом количество пользователей в разных городах не сильно отличается. Но, тем не менее, можно выделить города Пятигорск и Москва, которые имеют наибольшее и наименьшее количество упоминаний соответственно. Это выглядит странно, учитывая населения этих городов. Скорее всего это может быть вызвано отсутствием конкуренции в сфере проката самокатов в Пятигорске и наоборот, слишком большим выбором компаний, предлагающих такие услуги, в Москве. <br>\n",
    "То, что медианное и среднее значение практически совпадают, наталкивает на мысль, что распределение количества пользователей по городам является нормальным распределением."
   ]
  },
  {
   "cell_type": "markdown",
   "id": "28de2c72",
   "metadata": {},
   "source": [
    "#### Cоотношение пользователей с подпиской и без подписки"
   ]
  },
  {
   "cell_type": "code",
   "execution_count": 18,
   "id": "f2a4117c",
   "metadata": {
    "tags": []
   },
   "outputs": [
    {
     "name": "stdout",
     "output_type": "stream",
     "text": [
      "Количество пользователей с подпиской Ultra: 699\n",
      "Количество пользователей без подписки: 835\n",
      "Распределение подписок по городам :\n",
      "                free  ultra\n",
      "city                       \n",
      "Екатеринбург     112     92\n",
      "Краснодар        112     81\n",
      "Москва            84     84\n",
      "Омск              92     91\n",
      "Пятигорск        125     94\n",
      "Ростов-на-Дону   109     89\n",
      "Сочи             103     86\n",
      "Тюмень            98     82\n"
     ]
    },
    {
     "data": {
      "image/png": "[encoded data removed]",
      "text/plain": [
       "<Figure size 640x480 with 1 Axes>"
      ]
     },
     "metadata": {},
     "output_type": "display_data"
    },
    {
     "data": {
      "image/png": "[encoded data removed]",
      "text/plain": [
       "<Figure size 640x480 with 1 Axes>"
      ]
     },
     "metadata": {},
     "output_type": "display_data"
    }
   ],
   "source": [
    "print(\n",
    "    \"Количество пользователей с подпиской Ultra:\",\n",
    "    df_users[df_users[\"subscription_type\"] == \"ultra\"][\"subscription_type\"].count(),\n",
    ")\n",
    "print(\n",
    "    \"Количество пользователей без подписки:\",\n",
    "    df_users[df_users[\"subscription_type\"] == \"free\"][\"subscription_type\"].count(),\n",
    ")\n",
    "print(\"Распределение подписок по городам :\")\n",
    "subscription_city = pd.pivot_table(\n",
    "    df_users,\n",
    "    columns=\"subscription_type\",\n",
    "    index=\"city\",\n",
    "    values=\"user_id\",\n",
    "    aggfunc=\"count\",\n",
    ")\n",
    "subscription_city.columns = [\"free\", \"ultra\"]\n",
    "print(subscription_city)\n",
    "\n",
    "# отрисовка столбчатой диаграммы\n",
    "barWidth = 0.25\n",
    "r1 = np.arange(len(subscription_city[\"free\"]))\n",
    "r2 = [x + barWidth for x in r1]\n",
    "plt.bar(\n",
    "    r1,\n",
    "    subscription_city[\"free\"],\n",
    "    color=\"#3cb371\",\n",
    "    width=barWidth,\n",
    "    edgecolor=\"white\",\n",
    "    label=\"free\",\n",
    ")\n",
    "plt.bar(\n",
    "    r2,\n",
    "    subscription_city[\"ultra\"],\n",
    "    color=\"#db7093\",\n",
    "    width=barWidth,\n",
    "    edgecolor=\"white\",\n",
    "    label=\"ultra\",\n",
    ")\n",
    "plt.xlabel(\"Города\", fontweight=\"bold\")\n",
    "plt.ylabel(\"Шт.\", fontweight=\"bold\")\n",
    "plt.title(\"Распределение подписок по городам\")\n",
    "plt.xticks(\n",
    "    [r + barWidth for r in range(len(subscription_city.index))],\n",
    "    subscription_city.index,\n",
    "    rotation=45,\n",
    ")\n",
    "plt.legend()\n",
    "plt.show()\n",
    "\n",
    "plt.bar(\n",
    "    \"free\",\n",
    "    df_users[df_users[\"subscription_type\"] == \"free\"][\"subscription_type\"].count(),\n",
    "    color=\"#3cb371\",\n",
    "    width=barWidth,\n",
    "    edgecolor=\"white\",\n",
    "    label=\"free\",\n",
    ")\n",
    "plt.bar(\n",
    "    \"ultra\",\n",
    "    df_users[df_users[\"subscription_type\"] == \"ultra\"][\"subscription_type\"].count(),\n",
    "    color=\"#db7093\",\n",
    "    width=barWidth,\n",
    "    edgecolor=\"white\",\n",
    "    label=\"ultra\",\n",
    ")\n",
    "plt.title(\"Распределение подписок\")\n",
    "plt.xlabel(\"Тип подписки\", fontweight=\"bold\")\n",
    "plt.ylabel(\"Шт.\", fontweight=\"bold\")\n",
    "plt.legend()\n",
    "plt.show()"
   ]
  },
  {
   "cell_type": "markdown",
   "id": "b31f6892",
   "metadata": {},
   "source": [
    "И в совокупности и отдельно по городам наблюдается тренд, что большиство пользователей предпочитают не оформлять подписку Ultra. Только в Москве эти значения равны, а в Омске отличаются на одно значение."
   ]
  },
  {
   "cell_type": "markdown",
   "id": "407d84aa",
   "metadata": {},
   "source": [
    "####  Bозраст пользователей"
   ]
  },
  {
   "cell_type": "code",
   "execution_count": 19,
   "id": "06f459d2",
   "metadata": {
    "tags": []
   },
   "outputs": [
    {
     "name": "stdout",
     "output_type": "stream",
     "text": [
      "Числовая характеристика колонки с возрастом пользователей:\n"
     ]
    },
    {
     "data": {
      "text/plain": [
       "count    1534.000000\n",
       "mean       24.903520\n",
       "std         4.572367\n",
       "min        12.000000\n",
       "25%        22.000000\n",
       "50%        25.000000\n",
       "75%        28.000000\n",
       "max        43.000000\n",
       "Name: age, dtype: float64"
      ]
     },
     "metadata": {},
     "output_type": "display_data"
    },
    {
     "data": {
      "image/png": "[encoded data removed]",
      "text/plain": [
       "<Figure size 640x480 with 1 Axes>"
      ]
     },
     "metadata": {},
     "output_type": "display_data"
    }
   ],
   "source": [
    "print(\"Числовая характеристика колонки с возрастом пользователей:\")\n",
    "display(df_users[\"age\"].describe())\n",
    "df_users[\"age\"].hist(bins=100);"
   ]
  },
  {
   "cell_type": "markdown",
   "id": "3cb26c7a",
   "metadata": {},
   "source": [
    "Возраст пользователей подчиняется нормальному распределению. Среднее значение и на гистограмме и в числовом описании колонки равно **25** годам. Можно так же проверить распределения возрастов по городам."
   ]
  },
  {
   "cell_type": "code",
   "execution_count": 20,
   "id": "ecf2e37e",
   "metadata": {
    "tags": []
   },
   "outputs": [
    {
     "name": "stdout",
     "output_type": "stream",
     "text": [
      "Распределение подписок по городам :\n"
     ]
    },
    {
     "data": {
      "text/html": [
       "<div>\n",
       "<style scoped>\n",
       "    .dataframe tbody tr th:only-of-type {\n",
       "        vertical-align: middle;\n",
       "    }\n",
       "\n",
       "    .dataframe tbody tr th {\n",
       "        vertical-align: top;\n",
       "    }\n",
       "\n",
       "    .dataframe thead th {\n",
       "        text-align: right;\n",
       "    }\n",
       "</style>\n",
       "<table border=\"1\" class=\"dataframe\">\n",
       "  <thead>\n",
       "    <tr style=\"text-align: right;\">\n",
       "      <th></th>\n",
       "      <th>age</th>\n",
       "    </tr>\n",
       "    <tr>\n",
       "      <th>city</th>\n",
       "      <th></th>\n",
       "    </tr>\n",
       "  </thead>\n",
       "  <tbody>\n",
       "    <tr>\n",
       "      <th>Екатеринбург</th>\n",
       "      <td>24.955882</td>\n",
       "    </tr>\n",
       "    <tr>\n",
       "      <th>Краснодар</th>\n",
       "      <td>25.290155</td>\n",
       "    </tr>\n",
       "    <tr>\n",
       "      <th>Москва</th>\n",
       "      <td>25.267857</td>\n",
       "    </tr>\n",
       "    <tr>\n",
       "      <th>Омск</th>\n",
       "      <td>25.382514</td>\n",
       "    </tr>\n",
       "    <tr>\n",
       "      <th>Пятигорск</th>\n",
       "      <td>24.716895</td>\n",
       "    </tr>\n",
       "    <tr>\n",
       "      <th>Ростов-на-Дону</th>\n",
       "      <td>24.545455</td>\n",
       "    </tr>\n",
       "    <tr>\n",
       "      <th>Сочи</th>\n",
       "      <td>24.507937</td>\n",
       "    </tr>\n",
       "    <tr>\n",
       "      <th>Тюмень</th>\n",
       "      <td>24.638889</td>\n",
       "    </tr>\n",
       "  </tbody>\n",
       "</table>\n",
       "</div>"
      ],
      "text/plain": [
       "                      age\n",
       "city                     \n",
       "Екатеринбург    24.955882\n",
       "Краснодар       25.290155\n",
       "Москва          25.267857\n",
       "Омск            25.382514\n",
       "Пятигорск       24.716895\n",
       "Ростов-на-Дону  24.545455\n",
       "Сочи            24.507937\n",
       "Тюмень          24.638889"
      ]
     },
     "execution_count": 20,
     "metadata": {},
     "output_type": "execute_result"
    }
   ],
   "source": [
    "print(\"Распределение подписок по городам :\")\n",
    "age_city = pd.pivot_table(df_users, index=\"city\", values=\"age\", aggfunc=\"mean\")\n",
    "age_city"
   ]
  },
  {
   "cell_type": "markdown",
   "id": "1c008bf3",
   "metadata": {},
   "source": [
    "Так же видим, что средний возраст пользователей каждого города практически равен общему среднему возрасту 25 годам."
   ]
  },
  {
   "cell_type": "markdown",
   "id": "6752db2d",
   "metadata": {},
   "source": [
    "####  Расстояние, которое пользователь преодолел за одну поездку"
   ]
  },
  {
   "cell_type": "code",
   "execution_count": 21,
   "id": "a9233df7",
   "metadata": {
    "tags": []
   },
   "outputs": [
    {
     "name": "stdout",
     "output_type": "stream",
     "text": [
      "Числовое описание столбца с дистанцией:\n",
      " count    18068.000000\n",
      "mean      3070.659976\n",
      "std       1116.831209\n",
      "min          0.855683\n",
      "25%       2543.226360\n",
      "50%       3133.609994\n",
      "75%       3776.222735\n",
      "max       7211.007745\n",
      "Name: distance, dtype: float64\n"
     ]
    },
    {
     "data": {
      "image/png": "[encoded data removed]",
      "text/plain": [
       "<Figure size 640x480 with 1 Axes>"
      ]
     },
     "metadata": {},
     "output_type": "display_data"
    }
   ],
   "source": [
    "df_rides[\"distance\"].hist(bins=200)\n",
    "print(\"Числовое описание столбца с дистанцией:\\n\", df_rides[\"distance\"].describe())"
   ]
  },
  {
   "cell_type": "markdown",
   "id": "00691860",
   "metadata": {},
   "source": [
    "На гистограмме видим два отчетливых пика. Первый на отметке примерно **700** метров, второй - на отметке **3000** метров. Это говорит нам о том, что чаще всего берут самокаты на небольшие дистанции (до 1000 м) и дистанции посерьезнее - в районе 3000 метров."
   ]
  },
  {
   "cell_type": "markdown",
   "id": "b509d7c2",
   "metadata": {},
   "source": [
    "#### Продолжительность поездок"
   ]
  },
  {
   "cell_type": "code",
   "execution_count": 22,
   "id": "f00d75ea",
   "metadata": {
    "tags": []
   },
   "outputs": [
    {
     "name": "stdout",
     "output_type": "stream",
     "text": [
      "Числовое описание столбца с дистанцией:\n",
      " count    18068.000000\n",
      "mean        17.805011\n",
      "std          6.091051\n",
      "min          0.500000\n",
      "25%         13.597563\n",
      "50%         17.678395\n",
      "75%         21.724800\n",
      "max         40.823963\n",
      "Name: duration, dtype: float64\n"
     ]
    },
    {
     "data": {
      "image/png": "[encoded data removed]",
      "text/plain": [
       "<Figure size 640x480 with 1 Axes>"
      ]
     },
     "metadata": {},
     "output_type": "display_data"
    }
   ],
   "source": [
    "df_rides[\"duration\"].hist(bins=150)\n",
    "print(\"Числовое описание столбца с дистанцией:\\n\", df_rides[\"duration\"].describe())"
   ]
  },
  {
   "cell_type": "markdown",
   "id": "c78a467d",
   "metadata": {},
   "source": [
    "Оказывается есть небольшой всплеск в самом начале, который говорит о том что почти у 100 человек поездка длилась меньше минуты, быть может быстро поняли, что катание на самокате им не нравится, или садилась батарейка уже в этот момент, ну или какая другая причина."
   ]
  },
  {
   "cell_type": "markdown",
   "id": "aca7fbc7",
   "metadata": {},
   "source": [
    "Среднее время время поездок равно 17 минутам. Если вспомнить, что среднее расстояние, вычисленное в предыдущем пункте, равно 3000 метров, то средняя скорость получается в районе 11 км/ч, что выглядит вполне логично. "
   ]
  },
  {
   "cell_type": "markdown",
   "id": "e1cd2899",
   "metadata": {},
   "source": [
    "#### Промежуточный итог."
   ]
  },
  {
   "cell_type": "markdown",
   "id": "42b33162",
   "metadata": {},
   "source": [
    "1. Выяснили, что больше всего пользователей из Пятигорска, а меньше всего из Москвы. В среднем количество пользователей по городам не сильно отличается.\n",
    "2. Количество пользователей без подписки больше, чем с подпиской (835 и 699 соответственно).\n",
    "3. Средний возраст пользователей равен 25 годам, причем от города к городу этот параметр практически не меняется.\n",
    "4. Самые популярные дистанции за одну поездку это 700 метров и 3000 метров, но, тем не менее, средняя дистанция равна 3000 метрам.\n",
    "5. Среднее время равно 17 минутам. Из этого показателя и среднего расстояния посчитали среднюю скорость и получили 11 км/ч, что вполне выглядит логичным."
   ]
  },
  {
   "cell_type": "markdown",
   "id": "4ef51331",
   "metadata": {},
   "source": [
    "## Шаг 4. Объединение данных"
   ]
  },
  {
   "cell_type": "markdown",
   "id": "1545a22d",
   "metadata": {},
   "source": [
    "#### Объединим данные о пользователях, поездках и подписках в один датафрейм. "
   ]
  },
  {
   "cell_type": "code",
   "execution_count": 23,
   "id": "19bd66d4",
   "metadata": {
    "tags": []
   },
   "outputs": [
    {
     "data": {
      "text/html": [
       "<div>\n",
       "<style scoped>\n",
       "    .dataframe tbody tr th:only-of-type {\n",
       "        vertical-align: middle;\n",
       "    }\n",
       "\n",
       "    .dataframe tbody tr th {\n",
       "        vertical-align: top;\n",
       "    }\n",
       "\n",
       "    .dataframe thead th {\n",
       "        text-align: right;\n",
       "    }\n",
       "</style>\n",
       "<table border=\"1\" class=\"dataframe\">\n",
       "  <thead>\n",
       "    <tr style=\"text-align: right;\">\n",
       "      <th></th>\n",
       "      <th>user_id</th>\n",
       "      <th>name</th>\n",
       "      <th>age</th>\n",
       "      <th>city</th>\n",
       "      <th>subscription_type</th>\n",
       "      <th>distance</th>\n",
       "      <th>duration</th>\n",
       "      <th>date</th>\n",
       "      <th>month</th>\n",
       "      <th>minute_price</th>\n",
       "      <th>start_ride_price</th>\n",
       "      <th>subscription_fee</th>\n",
       "    </tr>\n",
       "  </thead>\n",
       "  <tbody>\n",
       "    <tr>\n",
       "      <th>320</th>\n",
       "      <td>34</td>\n",
       "      <td>Федор</td>\n",
       "      <td>17</td>\n",
       "      <td>Краснодар</td>\n",
       "      <td>ultra</td>\n",
       "      <td>5027.834500</td>\n",
       "      <td>24.602695</td>\n",
       "      <td>2021-09-04</td>\n",
       "      <td>9</td>\n",
       "      <td>6</td>\n",
       "      <td>0</td>\n",
       "      <td>199</td>\n",
       "    </tr>\n",
       "    <tr>\n",
       "      <th>7136</th>\n",
       "      <td>744</td>\n",
       "      <td>Ксения</td>\n",
       "      <td>26</td>\n",
       "      <td>Екатеринбург</td>\n",
       "      <td>free</td>\n",
       "      <td>3532.934968</td>\n",
       "      <td>14.152927</td>\n",
       "      <td>2021-04-10</td>\n",
       "      <td>4</td>\n",
       "      <td>8</td>\n",
       "      <td>50</td>\n",
       "      <td>0</td>\n",
       "    </tr>\n",
       "    <tr>\n",
       "      <th>3141</th>\n",
       "      <td>339</td>\n",
       "      <td>Юлиана</td>\n",
       "      <td>24</td>\n",
       "      <td>Краснодар</td>\n",
       "      <td>ultra</td>\n",
       "      <td>3046.802750</td>\n",
       "      <td>11.309462</td>\n",
       "      <td>2021-06-26</td>\n",
       "      <td>6</td>\n",
       "      <td>6</td>\n",
       "      <td>0</td>\n",
       "      <td>199</td>\n",
       "    </tr>\n",
       "    <tr>\n",
       "      <th>4019</th>\n",
       "      <td>433</td>\n",
       "      <td>Мелания</td>\n",
       "      <td>20</td>\n",
       "      <td>Сочи</td>\n",
       "      <td>ultra</td>\n",
       "      <td>2594.466053</td>\n",
       "      <td>20.783398</td>\n",
       "      <td>2021-07-06</td>\n",
       "      <td>7</td>\n",
       "      <td>6</td>\n",
       "      <td>0</td>\n",
       "      <td>199</td>\n",
       "    </tr>\n",
       "    <tr>\n",
       "      <th>17382</th>\n",
       "      <td>1488</td>\n",
       "      <td>Рамиль</td>\n",
       "      <td>15</td>\n",
       "      <td>Екатеринбург</td>\n",
       "      <td>free</td>\n",
       "      <td>3486.116318</td>\n",
       "      <td>28.430582</td>\n",
       "      <td>2021-02-11</td>\n",
       "      <td>2</td>\n",
       "      <td>8</td>\n",
       "      <td>50</td>\n",
       "      <td>0</td>\n",
       "    </tr>\n",
       "    <tr>\n",
       "      <th>12333</th>\n",
       "      <td>1126</td>\n",
       "      <td>Владислав</td>\n",
       "      <td>26</td>\n",
       "      <td>Ростов-на-Дону</td>\n",
       "      <td>free</td>\n",
       "      <td>2472.735721</td>\n",
       "      <td>19.116005</td>\n",
       "      <td>2021-11-30</td>\n",
       "      <td>11</td>\n",
       "      <td>8</td>\n",
       "      <td>50</td>\n",
       "      <td>0</td>\n",
       "    </tr>\n",
       "    <tr>\n",
       "      <th>8113</th>\n",
       "      <td>819</td>\n",
       "      <td>Мария</td>\n",
       "      <td>28</td>\n",
       "      <td>Омск</td>\n",
       "      <td>free</td>\n",
       "      <td>2431.803064</td>\n",
       "      <td>13.582834</td>\n",
       "      <td>2021-03-22</td>\n",
       "      <td>3</td>\n",
       "      <td>8</td>\n",
       "      <td>50</td>\n",
       "      <td>0</td>\n",
       "    </tr>\n",
       "    <tr>\n",
       "      <th>5350</th>\n",
       "      <td>574</td>\n",
       "      <td>Жанна</td>\n",
       "      <td>34</td>\n",
       "      <td>Пятигорск</td>\n",
       "      <td>ultra</td>\n",
       "      <td>4198.428714</td>\n",
       "      <td>20.994762</td>\n",
       "      <td>2021-03-09</td>\n",
       "      <td>3</td>\n",
       "      <td>6</td>\n",
       "      <td>0</td>\n",
       "      <td>199</td>\n",
       "    </tr>\n",
       "    <tr>\n",
       "      <th>5396</th>\n",
       "      <td>577</td>\n",
       "      <td>Ариана</td>\n",
       "      <td>25</td>\n",
       "      <td>Пятигорск</td>\n",
       "      <td>ultra</td>\n",
       "      <td>3566.814915</td>\n",
       "      <td>19.926255</td>\n",
       "      <td>2021-08-16</td>\n",
       "      <td>8</td>\n",
       "      <td>6</td>\n",
       "      <td>0</td>\n",
       "      <td>199</td>\n",
       "    </tr>\n",
       "    <tr>\n",
       "      <th>2221</th>\n",
       "      <td>237</td>\n",
       "      <td>Виктория</td>\n",
       "      <td>19</td>\n",
       "      <td>Краснодар</td>\n",
       "      <td>ultra</td>\n",
       "      <td>2525.135363</td>\n",
       "      <td>19.912242</td>\n",
       "      <td>2021-10-15</td>\n",
       "      <td>10</td>\n",
       "      <td>6</td>\n",
       "      <td>0</td>\n",
       "      <td>199</td>\n",
       "    </tr>\n",
       "  </tbody>\n",
       "</table>\n",
       "</div>"
      ],
      "text/plain": [
       "       user_id       name  age            city subscription_type     distance  \\\n",
       "320         34      Федор   17       Краснодар             ultra  5027.834500   \n",
       "7136       744     Ксения   26    Екатеринбург              free  3532.934968   \n",
       "3141       339     Юлиана   24       Краснодар             ultra  3046.802750   \n",
       "4019       433    Мелания   20            Сочи             ultra  2594.466053   \n",
       "17382     1488     Рамиль   15    Екатеринбург              free  3486.116318   \n",
       "12333     1126  Владислав   26  Ростов-на-Дону              free  2472.735721   \n",
       "8113       819      Мария   28            Омск              free  2431.803064   \n",
       "5350       574      Жанна   34       Пятигорск             ultra  4198.428714   \n",
       "5396       577     Ариана   25       Пятигорск             ultra  3566.814915   \n",
       "2221       237   Виктория   19       Краснодар             ultra  2525.135363   \n",
       "\n",
       "        duration       date  month  minute_price  start_ride_price  \\\n",
       "320    24.602695 2021-09-04      9             6                 0   \n",
       "7136   14.152927 2021-04-10      4             8                50   \n",
       "3141   11.309462 2021-06-26      6             6                 0   \n",
       "4019   20.783398 2021-07-06      7             6                 0   \n",
       "17382  28.430582 2021-02-11      2             8                50   \n",
       "12333  19.116005 2021-11-30     11             8                50   \n",
       "8113   13.582834 2021-03-22      3             8                50   \n",
       "5350   20.994762 2021-03-09      3             6                 0   \n",
       "5396   19.926255 2021-08-16      8             6                 0   \n",
       "2221   19.912242 2021-10-15     10             6                 0   \n",
       "\n",
       "       subscription_fee  \n",
       "320                 199  \n",
       "7136                  0  \n",
       "3141                199  \n",
       "4019                199  \n",
       "17382                 0  \n",
       "12333                 0  \n",
       "8113                  0  \n",
       "5350                199  \n",
       "5396                199  \n",
       "2221                199  "
      ]
     },
     "execution_count": 23,
     "metadata": {},
     "output_type": "execute_result"
    }
   ],
   "source": [
    "# датафрейм с таблицами пользователей и поездок\n",
    "df = df_users.merge(df_rides, on=\"user_id\", how=\"outer\")\n",
    "# на всякий случай проверим, вдруг в датафрейме были такие user_id которых нет в таблице с данными пользователей,\n",
    "# проверим наличие пропусков, если во всех таблицах нули, то все user_id впорядке\n",
    "# df.isna().sum()\n",
    "\n",
    "# датафрейм со всеми данными\n",
    "df = df.merge(df_subscriptions, on=\"subscription_type\", how=\"outer\")\n",
    "df.sample(10)"
   ]
  },
  {
   "cell_type": "markdown",
   "id": "de79d678",
   "metadata": {},
   "source": [
    "#### Создадим два датафрейма"
   ]
  },
  {
   "cell_type": "markdown",
   "id": "8715c251",
   "metadata": {},
   "source": [
    "##### Датафрейм c данными о пользователях без подписки"
   ]
  },
  {
   "cell_type": "code",
   "execution_count": 24,
   "id": "7876abc0",
   "metadata": {
    "tags": []
   },
   "outputs": [
    {
     "data": {
      "text/html": [
       "<div>\n",
       "<style scoped>\n",
       "    .dataframe tbody tr th:only-of-type {\n",
       "        vertical-align: middle;\n",
       "    }\n",
       "\n",
       "    .dataframe tbody tr th {\n",
       "        vertical-align: top;\n",
       "    }\n",
       "\n",
       "    .dataframe thead th {\n",
       "        text-align: right;\n",
       "    }\n",
       "</style>\n",
       "<table border=\"1\" class=\"dataframe\">\n",
       "  <thead>\n",
       "    <tr style=\"text-align: right;\">\n",
       "      <th></th>\n",
       "      <th>user_id</th>\n",
       "      <th>name</th>\n",
       "      <th>age</th>\n",
       "      <th>city</th>\n",
       "      <th>subscription_type</th>\n",
       "      <th>distance</th>\n",
       "      <th>duration</th>\n",
       "      <th>date</th>\n",
       "      <th>month</th>\n",
       "      <th>minute_price</th>\n",
       "      <th>start_ride_price</th>\n",
       "      <th>subscription_fee</th>\n",
       "    </tr>\n",
       "  </thead>\n",
       "  <tbody>\n",
       "    <tr>\n",
       "      <th>6744</th>\n",
       "      <td>716</td>\n",
       "      <td>Мелания</td>\n",
       "      <td>17</td>\n",
       "      <td>Москва</td>\n",
       "      <td>free</td>\n",
       "      <td>2291.649983</td>\n",
       "      <td>19.088176</td>\n",
       "      <td>2021-06-26</td>\n",
       "      <td>6</td>\n",
       "      <td>8</td>\n",
       "      <td>50</td>\n",
       "      <td>0</td>\n",
       "    </tr>\n",
       "    <tr>\n",
       "      <th>16611</th>\n",
       "      <td>1429</td>\n",
       "      <td>Анастасия</td>\n",
       "      <td>24</td>\n",
       "      <td>Тюмень</td>\n",
       "      <td>free</td>\n",
       "      <td>3248.180913</td>\n",
       "      <td>28.991604</td>\n",
       "      <td>2021-12-16</td>\n",
       "      <td>12</td>\n",
       "      <td>8</td>\n",
       "      <td>50</td>\n",
       "      <td>0</td>\n",
       "    </tr>\n",
       "    <tr>\n",
       "      <th>11255</th>\n",
       "      <td>1048</td>\n",
       "      <td>Павел</td>\n",
       "      <td>23</td>\n",
       "      <td>Краснодар</td>\n",
       "      <td>free</td>\n",
       "      <td>2739.239263</td>\n",
       "      <td>25.696196</td>\n",
       "      <td>2021-01-23</td>\n",
       "      <td>1</td>\n",
       "      <td>8</td>\n",
       "      <td>50</td>\n",
       "      <td>0</td>\n",
       "    </tr>\n",
       "    <tr>\n",
       "      <th>11814</th>\n",
       "      <td>1088</td>\n",
       "      <td>Самир</td>\n",
       "      <td>28</td>\n",
       "      <td>Тюмень</td>\n",
       "      <td>free</td>\n",
       "      <td>2999.118645</td>\n",
       "      <td>16.995593</td>\n",
       "      <td>2021-05-18</td>\n",
       "      <td>5</td>\n",
       "      <td>8</td>\n",
       "      <td>50</td>\n",
       "      <td>0</td>\n",
       "    </tr>\n",
       "    <tr>\n",
       "      <th>17282</th>\n",
       "      <td>1480</td>\n",
       "      <td>Кира</td>\n",
       "      <td>25</td>\n",
       "      <td>Краснодар</td>\n",
       "      <td>free</td>\n",
       "      <td>3308.489188</td>\n",
       "      <td>15.925468</td>\n",
       "      <td>2021-03-13</td>\n",
       "      <td>3</td>\n",
       "      <td>8</td>\n",
       "      <td>50</td>\n",
       "      <td>0</td>\n",
       "    </tr>\n",
       "    <tr>\n",
       "      <th>9386</th>\n",
       "      <td>915</td>\n",
       "      <td>Галина</td>\n",
       "      <td>24</td>\n",
       "      <td>Екатеринбург</td>\n",
       "      <td>free</td>\n",
       "      <td>3145.486278</td>\n",
       "      <td>24.795574</td>\n",
       "      <td>2021-01-10</td>\n",
       "      <td>1</td>\n",
       "      <td>8</td>\n",
       "      <td>50</td>\n",
       "      <td>0</td>\n",
       "    </tr>\n",
       "    <tr>\n",
       "      <th>8365</th>\n",
       "      <td>838</td>\n",
       "      <td>Владислав</td>\n",
       "      <td>23</td>\n",
       "      <td>Ростов-на-Дону</td>\n",
       "      <td>free</td>\n",
       "      <td>3060.510643</td>\n",
       "      <td>9.121021</td>\n",
       "      <td>2021-04-25</td>\n",
       "      <td>4</td>\n",
       "      <td>8</td>\n",
       "      <td>50</td>\n",
       "      <td>0</td>\n",
       "    </tr>\n",
       "    <tr>\n",
       "      <th>14100</th>\n",
       "      <td>1252</td>\n",
       "      <td>Нелли</td>\n",
       "      <td>31</td>\n",
       "      <td>Краснодар</td>\n",
       "      <td>free</td>\n",
       "      <td>3524.979584</td>\n",
       "      <td>20.134568</td>\n",
       "      <td>2021-05-07</td>\n",
       "      <td>5</td>\n",
       "      <td>8</td>\n",
       "      <td>50</td>\n",
       "      <td>0</td>\n",
       "    </tr>\n",
       "    <tr>\n",
       "      <th>13070</th>\n",
       "      <td>1180</td>\n",
       "      <td>Регина</td>\n",
       "      <td>26</td>\n",
       "      <td>Омск</td>\n",
       "      <td>free</td>\n",
       "      <td>5167.013981</td>\n",
       "      <td>27.316886</td>\n",
       "      <td>2021-08-15</td>\n",
       "      <td>8</td>\n",
       "      <td>8</td>\n",
       "      <td>50</td>\n",
       "      <td>0</td>\n",
       "    </tr>\n",
       "    <tr>\n",
       "      <th>7461</th>\n",
       "      <td>768</td>\n",
       "      <td>Эдуард</td>\n",
       "      <td>25</td>\n",
       "      <td>Ростов-на-Дону</td>\n",
       "      <td>free</td>\n",
       "      <td>1808.679210</td>\n",
       "      <td>11.167655</td>\n",
       "      <td>2021-12-27</td>\n",
       "      <td>12</td>\n",
       "      <td>8</td>\n",
       "      <td>50</td>\n",
       "      <td>0</td>\n",
       "    </tr>\n",
       "  </tbody>\n",
       "</table>\n",
       "</div>"
      ],
      "text/plain": [
       "       user_id       name  age            city subscription_type     distance  \\\n",
       "6744       716    Мелания   17          Москва              free  2291.649983   \n",
       "16611     1429  Анастасия   24          Тюмень              free  3248.180913   \n",
       "11255     1048      Павел   23       Краснодар              free  2739.239263   \n",
       "11814     1088      Самир   28          Тюмень              free  2999.118645   \n",
       "17282     1480       Кира   25       Краснодар              free  3308.489188   \n",
       "9386       915     Галина   24    Екатеринбург              free  3145.486278   \n",
       "8365       838  Владислав   23  Ростов-на-Дону              free  3060.510643   \n",
       "14100     1252      Нелли   31       Краснодар              free  3524.979584   \n",
       "13070     1180     Регина   26            Омск              free  5167.013981   \n",
       "7461       768     Эдуард   25  Ростов-на-Дону              free  1808.679210   \n",
       "\n",
       "        duration       date  month  minute_price  start_ride_price  \\\n",
       "6744   19.088176 2021-06-26      6             8                50   \n",
       "16611  28.991604 2021-12-16     12             8                50   \n",
       "11255  25.696196 2021-01-23      1             8                50   \n",
       "11814  16.995593 2021-05-18      5             8                50   \n",
       "17282  15.925468 2021-03-13      3             8                50   \n",
       "9386   24.795574 2021-01-10      1             8                50   \n",
       "8365    9.121021 2021-04-25      4             8                50   \n",
       "14100  20.134568 2021-05-07      5             8                50   \n",
       "13070  27.316886 2021-08-15      8             8                50   \n",
       "7461   11.167655 2021-12-27     12             8                50   \n",
       "\n",
       "       subscription_fee  \n",
       "6744                  0  \n",
       "16611                 0  \n",
       "11255                 0  \n",
       "11814                 0  \n",
       "17282                 0  \n",
       "9386                  0  \n",
       "8365                  0  \n",
       "14100                 0  \n",
       "13070                 0  \n",
       "7461                  0  "
      ]
     },
     "execution_count": 24,
     "metadata": {},
     "output_type": "execute_result"
    }
   ],
   "source": [
    "subscription_free = df[df[\"subscription_type\"] == \"free\"]\n",
    "subscription_free.sample(10)"
   ]
  },
  {
   "cell_type": "markdown",
   "id": "ca71e3a6",
   "metadata": {},
   "source": [
    "##### Датафрейм c данными о пользователях c подпиской"
   ]
  },
  {
   "cell_type": "code",
   "execution_count": 25,
   "id": "e406a0e4",
   "metadata": {
    "tags": []
   },
   "outputs": [
    {
     "data": {
      "text/html": [
       "<div>\n",
       "<style scoped>\n",
       "    .dataframe tbody tr th:only-of-type {\n",
       "        vertical-align: middle;\n",
       "    }\n",
       "\n",
       "    .dataframe tbody tr th {\n",
       "        vertical-align: top;\n",
       "    }\n",
       "\n",
       "    .dataframe thead th {\n",
       "        text-align: right;\n",
       "    }\n",
       "</style>\n",
       "<table border=\"1\" class=\"dataframe\">\n",
       "  <thead>\n",
       "    <tr style=\"text-align: right;\">\n",
       "      <th></th>\n",
       "      <th>user_id</th>\n",
       "      <th>name</th>\n",
       "      <th>age</th>\n",
       "      <th>city</th>\n",
       "      <th>subscription_type</th>\n",
       "      <th>distance</th>\n",
       "      <th>duration</th>\n",
       "      <th>date</th>\n",
       "      <th>month</th>\n",
       "      <th>minute_price</th>\n",
       "      <th>start_ride_price</th>\n",
       "      <th>subscription_fee</th>\n",
       "    </tr>\n",
       "  </thead>\n",
       "  <tbody>\n",
       "    <tr>\n",
       "      <th>665</th>\n",
       "      <td>74</td>\n",
       "      <td>Арсений</td>\n",
       "      <td>19</td>\n",
       "      <td>Тюмень</td>\n",
       "      <td>ultra</td>\n",
       "      <td>3318.663680</td>\n",
       "      <td>14.712931</td>\n",
       "      <td>2021-03-23</td>\n",
       "      <td>3</td>\n",
       "      <td>6</td>\n",
       "      <td>0</td>\n",
       "      <td>199</td>\n",
       "    </tr>\n",
       "    <tr>\n",
       "      <th>6394</th>\n",
       "      <td>687</td>\n",
       "      <td>Карина</td>\n",
       "      <td>26</td>\n",
       "      <td>Сочи</td>\n",
       "      <td>ultra</td>\n",
       "      <td>2898.532295</td>\n",
       "      <td>18.688921</td>\n",
       "      <td>2021-05-01</td>\n",
       "      <td>5</td>\n",
       "      <td>6</td>\n",
       "      <td>0</td>\n",
       "      <td>199</td>\n",
       "    </tr>\n",
       "    <tr>\n",
       "      <th>525</th>\n",
       "      <td>58</td>\n",
       "      <td>Ян</td>\n",
       "      <td>22</td>\n",
       "      <td>Пятигорск</td>\n",
       "      <td>ultra</td>\n",
       "      <td>886.860398</td>\n",
       "      <td>13.900415</td>\n",
       "      <td>2021-03-11</td>\n",
       "      <td>3</td>\n",
       "      <td>6</td>\n",
       "      <td>0</td>\n",
       "      <td>199</td>\n",
       "    </tr>\n",
       "    <tr>\n",
       "      <th>1522</th>\n",
       "      <td>164</td>\n",
       "      <td>Зарина</td>\n",
       "      <td>17</td>\n",
       "      <td>Сочи</td>\n",
       "      <td>ultra</td>\n",
       "      <td>3164.383570</td>\n",
       "      <td>29.986301</td>\n",
       "      <td>2021-04-26</td>\n",
       "      <td>4</td>\n",
       "      <td>6</td>\n",
       "      <td>0</td>\n",
       "      <td>199</td>\n",
       "    </tr>\n",
       "    <tr>\n",
       "      <th>925</th>\n",
       "      <td>99</td>\n",
       "      <td>Гордей</td>\n",
       "      <td>24</td>\n",
       "      <td>Москва</td>\n",
       "      <td>ultra</td>\n",
       "      <td>3032.950699</td>\n",
       "      <td>23.131803</td>\n",
       "      <td>2021-05-02</td>\n",
       "      <td>5</td>\n",
       "      <td>6</td>\n",
       "      <td>0</td>\n",
       "      <td>199</td>\n",
       "    </tr>\n",
       "    <tr>\n",
       "      <th>4852</th>\n",
       "      <td>523</td>\n",
       "      <td>Ян</td>\n",
       "      <td>23</td>\n",
       "      <td>Тюмень</td>\n",
       "      <td>ultra</td>\n",
       "      <td>3964.827283</td>\n",
       "      <td>17.343028</td>\n",
       "      <td>2021-05-22</td>\n",
       "      <td>5</td>\n",
       "      <td>6</td>\n",
       "      <td>0</td>\n",
       "      <td>199</td>\n",
       "    </tr>\n",
       "    <tr>\n",
       "      <th>647</th>\n",
       "      <td>70</td>\n",
       "      <td>Вера</td>\n",
       "      <td>32</td>\n",
       "      <td>Омск</td>\n",
       "      <td>ultra</td>\n",
       "      <td>3479.511091</td>\n",
       "      <td>26.912190</td>\n",
       "      <td>2021-08-28</td>\n",
       "      <td>8</td>\n",
       "      <td>6</td>\n",
       "      <td>0</td>\n",
       "      <td>199</td>\n",
       "    </tr>\n",
       "    <tr>\n",
       "      <th>2667</th>\n",
       "      <td>284</td>\n",
       "      <td>Софья</td>\n",
       "      <td>28</td>\n",
       "      <td>Краснодар</td>\n",
       "      <td>ultra</td>\n",
       "      <td>2992.866561</td>\n",
       "      <td>23.957199</td>\n",
       "      <td>2021-05-18</td>\n",
       "      <td>5</td>\n",
       "      <td>6</td>\n",
       "      <td>0</td>\n",
       "      <td>199</td>\n",
       "    </tr>\n",
       "    <tr>\n",
       "      <th>5608</th>\n",
       "      <td>598</td>\n",
       "      <td>Кира</td>\n",
       "      <td>21</td>\n",
       "      <td>Пятигорск</td>\n",
       "      <td>ultra</td>\n",
       "      <td>3348.753129</td>\n",
       "      <td>14.819129</td>\n",
       "      <td>2021-07-16</td>\n",
       "      <td>7</td>\n",
       "      <td>6</td>\n",
       "      <td>0</td>\n",
       "      <td>199</td>\n",
       "    </tr>\n",
       "    <tr>\n",
       "      <th>2898</th>\n",
       "      <td>309</td>\n",
       "      <td>Анастасия</td>\n",
       "      <td>23</td>\n",
       "      <td>Тюмень</td>\n",
       "      <td>ultra</td>\n",
       "      <td>3838.181112</td>\n",
       "      <td>24.352724</td>\n",
       "      <td>2021-06-22</td>\n",
       "      <td>6</td>\n",
       "      <td>6</td>\n",
       "      <td>0</td>\n",
       "      <td>199</td>\n",
       "    </tr>\n",
       "  </tbody>\n",
       "</table>\n",
       "</div>"
      ],
      "text/plain": [
       "      user_id       name  age       city subscription_type     distance  \\\n",
       "665        74    Арсений   19     Тюмень             ultra  3318.663680   \n",
       "6394      687     Карина   26       Сочи             ultra  2898.532295   \n",
       "525        58         Ян   22  Пятигорск             ultra   886.860398   \n",
       "1522      164     Зарина   17       Сочи             ultra  3164.383570   \n",
       "925        99     Гордей   24     Москва             ultra  3032.950699   \n",
       "4852      523         Ян   23     Тюмень             ultra  3964.827283   \n",
       "647        70       Вера   32       Омск             ultra  3479.511091   \n",
       "2667      284      Софья   28  Краснодар             ultra  2992.866561   \n",
       "5608      598       Кира   21  Пятигорск             ultra  3348.753129   \n",
       "2898      309  Анастасия   23     Тюмень             ultra  3838.181112   \n",
       "\n",
       "       duration       date  month  minute_price  start_ride_price  \\\n",
       "665   14.712931 2021-03-23      3             6                 0   \n",
       "6394  18.688921 2021-05-01      5             6                 0   \n",
       "525   13.900415 2021-03-11      3             6                 0   \n",
       "1522  29.986301 2021-04-26      4             6                 0   \n",
       "925   23.131803 2021-05-02      5             6                 0   \n",
       "4852  17.343028 2021-05-22      5             6                 0   \n",
       "647   26.912190 2021-08-28      8             6                 0   \n",
       "2667  23.957199 2021-05-18      5             6                 0   \n",
       "5608  14.819129 2021-07-16      7             6                 0   \n",
       "2898  24.352724 2021-06-22      6             6                 0   \n",
       "\n",
       "      subscription_fee  \n",
       "665                199  \n",
       "6394               199  \n",
       "525                199  \n",
       "1522               199  \n",
       "925                199  \n",
       "4852               199  \n",
       "647                199  \n",
       "2667               199  \n",
       "5608               199  \n",
       "2898               199  "
      ]
     },
     "execution_count": 25,
     "metadata": {},
     "output_type": "execute_result"
    }
   ],
   "source": [
    "subscription_ultra = df[df[\"subscription_type\"] == \"ultra\"]\n",
    "subscription_ultra.sample(10)"
   ]
  },
  {
   "cell_type": "markdown",
   "id": "f229ea34",
   "metadata": {},
   "source": [
    "##### Визуализация информации о расстоянии и времени поездок для пользователей без подписки и с подпиской."
   ]
  },
  {
   "cell_type": "code",
   "execution_count": 26,
   "id": "0f5f7144",
   "metadata": {
    "scrolled": true,
    "tags": []
   },
   "outputs": [
    {
     "name": "stdout",
     "output_type": "stream",
     "text": [
      "Гистограмма для данных о дистанции для пользователей без подписки:\n"
     ]
    },
    {
     "data": {
      "image/png": "[encoded data removed]",
      "text/plain": [
       "<Figure size 640x480 with 1 Axes>"
      ]
     },
     "metadata": {},
     "output_type": "display_data"
    },
    {
     "name": "stdout",
     "output_type": "stream",
     "text": [
      "count    11568.000000\n",
      "mean      3045.495282\n",
      "std       1246.173806\n",
      "min          0.855683\n",
      "25%       2366.562689\n",
      "50%       3114.648465\n",
      "75%       3905.697894\n",
      "max       7211.007745\n",
      "Name: distance, dtype: float64\n",
      "Гистограмма для данных о длительности поездки для пользователей без подписки:\n"
     ]
    },
    {
     "data": {
      "image/png": "[encoded data removed]",
      "text/plain": [
       "<Figure size 640x480 with 1 Axes>"
      ]
     },
     "metadata": {},
     "output_type": "display_data"
    },
    {
     "name": "stdout",
     "output_type": "stream",
     "text": [
      "count    11568.000000\n",
      "mean        17.390909\n",
      "std          6.326803\n",
      "min          0.500000\n",
      "25%         12.958437\n",
      "50%         17.326890\n",
      "75%         21.594071\n",
      "max         34.948498\n",
      "Name: duration, dtype: float64\n"
     ]
    }
   ],
   "source": [
    "print(\"Гистограмма для данных о дистанции для пользователей без подписки:\")\n",
    "subscription_free[\"distance\"].hist(bins=150)\n",
    "plt.xlabel(\"Метр\")\n",
    "plt.ylabel(\"Шт.\")\n",
    "plt.show()\n",
    "print(subscription_free[\"distance\"].describe())\n",
    "print(\"Гистограмма для данных о длительности поездки для пользователей без подписки:\")\n",
    "subscription_free[\"duration\"].hist()\n",
    "plt.xlabel(\"Минут\")\n",
    "plt.ylabel(\"Шт.\")\n",
    "plt.show()\n",
    "print(subscription_free[\"duration\"].describe())"
   ]
  },
  {
   "cell_type": "code",
   "execution_count": 27,
   "id": "2a41c8ea",
   "metadata": {
    "tags": []
   },
   "outputs": [
    {
     "name": "stdout",
     "output_type": "stream",
     "text": [
      "Гистограмма для данных о дистанции для пользователей c подпиской:\n"
     ]
    },
    {
     "data": {
      "image/png": "[encoded data removed]",
      "text/plain": [
       "<Figure size 640x480 with 1 Axes>"
      ]
     },
     "metadata": {},
     "output_type": "display_data"
    },
    {
     "name": "stdout",
     "output_type": "stream",
     "text": [
      "count    6500.000000\n",
      "mean     3115.445388\n",
      "std       836.895330\n",
      "min       244.210438\n",
      "25%      2785.444017\n",
      "50%      3148.637229\n",
      "75%      3560.574425\n",
      "max      5699.769662\n",
      "Name: distance, dtype: float64\n",
      "Гистограмма для данных о длительности поездки для пользователей c подпиской:\n"
     ]
    },
    {
     "data": {
      "image/png": "[encoded data removed]",
      "text/plain": [
       "<Figure size 640x480 with 1 Axes>"
      ]
     },
     "metadata": {},
     "output_type": "display_data"
    },
    {
     "name": "stdout",
     "output_type": "stream",
     "text": [
      "count    6500.000000\n",
      "mean       18.541985\n",
      "std         5.572048\n",
      "min         3.760353\n",
      "25%        14.524654\n",
      "50%        18.178153\n",
      "75%        21.884129\n",
      "max        40.823963\n",
      "Name: duration, dtype: float64\n"
     ]
    }
   ],
   "source": [
    "print(\"Гистограмма для данных о дистанции для пользователей c подпиской:\")\n",
    "subscription_ultra[\"distance\"].hist(bins=150)\n",
    "plt.xlabel(\"Метр\")\n",
    "plt.ylabel(\"Шт.\")\n",
    "plt.show()\n",
    "print(subscription_ultra[\"distance\"].describe())\n",
    "print(\"Гистограмма для данных о длительности поездки для пользователей c подпиской:\")\n",
    "subscription_ultra[\"duration\"].hist()\n",
    "plt.xlabel(\"Минут\")\n",
    "plt.ylabel(\"Шт.\")\n",
    "plt.show()\n",
    "print(subscription_ultra[\"duration\"].describe())"
   ]
  },
  {
   "cell_type": "markdown",
   "id": "d950f92b-4ccf-43d5-ae54-1148d668d22d",
   "metadata": {},
   "source": [
    "Объединим на графиках пользователей с платной и бесплатной подпиской, чтобы нагляднее сравнить их профили"
   ]
  },
  {
   "cell_type": "code",
   "execution_count": 28,
   "id": "6c6248b4",
   "metadata": {
    "tags": []
   },
   "outputs": [
    {
     "name": "stdout",
     "output_type": "stream",
     "text": [
      "Гистограмма для данных о дистанции для пользователей c подпиской и без:\n"
     ]
    },
    {
     "data": {
      "image/png": "[encoded data removed]",
      "text/plain": [
       "<Figure size 640x480 with 1 Axes>"
      ]
     },
     "metadata": {},
     "output_type": "display_data"
    },
    {
     "name": "stdout",
     "output_type": "stream",
     "text": [
      "Гистограмма для данных о длительности поездки для пользователей c подпиской и без подписки:\n"
     ]
    },
    {
     "data": {
      "image/png": "[encoded data removed]",
      "text/plain": [
       "<Figure size 640x480 with 1 Axes>"
      ]
     },
     "metadata": {},
     "output_type": "display_data"
    }
   ],
   "source": [
    "print(\"Гистограмма для данных о дистанции для пользователей c подпиской и без:\")\n",
    "ax = subscription_free[\"distance\"].hist(alpha=0.5, bins=150, label=\"free\")\n",
    "ax = subscription_ultra[\"distance\"].hist(bins=150, label=\"ultra\")\n",
    "plt.legend()\n",
    "plt.show()\n",
    "\n",
    "print(\n",
    "    \"Гистограмма для данных о длительности поездки для пользователей c подпиской и без подписки:\"\n",
    ")\n",
    "ax = subscription_free[\"duration\"].hist(alpha=0.5, label=\"free\")\n",
    "ax = subscription_ultra[\"duration\"].hist(label=\"ultra\")\n",
    "plt.legend()\n",
    "plt.show()"
   ]
  },
  {
   "cell_type": "markdown",
   "id": "fa440337",
   "metadata": {},
   "source": [
    "Видно, что профили пользователей обоих подписок довольно схожи."
   ]
  },
  {
   "cell_type": "markdown",
   "id": "46dc3269",
   "metadata": {},
   "source": [
    "#### Промежуточный итог."
   ]
  },
  {
   "cell_type": "markdown",
   "id": "b1605894",
   "metadata": {},
   "source": [
    "1. Объедили все данные в одну таблицу ***df***.\n",
    "2. Создали два датафрейма из ***df***:\n",
    "   * 1 - это данные для пользователей без подписки ***subscription_free***, \n",
    "   * 2 - это данные для пользователей с подпиской ***subscription_ultra***.\n",
    "3. Визулизировали данные длительности и дистанции поездок для категорий пользователей без подписки и с подпиской.<br>\n",
    "    Можно заметить, что у обладателей подписки средняя длительность поездок примерно на 1 минуту больше и составляет около 18 минут. Все это выглядит логично, ведь у пользователей с подпиской минута движения дешевле, могут меньше спешить.<br>\n",
    "    Также можно заметить, что хоть среднее проезжаемое расстояние примерно одинаково у обоих категорий пользователей, но у обладателей подписки есть отчетливый горб на графике на значении 4000 м, что говорит о том, что некоторая значимая часть пользователей с подпиской любят более длительные по дистанции поездки."
   ]
  },
  {
   "cell_type": "markdown",
   "id": "402d620f",
   "metadata": {},
   "source": [
    "## Шаг 5. Подсчёт выручки"
   ]
  },
  {
   "cell_type": "markdown",
   "id": "eda09057",
   "metadata": {},
   "source": [
    "#### Создание и работа с датафреймом с агрегированными данными о поездках на основе датафрейма с объединёнными данными "
   ]
  },
  {
   "cell_type": "markdown",
   "id": "6773ef8c",
   "metadata": {},
   "source": [
    "На всякий случай проверим за какой период у нас данные, и проверим, не поменялось ли состояние подписки у какого-нибудь пользоваетеля за этот период:"
   ]
  },
  {
   "cell_type": "code",
   "execution_count": 29,
   "id": "c584b469",
   "metadata": {
    "tags": []
   },
   "outputs": [
    {
     "name": "stdout",
     "output_type": "stream",
     "text": [
      "2021-01-01 00:00:00\n",
      "2021-01-01 00:00:00\n",
      "363 days 00:00:00\n",
      "Количество пользователей, которые в какой то месяц оформили подписку или наоборот отменили, равно: 0\n"
     ]
    }
   ],
   "source": [
    "print(df[\"date\"].min())\n",
    "print(df[\"date\"].min())\n",
    "print(df[\"date\"].max() - df[\"date\"].min())\n",
    "\n",
    "n = 0\n",
    "for i in df[\"user_id\"]:\n",
    "    if len(df[df[\"user_id\"] == i][\"subscription_type\"].value_counts()) > 1:\n",
    "        print(df[df[\"user_id\"] == i])\n",
    "        n += 1\n",
    "print(\n",
    "    \"Количество пользователей, которые в какой то месяц оформили подписку или наоборот отменили, равно:\",\n",
    "    n,\n",
    ")"
   ]
  },
  {
   "cell_type": "markdown",
   "id": "b1189c13",
   "metadata": {},
   "source": [
    "Все поездки совершены в течение 2021 года, ни у одного пользователя состояние подписки не поменялось за рассматриваемый период. Отлично!"
   ]
  },
  {
   "cell_type": "markdown",
   "id": "4e3b82ff",
   "metadata": {},
   "source": [
    "Создадим датафрейм с суммарным расстоянем, количеством поездок и суммарным временем поездок для каждого пользователя за каждый месяц. Также, для удобства расчета выручки, добавим в датафрейм из таблицы ***df*** стоимость минуты для каждого пользователя, стоимость подписки и стоимость старта."
   ]
  },
  {
   "cell_type": "code",
   "execution_count": 30,
   "id": "eda605b7",
   "metadata": {
    "tags": []
   },
   "outputs": [
    {
     "data": {
      "text/html": [
       "<div>\n",
       "<style scoped>\n",
       "    .dataframe tbody tr th:only-of-type {\n",
       "        vertical-align: middle;\n",
       "    }\n",
       "\n",
       "    .dataframe tbody tr th {\n",
       "        vertical-align: top;\n",
       "    }\n",
       "\n",
       "    .dataframe thead th {\n",
       "        text-align: right;\n",
       "    }\n",
       "</style>\n",
       "<table border=\"1\" class=\"dataframe\">\n",
       "  <thead>\n",
       "    <tr style=\"text-align: right;\">\n",
       "      <th></th>\n",
       "      <th></th>\n",
       "      <th>sum_distance</th>\n",
       "      <th>count_trip</th>\n",
       "      <th>sum_duration</th>\n",
       "    </tr>\n",
       "    <tr>\n",
       "      <th>user_id</th>\n",
       "      <th>month</th>\n",
       "      <th></th>\n",
       "      <th></th>\n",
       "      <th></th>\n",
       "    </tr>\n",
       "  </thead>\n",
       "  <tbody>\n",
       "    <tr>\n",
       "      <th rowspan=\"6\" valign=\"top\">1</th>\n",
       "      <th>1</th>\n",
       "      <td>7027.511294</td>\n",
       "      <td>2</td>\n",
       "      <td>41.416640</td>\n",
       "    </tr>\n",
       "    <tr>\n",
       "      <th>4</th>\n",
       "      <td>754.159807</td>\n",
       "      <td>1</td>\n",
       "      <td>6.232113</td>\n",
       "    </tr>\n",
       "    <tr>\n",
       "      <th>8</th>\n",
       "      <td>6723.470560</td>\n",
       "      <td>2</td>\n",
       "      <td>44.776802</td>\n",
       "    </tr>\n",
       "    <tr>\n",
       "      <th>10</th>\n",
       "      <td>5809.911100</td>\n",
       "      <td>2</td>\n",
       "      <td>31.578017</td>\n",
       "    </tr>\n",
       "    <tr>\n",
       "      <th>11</th>\n",
       "      <td>7003.499363</td>\n",
       "      <td>3</td>\n",
       "      <td>53.397424</td>\n",
       "    </tr>\n",
       "    <tr>\n",
       "      <th>12</th>\n",
       "      <td>6751.629942</td>\n",
       "      <td>2</td>\n",
       "      <td>27.203912</td>\n",
       "    </tr>\n",
       "    <tr>\n",
       "      <th rowspan=\"7\" valign=\"top\">2</th>\n",
       "      <th>3</th>\n",
       "      <td>10187.723006</td>\n",
       "      <td>3</td>\n",
       "      <td>60.959959</td>\n",
       "    </tr>\n",
       "    <tr>\n",
       "      <th>4</th>\n",
       "      <td>6164.381824</td>\n",
       "      <td>2</td>\n",
       "      <td>39.048633</td>\n",
       "    </tr>\n",
       "    <tr>\n",
       "      <th>6</th>\n",
       "      <td>3255.338202</td>\n",
       "      <td>1</td>\n",
       "      <td>13.851127</td>\n",
       "    </tr>\n",
       "    <tr>\n",
       "      <th>7</th>\n",
       "      <td>6780.722964</td>\n",
       "      <td>2</td>\n",
       "      <td>46.170157</td>\n",
       "    </tr>\n",
       "    <tr>\n",
       "      <th>8</th>\n",
       "      <td>923.007439</td>\n",
       "      <td>1</td>\n",
       "      <td>6.914760</td>\n",
       "    </tr>\n",
       "    <tr>\n",
       "      <th>10</th>\n",
       "      <td>2824.636598</td>\n",
       "      <td>1</td>\n",
       "      <td>18.779128</td>\n",
       "    </tr>\n",
       "    <tr>\n",
       "      <th>12</th>\n",
       "      <td>3828.248580</td>\n",
       "      <td>1</td>\n",
       "      <td>11.920514</td>\n",
       "    </tr>\n",
       "    <tr>\n",
       "      <th rowspan=\"7\" valign=\"top\">3</th>\n",
       "      <th>1</th>\n",
       "      <td>3061.777147</td>\n",
       "      <td>1</td>\n",
       "      <td>12.654443</td>\n",
       "    </tr>\n",
       "    <tr>\n",
       "      <th>2</th>\n",
       "      <td>5421.152016</td>\n",
       "      <td>2</td>\n",
       "      <td>37.568637</td>\n",
       "    </tr>\n",
       "    <tr>\n",
       "      <th>4</th>\n",
       "      <td>2956.651632</td>\n",
       "      <td>1</td>\n",
       "      <td>20.671364</td>\n",
       "    </tr>\n",
       "    <tr>\n",
       "      <th>5</th>\n",
       "      <td>9064.026918</td>\n",
       "      <td>3</td>\n",
       "      <td>61.404503</td>\n",
       "    </tr>\n",
       "    <tr>\n",
       "      <th>7</th>\n",
       "      <td>10919.595403</td>\n",
       "      <td>3</td>\n",
       "      <td>65.519784</td>\n",
       "    </tr>\n",
       "    <tr>\n",
       "      <th>9</th>\n",
       "      <td>2891.012822</td>\n",
       "      <td>1</td>\n",
       "      <td>22.390055</td>\n",
       "    </tr>\n",
       "    <tr>\n",
       "      <th>12</th>\n",
       "      <td>2593.381928</td>\n",
       "      <td>1</td>\n",
       "      <td>12.984728</td>\n",
       "    </tr>\n",
       "  </tbody>\n",
       "</table>\n",
       "</div>"
      ],
      "text/plain": [
       "               sum_distance  count_trip  sum_duration\n",
       "user_id month                                        \n",
       "1       1       7027.511294           2     41.416640\n",
       "        4        754.159807           1      6.232113\n",
       "        8       6723.470560           2     44.776802\n",
       "        10      5809.911100           2     31.578017\n",
       "        11      7003.499363           3     53.397424\n",
       "        12      6751.629942           2     27.203912\n",
       "2       3      10187.723006           3     60.959959\n",
       "        4       6164.381824           2     39.048633\n",
       "        6       3255.338202           1     13.851127\n",
       "        7       6780.722964           2     46.170157\n",
       "        8        923.007439           1      6.914760\n",
       "        10      2824.636598           1     18.779128\n",
       "        12      3828.248580           1     11.920514\n",
       "3       1       3061.777147           1     12.654443\n",
       "        2       5421.152016           2     37.568637\n",
       "        4       2956.651632           1     20.671364\n",
       "        5       9064.026918           3     61.404503\n",
       "        7      10919.595403           3     65.519784\n",
       "        9       2891.012822           1     22.390055\n",
       "        12      2593.381928           1     12.984728"
      ]
     },
     "execution_count": 30,
     "metadata": {},
     "output_type": "execute_result"
    }
   ],
   "source": [
    "# суммарное расстояниеm\n",
    "user_stat = pd.pivot_table(\n",
    "    df, index=[\"user_id\", \"month\"], values=\"distance\", aggfunc=\"sum\"\n",
    ")\n",
    "\n",
    "# количество поездок\n",
    "user_stat = user_stat.merge(\n",
    "    pd.pivot_table(df, index=[\"user_id\", \"month\"], values=\"date\", aggfunc=\"count\"),\n",
    "    how=\"outer\",\n",
    "    on=[\"user_id\", \"month\"],\n",
    ")\n",
    "# суммарное время\n",
    "user_stat = user_stat.merge(\n",
    "    pd.pivot_table(df, index=[\"user_id\", \"month\"], values=\"duration\", aggfunc=\"sum\"),\n",
    "    how=\"outer\",\n",
    "    on=[\"user_id\", \"month\"],\n",
    ")\n",
    "# переименуем колонки\n",
    "user_stat.columns = [\"sum_distance\", \"count_trip\", \"sum_duration\"]\n",
    "\n",
    "# можно еще добавить имя пользователя\n",
    "# user_stat = user_stat.merge(df_users.loc[:][['user_id','name']].copy(), how='outer', on='user_id')\n",
    "# поменяем местами колонки\n",
    "# user_stat = user_stat[['user_id', 'name', 'sum_distance', 'count_trip', 'sum_duration']]\n",
    "\n",
    "user_stat.head(20)"
   ]
  },
  {
   "cell_type": "code",
   "execution_count": 31,
   "id": "8de86488",
   "metadata": {
    "tags": []
   },
   "outputs": [
    {
     "data": {
      "text/html": [
       "<div>\n",
       "<style scoped>\n",
       "    .dataframe tbody tr th:only-of-type {\n",
       "        vertical-align: middle;\n",
       "    }\n",
       "\n",
       "    .dataframe tbody tr th {\n",
       "        vertical-align: top;\n",
       "    }\n",
       "\n",
       "    .dataframe thead th {\n",
       "        text-align: right;\n",
       "    }\n",
       "</style>\n",
       "<table border=\"1\" class=\"dataframe\">\n",
       "  <thead>\n",
       "    <tr style=\"text-align: right;\">\n",
       "      <th></th>\n",
       "      <th></th>\n",
       "      <th>sum_distance</th>\n",
       "      <th>count_trip</th>\n",
       "      <th>sum_duration</th>\n",
       "      <th>minute_price</th>\n",
       "      <th>start_ride_price</th>\n",
       "      <th>subscription_fee</th>\n",
       "    </tr>\n",
       "    <tr>\n",
       "      <th>user_id</th>\n",
       "      <th>month</th>\n",
       "      <th></th>\n",
       "      <th></th>\n",
       "      <th></th>\n",
       "      <th></th>\n",
       "      <th></th>\n",
       "      <th></th>\n",
       "    </tr>\n",
       "  </thead>\n",
       "  <tbody>\n",
       "    <tr>\n",
       "      <th rowspan=\"6\" valign=\"top\">1</th>\n",
       "      <th>1</th>\n",
       "      <td>7027.511294</td>\n",
       "      <td>2</td>\n",
       "      <td>41.416640</td>\n",
       "      <td>6</td>\n",
       "      <td>0</td>\n",
       "      <td>199</td>\n",
       "    </tr>\n",
       "    <tr>\n",
       "      <th>4</th>\n",
       "      <td>754.159807</td>\n",
       "      <td>1</td>\n",
       "      <td>6.232113</td>\n",
       "      <td>6</td>\n",
       "      <td>0</td>\n",
       "      <td>199</td>\n",
       "    </tr>\n",
       "    <tr>\n",
       "      <th>8</th>\n",
       "      <td>6723.470560</td>\n",
       "      <td>2</td>\n",
       "      <td>44.776802</td>\n",
       "      <td>6</td>\n",
       "      <td>0</td>\n",
       "      <td>199</td>\n",
       "    </tr>\n",
       "    <tr>\n",
       "      <th>10</th>\n",
       "      <td>5809.911100</td>\n",
       "      <td>2</td>\n",
       "      <td>31.578017</td>\n",
       "      <td>6</td>\n",
       "      <td>0</td>\n",
       "      <td>199</td>\n",
       "    </tr>\n",
       "    <tr>\n",
       "      <th>11</th>\n",
       "      <td>7003.499363</td>\n",
       "      <td>3</td>\n",
       "      <td>53.397424</td>\n",
       "      <td>6</td>\n",
       "      <td>0</td>\n",
       "      <td>199</td>\n",
       "    </tr>\n",
       "    <tr>\n",
       "      <th>12</th>\n",
       "      <td>6751.629942</td>\n",
       "      <td>2</td>\n",
       "      <td>27.203912</td>\n",
       "      <td>6</td>\n",
       "      <td>0</td>\n",
       "      <td>199</td>\n",
       "    </tr>\n",
       "    <tr>\n",
       "      <th rowspan=\"7\" valign=\"top\">2</th>\n",
       "      <th>3</th>\n",
       "      <td>10187.723006</td>\n",
       "      <td>3</td>\n",
       "      <td>60.959959</td>\n",
       "      <td>6</td>\n",
       "      <td>0</td>\n",
       "      <td>199</td>\n",
       "    </tr>\n",
       "    <tr>\n",
       "      <th>4</th>\n",
       "      <td>6164.381824</td>\n",
       "      <td>2</td>\n",
       "      <td>39.048633</td>\n",
       "      <td>6</td>\n",
       "      <td>0</td>\n",
       "      <td>199</td>\n",
       "    </tr>\n",
       "    <tr>\n",
       "      <th>6</th>\n",
       "      <td>3255.338202</td>\n",
       "      <td>1</td>\n",
       "      <td>13.851127</td>\n",
       "      <td>6</td>\n",
       "      <td>0</td>\n",
       "      <td>199</td>\n",
       "    </tr>\n",
       "    <tr>\n",
       "      <th>7</th>\n",
       "      <td>6780.722964</td>\n",
       "      <td>2</td>\n",
       "      <td>46.170157</td>\n",
       "      <td>6</td>\n",
       "      <td>0</td>\n",
       "      <td>199</td>\n",
       "    </tr>\n",
       "    <tr>\n",
       "      <th>8</th>\n",
       "      <td>923.007439</td>\n",
       "      <td>1</td>\n",
       "      <td>6.914760</td>\n",
       "      <td>6</td>\n",
       "      <td>0</td>\n",
       "      <td>199</td>\n",
       "    </tr>\n",
       "    <tr>\n",
       "      <th>10</th>\n",
       "      <td>2824.636598</td>\n",
       "      <td>1</td>\n",
       "      <td>18.779128</td>\n",
       "      <td>6</td>\n",
       "      <td>0</td>\n",
       "      <td>199</td>\n",
       "    </tr>\n",
       "    <tr>\n",
       "      <th>12</th>\n",
       "      <td>3828.248580</td>\n",
       "      <td>1</td>\n",
       "      <td>11.920514</td>\n",
       "      <td>6</td>\n",
       "      <td>0</td>\n",
       "      <td>199</td>\n",
       "    </tr>\n",
       "    <tr>\n",
       "      <th rowspan=\"2\" valign=\"top\">3</th>\n",
       "      <th>1</th>\n",
       "      <td>3061.777147</td>\n",
       "      <td>1</td>\n",
       "      <td>12.654443</td>\n",
       "      <td>6</td>\n",
       "      <td>0</td>\n",
       "      <td>199</td>\n",
       "    </tr>\n",
       "    <tr>\n",
       "      <th>2</th>\n",
       "      <td>5421.152016</td>\n",
       "      <td>2</td>\n",
       "      <td>37.568637</td>\n",
       "      <td>6</td>\n",
       "      <td>0</td>\n",
       "      <td>199</td>\n",
       "    </tr>\n",
       "  </tbody>\n",
       "</table>\n",
       "</div>"
      ],
      "text/plain": [
       "               sum_distance  count_trip  sum_duration  minute_price  \\\n",
       "user_id month                                                         \n",
       "1       1       7027.511294           2     41.416640             6   \n",
       "        4        754.159807           1      6.232113             6   \n",
       "        8       6723.470560           2     44.776802             6   \n",
       "        10      5809.911100           2     31.578017             6   \n",
       "        11      7003.499363           3     53.397424             6   \n",
       "        12      6751.629942           2     27.203912             6   \n",
       "2       3      10187.723006           3     60.959959             6   \n",
       "        4       6164.381824           2     39.048633             6   \n",
       "        6       3255.338202           1     13.851127             6   \n",
       "        7       6780.722964           2     46.170157             6   \n",
       "        8        923.007439           1      6.914760             6   \n",
       "        10      2824.636598           1     18.779128             6   \n",
       "        12      3828.248580           1     11.920514             6   \n",
       "3       1       3061.777147           1     12.654443             6   \n",
       "        2       5421.152016           2     37.568637             6   \n",
       "\n",
       "               start_ride_price  subscription_fee  \n",
       "user_id month                                      \n",
       "1       1                     0               199  \n",
       "        4                     0               199  \n",
       "        8                     0               199  \n",
       "        10                    0               199  \n",
       "        11                    0               199  \n",
       "        12                    0               199  \n",
       "2       3                     0               199  \n",
       "        4                     0               199  \n",
       "        6                     0               199  \n",
       "        7                     0               199  \n",
       "        8                     0               199  \n",
       "        10                    0               199  \n",
       "        12                    0               199  \n",
       "3       1                     0               199  \n",
       "        2                     0               199  "
      ]
     },
     "execution_count": 31,
     "metadata": {},
     "output_type": "execute_result"
    }
   ],
   "source": [
    "# добавим также стоимость старта, стоимость минуты, и стоимость подписки на месяц\n",
    "user_stat = user_stat.merge(\n",
    "    pd.pivot_table(\n",
    "        df,\n",
    "        index=[\"user_id\", \"month\"],\n",
    "        values=[\"minute_price\", \"subscription_fee\", \"start_ride_price\"],\n",
    "        aggfunc=\"mean\",\n",
    "    ),\n",
    "    how=\"outer\",\n",
    "    on=[\"user_id\", \"month\"],\n",
    ")\n",
    "user_stat.head(15)"
   ]
  },
  {
   "cell_type": "markdown",
   "id": "c5f7e036",
   "metadata": {},
   "source": [
    "#### В этот же датафрейм добавим столбец с помесячной выручкой, которую принёс каждый пользователь"
   ]
  },
  {
   "cell_type": "code",
   "execution_count": 32,
   "id": "dd6cb6f6",
   "metadata": {
    "tags": []
   },
   "outputs": [
    {
     "data": {
      "text/html": [
       "<div>\n",
       "<style scoped>\n",
       "    .dataframe tbody tr th:only-of-type {\n",
       "        vertical-align: middle;\n",
       "    }\n",
       "\n",
       "    .dataframe tbody tr th {\n",
       "        vertical-align: top;\n",
       "    }\n",
       "\n",
       "    .dataframe thead th {\n",
       "        text-align: right;\n",
       "    }\n",
       "</style>\n",
       "<table border=\"1\" class=\"dataframe\">\n",
       "  <thead>\n",
       "    <tr style=\"text-align: right;\">\n",
       "      <th></th>\n",
       "      <th></th>\n",
       "      <th>sum_distance</th>\n",
       "      <th>count_trip</th>\n",
       "      <th>sum_duration</th>\n",
       "      <th>minute_price</th>\n",
       "      <th>start_ride_price</th>\n",
       "      <th>subscription_fee</th>\n",
       "      <th>income</th>\n",
       "    </tr>\n",
       "    <tr>\n",
       "      <th>user_id</th>\n",
       "      <th>month</th>\n",
       "      <th></th>\n",
       "      <th></th>\n",
       "      <th></th>\n",
       "      <th></th>\n",
       "      <th></th>\n",
       "      <th></th>\n",
       "      <th></th>\n",
       "    </tr>\n",
       "  </thead>\n",
       "  <tbody>\n",
       "    <tr>\n",
       "      <th>474</th>\n",
       "      <th>12</th>\n",
       "      <td>3137.305080</td>\n",
       "      <td>1</td>\n",
       "      <td>17.479870</td>\n",
       "      <td>6</td>\n",
       "      <td>0</td>\n",
       "      <td>199</td>\n",
       "      <td>301.0</td>\n",
       "    </tr>\n",
       "    <tr>\n",
       "      <th>1513</th>\n",
       "      <th>3</th>\n",
       "      <td>11344.620686</td>\n",
       "      <td>3</td>\n",
       "      <td>46.448689</td>\n",
       "      <td>8</td>\n",
       "      <td>50</td>\n",
       "      <td>0</td>\n",
       "      <td>518.0</td>\n",
       "    </tr>\n",
       "    <tr>\n",
       "      <th>1392</th>\n",
       "      <th>11</th>\n",
       "      <td>12617.170586</td>\n",
       "      <td>4</td>\n",
       "      <td>60.126252</td>\n",
       "      <td>8</td>\n",
       "      <td>50</td>\n",
       "      <td>0</td>\n",
       "      <td>680.0</td>\n",
       "    </tr>\n",
       "    <tr>\n",
       "      <th>1484</th>\n",
       "      <th>4</th>\n",
       "      <td>7217.721340</td>\n",
       "      <td>3</td>\n",
       "      <td>36.269997</td>\n",
       "      <td>8</td>\n",
       "      <td>50</td>\n",
       "      <td>0</td>\n",
       "      <td>438.0</td>\n",
       "    </tr>\n",
       "    <tr>\n",
       "      <th>1207</th>\n",
       "      <th>10</th>\n",
       "      <td>7124.003370</td>\n",
       "      <td>2</td>\n",
       "      <td>39.470577</td>\n",
       "      <td>8</td>\n",
       "      <td>50</td>\n",
       "      <td>0</td>\n",
       "      <td>412.0</td>\n",
       "    </tr>\n",
       "    <tr>\n",
       "      <th>1112</th>\n",
       "      <th>1</th>\n",
       "      <td>10189.905937</td>\n",
       "      <td>3</td>\n",
       "      <td>65.344699</td>\n",
       "      <td>8</td>\n",
       "      <td>50</td>\n",
       "      <td>0</td>\n",
       "      <td>670.0</td>\n",
       "    </tr>\n",
       "    <tr>\n",
       "      <th>316</th>\n",
       "      <th>1</th>\n",
       "      <td>4168.607888</td>\n",
       "      <td>2</td>\n",
       "      <td>26.169251</td>\n",
       "      <td>6</td>\n",
       "      <td>0</td>\n",
       "      <td>199</td>\n",
       "      <td>355.0</td>\n",
       "    </tr>\n",
       "    <tr>\n",
       "      <th>425</th>\n",
       "      <th>6</th>\n",
       "      <td>3857.328900</td>\n",
       "      <td>1</td>\n",
       "      <td>14.571987</td>\n",
       "      <td>6</td>\n",
       "      <td>0</td>\n",
       "      <td>199</td>\n",
       "      <td>289.0</td>\n",
       "    </tr>\n",
       "    <tr>\n",
       "      <th>631</th>\n",
       "      <th>1</th>\n",
       "      <td>3262.995639</td>\n",
       "      <td>1</td>\n",
       "      <td>23.236234</td>\n",
       "      <td>6</td>\n",
       "      <td>0</td>\n",
       "      <td>199</td>\n",
       "      <td>337.0</td>\n",
       "    </tr>\n",
       "    <tr>\n",
       "      <th>896</th>\n",
       "      <th>5</th>\n",
       "      <td>3012.231716</td>\n",
       "      <td>1</td>\n",
       "      <td>21.036695</td>\n",
       "      <td>8</td>\n",
       "      <td>50</td>\n",
       "      <td>0</td>\n",
       "      <td>218.0</td>\n",
       "    </tr>\n",
       "  </tbody>\n",
       "</table>\n",
       "</div>"
      ],
      "text/plain": [
       "               sum_distance  count_trip  sum_duration  minute_price  \\\n",
       "user_id month                                                         \n",
       "474     12      3137.305080           1     17.479870             6   \n",
       "1513    3      11344.620686           3     46.448689             8   \n",
       "1392    11     12617.170586           4     60.126252             8   \n",
       "1484    4       7217.721340           3     36.269997             8   \n",
       "1207    10      7124.003370           2     39.470577             8   \n",
       "1112    1      10189.905937           3     65.344699             8   \n",
       "316     1       4168.607888           2     26.169251             6   \n",
       "425     6       3857.328900           1     14.571987             6   \n",
       "631     1       3262.995639           1     23.236234             6   \n",
       "896     5       3012.231716           1     21.036695             8   \n",
       "\n",
       "               start_ride_price  subscription_fee  income  \n",
       "user_id month                                              \n",
       "474     12                    0               199   301.0  \n",
       "1513    3                    50                 0   518.0  \n",
       "1392    11                   50                 0   680.0  \n",
       "1484    4                    50                 0   438.0  \n",
       "1207    10                   50                 0   412.0  \n",
       "1112    1                    50                 0   670.0  \n",
       "316     1                     0               199   355.0  \n",
       "425     6                     0               199   289.0  \n",
       "631     1                     0               199   337.0  \n",
       "896     5                    50                 0   218.0  "
      ]
     },
     "execution_count": 32,
     "metadata": {},
     "output_type": "execute_result"
    }
   ],
   "source": [
    "user_stat[\"income\"] = (\n",
    "    user_stat[\"minute_price\"] * round(user_stat[\"sum_duration\"])\n",
    "    + user_stat[\"start_ride_price\"] * user_stat[\"count_trip\"]\n",
    "    + user_stat[\"subscription_fee\"]\n",
    ")\n",
    "user_stat.sample(10)"
   ]
  },
  {
   "cell_type": "markdown",
   "id": "7dce588a",
   "metadata": {},
   "source": [
    "Все расчеты выполнены, все новые столбцы заполнены."
   ]
  },
  {
   "cell_type": "markdown",
   "id": "41545ac0",
   "metadata": {},
   "source": [
    "## Шаг 6. Проверка гипотез"
   ]
  },
  {
   "cell_type": "markdown",
   "id": "732bda97",
   "metadata": {},
   "source": [
    "#### Тратят ли пользователи с подпиской больше времени на поездки?"
   ]
  },
  {
   "cell_type": "markdown",
   "id": "aaa32e48",
   "metadata": {},
   "source": [
    "Так как генеральных совокупностей у нас две, то воспользуемся односторонней (правой) гипотезой о равенстве средних двух генеральных совокупностей.<br>\n",
    "Нулевая гипотеза будет выглядеть слудующим образом: <br>\n",
    "<b>H<sub>0</sub></b> - среднее время, которое тратят пользователи с подпиской (таблица *subscription_ultra*) равно среднему времени, которое тратят на поездку пользователи без подписки (таблица *subscription_free*).<br>\n",
    "Альтернативная гипотеза: <br>\n",
    "<b>H<sub>1</sub></b> - среднее время, которое тратят пользователи с подпиской, больше времени, которое тратят на поездку пользователи без подписки."
   ]
  },
  {
   "cell_type": "code",
   "execution_count": 33,
   "id": "0edde9bf",
   "metadata": {
    "tags": []
   },
   "outputs": [
    {
     "name": "stdout",
     "output_type": "stream",
     "text": [
      "p-значение: 1.2804098316645613e-34\n",
      "Отвергаем нулевую гипотезу\n"
     ]
    }
   ],
   "source": [
    "# уровень статистической значимости\n",
    "alpha = 0.01\n",
    "\n",
    "# правосторонняя гипотеза\n",
    "results = st.ttest_ind(\n",
    "    subscription_ultra[\"duration\"], subscription_free[\"duration\"], alternative=\"greater\"\n",
    ")\n",
    "\n",
    "print(\"p-значение:\", results.pvalue)\n",
    "if results.pvalue < alpha:\n",
    "    print(\"Отвергаем нулевую гипотезу\")\n",
    "else:\n",
    "    print(\"Не получилось отвергнуть нулевую гипотезу\")"
   ]
  },
  {
   "cell_type": "markdown",
   "id": "459ed193",
   "metadata": {},
   "source": [
    "Выяснили, что нулевая гипотеза неверна. Поэтому остается альтернативная гипотеза, что средняя продолжительность поездки подписчиков больше, чем среднее время поездки у пользователей без подписки. "
   ]
  },
  {
   "cell_type": "markdown",
   "id": "97df4a92",
   "metadata": {},
   "source": [
    "#### Можно ли сказать, что расстояние, которое проезжают пользователи с подпиской за одну поездку, меньше 3130 метров?"
   ]
  },
  {
   "cell_type": "markdown",
   "id": "0c33f68c",
   "metadata": {},
   "source": [
    "Так как генеральные совокупности у нас не большие, то можем для одной из них высчитать среднее значение и проверить одностороннюю гипотезу. <br>\n",
    "Нулевая гипотеза будет выглядеть слудующим образом:<br>\n",
    "<b>H<sub>0</sub></b> - среднее расстояние, которое проезжают пользователи с подпиской за одну поездку равно 3130 метров.<br>\n",
    "Альтернативная гипотеза:<br>\n",
    "<b>H<sub>1</sub></b> - среднее расстояние, которое проезжают пользователи с подпиской за одну поездку меньше 3130 метров."
   ]
  },
  {
   "cell_type": "code",
   "execution_count": 34,
   "id": "278b6d05",
   "metadata": {
    "tags": []
   },
   "outputs": [
    {
     "name": "stdout",
     "output_type": "stream",
     "text": [
      "p-значение: 0.08046311521502145\n",
      "Не получилось отвергнуть нулевую гипотезу\n"
     ]
    }
   ],
   "source": [
    "# уровень статистической значимости\n",
    "alpha = 0.01\n",
    "\n",
    "# левосторонняя гипотеза\n",
    "results = st.ttest_1samp(subscription_ultra[\"distance\"], 3130, alternative=\"less\")\n",
    "\n",
    "print(\"p-значение:\", results.pvalue)\n",
    "if results.pvalue < alpha:\n",
    "    print(\"Отвергаем нулевую гипотезу\")\n",
    "else:\n",
    "    print(\"Не получилось отвергнуть нулевую гипотезу\")"
   ]
  },
  {
   "cell_type": "markdown",
   "id": "3f3884e3",
   "metadata": {},
   "source": [
    "Отвергнуть нулевую гипотезу не удалось, значит весьма допустимо, что среднее расстояние, которое проезжают пользователи с подпиской за одну поездку равно 3130 метров."
   ]
  },
  {
   "cell_type": "markdown",
   "id": "3e6a37dd",
   "metadata": {},
   "source": [
    "#### Проверим гипотезу о том, будет ли выручка от пользователей с подпиской выше, чем выручка от пользователей без подписки"
   ]
  },
  {
   "cell_type": "markdown",
   "id": "0a75e108",
   "metadata": {},
   "source": [
    "Проверим, действительно ли пользователи с подпиской «выгоднее» для компании. Для этого придется сравнить среднюю выручку для каждого пользователя из двух категорий пользователей. Для этого создадим два небольших датафрейма (один для подписчиков, второй нет), в котором в качестве индексов будут *user_id*, а в качестве столбца - средние траты данного пользователя."
   ]
  },
  {
   "cell_type": "code",
   "execution_count": 35,
   "id": "adfa951d",
   "metadata": {
    "tags": []
   },
   "outputs": [
    {
     "name": "stdout",
     "output_type": "stream",
     "text": [
      "Таблица с выручкой от пользователей с подпиской:\n"
     ]
    },
    {
     "data": {
      "text/html": [
       "<div>\n",
       "<style scoped>\n",
       "    .dataframe tbody tr th:only-of-type {\n",
       "        vertical-align: middle;\n",
       "    }\n",
       "\n",
       "    .dataframe tbody tr th {\n",
       "        vertical-align: top;\n",
       "    }\n",
       "\n",
       "    .dataframe thead th {\n",
       "        text-align: right;\n",
       "    }\n",
       "</style>\n",
       "<table border=\"1\" class=\"dataframe\">\n",
       "  <thead>\n",
       "    <tr style=\"text-align: right;\">\n",
       "      <th></th>\n",
       "      <th>income</th>\n",
       "    </tr>\n",
       "    <tr>\n",
       "      <th>user_id</th>\n",
       "      <th></th>\n",
       "    </tr>\n",
       "  </thead>\n",
       "  <tbody>\n",
       "    <tr>\n",
       "      <th>1</th>\n",
       "      <td>403.000000</td>\n",
       "    </tr>\n",
       "    <tr>\n",
       "      <th>2</th>\n",
       "      <td>368.714286</td>\n",
       "    </tr>\n",
       "    <tr>\n",
       "      <th>3</th>\n",
       "      <td>399.571429</td>\n",
       "    </tr>\n",
       "    <tr>\n",
       "      <th>4</th>\n",
       "      <td>488.000000</td>\n",
       "    </tr>\n",
       "    <tr>\n",
       "      <th>5</th>\n",
       "      <td>329.500000</td>\n",
       "    </tr>\n",
       "    <tr>\n",
       "      <th>...</th>\n",
       "      <td>...</td>\n",
       "    </tr>\n",
       "    <tr>\n",
       "      <th>695</th>\n",
       "      <td>333.400000</td>\n",
       "    </tr>\n",
       "    <tr>\n",
       "      <th>696</th>\n",
       "      <td>325.000000</td>\n",
       "    </tr>\n",
       "    <tr>\n",
       "      <th>697</th>\n",
       "      <td>367.000000</td>\n",
       "    </tr>\n",
       "    <tr>\n",
       "      <th>698</th>\n",
       "      <td>360.142857</td>\n",
       "    </tr>\n",
       "    <tr>\n",
       "      <th>699</th>\n",
       "      <td>351.000000</td>\n",
       "    </tr>\n",
       "  </tbody>\n",
       "</table>\n",
       "<p>699 rows × 1 columns</p>\n",
       "</div>"
      ],
      "text/plain": [
       "             income\n",
       "user_id            \n",
       "1        403.000000\n",
       "2        368.714286\n",
       "3        399.571429\n",
       "4        488.000000\n",
       "5        329.500000\n",
       "...             ...\n",
       "695      333.400000\n",
       "696      325.000000\n",
       "697      367.000000\n",
       "698      360.142857\n",
       "699      351.000000\n",
       "\n",
       "[699 rows x 1 columns]"
      ]
     },
     "metadata": {},
     "output_type": "display_data"
    },
    {
     "name": "stdout",
     "output_type": "stream",
     "text": [
      "Таблица с выручкой от пользователей без подписки:\n"
     ]
    },
    {
     "data": {
      "text/html": [
       "<div>\n",
       "<style scoped>\n",
       "    .dataframe tbody tr th:only-of-type {\n",
       "        vertical-align: middle;\n",
       "    }\n",
       "\n",
       "    .dataframe tbody tr th {\n",
       "        vertical-align: top;\n",
       "    }\n",
       "\n",
       "    .dataframe thead th {\n",
       "        text-align: right;\n",
       "    }\n",
       "</style>\n",
       "<table border=\"1\" class=\"dataframe\">\n",
       "  <thead>\n",
       "    <tr style=\"text-align: right;\">\n",
       "      <th></th>\n",
       "      <th>income</th>\n",
       "    </tr>\n",
       "    <tr>\n",
       "      <th>user_id</th>\n",
       "      <th></th>\n",
       "    </tr>\n",
       "  </thead>\n",
       "  <tbody>\n",
       "    <tr>\n",
       "      <th>700</th>\n",
       "      <td>342.666667</td>\n",
       "    </tr>\n",
       "    <tr>\n",
       "      <th>701</th>\n",
       "      <td>301.090909</td>\n",
       "    </tr>\n",
       "    <tr>\n",
       "      <th>702</th>\n",
       "      <td>277.555556</td>\n",
       "    </tr>\n",
       "    <tr>\n",
       "      <th>703</th>\n",
       "      <td>244.400000</td>\n",
       "    </tr>\n",
       "    <tr>\n",
       "      <th>704</th>\n",
       "      <td>326.222222</td>\n",
       "    </tr>\n",
       "    <tr>\n",
       "      <th>...</th>\n",
       "      <td>...</td>\n",
       "    </tr>\n",
       "    <tr>\n",
       "      <th>1530</th>\n",
       "      <td>354.888889</td>\n",
       "    </tr>\n",
       "    <tr>\n",
       "      <th>1531</th>\n",
       "      <td>443.000000</td>\n",
       "    </tr>\n",
       "    <tr>\n",
       "      <th>1532</th>\n",
       "      <td>294.250000</td>\n",
       "    </tr>\n",
       "    <tr>\n",
       "      <th>1533</th>\n",
       "      <td>321.250000</td>\n",
       "    </tr>\n",
       "    <tr>\n",
       "      <th>1534</th>\n",
       "      <td>310.250000</td>\n",
       "    </tr>\n",
       "  </tbody>\n",
       "</table>\n",
       "<p>835 rows × 1 columns</p>\n",
       "</div>"
      ],
      "text/plain": [
       "             income\n",
       "user_id            \n",
       "700      342.666667\n",
       "701      301.090909\n",
       "702      277.555556\n",
       "703      244.400000\n",
       "704      326.222222\n",
       "...             ...\n",
       "1530     354.888889\n",
       "1531     443.000000\n",
       "1532     294.250000\n",
       "1533     321.250000\n",
       "1534     310.250000\n",
       "\n",
       "[835 rows x 1 columns]"
      ]
     },
     "metadata": {},
     "output_type": "display_data"
    }
   ],
   "source": [
    "ultra_user_expense = pd.pivot_table(\n",
    "    user_stat[user_stat[\"minute_price\"] == 6],\n",
    "    index=\"user_id\",\n",
    "    values=\"income\",\n",
    "    aggfunc=\"mean\",\n",
    ")\n",
    "print(\"Таблица с выручкой от пользователей с подпиской:\")\n",
    "display(ultra_user_expense)\n",
    "free_user_expense = pd.pivot_table(\n",
    "    user_stat[user_stat[\"minute_price\"] == 8],\n",
    "    index=\"user_id\",\n",
    "    values=\"income\",\n",
    "    aggfunc=\"mean\",\n",
    ")\n",
    "print(\"Таблица с выручкой от пользователей без подписки:\")\n",
    "display(free_user_expense)"
   ]
  },
  {
   "cell_type": "markdown",
   "id": "e29d7ac3",
   "metadata": {},
   "source": [
    "Нулевая гипотеза будет выглядеть следующим образом:<br>\n",
    "<b>H<sub>0</sub></b> - средняя выручка, которую получают с пользователя с подпиской (таблица *ultra_user_expense*) равно средней выручке, получаемой с пользователя без подписки (таблица *free_user_expense*).<br>\n",
    "Альтернативная гипотеза:<br>\n",
    "<b>H<sub>1</sub></b> - средняя выручка, которую получают с пользователя с подпиской, больше средней выручки, которую получают с пользователя без подписки."
   ]
  },
  {
   "cell_type": "code",
   "execution_count": 36,
   "id": "74560b04",
   "metadata": {
    "tags": []
   },
   "outputs": [
    {
     "name": "stdout",
     "output_type": "stream",
     "text": [
      "p-значение: 1.2017898192470927e-40\n",
      "Отвергаем нулевую гипотезу\n"
     ]
    }
   ],
   "source": [
    "# уровень статистической значимости\n",
    "alpha = 0.01\n",
    "\n",
    "# правосторонняя гипотеза\n",
    "results = st.ttest_ind(\n",
    "    ultra_user_expense[\"income\"], free_user_expense[\"income\"], alternative=\"greater\"\n",
    ")\n",
    "\n",
    "print(\"p-значение:\", results.pvalue)\n",
    "if results.pvalue < alpha:\n",
    "    print(\"Отвергаем нулевую гипотезу\")\n",
    "else:\n",
    "    print(\"Не получилось отвергнуть нулевую гипотезу\")"
   ]
  },
  {
   "cell_type": "markdown",
   "id": "fb7e7628-a072-451f-beb0-5da49bb3659c",
   "metadata": {},
   "source": [
    "Нулевую гипотезу отвергли, а значит осталась альтернативная, которая утверждает, что средняя выручка, которую получают с пользователя с подпиской, больше средней выручки, которую получают с пользователя без подписки."
   ]
  },
  {
   "cell_type": "markdown",
   "id": "ad82b9a2",
   "metadata": {},
   "source": [
    "#### \"Какой тест вам понадобился бы для проверки этой гипотезы?\""
   ]
  },
  {
   "cell_type": "markdown",
   "id": "34b06171",
   "metadata": {},
   "source": [
    "1. Сформулировали бы гипотезу о равенстве средних для зависимых выборок, т.е сравнили поменялось ли количество обращений в техподдержку с помощью метода ***scipy.stats.ttest_rel(before_update, after_update)***. <br>\n",
    "<b>H<sub>0</sub></b> - количество обращений осталось прежним,<br>\n",
    "<b>H<sub>1</sub></b> - количество обращений изменилось, в какую сторону мы не знаем.<br>\n",
    "2. Если гипотезу не удалось опровергнуть, то дело закрыто, обновление сервера не повлияло на количество обращений.\n",
    "3. Если гипотезу удалось опровергнуть, то надо сравнить \"классическим\" методом среднее количество обращений до и после проведения работ на сервере. Если среднее увеличилось, то обновление только навредило, а если уменьшилось, то обновление оказалось успешным."
   ]
  },
  {
   "cell_type": "markdown",
   "id": "61213c5e",
   "metadata": {},
   "source": [
    "## Шаг 7. Распределения"
   ]
  },
  {
   "cell_type": "markdown",
   "id": "9eecf296",
   "metadata": {},
   "source": [
    "#### Акция с раздачей промокодов на один бесплатный месяц"
   ]
  },
  {
   "cell_type": "code",
   "execution_count": 37,
   "id": "ecc3499a",
   "metadata": {},
   "outputs": [
    {
     "data": {
      "image/png": "[encoded data removed]",
      "text/plain": [
       "<Figure size 640x480 with 1 Axes>"
      ]
     },
     "metadata": {},
     "output_type": "display_data"
    }
   ],
   "source": [
    "# по условию, это получается биноминальное распределение\n",
    "p = 0.1  # какова вероятность продления подписки\n",
    "n = 1000  # скольким людям планируем раздать промокод, чтобы получить 100 подписок зная вероятность p\n",
    "\n",
    "# список distr, в котором будете хранить значения распределения\n",
    "distr = []\n",
    "for k in range(0, n + 1):\n",
    "    choose = factorial(n) / (factorial(k) * factorial(n - k))\n",
    "    prob = choose * p**k * (1 - p) ** (n - k)\n",
    "    distr.append(prob)\n",
    "\n",
    "plt.xlim([30, 150])\n",
    "plt.bar(range(0, n + 1), distr);"
   ]
  },
  {
   "cell_type": "markdown",
   "id": "3e5a09b6",
   "metadata": {},
   "source": [
    "Если отправить промокод 1000 пользователям, то то, что продлят подписку 100 клиентов, наиболее вероятный результат. Однако слишком велика вероятность, что успехов будет меньше. На гистограмме видно, что в диапазоне от 70 до 99 успехов примерно половина всего распределения. Риск слишком велик."
   ]
  },
  {
   "cell_type": "markdown",
   "id": "dd8f3eec",
   "metadata": {},
   "source": [
    "Проверим можно ли аппроксимировать биноминальное распределение нормальным:"
   ]
  },
  {
   "cell_type": "code",
   "execution_count": 38,
   "id": "735ee995",
   "metadata": {
    "tags": []
   },
   "outputs": [
    {
     "data": {
      "image/png": "[encoded data removed]",
      "text/plain": [
       "<Figure size 640x480 with 1 Axes>"
      ]
     },
     "metadata": {},
     "output_type": "display_data"
    },
    {
     "name": "stdout",
     "output_type": "stream",
     "text": [
      "Условие выполняется\n"
     ]
    }
   ],
   "source": [
    "# зададим функцию, которая выдаёт <num> чисел,\n",
    "# равномерно распределённых от <start> до <stop>\n",
    "# (понадобится для визуализации нормального распределения)\n",
    "def linspace(start, stop, num):\n",
    "    step = (stop - start) / (num - 1)\n",
    "    result = []\n",
    "    for i in range(num):\n",
    "        result.append(start + step * i)\n",
    "    return result\n",
    "\n",
    "\n",
    "# задаём параметры биномиального распределения\n",
    "n = 1000\n",
    "p = 0.1\n",
    "\n",
    "# границы промежутка, в котором будем строить аппроксимацию -\n",
    "# от n*p минус 3 ст.отклонения бином.распределения\n",
    "# до n*p плюс 3 ст.отклонения бином.распределения\n",
    "# (там, где вероятности значений почти не равны нулю)\n",
    "left = int(n * p - 3 * sqrt(n * p * (1 - p)))\n",
    "right = int(n * p + 3 * sqrt(n * p * (1 - p)))\n",
    "\n",
    "# зададим набор значений биномиальной величины на выбранном промежутке:\n",
    "# все неотрицательные целые числа от left до right\n",
    "x = list(range(max(0, left), right))\n",
    "\n",
    "# рисуем график биномиального распределения\n",
    "ax = plt.subplot()\n",
    "# используем синие о-образные маркеры и размер маркера 5\n",
    "ax.plot(\n",
    "    x, binom.pmf(x, n, p), \"bo\", ms=5, label=\"вероятности биномиального распределения\"\n",
    ")\n",
    "\n",
    "# зададим параметры нормального распределения равными\n",
    "# мат.ожиданию и дисперсии биномиального распределения\n",
    "mu = n * p\n",
    "sigma = sqrt(n * p * (1 - p))\n",
    "\n",
    "# рисуем график нормального распределения:\n",
    "# получим список из 100 чисел от left до right\n",
    "x = linspace(left, right, 100)\n",
    "# используем красную линию ширины 3 и прозрачности 0.3\n",
    "ax.plot(\n",
    "    x,\n",
    "    norm.pdf(x, mu, sigma),\n",
    "    \"r-\",\n",
    "    lw=3,\n",
    "    alpha=0.3,\n",
    "    label=\"плотность вероятности нормального распределения\",\n",
    ")\n",
    "\n",
    "\n",
    "# настраиваем оптимальное расположение легенды и выводим график\n",
    "ax.legend(loc=\"best\")\n",
    "plt.show()\n",
    "\n",
    "# выводим, выполняется ли наше условие аппроксимации:\n",
    "# лежит ли mu ± 3 sigma в промежутке от 0 до n:\n",
    "if (mu - (3 * sigma) >= 0) and ((mu + (3 * sigma) <= n)):\n",
    "    print(\"Условие выполняется\")\n",
    "else:\n",
    "    print(\"Условие не выполняется\")"
   ]
  },
  {
   "cell_type": "markdown",
   "id": "6627485d",
   "metadata": {},
   "source": [
    "Условие выполняется, значит можем аппроксимировать биноминальное распределение нормальным."
   ]
  },
  {
   "cell_type": "code",
   "execution_count": 39,
   "id": "eb74a3fc",
   "metadata": {
    "tags": []
   },
   "outputs": [
    {
     "name": "stdout",
     "output_type": "stream",
     "text": [
      "0.050650790692463\n"
     ]
    }
   ],
   "source": [
    "# задаём параметры биномиального распределения\n",
    "n = 1168\n",
    "p = 0.1\n",
    "\n",
    "# задаём нормальное распределение с математическим ожиданием n*p\n",
    "# и стандартным отклонением sqrt(n * p * (1 - p))\n",
    "distr = st.norm(n * p, sqrt(n * p * (1 - p)))\n",
    "\n",
    "# значение, для которого хотим найти вероятность\n",
    "x = 100\n",
    "\n",
    "# считаем вероятность получить значение, равное x или меньше\n",
    "result = distr.cdf(x)\n",
    "\n",
    "print(result)"
   ]
  },
  {
   "cell_type": "markdown",
   "id": "4c96ebb2",
   "metadata": {},
   "source": [
    "Получили, что для получения 100 новых подписчиков во время проведения акции с вероятностью невыполнения плана 5%, зная вероятность продления пользователем подписки 10%, необходимо отправить промокод **1168** людям. "
   ]
  },
  {
   "cell_type": "markdown",
   "id": "71c17eea",
   "metadata": {},
   "source": [
    "#### push-уведомления в мобильном приложении"
   ]
  },
  {
   "cell_type": "markdown",
   "id": "ac16dca1",
   "metadata": {},
   "source": [
    "Практически все аналогично предыдущему пункту, только уже точно знаем по условию, что можем аппроксимировать."
   ]
  },
  {
   "cell_type": "code",
   "execution_count": 40,
   "id": "fd81756e",
   "metadata": {
    "tags": []
   },
   "outputs": [
    {
     "name": "stdout",
     "output_type": "stream",
     "text": [
      "0.15371708296369768\n"
     ]
    },
    {
     "data": {
      "image/png": "[encoded data removed]",
      "text/plain": [
       "<Figure size 640x480 with 1 Axes>"
      ]
     },
     "metadata": {},
     "output_type": "display_data"
    },
    {
     "data": {
      "image/png": "[encoded data removed]",
      "text/plain": [
       "<Figure size 640x480 with 1 Axes>"
      ]
     },
     "metadata": {},
     "output_type": "display_data"
    }
   ],
   "source": [
    "# по условию, это получается биноминальное распределение\n",
    "p = 0.4  # какова вероятность открыть уведомление\n",
    "n = 1000000  # скольким людям планируется отправить\n",
    "\n",
    "\n",
    "# задаём нормальное распределение с математическим ожиданием n*p\n",
    "# и стандартным отклонением sqrt(n * p * (1 - p))\n",
    "distr = st.norm(n * p, sqrt(n * p * (1 - p)))\n",
    "\n",
    "# значение, для которого хотим найти вероятность\n",
    "a = 399500\n",
    "\n",
    "# рисуем график нормального распределения:\n",
    "# получим список из 100 чисел от 0 до 1000000\n",
    "x = linspace(0, n, 1000000)\n",
    "# считаем вероятность получить значение, равное a или меньше\n",
    "result = distr.cdf(a)\n",
    "print(result)\n",
    "\n",
    "# построим график функции нормального распределения\n",
    "ax = plt.subplot()\n",
    "ax.plot(\n",
    "    x,\n",
    "    norm.cdf(x, n * p, sqrt(n * p * (1 - p))),\n",
    "    \"r-\",\n",
    "    lw=1,\n",
    "    alpha=0.3,\n",
    "    label=\"Функция нормального распределения\",\n",
    ")\n",
    "ax.legend(loc=\"best\")\n",
    "plt.xlim([397000, 408000])\n",
    "plt.show()\n",
    "\n",
    "# построим график плотности вероятности  нормального распределения\n",
    "ax = plt.subplot()\n",
    "ax.plot(\n",
    "    x,\n",
    "    norm.pdf(x, n * p, sqrt(n * p * (1 - p))),\n",
    "    \"r-\",\n",
    "    lw=1,\n",
    "    alpha=0.3,\n",
    "    label=\"Плотность вероятности нормального распределения\",\n",
    ")\n",
    "ax.legend(loc=\"best\")\n",
    "plt.xlim([397000, 408000])\n",
    "plt.show()"
   ]
  },
  {
   "cell_type": "markdown",
   "id": "c9973f60",
   "metadata": {},
   "source": [
    "Аппроксимировали биноминальное распределение с вероятностью успеха p=0.4 и количеством экспериментов n=1 млн. в нормальное. Построили графики плотности вероятности и функции распределения для этого нормального распределения. Видим, что очень маленькое стандартное отклонение так как очень большая выборка. Выяснили, что вероятность того, что уведомление откроют не более 399,5 тыс. пользователей равно **15 %** ."
   ]
  },
  {
   "cell_type": "markdown",
   "id": "1a477b36",
   "metadata": {},
   "source": [
    "## Вывод"
   ]
  },
  {
   "cell_type": "markdown",
   "id": "c0eada92",
   "metadata": {},
   "source": [
    "1. Ознакомились с данными и избавились от дубликатов в таблице с пользователями.\n",
    "2. Определили, что больше всего пользователей сервисом в Пятигорске, а меньше всего в Москве (219 и 168 соответственно). \n",
    "3. Средний возраст пользователей везде примерно равен 25 годам.\n",
    "4. Подписчиков меньше, чем пользователей без подписки (699 и 835 соответственно).\n",
    "5. Средняя дистанция одной поездки в районе 3000 м, а средняя продолжительность чуть больше 17 минут. Так же в началах графиков продолжительности поездок и дистанции увидели всплески, говорящие нам о том, что многие пользователи предпочитают еще и короткие поезди дистанцией до 1 км и продолжительностью до 1 минуты.\n",
    "6. Проверили гипотезы и получили следующие итоги: \n",
    "* средняя продолжительность поездки подписчиков больше, чем среднее время поездки у пользователей без подписки\n",
    "* высока вероятность того, что среднее расстояние, которое проезжают пользователи с подпиской за одну поездку равно 3130 метров\n",
    "* средняя выручка, которую получают с пользователя с подпиской, больше средней выручки, которую получают c пользователя без подписки.\n",
    "7. Дополнительно прописали алгоритм действий для проверки гипотезы о том, что количество обращений в тех поддержку снизится после обновления сервера.\n",
    "8. Выяснили, что для получения 100 новых подписчиков во время проведения акции с вероятностью невыполнения плана 5%, зная вероятность продления пользователем подписки 10%, необходимо отправить промокод **1168** людям. \n",
    "9. Выяснили, что вероятность того, что при отправке 1 млн. уведомлений их откроют не более 399,5 тыс. пользователей равно 15 %."
   ]
  },
  {
   "cell_type": "code",
   "execution_count": null,
   "id": "def28e63",
   "metadata": {},
   "outputs": [],
   "source": []
  }
 ],
 "metadata": {
  "ExecuteTimeLog": [
   {
    "duration": 47,
    "start_time": "2023-04-23T09:31:42.208Z"
   },
   {
    "duration": 347,
    "start_time": "2023-04-23T09:32:01.200Z"
   },
   {
    "duration": 189,
    "start_time": "2023-04-23T09:32:03.972Z"
   },
   {
    "duration": 2,
    "start_time": "2023-04-23T09:34:00.543Z"
   },
   {
    "duration": 3,
    "start_time": "2023-04-23T09:37:22.300Z"
   },
   {
    "duration": 39,
    "start_time": "2023-04-23T09:37:24.434Z"
   },
   {
    "duration": 2,
    "start_time": "2023-04-23T09:43:09.380Z"
   },
   {
    "duration": 35,
    "start_time": "2023-04-23T09:43:11.433Z"
   },
   {
    "duration": 2,
    "start_time": "2023-04-23T09:44:32.437Z"
   },
   {
    "duration": 35,
    "start_time": "2023-04-23T09:44:34.505Z"
   },
   {
    "duration": 99,
    "start_time": "2023-04-23T09:44:58.104Z"
   },
   {
    "duration": 163,
    "start_time": "2023-04-23T09:45:03.198Z"
   },
   {
    "duration": 2,
    "start_time": "2023-04-23T09:45:19.317Z"
   },
   {
    "duration": 34,
    "start_time": "2023-04-23T09:45:22.088Z"
   },
   {
    "duration": 2,
    "start_time": "2023-04-23T09:45:36.318Z"
   },
   {
    "duration": 34,
    "start_time": "2023-04-23T09:45:38.360Z"
   },
   {
    "duration": 4,
    "start_time": "2023-04-23T09:46:33.763Z"
   },
   {
    "duration": 3,
    "start_time": "2023-04-23T09:46:36.909Z"
   },
   {
    "duration": 36,
    "start_time": "2023-04-23T09:46:38.975Z"
   },
   {
    "duration": 3,
    "start_time": "2023-04-23T09:47:32.305Z"
   },
   {
    "duration": 35,
    "start_time": "2023-04-23T09:47:34.343Z"
   },
   {
    "duration": 3,
    "start_time": "2023-04-23T09:47:46.454Z"
   },
   {
    "duration": 35,
    "start_time": "2023-04-23T09:47:48.448Z"
   },
   {
    "duration": 4,
    "start_time": "2023-04-23T09:48:04.316Z"
   },
   {
    "duration": 34,
    "start_time": "2023-04-23T09:48:06.117Z"
   },
   {
    "duration": 3,
    "start_time": "2023-04-23T09:48:23.865Z"
   },
   {
    "duration": 36,
    "start_time": "2023-04-23T09:48:26.624Z"
   },
   {
    "duration": 2,
    "start_time": "2023-04-23T09:49:05.312Z"
   },
   {
    "duration": 35,
    "start_time": "2023-04-23T09:49:07.151Z"
   },
   {
    "duration": 4,
    "start_time": "2023-04-23T09:49:15.311Z"
   },
   {
    "duration": 34,
    "start_time": "2023-04-23T09:49:17.323Z"
   },
   {
    "duration": 35,
    "start_time": "2023-04-23T09:50:08.609Z"
   },
   {
    "duration": 3,
    "start_time": "2023-04-23T09:50:24.315Z"
   },
   {
    "duration": 33,
    "start_time": "2023-04-23T09:50:26.417Z"
   },
   {
    "duration": 45,
    "start_time": "2023-04-23T09:53:53.030Z"
   },
   {
    "duration": 34,
    "start_time": "2023-04-23T10:11:44.422Z"
   },
   {
    "duration": 33,
    "start_time": "2023-04-23T10:45:16.179Z"
   },
   {
    "duration": 612,
    "start_time": "2023-04-23T10:57:41.709Z"
   },
   {
    "duration": 7,
    "start_time": "2023-04-23T10:59:37.759Z"
   },
   {
    "duration": 49,
    "start_time": "2023-04-23T10:59:51.427Z"
   },
   {
    "duration": 19,
    "start_time": "2023-04-23T11:00:28.321Z"
   },
   {
    "duration": 8,
    "start_time": "2023-04-23T11:08:12.650Z"
   },
   {
    "duration": 9,
    "start_time": "2023-04-23T11:08:46.716Z"
   },
   {
    "duration": 5,
    "start_time": "2023-04-23T11:09:59.399Z"
   },
   {
    "duration": 14,
    "start_time": "2023-04-23T11:10:09.482Z"
   },
   {
    "duration": 3,
    "start_time": "2023-04-23T11:11:37.996Z"
   },
   {
    "duration": 7,
    "start_time": "2023-04-23T11:12:59.481Z"
   },
   {
    "duration": 8,
    "start_time": "2023-04-23T11:13:46.245Z"
   },
   {
    "duration": 7,
    "start_time": "2023-04-23T11:14:21.424Z"
   },
   {
    "duration": 6,
    "start_time": "2023-04-23T11:14:24.244Z"
   },
   {
    "duration": 7,
    "start_time": "2023-04-23T11:14:53.628Z"
   },
   {
    "duration": 4,
    "start_time": "2023-04-23T11:29:16.312Z"
   },
   {
    "duration": 78,
    "start_time": "2023-04-23T11:29:43.727Z"
   },
   {
    "duration": 5,
    "start_time": "2023-04-23T11:31:02.630Z"
   },
   {
    "duration": 96,
    "start_time": "2023-04-23T11:31:36.039Z"
   },
   {
    "duration": 6,
    "start_time": "2023-04-23T11:32:40.193Z"
   },
   {
    "duration": 5,
    "start_time": "2023-04-23T11:32:57.280Z"
   },
   {
    "duration": 5,
    "start_time": "2023-04-23T11:33:17.369Z"
   },
   {
    "duration": 5,
    "start_time": "2023-04-23T11:39:46.132Z"
   },
   {
    "duration": 4,
    "start_time": "2023-04-23T11:39:50.017Z"
   },
   {
    "duration": 1884,
    "start_time": "2023-04-23T11:46:02.232Z"
   },
   {
    "duration": 15,
    "start_time": "2023-04-23T11:48:11.436Z"
   },
   {
    "duration": 7,
    "start_time": "2023-04-23T11:49:00.723Z"
   },
   {
    "duration": 4,
    "start_time": "2023-04-23T11:49:53.157Z"
   },
   {
    "duration": 10,
    "start_time": "2023-04-23T11:52:28.914Z"
   },
   {
    "duration": 10,
    "start_time": "2023-04-23T11:53:39.243Z"
   },
   {
    "duration": 7,
    "start_time": "2023-04-23T11:55:43.680Z"
   },
   {
    "duration": 4,
    "start_time": "2023-04-23T11:59:28.821Z"
   },
   {
    "duration": 71,
    "start_time": "2023-04-23T11:59:38.881Z"
   },
   {
    "duration": 4,
    "start_time": "2023-04-23T11:59:41.839Z"
   },
   {
    "duration": 5,
    "start_time": "2023-04-23T12:06:26.532Z"
   },
   {
    "duration": 13,
    "start_time": "2023-04-23T12:06:45.146Z"
   },
   {
    "duration": 11,
    "start_time": "2023-04-23T12:06:52.778Z"
   },
   {
    "duration": 12,
    "start_time": "2023-04-23T12:07:14.326Z"
   },
   {
    "duration": 2,
    "start_time": "2023-04-23T12:07:27.045Z"
   },
   {
    "duration": 10,
    "start_time": "2023-04-23T12:07:27.049Z"
   },
   {
    "duration": 41,
    "start_time": "2023-04-23T12:07:27.060Z"
   },
   {
    "duration": 32,
    "start_time": "2023-04-23T12:07:27.102Z"
   },
   {
    "duration": 21,
    "start_time": "2023-04-23T12:07:27.136Z"
   },
   {
    "duration": 16,
    "start_time": "2023-04-23T12:07:27.158Z"
   },
   {
    "duration": 10,
    "start_time": "2023-04-23T12:07:27.175Z"
   },
   {
    "duration": 6,
    "start_time": "2023-04-23T12:07:27.186Z"
   },
   {
    "duration": 9,
    "start_time": "2023-04-23T12:07:27.193Z"
   },
   {
    "duration": 10,
    "start_time": "2023-04-23T12:07:27.204Z"
   },
   {
    "duration": 4,
    "start_time": "2023-04-23T12:07:27.234Z"
   },
   {
    "duration": 6,
    "start_time": "2023-04-23T12:07:27.240Z"
   },
   {
    "duration": 5,
    "start_time": "2023-04-23T12:07:27.248Z"
   },
   {
    "duration": 12,
    "start_time": "2023-04-23T12:07:29.882Z"
   },
   {
    "duration": 1465,
    "start_time": "2023-04-23T12:09:23.631Z"
   },
   {
    "duration": 1767,
    "start_time": "2023-04-23T12:10:02.512Z"
   },
   {
    "duration": 1900,
    "start_time": "2023-04-23T12:10:07.709Z"
   },
   {
    "duration": 3058,
    "start_time": "2023-04-23T12:10:13.176Z"
   },
   {
    "duration": 1514,
    "start_time": "2023-04-23T12:10:19.472Z"
   },
   {
    "duration": 1555,
    "start_time": "2023-04-23T12:10:25.210Z"
   },
   {
    "duration": 441,
    "start_time": "2023-04-23T17:55:42.610Z"
   },
   {
    "duration": 3,
    "start_time": "2023-04-23T17:55:43.053Z"
   },
   {
    "duration": 110,
    "start_time": "2023-04-23T17:55:43.059Z"
   },
   {
    "duration": 183,
    "start_time": "2023-04-23T17:55:43.171Z"
   },
   {
    "duration": 85,
    "start_time": "2023-04-23T17:55:43.356Z"
   },
   {
    "duration": 16,
    "start_time": "2023-04-23T17:55:43.442Z"
   },
   {
    "duration": 20,
    "start_time": "2023-04-23T17:55:43.460Z"
   },
   {
    "duration": 16,
    "start_time": "2023-04-23T17:55:43.482Z"
   },
   {
    "duration": 20,
    "start_time": "2023-04-23T17:55:43.499Z"
   },
   {
    "duration": 6,
    "start_time": "2023-04-23T17:55:43.520Z"
   },
   {
    "duration": 8,
    "start_time": "2023-04-23T17:55:47.113Z"
   },
   {
    "duration": 8,
    "start_time": "2023-04-23T17:57:48.669Z"
   },
   {
    "duration": 9,
    "start_time": "2023-04-23T17:58:22.244Z"
   },
   {
    "duration": 7,
    "start_time": "2023-04-23T18:00:07.353Z"
   },
   {
    "duration": 9,
    "start_time": "2023-04-23T18:06:20.748Z"
   },
   {
    "duration": 13,
    "start_time": "2023-04-23T18:08:52.042Z"
   },
   {
    "duration": 13,
    "start_time": "2023-04-23T18:10:05.850Z"
   },
   {
    "duration": 8,
    "start_time": "2023-04-23T18:14:49.714Z"
   },
   {
    "duration": 6,
    "start_time": "2023-04-23T18:17:34.057Z"
   },
   {
    "duration": 7,
    "start_time": "2023-04-23T18:17:45.215Z"
   },
   {
    "duration": 5,
    "start_time": "2023-04-23T18:18:02.734Z"
   },
   {
    "duration": 25,
    "start_time": "2023-04-23T18:24:30.678Z"
   },
   {
    "duration": 9,
    "start_time": "2023-04-23T18:25:08.473Z"
   },
   {
    "duration": 8,
    "start_time": "2023-04-23T18:26:46.736Z"
   },
   {
    "duration": 4,
    "start_time": "2023-04-23T18:26:53.017Z"
   },
   {
    "duration": 36,
    "start_time": "2023-04-23T18:26:53.023Z"
   },
   {
    "duration": 81,
    "start_time": "2023-04-23T18:26:53.061Z"
   },
   {
    "duration": 53,
    "start_time": "2023-04-23T18:26:53.144Z"
   },
   {
    "duration": 38,
    "start_time": "2023-04-23T18:26:53.200Z"
   },
   {
    "duration": 18,
    "start_time": "2023-04-23T18:26:53.240Z"
   },
   {
    "duration": 11,
    "start_time": "2023-04-23T18:26:53.260Z"
   },
   {
    "duration": 6,
    "start_time": "2023-04-23T18:26:53.273Z"
   },
   {
    "duration": 17,
    "start_time": "2023-04-23T18:26:53.282Z"
   },
   {
    "duration": 17,
    "start_time": "2023-04-23T18:26:53.312Z"
   },
   {
    "duration": 12,
    "start_time": "2023-04-23T18:26:56.483Z"
   },
   {
    "duration": 5,
    "start_time": "2023-04-23T18:27:09.359Z"
   },
   {
    "duration": 10,
    "start_time": "2023-04-23T18:27:19.514Z"
   },
   {
    "duration": 18,
    "start_time": "2023-04-23T18:27:25.019Z"
   },
   {
    "duration": 4,
    "start_time": "2023-04-23T18:27:26.882Z"
   },
   {
    "duration": 6,
    "start_time": "2023-04-23T18:27:29.557Z"
   },
   {
    "duration": 13,
    "start_time": "2023-04-23T18:28:55.275Z"
   },
   {
    "duration": 84,
    "start_time": "2023-04-23T18:31:15.762Z"
   },
   {
    "duration": 11,
    "start_time": "2023-04-23T18:31:20.160Z"
   },
   {
    "duration": 3,
    "start_time": "2023-04-23T18:34:37.826Z"
   },
   {
    "duration": 2,
    "start_time": "2023-04-23T18:35:01.671Z"
   },
   {
    "duration": 926,
    "start_time": "2023-04-23T18:42:09.415Z"
   },
   {
    "duration": 639,
    "start_time": "2023-04-23T18:42:26.670Z"
   },
   {
    "duration": 221,
    "start_time": "2023-04-23T18:42:44.341Z"
   },
   {
    "duration": 309,
    "start_time": "2023-04-23T18:44:54.250Z"
   },
   {
    "duration": 280,
    "start_time": "2023-04-23T18:45:12.886Z"
   },
   {
    "duration": 360,
    "start_time": "2023-04-23T18:45:19.446Z"
   },
   {
    "duration": 177,
    "start_time": "2023-04-23T18:45:41.414Z"
   },
   {
    "duration": 224,
    "start_time": "2023-04-23T18:45:49.580Z"
   },
   {
    "duration": 218,
    "start_time": "2023-04-23T18:46:01.231Z"
   },
   {
    "duration": 50,
    "start_time": "2023-04-23T18:46:41.416Z"
   },
   {
    "duration": 194,
    "start_time": "2023-04-23T18:46:44.588Z"
   },
   {
    "duration": 523,
    "start_time": "2023-04-23T18:47:46.123Z"
   },
   {
    "duration": 407,
    "start_time": "2023-04-23T18:48:38.617Z"
   },
   {
    "duration": 448,
    "start_time": "2023-04-23T18:49:16.977Z"
   },
   {
    "duration": 315,
    "start_time": "2023-04-23T18:51:11.125Z"
   },
   {
    "duration": 27,
    "start_time": "2023-04-23T18:55:40.405Z"
   },
   {
    "duration": 23,
    "start_time": "2023-04-23T18:56:01.779Z"
   },
   {
    "duration": 3878,
    "start_time": "2023-04-23T18:57:06.559Z"
   },
   {
    "duration": 50,
    "start_time": "2023-04-23T18:57:47.712Z"
   },
   {
    "duration": 32,
    "start_time": "2023-04-23T18:58:08.185Z"
   },
   {
    "duration": 17,
    "start_time": "2023-04-23T18:58:22.836Z"
   },
   {
    "duration": 21,
    "start_time": "2023-04-23T18:58:29.910Z"
   },
   {
    "duration": 11,
    "start_time": "2023-04-23T18:59:52.512Z"
   },
   {
    "duration": 18,
    "start_time": "2023-04-23T19:00:20.965Z"
   },
   {
    "duration": 17,
    "start_time": "2023-04-23T19:00:37.543Z"
   },
   {
    "duration": 3,
    "start_time": "2023-04-23T19:00:45.320Z"
   },
   {
    "duration": 15,
    "start_time": "2023-04-23T19:00:45.325Z"
   },
   {
    "duration": 40,
    "start_time": "2023-04-23T19:00:45.343Z"
   },
   {
    "duration": 43,
    "start_time": "2023-04-23T19:00:45.385Z"
   },
   {
    "duration": 27,
    "start_time": "2023-04-23T19:00:45.430Z"
   },
   {
    "duration": 20,
    "start_time": "2023-04-23T19:00:45.459Z"
   },
   {
    "duration": 20,
    "start_time": "2023-04-23T19:00:45.481Z"
   },
   {
    "duration": 8,
    "start_time": "2023-04-23T19:00:45.504Z"
   },
   {
    "duration": 9,
    "start_time": "2023-04-23T19:00:45.514Z"
   },
   {
    "duration": 10,
    "start_time": "2023-04-23T19:00:45.525Z"
   },
   {
    "duration": 10,
    "start_time": "2023-04-23T19:00:45.537Z"
   },
   {
    "duration": 54,
    "start_time": "2023-04-23T19:00:45.549Z"
   },
   {
    "duration": 5,
    "start_time": "2023-04-23T19:00:45.604Z"
   },
   {
    "duration": 7,
    "start_time": "2023-04-23T19:00:45.612Z"
   },
   {
    "duration": 12,
    "start_time": "2023-04-23T19:00:45.620Z"
   },
   {
    "duration": 23,
    "start_time": "2023-04-23T19:00:47.673Z"
   },
   {
    "duration": 14,
    "start_time": "2023-04-23T19:02:07.526Z"
   },
   {
    "duration": 14,
    "start_time": "2023-04-23T19:03:25.222Z"
   },
   {
    "duration": 18,
    "start_time": "2023-04-23T19:04:08.813Z"
   },
   {
    "duration": 18,
    "start_time": "2023-04-23T19:04:43.306Z"
   },
   {
    "duration": 14,
    "start_time": "2023-04-23T19:04:55.565Z"
   },
   {
    "duration": 18,
    "start_time": "2023-04-23T19:05:55.091Z"
   },
   {
    "duration": 14,
    "start_time": "2023-04-23T19:06:59.175Z"
   },
   {
    "duration": 14,
    "start_time": "2023-04-23T19:07:17.966Z"
   },
   {
    "duration": 15,
    "start_time": "2023-04-23T19:07:27.147Z"
   },
   {
    "duration": 73,
    "start_time": "2023-04-23T19:11:32.961Z"
   },
   {
    "duration": 17,
    "start_time": "2023-04-23T19:11:47.537Z"
   },
   {
    "duration": 15,
    "start_time": "2023-04-23T19:30:21.348Z"
   },
   {
    "duration": 57,
    "start_time": "2023-04-23T19:30:34.347Z"
   },
   {
    "duration": 4,
    "start_time": "2023-04-23T19:31:22.002Z"
   },
   {
    "duration": 15,
    "start_time": "2023-04-23T19:31:25.198Z"
   },
   {
    "duration": 221,
    "start_time": "2023-04-23T19:32:03.060Z"
   },
   {
    "duration": 23,
    "start_time": "2023-04-23T19:37:00.718Z"
   },
   {
    "duration": 690,
    "start_time": "2023-04-23T19:37:21.823Z"
   },
   {
    "duration": 230,
    "start_time": "2023-04-23T19:37:33.004Z"
   },
   {
    "duration": 234,
    "start_time": "2023-04-23T19:37:51.271Z"
   },
   {
    "duration": 20,
    "start_time": "2023-04-23T19:38:15.645Z"
   },
   {
    "duration": 175,
    "start_time": "2023-04-23T19:38:29.594Z"
   },
   {
    "duration": 171,
    "start_time": "2023-04-23T19:38:37.812Z"
   },
   {
    "duration": 153,
    "start_time": "2023-04-23T19:38:47.428Z"
   },
   {
    "duration": 167,
    "start_time": "2023-04-23T19:39:02.224Z"
   },
   {
    "duration": 300,
    "start_time": "2023-04-23T19:39:23.246Z"
   },
   {
    "duration": 211,
    "start_time": "2023-04-23T19:39:28.802Z"
   },
   {
    "duration": 172,
    "start_time": "2023-04-23T19:49:32.001Z"
   },
   {
    "duration": 47,
    "start_time": "2023-04-24T06:07:58.035Z"
   },
   {
    "duration": 1314,
    "start_time": "2023-04-24T06:08:09.233Z"
   },
   {
    "duration": 3,
    "start_time": "2023-04-24T06:08:10.550Z"
   },
   {
    "duration": 127,
    "start_time": "2023-04-24T06:08:10.554Z"
   },
   {
    "duration": 180,
    "start_time": "2023-04-24T06:08:10.683Z"
   },
   {
    "duration": 82,
    "start_time": "2023-04-24T06:08:10.865Z"
   },
   {
    "duration": 18,
    "start_time": "2023-04-24T06:08:10.949Z"
   },
   {
    "duration": 12,
    "start_time": "2023-04-24T06:08:10.969Z"
   },
   {
    "duration": 9,
    "start_time": "2023-04-24T06:08:10.983Z"
   },
   {
    "duration": 17,
    "start_time": "2023-04-24T06:08:10.994Z"
   },
   {
    "duration": 11,
    "start_time": "2023-04-24T06:08:11.014Z"
   },
   {
    "duration": 13,
    "start_time": "2023-04-24T06:08:11.027Z"
   },
   {
    "duration": 25,
    "start_time": "2023-04-24T06:08:11.041Z"
   },
   {
    "duration": 9,
    "start_time": "2023-04-24T06:08:11.068Z"
   },
   {
    "duration": 29,
    "start_time": "2023-04-24T06:08:11.078Z"
   },
   {
    "duration": 12,
    "start_time": "2023-04-24T06:08:11.109Z"
   },
   {
    "duration": 168,
    "start_time": "2023-04-24T06:08:11.123Z"
   },
   {
    "duration": 12,
    "start_time": "2023-04-24T06:08:14.150Z"
   },
   {
    "duration": 6,
    "start_time": "2023-04-24T06:08:49.726Z"
   },
   {
    "duration": 7,
    "start_time": "2023-04-24T06:10:28.868Z"
   },
   {
    "duration": 69,
    "start_time": "2023-04-24T06:15:59.220Z"
   },
   {
    "duration": 22,
    "start_time": "2023-04-24T06:16:07.253Z"
   },
   {
    "duration": 16,
    "start_time": "2023-04-24T06:24:20.626Z"
   },
   {
    "duration": 19,
    "start_time": "2023-04-24T06:24:29.641Z"
   },
   {
    "duration": 24,
    "start_time": "2023-04-24T06:39:20.734Z"
   },
   {
    "duration": 3,
    "start_time": "2023-04-24T06:39:31.643Z"
   },
   {
    "duration": 33,
    "start_time": "2023-04-24T06:39:36.275Z"
   },
   {
    "duration": 25,
    "start_time": "2023-04-24T06:40:17.734Z"
   },
   {
    "duration": 3,
    "start_time": "2023-04-24T06:40:29.568Z"
   },
   {
    "duration": 200,
    "start_time": "2023-04-24T06:40:34.226Z"
   },
   {
    "duration": 63,
    "start_time": "2023-04-24T06:48:58.389Z"
   },
   {
    "duration": 178,
    "start_time": "2023-04-24T06:50:24.549Z"
   },
   {
    "duration": 194,
    "start_time": "2023-04-24T06:51:41.091Z"
   },
   {
    "duration": 192,
    "start_time": "2023-04-24T06:54:18.784Z"
   },
   {
    "duration": 181,
    "start_time": "2023-04-24T06:54:43.606Z"
   },
   {
    "duration": 160,
    "start_time": "2023-04-24T06:58:29.905Z"
   },
   {
    "duration": 273,
    "start_time": "2023-04-24T06:59:18.281Z"
   },
   {
    "duration": 194,
    "start_time": "2023-04-24T06:59:54.455Z"
   },
   {
    "duration": 389,
    "start_time": "2023-04-24T06:59:59.783Z"
   },
   {
    "duration": 309,
    "start_time": "2023-04-24T07:00:03.623Z"
   },
   {
    "duration": 291,
    "start_time": "2023-04-24T07:00:18.846Z"
   },
   {
    "duration": 177,
    "start_time": "2023-04-24T07:00:37.182Z"
   },
   {
    "duration": 252,
    "start_time": "2023-04-24T07:01:06.774Z"
   },
   {
    "duration": 11,
    "start_time": "2023-04-24T07:05:16.272Z"
   },
   {
    "duration": 16,
    "start_time": "2023-04-24T07:05:55.454Z"
   },
   {
    "duration": 254,
    "start_time": "2023-04-24T07:07:36.412Z"
   },
   {
    "duration": 229,
    "start_time": "2023-04-24T07:28:31.544Z"
   },
   {
    "duration": 276,
    "start_time": "2023-04-24T07:28:42.271Z"
   },
   {
    "duration": 389,
    "start_time": "2023-04-24T07:28:48.383Z"
   },
   {
    "duration": 364,
    "start_time": "2023-04-24T07:30:32.757Z"
   },
   {
    "duration": 451,
    "start_time": "2023-04-24T07:30:42.868Z"
   },
   {
    "duration": 17,
    "start_time": "2023-04-24T07:33:07.953Z"
   },
   {
    "duration": 18,
    "start_time": "2023-04-24T07:33:46.064Z"
   },
   {
    "duration": 2495,
    "start_time": "2023-04-24T07:36:39.917Z"
   },
   {
    "duration": 19,
    "start_time": "2023-04-24T07:37:40.100Z"
   },
   {
    "duration": 4,
    "start_time": "2023-04-24T07:38:40.597Z"
   },
   {
    "duration": 1212,
    "start_time": "2023-04-24T07:38:40.604Z"
   },
   {
    "duration": 0,
    "start_time": "2023-04-24T07:38:41.818Z"
   },
   {
    "duration": 0,
    "start_time": "2023-04-24T07:38:41.819Z"
   },
   {
    "duration": 0,
    "start_time": "2023-04-24T07:38:41.821Z"
   },
   {
    "duration": 0,
    "start_time": "2023-04-24T07:38:41.822Z"
   },
   {
    "duration": 0,
    "start_time": "2023-04-24T07:38:41.823Z"
   },
   {
    "duration": 0,
    "start_time": "2023-04-24T07:38:41.824Z"
   },
   {
    "duration": 0,
    "start_time": "2023-04-24T07:38:41.825Z"
   },
   {
    "duration": 0,
    "start_time": "2023-04-24T07:38:41.826Z"
   },
   {
    "duration": 0,
    "start_time": "2023-04-24T07:38:41.827Z"
   },
   {
    "duration": 0,
    "start_time": "2023-04-24T07:38:41.829Z"
   },
   {
    "duration": 0,
    "start_time": "2023-04-24T07:38:41.829Z"
   },
   {
    "duration": 0,
    "start_time": "2023-04-24T07:38:41.830Z"
   },
   {
    "duration": 0,
    "start_time": "2023-04-24T07:38:41.831Z"
   },
   {
    "duration": 0,
    "start_time": "2023-04-24T07:38:41.832Z"
   },
   {
    "duration": 0,
    "start_time": "2023-04-24T07:38:41.833Z"
   },
   {
    "duration": 0,
    "start_time": "2023-04-24T07:38:41.835Z"
   },
   {
    "duration": 0,
    "start_time": "2023-04-24T07:38:41.835Z"
   },
   {
    "duration": 0,
    "start_time": "2023-04-24T07:38:41.836Z"
   },
   {
    "duration": 0,
    "start_time": "2023-04-24T07:38:41.837Z"
   },
   {
    "duration": 2317,
    "start_time": "2023-04-24T07:38:53.288Z"
   },
   {
    "duration": 1352,
    "start_time": "2023-04-24T07:39:17.981Z"
   },
   {
    "duration": 4260,
    "start_time": "2023-04-24T07:39:31.524Z"
   },
   {
    "duration": 5,
    "start_time": "2023-04-24T07:39:46.715Z"
   },
   {
    "duration": 1491,
    "start_time": "2023-04-24T07:40:00.683Z"
   },
   {
    "duration": 12,
    "start_time": "2023-04-24T07:40:28.738Z"
   },
   {
    "duration": 74,
    "start_time": "2023-04-24T07:41:25.969Z"
   },
   {
    "duration": 75,
    "start_time": "2023-04-24T07:41:43.241Z"
   },
   {
    "duration": 11,
    "start_time": "2023-04-24T07:42:17.040Z"
   },
   {
    "duration": 85,
    "start_time": "2023-04-24T07:42:48.929Z"
   },
   {
    "duration": 3031,
    "start_time": "2023-04-24T07:43:03.375Z"
   },
   {
    "duration": 1348,
    "start_time": "2023-04-24T07:43:34.257Z"
   },
   {
    "duration": 53,
    "start_time": "2023-04-24T07:44:35.664Z"
   },
   {
    "duration": 3,
    "start_time": "2023-04-24T07:45:14.943Z"
   },
   {
    "duration": 10,
    "start_time": "2023-04-24T07:45:41.662Z"
   },
   {
    "duration": 3,
    "start_time": "2023-04-24T07:45:45.745Z"
   },
   {
    "duration": 5,
    "start_time": "2023-04-24T07:45:45.751Z"
   },
   {
    "duration": 50,
    "start_time": "2023-04-24T07:45:45.758Z"
   },
   {
    "duration": 50,
    "start_time": "2023-04-24T07:45:45.810Z"
   },
   {
    "duration": 23,
    "start_time": "2023-04-24T07:45:45.863Z"
   },
   {
    "duration": 16,
    "start_time": "2023-04-24T07:45:45.888Z"
   },
   {
    "duration": 14,
    "start_time": "2023-04-24T07:45:45.905Z"
   },
   {
    "duration": 6,
    "start_time": "2023-04-24T07:45:45.921Z"
   },
   {
    "duration": 7,
    "start_time": "2023-04-24T07:45:45.929Z"
   },
   {
    "duration": 47,
    "start_time": "2023-04-24T07:45:45.938Z"
   },
   {
    "duration": 8,
    "start_time": "2023-04-24T07:45:45.987Z"
   },
   {
    "duration": 19,
    "start_time": "2023-04-24T07:45:45.997Z"
   },
   {
    "duration": 6,
    "start_time": "2023-04-24T07:45:46.019Z"
   },
   {
    "duration": 7,
    "start_time": "2023-04-24T07:45:46.027Z"
   },
   {
    "duration": 8,
    "start_time": "2023-04-24T07:45:46.036Z"
   },
   {
    "duration": 179,
    "start_time": "2023-04-24T07:45:46.086Z"
   },
   {
    "duration": 221,
    "start_time": "2023-04-24T07:45:46.267Z"
   },
   {
    "duration": 260,
    "start_time": "2023-04-24T07:45:46.490Z"
   },
   {
    "duration": 33,
    "start_time": "2023-04-24T07:45:46.752Z"
   },
   {
    "duration": 267,
    "start_time": "2023-04-24T07:45:50.925Z"
   },
   {
    "duration": 459,
    "start_time": "2023-04-24T07:46:02.429Z"
   },
   {
    "duration": 456,
    "start_time": "2023-04-24T07:46:24.917Z"
   },
   {
    "duration": 142,
    "start_time": "2023-04-24T07:46:36.220Z"
   },
   {
    "duration": 620,
    "start_time": "2023-04-24T07:46:43.758Z"
   },
   {
    "duration": 18,
    "start_time": "2023-04-24T07:59:19.443Z"
   },
   {
    "duration": 415,
    "start_time": "2023-04-24T08:01:33.960Z"
   },
   {
    "duration": 137,
    "start_time": "2023-04-24T08:21:22.519Z"
   },
   {
    "duration": 3,
    "start_time": "2023-04-24T08:43:07.160Z"
   },
   {
    "duration": 4,
    "start_time": "2023-04-24T09:09:58.243Z"
   },
   {
    "duration": 10,
    "start_time": "2023-04-24T09:25:40.134Z"
   },
   {
    "duration": 27,
    "start_time": "2023-04-24T09:25:45.429Z"
   },
   {
    "duration": 23,
    "start_time": "2023-04-24T09:36:56.157Z"
   },
   {
    "duration": 16,
    "start_time": "2023-04-24T09:37:14.933Z"
   },
   {
    "duration": 10,
    "start_time": "2023-04-24T09:39:29.410Z"
   },
   {
    "duration": 24,
    "start_time": "2023-04-24T09:41:13.727Z"
   },
   {
    "duration": 3,
    "start_time": "2023-04-24T09:42:31.333Z"
   },
   {
    "duration": 24,
    "start_time": "2023-04-24T09:42:36.870Z"
   },
   {
    "duration": 117,
    "start_time": "2023-04-24T09:43:19.157Z"
   },
   {
    "duration": 27,
    "start_time": "2023-04-24T09:43:24.012Z"
   },
   {
    "duration": 23,
    "start_time": "2023-04-24T09:43:42.395Z"
   },
   {
    "duration": 23,
    "start_time": "2023-04-24T09:44:49.770Z"
   },
   {
    "duration": 25,
    "start_time": "2023-04-24T09:45:08.594Z"
   },
   {
    "duration": 24,
    "start_time": "2023-04-24T09:45:18.043Z"
   },
   {
    "duration": 28,
    "start_time": "2023-04-24T09:45:26.891Z"
   },
   {
    "duration": 26,
    "start_time": "2023-04-24T09:45:31.234Z"
   },
   {
    "duration": 2,
    "start_time": "2023-04-24T09:47:59.701Z"
   },
   {
    "duration": 3,
    "start_time": "2023-04-24T09:48:18.781Z"
   },
   {
    "duration": 16,
    "start_time": "2023-04-24T09:52:41.343Z"
   },
   {
    "duration": 15,
    "start_time": "2023-04-24T09:53:36.646Z"
   },
   {
    "duration": 16,
    "start_time": "2023-04-24T09:53:56.662Z"
   },
   {
    "duration": 16,
    "start_time": "2023-04-24T09:54:07.293Z"
   },
   {
    "duration": 17,
    "start_time": "2023-04-24T09:54:31.045Z"
   },
   {
    "duration": 3,
    "start_time": "2023-04-24T09:55:57.274Z"
   },
   {
    "duration": 918,
    "start_time": "2023-04-24T09:56:59.649Z"
   },
   {
    "duration": 248,
    "start_time": "2023-04-24T09:57:12.497Z"
   },
   {
    "duration": 182,
    "start_time": "2023-04-24T09:57:21.224Z"
   },
   {
    "duration": 129,
    "start_time": "2023-04-24T09:57:25.056Z"
   },
   {
    "duration": 374,
    "start_time": "2023-04-24T09:57:30.768Z"
   },
   {
    "duration": 469,
    "start_time": "2023-04-24T09:57:41.639Z"
   },
   {
    "duration": 647,
    "start_time": "2023-04-24T09:57:45.455Z"
   },
   {
    "duration": 292,
    "start_time": "2023-04-24T09:57:53.840Z"
   },
   {
    "duration": 285,
    "start_time": "2023-04-24T09:57:57.448Z"
   },
   {
    "duration": 382,
    "start_time": "2023-04-24T09:58:05.879Z"
   },
   {
    "duration": 450,
    "start_time": "2023-04-24T09:58:25.447Z"
   },
   {
    "duration": 569,
    "start_time": "2023-04-24T09:58:36.142Z"
   },
   {
    "duration": 645,
    "start_time": "2023-04-24T09:58:43.591Z"
   },
   {
    "duration": 301,
    "start_time": "2023-04-24T09:58:48.470Z"
   },
   {
    "duration": 477,
    "start_time": "2023-04-24T09:58:54.046Z"
   },
   {
    "duration": 524,
    "start_time": "2023-04-24T09:59:16.119Z"
   },
   {
    "duration": 402,
    "start_time": "2023-04-24T10:00:02.900Z"
   },
   {
    "duration": 397,
    "start_time": "2023-04-24T10:00:22.868Z"
   },
   {
    "duration": 529,
    "start_time": "2023-04-24T10:00:58.803Z"
   },
   {
    "duration": 449,
    "start_time": "2023-04-24T10:01:17.451Z"
   },
   {
    "duration": 396,
    "start_time": "2023-04-24T10:01:25.474Z"
   },
   {
    "duration": 572,
    "start_time": "2023-04-24T10:01:38.186Z"
   },
   {
    "duration": 444,
    "start_time": "2023-04-24T10:02:00.627Z"
   },
   {
    "duration": 413,
    "start_time": "2023-04-24T10:02:07.082Z"
   },
   {
    "duration": 599,
    "start_time": "2023-04-24T10:05:00.135Z"
   },
   {
    "duration": 10,
    "start_time": "2023-04-24T12:45:00.315Z"
   },
   {
    "duration": 38,
    "start_time": "2023-04-24T12:45:04.786Z"
   },
   {
    "duration": 34,
    "start_time": "2023-04-24T12:51:43.035Z"
   },
   {
    "duration": 51,
    "start_time": "2023-04-24T13:22:41.828Z"
   },
   {
    "duration": 62,
    "start_time": "2023-04-24T13:25:26.089Z"
   },
   {
    "duration": 63,
    "start_time": "2023-04-24T13:25:45.095Z"
   },
   {
    "duration": 52,
    "start_time": "2023-04-24T13:26:46.846Z"
   },
   {
    "duration": 57,
    "start_time": "2023-04-24T13:27:00.517Z"
   },
   {
    "duration": 51,
    "start_time": "2023-04-24T13:27:17.805Z"
   },
   {
    "duration": 55,
    "start_time": "2023-04-24T13:28:03.540Z"
   },
   {
    "duration": 48,
    "start_time": "2023-04-24T13:28:33.227Z"
   },
   {
    "duration": 14,
    "start_time": "2023-04-24T13:29:19.603Z"
   },
   {
    "duration": 21,
    "start_time": "2023-04-24T13:29:37.746Z"
   },
   {
    "duration": 57,
    "start_time": "2023-04-24T13:29:52.233Z"
   },
   {
    "duration": 28,
    "start_time": "2023-04-24T13:30:15.792Z"
   },
   {
    "duration": 29,
    "start_time": "2023-04-24T13:34:13.051Z"
   },
   {
    "duration": 49,
    "start_time": "2023-04-24T13:37:06.239Z"
   },
   {
    "duration": 788,
    "start_time": "2023-04-24T13:40:49.347Z"
   },
   {
    "duration": 833,
    "start_time": "2023-04-24T13:42:57.631Z"
   },
   {
    "duration": 44,
    "start_time": "2023-04-24T13:45:34.047Z"
   },
   {
    "duration": 35,
    "start_time": "2023-04-24T13:47:06.490Z"
   },
   {
    "duration": 31,
    "start_time": "2023-04-24T13:47:10.494Z"
   },
   {
    "duration": 34,
    "start_time": "2023-04-24T13:49:19.990Z"
   },
   {
    "duration": 33,
    "start_time": "2023-04-24T13:49:32.841Z"
   },
   {
    "duration": 34,
    "start_time": "2023-04-24T13:49:44.979Z"
   },
   {
    "duration": 35,
    "start_time": "2023-04-24T13:49:55.128Z"
   },
   {
    "duration": 34,
    "start_time": "2023-04-24T13:51:09.399Z"
   },
   {
    "duration": 15,
    "start_time": "2023-04-24T14:14:48.630Z"
   },
   {
    "duration": 33,
    "start_time": "2023-04-24T14:27:54.628Z"
   },
   {
    "duration": 30,
    "start_time": "2023-04-24T14:28:03.682Z"
   },
   {
    "duration": 20,
    "start_time": "2023-04-24T14:39:28.724Z"
   },
   {
    "duration": 20,
    "start_time": "2023-04-24T14:39:44.635Z"
   },
   {
    "duration": 19,
    "start_time": "2023-04-24T14:40:11.306Z"
   },
   {
    "duration": 16,
    "start_time": "2023-04-24T14:43:58.310Z"
   },
   {
    "duration": 16,
    "start_time": "2023-04-24T14:44:03.245Z"
   },
   {
    "duration": 16,
    "start_time": "2023-04-24T14:44:11.486Z"
   },
   {
    "duration": 17,
    "start_time": "2023-04-24T14:44:14.845Z"
   },
   {
    "duration": 34,
    "start_time": "2023-04-24T14:47:22.937Z"
   },
   {
    "duration": 43,
    "start_time": "2023-04-24T14:47:35.336Z"
   },
   {
    "duration": 142,
    "start_time": "2023-04-24T15:09:21.233Z"
   },
   {
    "duration": 12,
    "start_time": "2023-04-24T15:10:24.014Z"
   },
   {
    "duration": 11,
    "start_time": "2023-04-24T15:10:52.261Z"
   },
   {
    "duration": 13,
    "start_time": "2023-04-24T15:13:00.387Z"
   },
   {
    "duration": 7685,
    "start_time": "2023-04-24T15:14:12.778Z"
   },
   {
    "duration": 7772,
    "start_time": "2023-04-24T15:15:30.890Z"
   },
   {
    "duration": 19,
    "start_time": "2023-04-24T15:18:21.152Z"
   },
   {
    "duration": 15,
    "start_time": "2023-04-24T15:19:06.755Z"
   },
   {
    "duration": 16,
    "start_time": "2023-04-24T15:19:55.449Z"
   },
   {
    "duration": 18,
    "start_time": "2023-04-24T15:20:32.449Z"
   },
   {
    "duration": 7638,
    "start_time": "2023-04-24T15:21:29.727Z"
   },
   {
    "duration": 10,
    "start_time": "2023-04-24T15:23:17.490Z"
   },
   {
    "duration": 24,
    "start_time": "2023-04-24T15:23:24.533Z"
   },
   {
    "duration": 21,
    "start_time": "2023-04-24T15:24:15.940Z"
   },
   {
    "duration": 6629,
    "start_time": "2023-04-24T15:24:25.107Z"
   },
   {
    "duration": 6902,
    "start_time": "2023-04-24T15:26:04.130Z"
   },
   {
    "duration": 6736,
    "start_time": "2023-04-24T15:27:25.199Z"
   },
   {
    "duration": 6860,
    "start_time": "2023-04-24T15:27:44.838Z"
   },
   {
    "duration": 7351,
    "start_time": "2023-04-24T15:28:05.991Z"
   },
   {
    "duration": 2345,
    "start_time": "2023-04-24T15:29:47.623Z"
   },
   {
    "duration": 2514,
    "start_time": "2023-04-24T15:31:28.937Z"
   },
   {
    "duration": 2132,
    "start_time": "2023-04-24T15:33:24.793Z"
   },
   {
    "duration": 2048,
    "start_time": "2023-04-24T15:36:21.884Z"
   },
   {
    "duration": 2279,
    "start_time": "2023-04-24T15:36:34.290Z"
   },
   {
    "duration": 2195,
    "start_time": "2023-04-24T15:37:15.512Z"
   },
   {
    "duration": 2387,
    "start_time": "2023-04-24T15:37:22.243Z"
   },
   {
    "duration": 2261,
    "start_time": "2023-04-24T15:40:44.212Z"
   },
   {
    "duration": 7742,
    "start_time": "2023-04-24T15:41:20.401Z"
   },
   {
    "duration": 8539,
    "start_time": "2023-04-24T15:41:34.403Z"
   },
   {
    "duration": 3,
    "start_time": "2023-04-24T15:42:47.409Z"
   },
   {
    "duration": 0,
    "start_time": "2023-04-24T15:43:58.740Z"
   },
   {
    "duration": 1225,
    "start_time": "2023-04-24T15:44:17.821Z"
   },
   {
    "duration": 2,
    "start_time": "2023-04-24T15:44:19.049Z"
   },
   {
    "duration": 7,
    "start_time": "2023-04-24T15:44:19.053Z"
   },
   {
    "duration": 40,
    "start_time": "2023-04-24T15:44:19.061Z"
   },
   {
    "duration": 36,
    "start_time": "2023-04-24T15:44:19.104Z"
   },
   {
    "duration": 22,
    "start_time": "2023-04-24T15:44:19.142Z"
   },
   {
    "duration": 16,
    "start_time": "2023-04-24T15:44:19.165Z"
   },
   {
    "duration": 13,
    "start_time": "2023-04-24T15:44:19.183Z"
   },
   {
    "duration": 6,
    "start_time": "2023-04-24T15:44:19.197Z"
   },
   {
    "duration": 11,
    "start_time": "2023-04-24T15:44:19.205Z"
   },
   {
    "duration": 11,
    "start_time": "2023-04-24T15:44:19.218Z"
   },
   {
    "duration": 6,
    "start_time": "2023-04-24T15:44:19.231Z"
   },
   {
    "duration": 15,
    "start_time": "2023-04-24T15:44:19.239Z"
   },
   {
    "duration": 4,
    "start_time": "2023-04-24T15:44:19.285Z"
   },
   {
    "duration": 8,
    "start_time": "2023-04-24T15:44:19.291Z"
   },
   {
    "duration": 9,
    "start_time": "2023-04-24T15:44:19.300Z"
   },
   {
    "duration": 190,
    "start_time": "2023-04-24T15:44:19.310Z"
   },
   {
    "duration": 200,
    "start_time": "2023-04-24T15:44:19.502Z"
   },
   {
    "duration": 262,
    "start_time": "2023-04-24T15:44:19.704Z"
   },
   {
    "duration": 21,
    "start_time": "2023-04-24T15:44:19.968Z"
   },
   {
    "duration": 388,
    "start_time": "2023-04-24T15:44:19.990Z"
   },
   {
    "duration": 141,
    "start_time": "2023-04-24T15:44:20.380Z"
   },
   {
    "duration": 28,
    "start_time": "2023-04-24T15:44:20.523Z"
   },
   {
    "duration": 37,
    "start_time": "2023-04-24T15:44:20.553Z"
   },
   {
    "duration": 15,
    "start_time": "2023-04-24T15:44:20.592Z"
   },
   {
    "duration": 519,
    "start_time": "2023-04-24T15:44:20.609Z"
   },
   {
    "duration": 462,
    "start_time": "2023-04-24T15:44:21.129Z"
   },
   {
    "duration": 34,
    "start_time": "2023-04-24T15:44:21.593Z"
   },
   {
    "duration": 0,
    "start_time": "2023-04-24T15:47:22.344Z"
   },
   {
    "duration": 53,
    "start_time": "2023-04-24T15:47:47.308Z"
   },
   {
    "duration": 1277,
    "start_time": "2023-04-24T15:47:54.840Z"
   },
   {
    "duration": 3,
    "start_time": "2023-04-24T15:47:56.119Z"
   },
   {
    "duration": 5,
    "start_time": "2023-04-24T15:47:56.123Z"
   },
   {
    "duration": 40,
    "start_time": "2023-04-24T15:47:56.130Z"
   },
   {
    "duration": 38,
    "start_time": "2023-04-24T15:47:56.172Z"
   },
   {
    "duration": 24,
    "start_time": "2023-04-24T15:47:56.212Z"
   },
   {
    "duration": 15,
    "start_time": "2023-04-24T15:47:56.238Z"
   },
   {
    "duration": 16,
    "start_time": "2023-04-24T15:47:56.255Z"
   },
   {
    "duration": 15,
    "start_time": "2023-04-24T15:47:56.273Z"
   },
   {
    "duration": 5,
    "start_time": "2023-04-24T15:47:56.290Z"
   },
   {
    "duration": 12,
    "start_time": "2023-04-24T15:47:56.297Z"
   },
   {
    "duration": 6,
    "start_time": "2023-04-24T15:47:56.311Z"
   },
   {
    "duration": 12,
    "start_time": "2023-04-24T15:47:56.318Z"
   },
   {
    "duration": 4,
    "start_time": "2023-04-24T15:47:56.333Z"
   },
   {
    "duration": 11,
    "start_time": "2023-04-24T15:47:56.339Z"
   },
   {
    "duration": 39,
    "start_time": "2023-04-24T15:47:56.351Z"
   },
   {
    "duration": 202,
    "start_time": "2023-04-24T15:47:56.392Z"
   },
   {
    "duration": 217,
    "start_time": "2023-04-24T15:47:56.596Z"
   },
   {
    "duration": 276,
    "start_time": "2023-04-24T15:47:56.815Z"
   },
   {
    "duration": 18,
    "start_time": "2023-04-24T15:47:57.093Z"
   },
   {
    "duration": 415,
    "start_time": "2023-04-24T15:47:57.113Z"
   },
   {
    "duration": 145,
    "start_time": "2023-04-24T15:47:57.530Z"
   },
   {
    "duration": 36,
    "start_time": "2023-04-24T15:47:57.677Z"
   },
   {
    "duration": 17,
    "start_time": "2023-04-24T15:47:57.714Z"
   },
   {
    "duration": 16,
    "start_time": "2023-04-24T15:47:57.732Z"
   },
   {
    "duration": 550,
    "start_time": "2023-04-24T15:47:57.749Z"
   },
   {
    "duration": 488,
    "start_time": "2023-04-24T15:47:58.301Z"
   },
   {
    "duration": 33,
    "start_time": "2023-04-24T15:47:58.791Z"
   },
   {
    "duration": 16478,
    "start_time": "2023-04-24T15:48:08.420Z"
   },
   {
    "duration": 16767,
    "start_time": "2023-04-24T15:48:32.797Z"
   },
   {
    "duration": 16651,
    "start_time": "2023-04-24T15:50:06.089Z"
   },
   {
    "duration": 5,
    "start_time": "2023-04-24T15:55:30.901Z"
   },
   {
    "duration": 5,
    "start_time": "2023-04-24T15:55:52.914Z"
   },
   {
    "duration": 5,
    "start_time": "2023-04-24T15:56:18.501Z"
   },
   {
    "duration": 14,
    "start_time": "2023-04-24T15:57:14.647Z"
   },
   {
    "duration": 20,
    "start_time": "2023-04-24T15:57:20.320Z"
   },
   {
    "duration": 23,
    "start_time": "2023-04-24T15:58:03.151Z"
   },
   {
    "duration": 30,
    "start_time": "2023-04-24T15:58:13.238Z"
   },
   {
    "duration": 27,
    "start_time": "2023-04-24T15:58:36.394Z"
   },
   {
    "duration": 37,
    "start_time": "2023-04-24T15:59:11.451Z"
   },
   {
    "duration": 43,
    "start_time": "2023-04-24T15:59:27.699Z"
   },
   {
    "duration": 99,
    "start_time": "2023-04-24T15:59:47.446Z"
   },
   {
    "duration": 35,
    "start_time": "2023-04-24T15:59:53.141Z"
   },
   {
    "duration": 41,
    "start_time": "2023-04-24T16:00:02.329Z"
   },
   {
    "duration": 46,
    "start_time": "2023-04-24T16:00:23.785Z"
   },
   {
    "duration": 56,
    "start_time": "2023-04-24T16:00:35.698Z"
   },
   {
    "duration": 44,
    "start_time": "2023-04-24T16:00:41.411Z"
   },
   {
    "duration": 45,
    "start_time": "2023-04-24T16:01:16.926Z"
   },
   {
    "duration": 46,
    "start_time": "2023-04-24T16:01:41.642Z"
   },
   {
    "duration": 47,
    "start_time": "2023-04-24T16:02:01.921Z"
   },
   {
    "duration": 47,
    "start_time": "2023-04-24T16:02:13.301Z"
   },
   {
    "duration": 12,
    "start_time": "2023-04-24T16:05:15.788Z"
   },
   {
    "duration": 6,
    "start_time": "2023-04-24T16:06:23.515Z"
   },
   {
    "duration": 8,
    "start_time": "2023-04-24T16:07:13.650Z"
   },
   {
    "duration": 7,
    "start_time": "2023-04-24T16:07:37.641Z"
   },
   {
    "duration": 7,
    "start_time": "2023-04-24T16:07:51.782Z"
   },
   {
    "duration": 16905,
    "start_time": "2023-04-24T16:09:07.231Z"
   },
   {
    "duration": 16336,
    "start_time": "2023-04-24T16:10:34.686Z"
   },
   {
    "duration": 16550,
    "start_time": "2023-04-24T16:10:54.758Z"
   },
   {
    "duration": 30,
    "start_time": "2023-04-24T20:25:08.403Z"
   },
   {
    "duration": 40,
    "start_time": "2023-04-24T20:28:50.610Z"
   },
   {
    "duration": 46,
    "start_time": "2023-04-24T20:29:51.385Z"
   },
   {
    "duration": 49,
    "start_time": "2023-04-24T20:30:22.439Z"
   },
   {
    "duration": 63,
    "start_time": "2023-04-24T20:30:30.262Z"
   },
   {
    "duration": 4,
    "start_time": "2023-04-24T20:31:07.905Z"
   },
   {
    "duration": 3,
    "start_time": "2023-04-24T20:31:07.912Z"
   },
   {
    "duration": 4,
    "start_time": "2023-04-24T20:31:07.917Z"
   },
   {
    "duration": 49,
    "start_time": "2023-04-24T20:31:07.923Z"
   },
   {
    "duration": 48,
    "start_time": "2023-04-24T20:31:07.976Z"
   },
   {
    "duration": 24,
    "start_time": "2023-04-24T20:31:08.026Z"
   },
   {
    "duration": 24,
    "start_time": "2023-04-24T20:31:08.053Z"
   },
   {
    "duration": 12,
    "start_time": "2023-04-24T20:31:08.085Z"
   },
   {
    "duration": 7,
    "start_time": "2023-04-24T20:31:08.099Z"
   },
   {
    "duration": 20,
    "start_time": "2023-04-24T20:31:08.108Z"
   },
   {
    "duration": 55,
    "start_time": "2023-04-24T20:31:08.130Z"
   },
   {
    "duration": 23,
    "start_time": "2023-04-24T20:31:08.188Z"
   },
   {
    "duration": 18,
    "start_time": "2023-04-24T20:31:08.213Z"
   },
   {
    "duration": 6,
    "start_time": "2023-04-24T20:31:08.235Z"
   },
   {
    "duration": 8,
    "start_time": "2023-04-24T20:31:08.243Z"
   },
   {
    "duration": 10,
    "start_time": "2023-04-24T20:31:08.285Z"
   },
   {
    "duration": 220,
    "start_time": "2023-04-24T20:31:08.297Z"
   },
   {
    "duration": 207,
    "start_time": "2023-04-24T20:31:08.520Z"
   },
   {
    "duration": 346,
    "start_time": "2023-04-24T20:31:08.729Z"
   },
   {
    "duration": 20,
    "start_time": "2023-04-24T20:31:09.077Z"
   },
   {
    "duration": 461,
    "start_time": "2023-04-24T20:31:09.100Z"
   },
   {
    "duration": 160,
    "start_time": "2023-04-24T20:31:09.563Z"
   },
   {
    "duration": 28,
    "start_time": "2023-04-24T20:31:09.725Z"
   },
   {
    "duration": 49,
    "start_time": "2023-04-24T20:31:09.756Z"
   },
   {
    "duration": 20,
    "start_time": "2023-04-24T20:31:09.807Z"
   },
   {
    "duration": 458,
    "start_time": "2023-04-24T20:31:09.829Z"
   },
   {
    "duration": 602,
    "start_time": "2023-04-24T20:31:10.288Z"
   },
   {
    "duration": 5,
    "start_time": "2023-04-24T20:31:10.892Z"
   },
   {
    "duration": 53,
    "start_time": "2023-04-24T20:31:10.898Z"
   },
   {
    "duration": 29,
    "start_time": "2023-04-24T20:31:33.340Z"
   },
   {
    "duration": 36,
    "start_time": "2023-04-24T20:32:42.395Z"
   },
   {
    "duration": 35,
    "start_time": "2023-04-24T20:32:46.132Z"
   },
   {
    "duration": 3,
    "start_time": "2023-04-24T20:33:55.460Z"
   },
   {
    "duration": 5,
    "start_time": "2023-04-24T20:33:55.465Z"
   },
   {
    "duration": 4,
    "start_time": "2023-04-24T20:33:55.472Z"
   },
   {
    "duration": 38,
    "start_time": "2023-04-24T20:33:55.479Z"
   },
   {
    "duration": 37,
    "start_time": "2023-04-24T20:33:55.519Z"
   },
   {
    "duration": 25,
    "start_time": "2023-04-24T20:33:55.557Z"
   },
   {
    "duration": 19,
    "start_time": "2023-04-24T20:33:55.584Z"
   },
   {
    "duration": 15,
    "start_time": "2023-04-24T20:33:55.605Z"
   },
   {
    "duration": 8,
    "start_time": "2023-04-24T20:33:55.623Z"
   },
   {
    "duration": 7,
    "start_time": "2023-04-24T20:33:55.633Z"
   },
   {
    "duration": 10,
    "start_time": "2023-04-24T20:33:55.686Z"
   },
   {
    "duration": 7,
    "start_time": "2023-04-24T20:33:55.698Z"
   },
   {
    "duration": 15,
    "start_time": "2023-04-24T20:33:55.707Z"
   },
   {
    "duration": 8,
    "start_time": "2023-04-24T20:33:55.724Z"
   },
   {
    "duration": 58,
    "start_time": "2023-04-24T20:33:55.735Z"
   },
   {
    "duration": 12,
    "start_time": "2023-04-24T20:33:55.794Z"
   },
   {
    "duration": 246,
    "start_time": "2023-04-24T20:33:55.808Z"
   },
   {
    "duration": 213,
    "start_time": "2023-04-24T20:33:56.056Z"
   },
   {
    "duration": 265,
    "start_time": "2023-04-24T20:33:56.271Z"
   },
   {
    "duration": 17,
    "start_time": "2023-04-24T20:33:56.539Z"
   },
   {
    "duration": 457,
    "start_time": "2023-04-24T20:33:56.557Z"
   },
   {
    "duration": 157,
    "start_time": "2023-04-24T20:33:57.016Z"
   },
   {
    "duration": 39,
    "start_time": "2023-04-24T20:33:57.175Z"
   },
   {
    "duration": 18,
    "start_time": "2023-04-24T20:33:57.216Z"
   },
   {
    "duration": 51,
    "start_time": "2023-04-24T20:33:57.236Z"
   },
   {
    "duration": 588,
    "start_time": "2023-04-24T20:33:57.289Z"
   },
   {
    "duration": 520,
    "start_time": "2023-04-24T20:33:57.884Z"
   },
   {
    "duration": 8,
    "start_time": "2023-04-24T20:33:58.408Z"
   },
   {
    "duration": 104,
    "start_time": "2023-04-24T20:33:58.419Z"
   },
   {
    "duration": 43,
    "start_time": "2023-04-24T20:34:01.803Z"
   },
   {
    "duration": 32,
    "start_time": "2023-04-24T20:34:04.503Z"
   },
   {
    "duration": 35,
    "start_time": "2023-04-24T20:34:14.959Z"
   },
   {
    "duration": 3,
    "start_time": "2023-04-24T20:34:18.611Z"
   },
   {
    "duration": 13,
    "start_time": "2023-04-24T20:34:18.617Z"
   },
   {
    "duration": 6,
    "start_time": "2023-04-24T20:34:18.633Z"
   },
   {
    "duration": 37,
    "start_time": "2023-04-24T20:34:18.641Z"
   },
   {
    "duration": 37,
    "start_time": "2023-04-24T20:34:18.680Z"
   },
   {
    "duration": 23,
    "start_time": "2023-04-24T20:34:18.719Z"
   },
   {
    "duration": 16,
    "start_time": "2023-04-24T20:34:18.744Z"
   },
   {
    "duration": 10,
    "start_time": "2023-04-24T20:34:18.761Z"
   },
   {
    "duration": 19,
    "start_time": "2023-04-24T20:34:18.773Z"
   },
   {
    "duration": 13,
    "start_time": "2023-04-24T20:34:18.795Z"
   },
   {
    "duration": 8,
    "start_time": "2023-04-24T20:34:18.809Z"
   },
   {
    "duration": 5,
    "start_time": "2023-04-24T20:34:18.819Z"
   },
   {
    "duration": 13,
    "start_time": "2023-04-24T20:34:18.826Z"
   },
   {
    "duration": 46,
    "start_time": "2023-04-24T20:34:18.840Z"
   },
   {
    "duration": 7,
    "start_time": "2023-04-24T20:34:18.888Z"
   },
   {
    "duration": 8,
    "start_time": "2023-04-24T20:34:18.897Z"
   },
   {
    "duration": 195,
    "start_time": "2023-04-24T20:34:18.907Z"
   },
   {
    "duration": 206,
    "start_time": "2023-04-24T20:34:19.103Z"
   },
   {
    "duration": 263,
    "start_time": "2023-04-24T20:34:19.311Z"
   },
   {
    "duration": 23,
    "start_time": "2023-04-24T20:34:19.575Z"
   },
   {
    "duration": 472,
    "start_time": "2023-04-24T20:34:19.601Z"
   },
   {
    "duration": 153,
    "start_time": "2023-04-24T20:34:20.074Z"
   },
   {
    "duration": 26,
    "start_time": "2023-04-24T20:34:20.228Z"
   },
   {
    "duration": 37,
    "start_time": "2023-04-24T20:34:20.256Z"
   },
   {
    "duration": 17,
    "start_time": "2023-04-24T20:34:20.294Z"
   },
   {
    "duration": 443,
    "start_time": "2023-04-24T20:34:20.313Z"
   },
   {
    "duration": 465,
    "start_time": "2023-04-24T20:34:20.758Z"
   },
   {
    "duration": 6,
    "start_time": "2023-04-24T20:34:21.227Z"
   },
   {
    "duration": 79,
    "start_time": "2023-04-24T20:34:21.234Z"
   },
   {
    "duration": 28,
    "start_time": "2023-04-24T20:34:21.314Z"
   },
   {
    "duration": 29,
    "start_time": "2023-04-24T20:34:26.220Z"
   },
   {
    "duration": 34,
    "start_time": "2023-04-24T20:34:30.201Z"
   },
   {
    "duration": 3,
    "start_time": "2023-04-24T20:34:35.349Z"
   },
   {
    "duration": 5,
    "start_time": "2023-04-24T20:34:35.353Z"
   },
   {
    "duration": 7,
    "start_time": "2023-04-24T20:34:35.359Z"
   },
   {
    "duration": 40,
    "start_time": "2023-04-24T20:34:35.368Z"
   },
   {
    "duration": 36,
    "start_time": "2023-04-24T20:34:35.410Z"
   },
   {
    "duration": 24,
    "start_time": "2023-04-24T20:34:35.448Z"
   },
   {
    "duration": 18,
    "start_time": "2023-04-24T20:34:35.474Z"
   },
   {
    "duration": 11,
    "start_time": "2023-04-24T20:34:35.494Z"
   },
   {
    "duration": 6,
    "start_time": "2023-04-24T20:34:35.507Z"
   },
   {
    "duration": 10,
    "start_time": "2023-04-24T20:34:35.515Z"
   },
   {
    "duration": 9,
    "start_time": "2023-04-24T20:34:35.527Z"
   },
   {
    "duration": 50,
    "start_time": "2023-04-24T20:34:35.537Z"
   },
   {
    "duration": 17,
    "start_time": "2023-04-24T20:34:35.588Z"
   },
   {
    "duration": 4,
    "start_time": "2023-04-24T20:34:35.609Z"
   },
   {
    "duration": 10,
    "start_time": "2023-04-24T20:34:35.615Z"
   },
   {
    "duration": 12,
    "start_time": "2023-04-24T20:34:35.627Z"
   },
   {
    "duration": 213,
    "start_time": "2023-04-24T20:34:35.640Z"
   },
   {
    "duration": 307,
    "start_time": "2023-04-24T20:34:35.855Z"
   },
   {
    "duration": 252,
    "start_time": "2023-04-24T20:34:36.164Z"
   },
   {
    "duration": 18,
    "start_time": "2023-04-24T20:34:36.418Z"
   },
   {
    "duration": 415,
    "start_time": "2023-04-24T20:34:36.438Z"
   },
   {
    "duration": 158,
    "start_time": "2023-04-24T20:34:36.855Z"
   },
   {
    "duration": 27,
    "start_time": "2023-04-24T20:34:37.015Z"
   },
   {
    "duration": 16,
    "start_time": "2023-04-24T20:34:37.044Z"
   },
   {
    "duration": 26,
    "start_time": "2023-04-24T20:34:37.086Z"
   },
   {
    "duration": 535,
    "start_time": "2023-04-24T20:34:37.115Z"
   },
   {
    "duration": 618,
    "start_time": "2023-04-24T20:34:37.652Z"
   },
   {
    "duration": 17,
    "start_time": "2023-04-24T20:34:38.272Z"
   },
   {
    "duration": 60,
    "start_time": "2023-04-24T20:34:38.290Z"
   },
   {
    "duration": 30,
    "start_time": "2023-04-24T20:34:41.319Z"
   },
   {
    "duration": 2,
    "start_time": "2023-04-24T20:36:03.069Z"
   },
   {
    "duration": 10,
    "start_time": "2023-04-24T20:36:03.073Z"
   },
   {
    "duration": 17,
    "start_time": "2023-04-24T20:36:03.084Z"
   },
   {
    "duration": 39,
    "start_time": "2023-04-24T20:36:03.103Z"
   },
   {
    "duration": 35,
    "start_time": "2023-04-24T20:36:03.144Z"
   },
   {
    "duration": 23,
    "start_time": "2023-04-24T20:36:03.180Z"
   },
   {
    "duration": 16,
    "start_time": "2023-04-24T20:36:03.205Z"
   },
   {
    "duration": 16,
    "start_time": "2023-04-24T20:36:03.222Z"
   },
   {
    "duration": 37,
    "start_time": "2023-04-24T20:36:03.240Z"
   },
   {
    "duration": 10,
    "start_time": "2023-04-24T20:36:03.279Z"
   },
   {
    "duration": 10,
    "start_time": "2023-04-24T20:36:03.291Z"
   },
   {
    "duration": 5,
    "start_time": "2023-04-24T20:36:03.303Z"
   },
   {
    "duration": 15,
    "start_time": "2023-04-24T20:36:03.309Z"
   },
   {
    "duration": 4,
    "start_time": "2023-04-24T20:36:03.326Z"
   },
   {
    "duration": 25,
    "start_time": "2023-04-24T20:36:03.332Z"
   },
   {
    "duration": 9,
    "start_time": "2023-04-24T20:36:03.384Z"
   },
   {
    "duration": 163,
    "start_time": "2023-04-24T20:36:03.394Z"
   },
   {
    "duration": 200,
    "start_time": "2023-04-24T20:36:03.559Z"
   },
   {
    "duration": 290,
    "start_time": "2023-04-24T20:36:03.762Z"
   },
   {
    "duration": 31,
    "start_time": "2023-04-24T20:36:04.054Z"
   },
   {
    "duration": 407,
    "start_time": "2023-04-24T20:36:04.088Z"
   },
   {
    "duration": 245,
    "start_time": "2023-04-24T20:36:04.497Z"
   },
   {
    "duration": 42,
    "start_time": "2023-04-24T20:36:04.744Z"
   },
   {
    "duration": 17,
    "start_time": "2023-04-24T20:36:04.789Z"
   },
   {
    "duration": 17,
    "start_time": "2023-04-24T20:36:04.808Z"
   },
   {
    "duration": 448,
    "start_time": "2023-04-24T20:36:04.827Z"
   },
   {
    "duration": 462,
    "start_time": "2023-04-24T20:36:05.285Z"
   },
   {
    "duration": 5,
    "start_time": "2023-04-24T20:36:05.749Z"
   },
   {
    "duration": 72,
    "start_time": "2023-04-24T20:36:05.755Z"
   },
   {
    "duration": 29,
    "start_time": "2023-04-24T20:36:05.829Z"
   },
   {
    "duration": 16800,
    "start_time": "2023-04-24T20:39:18.327Z"
   },
   {
    "duration": 16101,
    "start_time": "2023-04-24T20:39:40.732Z"
   },
   {
    "duration": 228,
    "start_time": "2023-04-24T20:47:51.826Z"
   },
   {
    "duration": 6,
    "start_time": "2023-04-24T20:47:59.839Z"
   },
   {
    "duration": 20,
    "start_time": "2023-04-24T20:48:08.111Z"
   },
   {
    "duration": 31,
    "start_time": "2023-04-24T20:48:49.302Z"
   },
   {
    "duration": 16,
    "start_time": "2023-04-24T20:50:16.245Z"
   },
   {
    "duration": 3,
    "start_time": "2023-04-25T06:05:21.625Z"
   },
   {
    "duration": 7,
    "start_time": "2023-04-25T06:05:21.630Z"
   },
   {
    "duration": 12,
    "start_time": "2023-04-25T06:05:21.638Z"
   },
   {
    "duration": 50,
    "start_time": "2023-04-25T06:05:21.652Z"
   },
   {
    "duration": 41,
    "start_time": "2023-04-25T06:05:21.704Z"
   },
   {
    "duration": 24,
    "start_time": "2023-04-25T06:05:21.747Z"
   },
   {
    "duration": 23,
    "start_time": "2023-04-25T06:05:21.773Z"
   },
   {
    "duration": 13,
    "start_time": "2023-04-25T06:05:21.798Z"
   },
   {
    "duration": 5,
    "start_time": "2023-04-25T06:05:21.813Z"
   },
   {
    "duration": 7,
    "start_time": "2023-04-25T06:05:21.820Z"
   },
   {
    "duration": 7,
    "start_time": "2023-04-25T06:05:21.831Z"
   },
   {
    "duration": 19,
    "start_time": "2023-04-25T06:05:21.840Z"
   },
   {
    "duration": 45,
    "start_time": "2023-04-25T06:05:21.861Z"
   },
   {
    "duration": 5,
    "start_time": "2023-04-25T06:05:21.908Z"
   },
   {
    "duration": 6,
    "start_time": "2023-04-25T06:05:21.915Z"
   },
   {
    "duration": 11,
    "start_time": "2023-04-25T06:05:21.923Z"
   },
   {
    "duration": 288,
    "start_time": "2023-04-25T06:05:21.936Z"
   },
   {
    "duration": 196,
    "start_time": "2023-04-25T06:05:22.226Z"
   },
   {
    "duration": 266,
    "start_time": "2023-04-25T06:05:22.424Z"
   },
   {
    "duration": 19,
    "start_time": "2023-04-25T06:05:22.691Z"
   },
   {
    "duration": 425,
    "start_time": "2023-04-25T06:05:22.712Z"
   },
   {
    "duration": 146,
    "start_time": "2023-04-25T06:05:23.139Z"
   },
   {
    "duration": 27,
    "start_time": "2023-04-25T06:05:23.287Z"
   },
   {
    "duration": 15,
    "start_time": "2023-04-25T06:05:23.315Z"
   },
   {
    "duration": 15,
    "start_time": "2023-04-25T06:05:23.332Z"
   },
   {
    "duration": 536,
    "start_time": "2023-04-25T06:05:23.349Z"
   },
   {
    "duration": 538,
    "start_time": "2023-04-25T06:05:23.887Z"
   },
   {
    "duration": 16595,
    "start_time": "2023-04-25T06:05:24.427Z"
   },
   {
    "duration": 48,
    "start_time": "2023-04-25T06:05:41.025Z"
   },
   {
    "duration": 27,
    "start_time": "2023-04-25T06:05:41.085Z"
   },
   {
    "duration": 14,
    "start_time": "2023-04-25T06:05:41.113Z"
   },
   {
    "duration": 3,
    "start_time": "2023-04-25T06:39:52.136Z"
   },
   {
    "duration": 3,
    "start_time": "2023-04-25T07:10:01.243Z"
   },
   {
    "duration": 10,
    "start_time": "2023-04-25T07:12:27.224Z"
   },
   {
    "duration": 10,
    "start_time": "2023-04-25T07:12:50.696Z"
   },
   {
    "duration": 6,
    "start_time": "2023-04-25T07:17:17.113Z"
   },
   {
    "duration": 6,
    "start_time": "2023-04-25T07:18:36.168Z"
   },
   {
    "duration": 6,
    "start_time": "2023-04-25T07:28:02.706Z"
   },
   {
    "duration": 5,
    "start_time": "2023-04-25T07:28:05.082Z"
   },
   {
    "duration": 6,
    "start_time": "2023-04-25T07:28:07.330Z"
   },
   {
    "duration": 5,
    "start_time": "2023-04-25T08:01:56.147Z"
   },
   {
    "duration": 5,
    "start_time": "2023-04-25T08:02:23.011Z"
   },
   {
    "duration": 6,
    "start_time": "2023-04-25T08:06:41.716Z"
   },
   {
    "duration": 11,
    "start_time": "2023-04-25T08:43:11.625Z"
   },
   {
    "duration": 17,
    "start_time": "2023-04-25T08:43:18.600Z"
   },
   {
    "duration": 78,
    "start_time": "2023-04-25T08:43:42.316Z"
   },
   {
    "duration": 14,
    "start_time": "2023-04-25T08:43:46.999Z"
   },
   {
    "duration": 19,
    "start_time": "2023-04-25T08:45:32.372Z"
   },
   {
    "duration": 20,
    "start_time": "2023-04-25T08:46:46.292Z"
   },
   {
    "duration": 18,
    "start_time": "2023-04-25T08:48:18.651Z"
   },
   {
    "duration": 22,
    "start_time": "2023-04-25T08:48:45.685Z"
   },
   {
    "duration": 21,
    "start_time": "2023-04-25T08:48:56.316Z"
   },
   {
    "duration": 20,
    "start_time": "2023-04-25T08:49:03.902Z"
   },
   {
    "duration": 6,
    "start_time": "2023-04-25T09:05:07.608Z"
   },
   {
    "duration": 6,
    "start_time": "2023-04-25T09:05:59.898Z"
   },
   {
    "duration": 29,
    "start_time": "2023-04-25T09:07:05.033Z"
   },
   {
    "duration": 5,
    "start_time": "2023-04-25T09:25:13.009Z"
   },
   {
    "duration": 5,
    "start_time": "2023-04-25T09:25:26.848Z"
   },
   {
    "duration": 5,
    "start_time": "2023-04-25T09:27:34.684Z"
   },
   {
    "duration": 5,
    "start_time": "2023-04-25T09:29:17.555Z"
   },
   {
    "duration": 5,
    "start_time": "2023-04-25T09:36:19.066Z"
   },
   {
    "duration": 27,
    "start_time": "2023-04-25T09:36:21.603Z"
   },
   {
    "duration": 27,
    "start_time": "2023-04-25T09:37:47.173Z"
   },
   {
    "duration": 23,
    "start_time": "2023-04-25T09:38:14.695Z"
   },
   {
    "duration": 6,
    "start_time": "2023-04-25T09:39:45.133Z"
   },
   {
    "duration": 2,
    "start_time": "2023-04-25T09:42:20.576Z"
   },
   {
    "duration": 21,
    "start_time": "2023-04-25T09:42:27.128Z"
   },
   {
    "duration": 3,
    "start_time": "2023-04-25T10:07:25.286Z"
   },
   {
    "duration": 12,
    "start_time": "2023-04-25T10:22:27.017Z"
   },
   {
    "duration": 3,
    "start_time": "2023-04-25T10:22:39.536Z"
   },
   {
    "duration": 385,
    "start_time": "2023-04-25T10:22:43.617Z"
   },
   {
    "duration": 253,
    "start_time": "2023-04-25T10:29:56.305Z"
   },
   {
    "duration": 197,
    "start_time": "2023-04-25T10:37:34.150Z"
   },
   {
    "duration": 351,
    "start_time": "2023-04-25T10:42:20.752Z"
   },
   {
    "duration": 106,
    "start_time": "2023-04-25T10:42:39.598Z"
   },
   {
    "duration": 242,
    "start_time": "2023-04-25T10:43:19.549Z"
   },
   {
    "duration": 1516,
    "start_time": "2023-04-25T10:46:12.240Z"
   },
   {
    "duration": 77,
    "start_time": "2023-04-25T10:47:17.899Z"
   },
   {
    "duration": 152,
    "start_time": "2023-04-25T10:47:34.006Z"
   },
   {
    "duration": 81,
    "start_time": "2023-04-25T10:47:42.638Z"
   },
   {
    "duration": 91,
    "start_time": "2023-04-25T10:47:56.812Z"
   },
   {
    "duration": 20,
    "start_time": "2023-04-25T10:48:11.430Z"
   },
   {
    "duration": 1551,
    "start_time": "2023-04-25T10:49:37.899Z"
   },
   {
    "duration": 1557,
    "start_time": "2023-04-25T10:49:57.392Z"
   },
   {
    "duration": 1590,
    "start_time": "2023-04-25T10:50:07.851Z"
   },
   {
    "duration": 1697,
    "start_time": "2023-04-25T10:50:13.155Z"
   },
   {
    "duration": 71,
    "start_time": "2023-04-25T11:01:51.948Z"
   },
   {
    "duration": 58,
    "start_time": "2023-04-25T11:02:00.388Z"
   },
   {
    "duration": 54,
    "start_time": "2023-04-25T11:02:19.778Z"
   },
   {
    "duration": 1939,
    "start_time": "2023-04-25T11:02:23.402Z"
   },
   {
    "duration": 1726,
    "start_time": "2023-04-25T11:02:31.699Z"
   },
   {
    "duration": 77,
    "start_time": "2023-04-25T11:02:38.681Z"
   },
   {
    "duration": 56,
    "start_time": "2023-04-25T11:02:54.272Z"
   },
   {
    "duration": 72,
    "start_time": "2023-04-25T11:02:58.600Z"
   },
   {
    "duration": 261,
    "start_time": "2023-04-25T11:04:43.176Z"
   },
   {
    "duration": 1958,
    "start_time": "2023-04-25T11:04:45.974Z"
   },
   {
    "duration": 4,
    "start_time": "2023-04-25T11:09:20.729Z"
   },
   {
    "duration": 47,
    "start_time": "2023-04-25T11:09:51.152Z"
   },
   {
    "duration": 18,
    "start_time": "2023-04-25T11:12:21.485Z"
   },
   {
    "duration": 3,
    "start_time": "2023-04-25T11:12:39.998Z"
   },
   {
    "duration": 166,
    "start_time": "2023-04-25T11:12:43.915Z"
   },
   {
    "duration": 1056,
    "start_time": "2023-04-25T11:13:07.533Z"
   },
   {
    "duration": 190,
    "start_time": "2023-04-25T11:13:19.616Z"
   },
   {
    "duration": 6,
    "start_time": "2023-04-25T11:16:53.475Z"
   },
   {
    "duration": 13,
    "start_time": "2023-04-25T11:17:06.983Z"
   },
   {
    "duration": 5,
    "start_time": "2023-04-25T11:17:13.871Z"
   },
   {
    "duration": 8,
    "start_time": "2023-04-25T11:17:30.229Z"
   },
   {
    "duration": 8,
    "start_time": "2023-04-25T11:17:35.615Z"
   },
   {
    "duration": 5,
    "start_time": "2023-04-25T11:17:39.325Z"
   },
   {
    "duration": 5,
    "start_time": "2023-04-25T11:17:46.313Z"
   },
   {
    "duration": 5,
    "start_time": "2023-04-25T11:17:50.245Z"
   },
   {
    "duration": 5,
    "start_time": "2023-04-25T11:17:53.518Z"
   },
   {
    "duration": 5,
    "start_time": "2023-04-25T11:17:56.615Z"
   },
   {
    "duration": 6,
    "start_time": "2023-04-25T11:18:01.318Z"
   },
   {
    "duration": 7,
    "start_time": "2023-04-25T11:18:08.356Z"
   },
   {
    "duration": 6,
    "start_time": "2023-04-25T11:18:11.420Z"
   },
   {
    "duration": 6,
    "start_time": "2023-04-25T11:18:15.912Z"
   },
   {
    "duration": 7,
    "start_time": "2023-04-25T11:18:20.014Z"
   },
   {
    "duration": 6,
    "start_time": "2023-04-25T11:18:26.297Z"
   },
   {
    "duration": 5,
    "start_time": "2023-04-25T11:18:28.709Z"
   },
   {
    "duration": 6,
    "start_time": "2023-04-25T11:18:31.822Z"
   },
   {
    "duration": 5,
    "start_time": "2023-04-25T11:18:36.210Z"
   },
   {
    "duration": 7,
    "start_time": "2023-04-25T11:18:41.181Z"
   },
   {
    "duration": 5,
    "start_time": "2023-04-25T11:19:03.116Z"
   },
   {
    "duration": 42,
    "start_time": "2023-04-25T11:22:36.140Z"
   },
   {
    "duration": 1313,
    "start_time": "2023-04-25T11:24:15.008Z"
   },
   {
    "duration": 43,
    "start_time": "2023-04-25T11:24:25.827Z"
   },
   {
    "duration": 52,
    "start_time": "2023-04-25T11:24:59.915Z"
   },
   {
    "duration": 389,
    "start_time": "2023-04-25T11:26:45.232Z"
   },
   {
    "duration": 3,
    "start_time": "2023-04-25T11:28:22.136Z"
   },
   {
    "duration": 1252,
    "start_time": "2023-04-25T14:04:33.878Z"
   },
   {
    "duration": 3,
    "start_time": "2023-04-25T14:04:35.132Z"
   },
   {
    "duration": 7,
    "start_time": "2023-04-25T14:04:35.136Z"
   },
   {
    "duration": 45,
    "start_time": "2023-04-25T14:04:35.144Z"
   },
   {
    "duration": 35,
    "start_time": "2023-04-25T14:04:35.191Z"
   },
   {
    "duration": 23,
    "start_time": "2023-04-25T14:04:35.228Z"
   },
   {
    "duration": 18,
    "start_time": "2023-04-25T14:04:35.253Z"
   },
   {
    "duration": 21,
    "start_time": "2023-04-25T14:04:35.273Z"
   },
   {
    "duration": 10,
    "start_time": "2023-04-25T14:04:35.296Z"
   },
   {
    "duration": 10,
    "start_time": "2023-04-25T14:04:35.308Z"
   },
   {
    "duration": 8,
    "start_time": "2023-04-25T14:04:35.319Z"
   },
   {
    "duration": 11,
    "start_time": "2023-04-25T14:04:35.328Z"
   },
   {
    "duration": 12,
    "start_time": "2023-04-25T14:04:35.341Z"
   },
   {
    "duration": 4,
    "start_time": "2023-04-25T14:04:35.356Z"
   },
   {
    "duration": 28,
    "start_time": "2023-04-25T14:04:35.386Z"
   },
   {
    "duration": 25,
    "start_time": "2023-04-25T14:04:35.415Z"
   },
   {
    "duration": 158,
    "start_time": "2023-04-25T14:04:35.442Z"
   },
   {
    "duration": 187,
    "start_time": "2023-04-25T14:04:35.602Z"
   },
   {
    "duration": 251,
    "start_time": "2023-04-25T14:04:35.791Z"
   },
   {
    "duration": 15,
    "start_time": "2023-04-25T14:04:36.044Z"
   },
   {
    "duration": 404,
    "start_time": "2023-04-25T14:04:36.060Z"
   },
   {
    "duration": 134,
    "start_time": "2023-04-25T14:04:36.465Z"
   },
   {
    "duration": 40,
    "start_time": "2023-04-25T14:04:36.601Z"
   },
   {
    "duration": 16,
    "start_time": "2023-04-25T14:04:36.643Z"
   },
   {
    "duration": 37,
    "start_time": "2023-04-25T14:04:36.661Z"
   },
   {
    "duration": 529,
    "start_time": "2023-04-25T14:04:36.700Z"
   },
   {
    "duration": 471,
    "start_time": "2023-04-25T14:04:37.231Z"
   },
   {
    "duration": 15637,
    "start_time": "2023-04-25T14:04:37.704Z"
   },
   {
    "duration": 59,
    "start_time": "2023-04-25T14:04:53.342Z"
   },
   {
    "duration": 31,
    "start_time": "2023-04-25T14:04:53.403Z"
   },
   {
    "duration": 15,
    "start_time": "2023-04-25T14:04:53.436Z"
   },
   {
    "duration": 6,
    "start_time": "2023-04-25T14:04:53.453Z"
   },
   {
    "duration": 28,
    "start_time": "2023-04-25T14:04:53.460Z"
   },
   {
    "duration": 33,
    "start_time": "2023-04-25T14:04:53.490Z"
   },
   {
    "duration": 6,
    "start_time": "2023-04-25T14:04:53.525Z"
   },
   {
    "duration": 1552,
    "start_time": "2023-04-25T14:04:53.533Z"
   },
   {
    "duration": 156,
    "start_time": "2023-04-25T14:04:55.087Z"
   },
   {
    "duration": 5,
    "start_time": "2023-04-25T14:04:55.245Z"
   },
   {
    "duration": 1144,
    "start_time": "2023-04-25T14:07:57.820Z"
   },
   {
    "duration": 3,
    "start_time": "2023-04-25T14:07:58.966Z"
   },
   {
    "duration": 10,
    "start_time": "2023-04-25T14:07:58.970Z"
   },
   {
    "duration": 39,
    "start_time": "2023-04-25T14:07:58.984Z"
   },
   {
    "duration": 37,
    "start_time": "2023-04-25T14:07:59.026Z"
   },
   {
    "duration": 25,
    "start_time": "2023-04-25T14:07:59.064Z"
   },
   {
    "duration": 24,
    "start_time": "2023-04-25T14:07:59.091Z"
   },
   {
    "duration": 15,
    "start_time": "2023-04-25T14:07:59.117Z"
   },
   {
    "duration": 6,
    "start_time": "2023-04-25T14:07:59.134Z"
   },
   {
    "duration": 7,
    "start_time": "2023-04-25T14:07:59.142Z"
   },
   {
    "duration": 40,
    "start_time": "2023-04-25T14:07:59.151Z"
   },
   {
    "duration": 6,
    "start_time": "2023-04-25T14:07:59.193Z"
   },
   {
    "duration": 14,
    "start_time": "2023-04-25T14:07:59.201Z"
   },
   {
    "duration": 5,
    "start_time": "2023-04-25T14:07:59.219Z"
   },
   {
    "duration": 8,
    "start_time": "2023-04-25T14:07:59.226Z"
   },
   {
    "duration": 52,
    "start_time": "2023-04-25T14:07:59.236Z"
   },
   {
    "duration": 201,
    "start_time": "2023-04-25T14:07:59.289Z"
   },
   {
    "duration": 216,
    "start_time": "2023-04-25T14:07:59.492Z"
   },
   {
    "duration": 275,
    "start_time": "2023-04-25T14:07:59.710Z"
   },
   {
    "duration": 20,
    "start_time": "2023-04-25T14:07:59.988Z"
   },
   {
    "duration": 443,
    "start_time": "2023-04-25T14:08:00.011Z"
   },
   {
    "duration": 187,
    "start_time": "2023-04-25T14:08:00.456Z"
   },
   {
    "duration": 49,
    "start_time": "2023-04-25T14:08:00.646Z"
   },
   {
    "duration": 26,
    "start_time": "2023-04-25T14:08:00.697Z"
   },
   {
    "duration": 18,
    "start_time": "2023-04-25T14:08:00.725Z"
   },
   {
    "duration": 650,
    "start_time": "2023-04-25T14:08:00.745Z"
   },
   {
    "duration": 521,
    "start_time": "2023-04-25T14:08:01.397Z"
   },
   {
    "duration": 16898,
    "start_time": "2023-04-25T14:08:01.921Z"
   },
   {
    "duration": 48,
    "start_time": "2023-04-25T14:08:18.821Z"
   },
   {
    "duration": 32,
    "start_time": "2023-04-25T14:08:18.885Z"
   },
   {
    "duration": 17,
    "start_time": "2023-04-25T14:08:18.919Z"
   },
   {
    "duration": 6,
    "start_time": "2023-04-25T14:08:18.938Z"
   },
   {
    "duration": 43,
    "start_time": "2023-04-25T14:08:18.946Z"
   },
   {
    "duration": 26,
    "start_time": "2023-04-25T14:08:18.991Z"
   },
   {
    "duration": 5,
    "start_time": "2023-04-25T14:08:19.019Z"
   },
   {
    "duration": 1595,
    "start_time": "2023-04-25T14:08:19.026Z"
   },
   {
    "duration": 176,
    "start_time": "2023-04-25T14:08:20.623Z"
   },
   {
    "duration": 5,
    "start_time": "2023-04-25T14:08:20.801Z"
   },
   {
    "duration": 7,
    "start_time": "2023-04-25T14:08:20.809Z"
   },
   {
    "duration": 8,
    "start_time": "2023-04-25T14:08:26.807Z"
   },
   {
    "duration": 51,
    "start_time": "2023-04-25T14:12:46.986Z"
   },
   {
    "duration": 119,
    "start_time": "2023-04-25T14:12:54.330Z"
   },
   {
    "duration": 16,
    "start_time": "2023-04-25T14:13:10.072Z"
   },
   {
    "duration": 15,
    "start_time": "2023-04-25T14:15:01.934Z"
   },
   {
    "duration": 227,
    "start_time": "2023-04-25T14:15:40.125Z"
   },
   {
    "duration": 229,
    "start_time": "2023-04-25T14:16:29.036Z"
   },
   {
    "duration": 13,
    "start_time": "2023-04-25T14:18:22.833Z"
   },
   {
    "duration": 8,
    "start_time": "2023-04-25T14:18:29.426Z"
   },
   {
    "duration": 1332,
    "start_time": "2023-04-25T14:20:09.320Z"
   },
   {
    "duration": 3,
    "start_time": "2023-04-25T14:20:10.655Z"
   },
   {
    "duration": 16,
    "start_time": "2023-04-25T14:20:10.660Z"
   },
   {
    "duration": 46,
    "start_time": "2023-04-25T14:20:10.678Z"
   },
   {
    "duration": 41,
    "start_time": "2023-04-25T14:20:10.727Z"
   },
   {
    "duration": 25,
    "start_time": "2023-04-25T14:20:10.770Z"
   },
   {
    "duration": 28,
    "start_time": "2023-04-25T14:20:10.799Z"
   },
   {
    "duration": 20,
    "start_time": "2023-04-25T14:20:10.829Z"
   },
   {
    "duration": 8,
    "start_time": "2023-04-25T14:20:10.851Z"
   },
   {
    "duration": 34,
    "start_time": "2023-04-25T14:20:10.861Z"
   },
   {
    "duration": 12,
    "start_time": "2023-04-25T14:20:10.896Z"
   },
   {
    "duration": 7,
    "start_time": "2023-04-25T14:20:10.910Z"
   },
   {
    "duration": 13,
    "start_time": "2023-04-25T14:20:10.919Z"
   },
   {
    "duration": 4,
    "start_time": "2023-04-25T14:20:10.937Z"
   },
   {
    "duration": 6,
    "start_time": "2023-04-25T14:20:10.943Z"
   },
   {
    "duration": 53,
    "start_time": "2023-04-25T14:20:10.950Z"
   },
   {
    "duration": 199,
    "start_time": "2023-04-25T14:20:11.005Z"
   },
   {
    "duration": 212,
    "start_time": "2023-04-25T14:20:11.206Z"
   },
   {
    "duration": 274,
    "start_time": "2023-04-25T14:20:11.420Z"
   },
   {
    "duration": 21,
    "start_time": "2023-04-25T14:20:11.704Z"
   },
   {
    "duration": 415,
    "start_time": "2023-04-25T14:20:11.727Z"
   },
   {
    "duration": 153,
    "start_time": "2023-04-25T14:20:12.144Z"
   },
   {
    "duration": 31,
    "start_time": "2023-04-25T14:20:12.305Z"
   },
   {
    "duration": 19,
    "start_time": "2023-04-25T14:20:12.338Z"
   },
   {
    "duration": 42,
    "start_time": "2023-04-25T14:20:12.358Z"
   },
   {
    "duration": 600,
    "start_time": "2023-04-25T14:20:12.407Z"
   },
   {
    "duration": 509,
    "start_time": "2023-04-25T14:20:13.009Z"
   },
   {
    "duration": 16797,
    "start_time": "2023-04-25T14:20:13.519Z"
   },
   {
    "duration": 48,
    "start_time": "2023-04-25T14:20:30.317Z"
   },
   {
    "duration": 49,
    "start_time": "2023-04-25T14:20:30.367Z"
   },
   {
    "duration": 19,
    "start_time": "2023-04-25T14:20:30.418Z"
   },
   {
    "duration": 19,
    "start_time": "2023-04-25T14:20:30.439Z"
   },
   {
    "duration": 43,
    "start_time": "2023-04-25T14:20:30.461Z"
   },
   {
    "duration": 41,
    "start_time": "2023-04-25T14:20:30.506Z"
   },
   {
    "duration": 19,
    "start_time": "2023-04-25T14:20:30.548Z"
   },
   {
    "duration": 1632,
    "start_time": "2023-04-25T14:20:30.569Z"
   },
   {
    "duration": 159,
    "start_time": "2023-04-25T14:20:32.207Z"
   },
   {
    "duration": 7,
    "start_time": "2023-04-25T14:20:32.368Z"
   },
   {
    "duration": 61,
    "start_time": "2023-04-25T14:20:32.392Z"
   },
   {
    "duration": 11,
    "start_time": "2023-04-25T14:20:44.281Z"
   },
   {
    "duration": 58,
    "start_time": "2023-04-25T14:49:27.509Z"
   },
   {
    "duration": 1196,
    "start_time": "2023-04-25T14:50:38.456Z"
   },
   {
    "duration": 4,
    "start_time": "2023-04-25T14:50:39.654Z"
   },
   {
    "duration": 6,
    "start_time": "2023-04-25T14:50:39.660Z"
   },
   {
    "duration": 42,
    "start_time": "2023-04-25T14:50:39.668Z"
   },
   {
    "duration": 36,
    "start_time": "2023-04-25T14:50:39.711Z"
   },
   {
    "duration": 28,
    "start_time": "2023-04-25T14:50:39.749Z"
   },
   {
    "duration": 23,
    "start_time": "2023-04-25T14:50:39.780Z"
   },
   {
    "duration": 13,
    "start_time": "2023-04-25T14:50:39.805Z"
   },
   {
    "duration": 9,
    "start_time": "2023-04-25T14:50:39.820Z"
   },
   {
    "duration": 7,
    "start_time": "2023-04-25T14:50:39.833Z"
   },
   {
    "duration": 46,
    "start_time": "2023-04-25T14:50:39.842Z"
   },
   {
    "duration": 6,
    "start_time": "2023-04-25T14:50:39.890Z"
   },
   {
    "duration": 18,
    "start_time": "2023-04-25T14:50:39.898Z"
   },
   {
    "duration": 4,
    "start_time": "2023-04-25T14:50:39.918Z"
   },
   {
    "duration": 8,
    "start_time": "2023-04-25T14:50:39.924Z"
   },
   {
    "duration": 52,
    "start_time": "2023-04-25T14:50:39.934Z"
   },
   {
    "duration": 217,
    "start_time": "2023-04-25T14:50:39.988Z"
   },
   {
    "duration": 224,
    "start_time": "2023-04-25T14:50:40.207Z"
   },
   {
    "duration": 302,
    "start_time": "2023-04-25T14:50:40.434Z"
   },
   {
    "duration": 20,
    "start_time": "2023-04-25T14:50:40.738Z"
   },
   {
    "duration": 434,
    "start_time": "2023-04-25T14:50:40.760Z"
   },
   {
    "duration": 140,
    "start_time": "2023-04-25T14:50:41.195Z"
   },
   {
    "duration": 33,
    "start_time": "2023-04-25T14:50:41.337Z"
   },
   {
    "duration": 19,
    "start_time": "2023-04-25T14:50:41.385Z"
   },
   {
    "duration": 22,
    "start_time": "2023-04-25T14:50:41.406Z"
   },
   {
    "duration": 617,
    "start_time": "2023-04-25T14:50:41.431Z"
   },
   {
    "duration": 517,
    "start_time": "2023-04-25T14:50:42.051Z"
   },
   {
    "duration": 16751,
    "start_time": "2023-04-25T14:50:42.572Z"
   },
   {
    "duration": 79,
    "start_time": "2023-04-25T14:50:59.325Z"
   },
   {
    "duration": 44,
    "start_time": "2023-04-25T14:50:59.406Z"
   },
   {
    "duration": 39,
    "start_time": "2023-04-25T14:50:59.453Z"
   },
   {
    "duration": 7,
    "start_time": "2023-04-25T14:50:59.494Z"
   },
   {
    "duration": 20,
    "start_time": "2023-04-25T14:50:59.503Z"
   },
   {
    "duration": 35,
    "start_time": "2023-04-25T14:50:59.526Z"
   },
   {
    "duration": 7,
    "start_time": "2023-04-25T14:50:59.563Z"
   },
   {
    "duration": 1609,
    "start_time": "2023-04-25T14:50:59.573Z"
   },
   {
    "duration": 171,
    "start_time": "2023-04-25T14:51:01.185Z"
   },
   {
    "duration": 6,
    "start_time": "2023-04-25T14:51:01.359Z"
   },
   {
    "duration": 16,
    "start_time": "2023-04-25T14:51:01.385Z"
   },
   {
    "duration": 10,
    "start_time": "2023-04-25T14:51:47.208Z"
   },
   {
    "duration": 10,
    "start_time": "2023-04-25T14:54:29.612Z"
   },
   {
    "duration": 6,
    "start_time": "2023-04-25T14:56:23.413Z"
   },
   {
    "duration": 9,
    "start_time": "2023-04-25T14:56:27.508Z"
   },
   {
    "duration": 8,
    "start_time": "2023-04-25T14:56:41.288Z"
   },
   {
    "duration": 13,
    "start_time": "2023-04-25T14:57:37.586Z"
   },
   {
    "duration": 12,
    "start_time": "2023-04-25T14:57:46.405Z"
   },
   {
    "duration": 45,
    "start_time": "2023-04-25T14:58:18.905Z"
   },
   {
    "duration": 112,
    "start_time": "2023-04-25T14:58:23.657Z"
   },
   {
    "duration": 11,
    "start_time": "2023-04-25T14:59:03.221Z"
   },
   {
    "duration": 14,
    "start_time": "2023-04-25T14:59:10.908Z"
   },
   {
    "duration": 14,
    "start_time": "2023-04-25T14:59:23.192Z"
   },
   {
    "duration": 165,
    "start_time": "2023-04-25T15:01:12.344Z"
   },
   {
    "duration": 141,
    "start_time": "2023-04-25T15:01:28.743Z"
   },
   {
    "duration": 151,
    "start_time": "2023-04-25T15:02:16.123Z"
   },
   {
    "duration": 330,
    "start_time": "2023-04-25T15:03:03.820Z"
   },
   {
    "duration": 141,
    "start_time": "2023-04-25T15:03:31.008Z"
   },
   {
    "duration": 149,
    "start_time": "2023-04-25T15:03:49.121Z"
   },
   {
    "duration": 143,
    "start_time": "2023-04-25T15:04:03.400Z"
   },
   {
    "duration": 155,
    "start_time": "2023-04-25T15:04:22.663Z"
   },
   {
    "duration": 12,
    "start_time": "2023-04-25T15:10:02.187Z"
   },
   {
    "duration": 12,
    "start_time": "2023-04-25T15:10:12.137Z"
   },
   {
    "duration": 139,
    "start_time": "2023-04-25T15:10:16.432Z"
   },
   {
    "duration": 25,
    "start_time": "2023-04-25T15:10:49.597Z"
   },
   {
    "duration": 236,
    "start_time": "2023-04-25T15:11:52.845Z"
   },
   {
    "duration": 20,
    "start_time": "2023-04-25T15:12:43.536Z"
   },
   {
    "duration": 125,
    "start_time": "2023-04-25T15:12:51.324Z"
   },
   {
    "duration": 130,
    "start_time": "2023-04-25T15:15:30.910Z"
   },
   {
    "duration": 134,
    "start_time": "2023-04-25T15:16:00.447Z"
   },
   {
    "duration": 121,
    "start_time": "2023-04-25T15:16:06.405Z"
   },
   {
    "duration": 162,
    "start_time": "2023-04-25T15:18:18.506Z"
   },
   {
    "duration": 156,
    "start_time": "2023-04-25T15:18:33.105Z"
   },
   {
    "duration": 272,
    "start_time": "2023-04-25T15:19:08.954Z"
   },
   {
    "duration": 514,
    "start_time": "2023-04-25T15:19:16.746Z"
   },
   {
    "duration": 10,
    "start_time": "2023-04-25T15:23:30.802Z"
   },
   {
    "duration": 38,
    "start_time": "2023-04-25T15:23:30.814Z"
   },
   {
    "duration": 28,
    "start_time": "2023-04-25T15:23:30.853Z"
   },
   {
    "duration": 38,
    "start_time": "2023-04-25T15:23:31.125Z"
   },
   {
    "duration": 56,
    "start_time": "2023-04-25T15:23:31.165Z"
   },
   {
    "duration": 24,
    "start_time": "2023-04-25T15:23:31.223Z"
   },
   {
    "duration": 45,
    "start_time": "2023-04-25T15:23:31.249Z"
   },
   {
    "duration": 47,
    "start_time": "2023-04-25T15:23:31.297Z"
   },
   {
    "duration": 28,
    "start_time": "2023-04-25T15:23:31.346Z"
   },
   {
    "duration": 65,
    "start_time": "2023-04-25T15:23:31.375Z"
   },
   {
    "duration": 21,
    "start_time": "2023-04-25T15:23:31.441Z"
   },
   {
    "duration": 38,
    "start_time": "2023-04-25T15:23:31.464Z"
   },
   {
    "duration": 40,
    "start_time": "2023-04-25T15:23:31.504Z"
   },
   {
    "duration": 29,
    "start_time": "2023-04-25T15:23:31.545Z"
   },
   {
    "duration": 82,
    "start_time": "2023-04-25T15:23:31.575Z"
   },
   {
    "duration": 44,
    "start_time": "2023-04-25T15:23:31.658Z"
   },
   {
    "duration": 210,
    "start_time": "2023-04-25T15:23:31.707Z"
   },
   {
    "duration": 208,
    "start_time": "2023-04-25T15:23:31.918Z"
   },
   {
    "duration": 267,
    "start_time": "2023-04-25T15:23:32.127Z"
   },
   {
    "duration": 22,
    "start_time": "2023-04-25T15:23:32.396Z"
   },
   {
    "duration": 434,
    "start_time": "2023-04-25T15:23:32.419Z"
   },
   {
    "duration": 164,
    "start_time": "2023-04-25T15:23:32.855Z"
   },
   {
    "duration": 28,
    "start_time": "2023-04-25T15:23:33.021Z"
   },
   {
    "duration": 16,
    "start_time": "2023-04-25T15:23:33.051Z"
   },
   {
    "duration": 22,
    "start_time": "2023-04-25T15:23:33.100Z"
   },
   {
    "duration": 605,
    "start_time": "2023-04-25T15:23:33.123Z"
   },
   {
    "duration": 577,
    "start_time": "2023-04-25T15:23:33.730Z"
   },
   {
    "duration": 17429,
    "start_time": "2023-04-25T15:23:34.309Z"
   },
   {
    "duration": 62,
    "start_time": "2023-04-25T15:23:51.739Z"
   },
   {
    "duration": 28,
    "start_time": "2023-04-25T15:23:51.807Z"
   },
   {
    "duration": 13,
    "start_time": "2023-04-25T15:23:51.837Z"
   },
   {
    "duration": 5,
    "start_time": "2023-04-25T15:23:51.852Z"
   },
   {
    "duration": 8,
    "start_time": "2023-04-25T15:23:51.859Z"
   },
   {
    "duration": 40,
    "start_time": "2023-04-25T15:23:51.869Z"
   },
   {
    "duration": 8,
    "start_time": "2023-04-25T15:23:51.911Z"
   },
   {
    "duration": 1680,
    "start_time": "2023-04-25T15:23:51.920Z"
   },
   {
    "duration": 168,
    "start_time": "2023-04-25T15:23:53.602Z"
   },
   {
    "duration": 5,
    "start_time": "2023-04-25T15:23:53.771Z"
   },
   {
    "duration": 601,
    "start_time": "2023-04-25T15:23:53.777Z"
   },
   {
    "duration": 470,
    "start_time": "2023-04-25T15:25:43.494Z"
   },
   {
    "duration": 916,
    "start_time": "2023-04-25T15:26:11.760Z"
   },
   {
    "duration": 1011,
    "start_time": "2023-04-25T15:26:37.333Z"
   },
   {
    "duration": 6390,
    "start_time": "2023-04-25T15:26:57.952Z"
   },
   {
    "duration": 6534,
    "start_time": "2023-04-25T15:27:35.086Z"
   },
   {
    "duration": 4984,
    "start_time": "2023-04-25T15:28:06.452Z"
   },
   {
    "duration": 4832,
    "start_time": "2023-04-25T15:28:32.018Z"
   },
   {
    "duration": 4,
    "start_time": "2023-04-25T15:30:01.242Z"
   },
   {
    "duration": 17,
    "start_time": "2023-04-25T15:30:01.249Z"
   },
   {
    "duration": 32,
    "start_time": "2023-04-25T15:30:01.268Z"
   },
   {
    "duration": 72,
    "start_time": "2023-04-25T15:30:01.302Z"
   },
   {
    "duration": 63,
    "start_time": "2023-04-25T15:30:01.377Z"
   },
   {
    "duration": 94,
    "start_time": "2023-04-25T15:30:01.442Z"
   },
   {
    "duration": 61,
    "start_time": "2023-04-25T15:30:01.538Z"
   },
   {
    "duration": 29,
    "start_time": "2023-04-25T15:30:01.600Z"
   },
   {
    "duration": 52,
    "start_time": "2023-04-25T15:30:01.631Z"
   },
   {
    "duration": 41,
    "start_time": "2023-04-25T15:30:01.685Z"
   },
   {
    "duration": 66,
    "start_time": "2023-04-25T15:30:01.727Z"
   },
   {
    "duration": 23,
    "start_time": "2023-04-25T15:30:01.795Z"
   },
   {
    "duration": 52,
    "start_time": "2023-04-25T15:30:01.820Z"
   },
   {
    "duration": 33,
    "start_time": "2023-04-25T15:30:01.875Z"
   },
   {
    "duration": 43,
    "start_time": "2023-04-25T15:30:01.910Z"
   },
   {
    "duration": 29,
    "start_time": "2023-04-25T15:30:01.954Z"
   },
   {
    "duration": 180,
    "start_time": "2023-04-25T15:30:01.985Z"
   },
   {
    "duration": 240,
    "start_time": "2023-04-25T15:30:02.168Z"
   },
   {
    "duration": 384,
    "start_time": "2023-04-25T15:30:02.410Z"
   },
   {
    "duration": 19,
    "start_time": "2023-04-25T15:30:02.796Z"
   },
   {
    "duration": 412,
    "start_time": "2023-04-25T15:30:02.817Z"
   },
   {
    "duration": 166,
    "start_time": "2023-04-25T15:30:03.231Z"
   },
   {
    "duration": 29,
    "start_time": "2023-04-25T15:30:03.400Z"
   },
   {
    "duration": 17,
    "start_time": "2023-04-25T15:30:03.431Z"
   },
   {
    "duration": 37,
    "start_time": "2023-04-25T15:30:03.449Z"
   },
   {
    "duration": 516,
    "start_time": "2023-04-25T15:30:03.936Z"
   },
   {
    "duration": 610,
    "start_time": "2023-04-25T15:30:04.454Z"
   },
   {
    "duration": 16651,
    "start_time": "2023-04-25T15:30:05.065Z"
   },
   {
    "duration": 48,
    "start_time": "2023-04-25T15:30:21.718Z"
   },
   {
    "duration": 50,
    "start_time": "2023-04-25T15:30:21.768Z"
   },
   {
    "duration": 16,
    "start_time": "2023-04-25T15:30:21.821Z"
   },
   {
    "duration": 6,
    "start_time": "2023-04-25T15:30:21.839Z"
   },
   {
    "duration": 7,
    "start_time": "2023-04-25T15:30:21.847Z"
   },
   {
    "duration": 53,
    "start_time": "2023-04-25T15:30:21.856Z"
   },
   {
    "duration": 6,
    "start_time": "2023-04-25T15:30:21.910Z"
   },
   {
    "duration": 1591,
    "start_time": "2023-04-25T15:30:21.917Z"
   },
   {
    "duration": 189,
    "start_time": "2023-04-25T15:30:23.511Z"
   },
   {
    "duration": 5,
    "start_time": "2023-04-25T15:30:23.702Z"
   },
   {
    "duration": 4792,
    "start_time": "2023-04-25T15:30:23.710Z"
   },
   {
    "duration": 20,
    "start_time": "2023-04-25T15:39:51.598Z"
   },
   {
    "duration": 1534,
    "start_time": "2023-04-26T09:18:49.332Z"
   },
   {
    "duration": 3,
    "start_time": "2023-04-26T09:18:50.869Z"
   },
   {
    "duration": 11,
    "start_time": "2023-04-26T09:18:50.874Z"
   },
   {
    "duration": 136,
    "start_time": "2023-04-26T09:18:50.887Z"
   },
   {
    "duration": 171,
    "start_time": "2023-04-26T09:18:51.026Z"
   },
   {
    "duration": 78,
    "start_time": "2023-04-26T09:18:51.199Z"
   },
   {
    "duration": 22,
    "start_time": "2023-04-26T09:18:51.279Z"
   },
   {
    "duration": 23,
    "start_time": "2023-04-26T09:18:51.303Z"
   },
   {
    "duration": 8,
    "start_time": "2023-04-26T09:18:51.328Z"
   },
   {
    "duration": 8,
    "start_time": "2023-04-26T09:18:51.339Z"
   },
   {
    "duration": 44,
    "start_time": "2023-04-26T09:18:51.349Z"
   },
   {
    "duration": 13,
    "start_time": "2023-04-26T09:18:51.395Z"
   },
   {
    "duration": 18,
    "start_time": "2023-04-26T09:18:51.410Z"
   },
   {
    "duration": 6,
    "start_time": "2023-04-26T09:18:51.433Z"
   },
   {
    "duration": 7,
    "start_time": "2023-04-26T09:18:51.441Z"
   },
   {
    "duration": 41,
    "start_time": "2023-04-26T09:18:51.450Z"
   },
   {
    "duration": 230,
    "start_time": "2023-04-26T09:18:51.492Z"
   },
   {
    "duration": 252,
    "start_time": "2023-04-26T09:18:51.725Z"
   },
   {
    "duration": 278,
    "start_time": "2023-04-26T09:18:51.980Z"
   },
   {
    "duration": 26,
    "start_time": "2023-04-26T09:18:52.260Z"
   },
   {
    "duration": 455,
    "start_time": "2023-04-26T09:18:52.288Z"
   },
   {
    "duration": 173,
    "start_time": "2023-04-26T09:18:52.745Z"
   },
   {
    "duration": 31,
    "start_time": "2023-04-26T09:18:52.920Z"
   },
   {
    "duration": 37,
    "start_time": "2023-04-26T09:18:52.953Z"
   },
   {
    "duration": 24,
    "start_time": "2023-04-26T09:18:52.992Z"
   },
   {
    "duration": 631,
    "start_time": "2023-04-26T09:18:53.018Z"
   },
   {
    "duration": 586,
    "start_time": "2023-04-26T09:18:53.651Z"
   },
   {
    "duration": 18008,
    "start_time": "2023-04-26T09:18:54.240Z"
   },
   {
    "duration": 75,
    "start_time": "2023-04-26T09:19:12.249Z"
   },
   {
    "duration": 31,
    "start_time": "2023-04-26T09:19:12.326Z"
   },
   {
    "duration": 40,
    "start_time": "2023-04-26T09:19:12.360Z"
   },
   {
    "duration": 6,
    "start_time": "2023-04-26T09:19:12.402Z"
   },
   {
    "duration": 22,
    "start_time": "2023-04-26T09:19:12.410Z"
   },
   {
    "duration": 33,
    "start_time": "2023-04-26T09:19:12.434Z"
   },
   {
    "duration": 17,
    "start_time": "2023-04-26T09:19:12.469Z"
   },
   {
    "duration": 1678,
    "start_time": "2023-04-26T09:19:12.488Z"
   },
   {
    "duration": 253,
    "start_time": "2023-04-26T09:19:14.169Z"
   },
   {
    "duration": 8,
    "start_time": "2023-04-26T09:19:14.427Z"
   },
   {
    "duration": 4847,
    "start_time": "2023-04-26T09:19:14.437Z"
   },
   {
    "duration": 108,
    "start_time": "2023-04-26T09:25:36.847Z"
   },
   {
    "duration": 6,
    "start_time": "2023-04-26T09:27:49.717Z"
   },
   {
    "duration": 97,
    "start_time": "2023-04-26T09:31:44.452Z"
   },
   {
    "duration": 17,
    "start_time": "2023-04-26T09:31:54.111Z"
   },
   {
    "duration": 8,
    "start_time": "2023-04-26T09:32:12.143Z"
   },
   {
    "duration": 9,
    "start_time": "2023-04-26T09:35:52.817Z"
   },
   {
    "duration": 9,
    "start_time": "2023-04-26T09:36:09.080Z"
   },
   {
    "duration": 4,
    "start_time": "2023-04-26T10:02:41.084Z"
   },
   {
    "duration": 2,
    "start_time": "2023-04-26T10:11:04.480Z"
   },
   {
    "duration": 372,
    "start_time": "2023-04-26T10:17:20.663Z"
   },
   {
    "duration": 148,
    "start_time": "2023-04-26T10:40:34.021Z"
   },
   {
    "duration": 84,
    "start_time": "2023-04-26T10:52:22.860Z"
   },
   {
    "duration": 3,
    "start_time": "2023-04-26T10:53:38.629Z"
   },
   {
    "duration": 56,
    "start_time": "2023-04-26T10:54:41.500Z"
   },
   {
    "duration": 1470,
    "start_time": "2023-04-26T10:54:47.056Z"
   },
   {
    "duration": 5,
    "start_time": "2023-04-26T10:54:48.528Z"
   },
   {
    "duration": 5,
    "start_time": "2023-04-26T10:54:48.534Z"
   },
   {
    "duration": 107,
    "start_time": "2023-04-26T10:54:48.541Z"
   },
   {
    "duration": 100,
    "start_time": "2023-04-26T10:54:48.649Z"
   },
   {
    "duration": 80,
    "start_time": "2023-04-26T10:54:48.751Z"
   },
   {
    "duration": 11,
    "start_time": "2023-04-26T10:54:51.132Z"
   },
   {
    "duration": 98,
    "start_time": "2023-04-26T10:55:28.848Z"
   },
   {
    "duration": 8,
    "start_time": "2023-04-26T10:55:39.575Z"
   },
   {
    "duration": 30,
    "start_time": "2023-04-26T10:56:00.752Z"
   },
   {
    "duration": 7,
    "start_time": "2023-04-26T10:56:13.904Z"
   },
   {
    "duration": 96,
    "start_time": "2023-04-26T10:57:24.534Z"
   },
   {
    "duration": 135,
    "start_time": "2023-04-26T10:58:00.405Z"
   },
   {
    "duration": 250,
    "start_time": "2023-04-26T11:00:12.580Z"
   },
   {
    "duration": 185,
    "start_time": "2023-04-26T11:00:28.561Z"
   },
   {
    "duration": 172,
    "start_time": "2023-04-26T11:00:33.505Z"
   },
   {
    "duration": 186,
    "start_time": "2023-04-26T11:02:09.624Z"
   },
   {
    "duration": 336,
    "start_time": "2023-04-26T11:06:34.705Z"
   },
   {
    "duration": 367,
    "start_time": "2023-04-26T11:07:16.872Z"
   },
   {
    "duration": 103,
    "start_time": "2023-04-26T11:08:04.566Z"
   },
   {
    "duration": 334,
    "start_time": "2023-04-26T11:08:15.239Z"
   },
   {
    "duration": 528,
    "start_time": "2023-04-26T11:08:39.278Z"
   },
   {
    "duration": 421,
    "start_time": "2023-04-26T11:10:13.948Z"
   },
   {
    "duration": 127,
    "start_time": "2023-04-26T11:12:55.931Z"
   },
   {
    "duration": 79,
    "start_time": "2023-04-26T11:15:58.197Z"
   },
   {
    "duration": 4,
    "start_time": "2023-04-26T11:16:05.699Z"
   },
   {
    "duration": 34,
    "start_time": "2023-04-26T11:16:05.705Z"
   },
   {
    "duration": 22,
    "start_time": "2023-04-26T11:16:05.741Z"
   },
   {
    "duration": 45,
    "start_time": "2023-04-26T11:16:05.764Z"
   },
   {
    "duration": 52,
    "start_time": "2023-04-26T11:16:05.811Z"
   },
   {
    "duration": 25,
    "start_time": "2023-04-26T11:16:05.864Z"
   },
   {
    "duration": 8,
    "start_time": "2023-04-26T11:16:05.891Z"
   },
   {
    "duration": 39,
    "start_time": "2023-04-26T11:16:05.901Z"
   },
   {
    "duration": 24,
    "start_time": "2023-04-26T11:16:05.942Z"
   },
   {
    "duration": 23,
    "start_time": "2023-04-26T11:16:05.968Z"
   },
   {
    "duration": 25,
    "start_time": "2023-04-26T11:16:05.994Z"
   },
   {
    "duration": 50,
    "start_time": "2023-04-26T11:16:06.021Z"
   },
   {
    "duration": 20,
    "start_time": "2023-04-26T11:16:06.073Z"
   },
   {
    "duration": 19,
    "start_time": "2023-04-26T11:16:06.095Z"
   },
   {
    "duration": 31,
    "start_time": "2023-04-26T11:16:06.117Z"
   },
   {
    "duration": 18,
    "start_time": "2023-04-26T11:16:06.150Z"
   },
   {
    "duration": 17,
    "start_time": "2023-04-26T11:16:06.170Z"
   },
   {
    "duration": 192,
    "start_time": "2023-04-26T11:16:06.188Z"
   },
   {
    "duration": 367,
    "start_time": "2023-04-26T11:16:06.382Z"
   },
   {
    "duration": 295,
    "start_time": "2023-04-26T11:16:06.752Z"
   },
   {
    "duration": 17,
    "start_time": "2023-04-26T11:16:07.049Z"
   },
   {
    "duration": 537,
    "start_time": "2023-04-26T11:16:07.068Z"
   },
   {
    "duration": 369,
    "start_time": "2023-04-26T11:16:07.607Z"
   },
   {
    "duration": 130,
    "start_time": "2023-04-26T11:16:07.978Z"
   },
   {
    "duration": 47,
    "start_time": "2023-04-26T11:16:08.110Z"
   },
   {
    "duration": 6,
    "start_time": "2023-04-26T11:16:08.159Z"
   },
   {
    "duration": 37,
    "start_time": "2023-04-26T11:16:08.167Z"
   },
   {
    "duration": 28,
    "start_time": "2023-04-26T11:16:08.206Z"
   },
   {
    "duration": 496,
    "start_time": "2023-04-26T11:16:08.237Z"
   },
   {
    "duration": 632,
    "start_time": "2023-04-26T11:16:08.735Z"
   },
   {
    "duration": 705,
    "start_time": "2023-04-26T11:16:13.428Z"
   },
   {
    "duration": 882,
    "start_time": "2023-04-26T11:16:43.338Z"
   },
   {
    "duration": 694,
    "start_time": "2023-04-26T11:16:57.875Z"
   },
   {
    "duration": 822,
    "start_time": "2023-04-26T11:17:25.331Z"
   },
   {
    "duration": 717,
    "start_time": "2023-04-26T11:17:36.562Z"
   },
   {
    "duration": 778,
    "start_time": "2023-04-26T11:17:44.922Z"
   },
   {
    "duration": 868,
    "start_time": "2023-04-26T11:18:21.324Z"
   },
   {
    "duration": 345,
    "start_time": "2023-04-26T11:18:42.064Z"
   },
   {
    "duration": 549,
    "start_time": "2023-04-26T11:18:54.849Z"
   },
   {
    "duration": 348,
    "start_time": "2023-04-26T11:20:06.039Z"
   },
   {
    "duration": 840,
    "start_time": "2023-04-26T11:20:48.628Z"
   },
   {
    "duration": 1123,
    "start_time": "2023-04-26T11:21:11.620Z"
   },
   {
    "duration": 989,
    "start_time": "2023-04-26T11:21:22.068Z"
   },
   {
    "duration": 1090,
    "start_time": "2023-04-26T11:21:46.603Z"
   },
   {
    "duration": 837,
    "start_time": "2023-04-26T11:21:59.700Z"
   },
   {
    "duration": 1008,
    "start_time": "2023-04-26T11:22:10.564Z"
   },
   {
    "duration": 91,
    "start_time": "2023-04-26T11:22:39.267Z"
   },
   {
    "duration": 7,
    "start_time": "2023-04-26T11:26:27.109Z"
   },
   {
    "duration": 7,
    "start_time": "2023-04-26T11:26:41.406Z"
   },
   {
    "duration": 6,
    "start_time": "2023-04-26T11:27:48.492Z"
   },
   {
    "duration": 7,
    "start_time": "2023-04-26T11:37:22.318Z"
   },
   {
    "duration": 13,
    "start_time": "2023-04-26T11:41:12.665Z"
   },
   {
    "duration": 3,
    "start_time": "2023-04-26T11:41:18.273Z"
   },
   {
    "duration": 16,
    "start_time": "2023-04-26T11:41:18.278Z"
   },
   {
    "duration": 11,
    "start_time": "2023-04-26T11:41:18.296Z"
   },
   {
    "duration": 82,
    "start_time": "2023-04-26T11:41:18.309Z"
   },
   {
    "duration": 47,
    "start_time": "2023-04-26T11:41:18.393Z"
   },
   {
    "duration": 32,
    "start_time": "2023-04-26T11:41:18.441Z"
   },
   {
    "duration": 9,
    "start_time": "2023-04-26T11:41:18.474Z"
   },
   {
    "duration": 70,
    "start_time": "2023-04-26T11:41:18.485Z"
   },
   {
    "duration": 34,
    "start_time": "2023-04-26T11:41:18.558Z"
   },
   {
    "duration": 28,
    "start_time": "2023-04-26T11:41:18.594Z"
   },
   {
    "duration": 60,
    "start_time": "2023-04-26T11:41:18.624Z"
   },
   {
    "duration": 70,
    "start_time": "2023-04-26T11:41:18.686Z"
   },
   {
    "duration": 29,
    "start_time": "2023-04-26T11:41:18.759Z"
   },
   {
    "duration": 66,
    "start_time": "2023-04-26T11:41:18.791Z"
   },
   {
    "duration": 34,
    "start_time": "2023-04-26T11:41:18.860Z"
   },
   {
    "duration": 68,
    "start_time": "2023-04-26T11:41:18.896Z"
   },
   {
    "duration": 33,
    "start_time": "2023-04-26T11:41:18.966Z"
   },
   {
    "duration": 228,
    "start_time": "2023-04-26T11:41:19.001Z"
   },
   {
    "duration": 365,
    "start_time": "2023-04-26T11:41:19.231Z"
   },
   {
    "duration": 292,
    "start_time": "2023-04-26T11:41:19.598Z"
   },
   {
    "duration": 50,
    "start_time": "2023-04-26T11:41:19.892Z"
   },
   {
    "duration": 563,
    "start_time": "2023-04-26T11:41:19.947Z"
   },
   {
    "duration": 393,
    "start_time": "2023-04-26T11:41:20.512Z"
   },
   {
    "duration": 127,
    "start_time": "2023-04-26T11:41:20.930Z"
   },
   {
    "duration": 32,
    "start_time": "2023-04-26T11:41:21.060Z"
   },
   {
    "duration": 4,
    "start_time": "2023-04-26T11:41:21.093Z"
   },
   {
    "duration": 45,
    "start_time": "2023-04-26T11:41:21.117Z"
   },
   {
    "duration": 21,
    "start_time": "2023-04-26T11:41:21.164Z"
   },
   {
    "duration": 540,
    "start_time": "2023-04-26T11:41:21.187Z"
   },
   {
    "duration": 720,
    "start_time": "2023-04-26T11:41:21.732Z"
   },
   {
    "duration": 1029,
    "start_time": "2023-04-26T11:41:22.453Z"
   },
   {
    "duration": 18685,
    "start_time": "2023-04-26T11:41:23.484Z"
   },
   {
    "duration": 88,
    "start_time": "2023-04-26T11:41:42.171Z"
   },
   {
    "duration": 59,
    "start_time": "2023-04-26T11:41:42.260Z"
   },
   {
    "duration": 24,
    "start_time": "2023-04-26T11:41:42.324Z"
   },
   {
    "duration": 45,
    "start_time": "2023-04-26T11:41:42.357Z"
   },
   {
    "duration": 17,
    "start_time": "2023-04-26T11:41:42.404Z"
   },
   {
    "duration": 75,
    "start_time": "2023-04-26T11:41:42.425Z"
   },
   {
    "duration": 66,
    "start_time": "2023-04-26T11:41:42.503Z"
   },
   {
    "duration": 12,
    "start_time": "2023-04-26T11:41:42.571Z"
   },
   {
    "duration": 39,
    "start_time": "2023-04-26T11:41:42.585Z"
   },
   {
    "duration": 19,
    "start_time": "2023-04-26T11:41:42.679Z"
   },
   {
    "duration": 19,
    "start_time": "2023-04-26T11:41:47.123Z"
   },
   {
    "duration": 3,
    "start_time": "2023-04-26T12:10:06.445Z"
   },
   {
    "duration": 16,
    "start_time": "2023-04-26T12:10:06.451Z"
   },
   {
    "duration": 34,
    "start_time": "2023-04-26T12:10:06.469Z"
   },
   {
    "duration": 70,
    "start_time": "2023-04-26T12:10:06.505Z"
   },
   {
    "duration": 38,
    "start_time": "2023-04-26T12:10:06.577Z"
   },
   {
    "duration": 26,
    "start_time": "2023-04-26T12:10:06.617Z"
   },
   {
    "duration": 7,
    "start_time": "2023-04-26T12:10:06.645Z"
   },
   {
    "duration": 31,
    "start_time": "2023-04-26T12:10:06.653Z"
   },
   {
    "duration": 11,
    "start_time": "2023-04-26T12:10:06.685Z"
   },
   {
    "duration": 6,
    "start_time": "2023-04-26T12:10:06.698Z"
   },
   {
    "duration": 7,
    "start_time": "2023-04-26T12:10:06.717Z"
   },
   {
    "duration": 14,
    "start_time": "2023-04-26T12:10:06.725Z"
   },
   {
    "duration": 13,
    "start_time": "2023-04-26T12:10:06.740Z"
   },
   {
    "duration": 19,
    "start_time": "2023-04-26T12:10:06.754Z"
   },
   {
    "duration": 18,
    "start_time": "2023-04-26T12:10:06.775Z"
   },
   {
    "duration": 27,
    "start_time": "2023-04-26T12:10:06.795Z"
   },
   {
    "duration": 19,
    "start_time": "2023-04-26T12:10:06.824Z"
   },
   {
    "duration": 171,
    "start_time": "2023-04-26T12:10:06.844Z"
   },
   {
    "duration": 446,
    "start_time": "2023-04-26T12:10:07.016Z"
   },
   {
    "duration": 255,
    "start_time": "2023-04-26T12:10:07.464Z"
   },
   {
    "duration": 15,
    "start_time": "2023-04-26T12:10:07.721Z"
   },
   {
    "duration": 398,
    "start_time": "2023-04-26T12:10:07.737Z"
   },
   {
    "duration": 331,
    "start_time": "2023-04-26T12:10:08.136Z"
   },
   {
    "duration": 50,
    "start_time": "2023-04-26T12:10:08.469Z"
   },
   {
    "duration": 3,
    "start_time": "2023-04-26T12:10:08.521Z"
   },
   {
    "duration": 26,
    "start_time": "2023-04-26T12:10:08.526Z"
   },
   {
    "duration": 21,
    "start_time": "2023-04-26T12:10:08.553Z"
   },
   {
    "duration": 580,
    "start_time": "2023-04-26T12:10:08.575Z"
   },
   {
    "duration": 466,
    "start_time": "2023-04-26T12:10:09.158Z"
   },
   {
    "duration": 1041,
    "start_time": "2023-04-26T12:10:09.625Z"
   },
   {
    "duration": 17134,
    "start_time": "2023-04-26T12:10:10.667Z"
   },
   {
    "duration": 60,
    "start_time": "2023-04-26T12:10:27.803Z"
   },
   {
    "duration": 48,
    "start_time": "2023-04-26T12:10:27.865Z"
   },
   {
    "duration": 32,
    "start_time": "2023-04-26T12:10:27.915Z"
   },
   {
    "duration": 32,
    "start_time": "2023-04-26T12:10:27.949Z"
   },
   {
    "duration": 32,
    "start_time": "2023-04-26T12:10:27.983Z"
   },
   {
    "duration": 76,
    "start_time": "2023-04-26T12:10:28.017Z"
   },
   {
    "duration": 101,
    "start_time": "2023-04-26T12:10:28.095Z"
   },
   {
    "duration": 26,
    "start_time": "2023-04-26T12:10:28.197Z"
   },
   {
    "duration": 65,
    "start_time": "2023-04-26T12:10:28.225Z"
   },
   {
    "duration": 13,
    "start_time": "2023-04-26T12:10:28.292Z"
   },
   {
    "duration": 1589,
    "start_time": "2023-04-26T12:10:28.307Z"
   },
   {
    "duration": 164,
    "start_time": "2023-04-26T12:10:29.898Z"
   },
   {
    "duration": 5,
    "start_time": "2023-04-26T12:10:30.064Z"
   },
   {
    "duration": 4786,
    "start_time": "2023-04-26T12:10:30.071Z"
   },
   {
    "duration": 1328,
    "start_time": "2023-04-27T06:32:04.805Z"
   },
   {
    "duration": 3,
    "start_time": "2023-04-27T06:32:06.135Z"
   },
   {
    "duration": 24,
    "start_time": "2023-04-27T06:32:06.140Z"
   },
   {
    "duration": 151,
    "start_time": "2023-04-27T06:32:06.166Z"
   },
   {
    "duration": 167,
    "start_time": "2023-04-27T06:32:06.319Z"
   },
   {
    "duration": 90,
    "start_time": "2023-04-27T06:32:06.488Z"
   },
   {
    "duration": 26,
    "start_time": "2023-04-27T06:32:06.580Z"
   },
   {
    "duration": 28,
    "start_time": "2023-04-27T06:32:06.608Z"
   },
   {
    "duration": 13,
    "start_time": "2023-04-27T06:32:06.638Z"
   },
   {
    "duration": 8,
    "start_time": "2023-04-27T06:32:06.654Z"
   },
   {
    "duration": 18,
    "start_time": "2023-04-27T06:32:06.664Z"
   },
   {
    "duration": 21,
    "start_time": "2023-04-27T06:32:06.684Z"
   },
   {
    "duration": 7,
    "start_time": "2023-04-27T06:32:06.707Z"
   },
   {
    "duration": 29,
    "start_time": "2023-04-27T06:32:06.716Z"
   },
   {
    "duration": 5,
    "start_time": "2023-04-27T06:32:06.747Z"
   },
   {
    "duration": 9,
    "start_time": "2023-04-27T06:32:06.753Z"
   },
   {
    "duration": 45,
    "start_time": "2023-04-27T06:32:06.764Z"
   },
   {
    "duration": 210,
    "start_time": "2023-04-27T06:32:06.811Z"
   },
   {
    "duration": 378,
    "start_time": "2023-04-27T06:32:07.023Z"
   },
   {
    "duration": 298,
    "start_time": "2023-04-27T06:32:07.402Z"
   },
   {
    "duration": 17,
    "start_time": "2023-04-27T06:32:07.703Z"
   },
   {
    "duration": 459,
    "start_time": "2023-04-27T06:32:07.722Z"
   },
   {
    "duration": 468,
    "start_time": "2023-04-27T06:32:08.183Z"
   },
   {
    "duration": 52,
    "start_time": "2023-04-27T06:32:08.654Z"
   },
   {
    "duration": 6,
    "start_time": "2023-04-27T06:32:08.708Z"
   },
   {
    "duration": 21,
    "start_time": "2023-04-27T06:32:08.715Z"
   },
   {
    "duration": 17,
    "start_time": "2023-04-27T06:32:08.738Z"
   },
   {
    "duration": 515,
    "start_time": "2023-04-27T06:32:08.759Z"
   },
   {
    "duration": 540,
    "start_time": "2023-04-27T06:32:09.276Z"
   },
   {
    "duration": 1197,
    "start_time": "2023-04-27T06:32:09.818Z"
   },
   {
    "duration": 18288,
    "start_time": "2023-04-27T06:32:11.017Z"
   },
   {
    "duration": 54,
    "start_time": "2023-04-27T06:32:29.307Z"
   },
   {
    "duration": 53,
    "start_time": "2023-04-27T06:32:29.362Z"
   },
   {
    "duration": 17,
    "start_time": "2023-04-27T06:32:29.417Z"
   },
   {
    "duration": 8,
    "start_time": "2023-04-27T06:32:29.436Z"
   },
   {
    "duration": 7,
    "start_time": "2023-04-27T06:32:29.446Z"
   },
   {
    "duration": 46,
    "start_time": "2023-04-27T06:32:29.455Z"
   },
   {
    "duration": 33,
    "start_time": "2023-04-27T06:32:29.503Z"
   },
   {
    "duration": 7,
    "start_time": "2023-04-27T06:32:29.538Z"
   },
   {
    "duration": 25,
    "start_time": "2023-04-27T06:32:29.547Z"
   },
   {
    "duration": 5,
    "start_time": "2023-04-27T06:32:29.574Z"
   },
   {
    "duration": 1808,
    "start_time": "2023-04-27T06:32:29.589Z"
   },
   {
    "duration": 190,
    "start_time": "2023-04-27T06:32:31.399Z"
   },
   {
    "duration": 20,
    "start_time": "2023-04-27T06:32:31.591Z"
   },
   {
    "duration": 5084,
    "start_time": "2023-04-27T06:32:31.614Z"
   },
   {
    "duration": 24,
    "start_time": "2023-04-27T06:34:51.837Z"
   },
   {
    "duration": 8,
    "start_time": "2023-04-27T06:34:59.244Z"
   },
   {
    "duration": 10,
    "start_time": "2023-04-27T06:35:08.707Z"
   },
   {
    "duration": 11,
    "start_time": "2023-04-27T06:35:24.381Z"
   },
   {
    "duration": 106,
    "start_time": "2023-04-27T06:37:16.861Z"
   },
   {
    "duration": 145,
    "start_time": "2023-04-27T06:54:27.175Z"
   },
   {
    "duration": 50,
    "start_time": "2023-05-01T10:54:07.727Z"
   },
   {
    "duration": 1161,
    "start_time": "2023-05-01T10:54:15.554Z"
   },
   {
    "duration": 3,
    "start_time": "2023-05-01T10:54:17.542Z"
   }
  ],
  "kernelspec": {
   "display_name": "Python 3 (ipykernel)",
   "language": "python",
   "name": "python3"
  },
  "language_info": {
   "codemirror_mode": {
    "name": "ipython",
    "version": 3
   },
   "file_extension": ".py",
   "mimetype": "text/x-python",
   "name": "python",
   "nbconvert_exporter": "python",
   "pygments_lexer": "ipython3",
   "version": "3.9.16"
  },
  "toc": {
   "base_numbering": 1,
   "nav_menu": {},
   "number_sections": true,
   "sideBar": true,
   "skip_h1_title": true,
   "title_cell": "Table of Contents",
   "title_sidebar": "Contents",
   "toc_cell": false,
   "toc_position": {},
   "toc_section_display": true,
   "toc_window_display": true
  }
 },
 "nbformat": 4,
 "nbformat_minor": 5
}
