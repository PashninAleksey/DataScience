{
 "cells": [
  {
   "cell_type": "markdown",
   "id": "5d977b11",
   "metadata": {
    "deletable": false,
    "editable": false,
    "id": "c81daeeb"
   },
   "source": [
    "# Исследование надежности заемщиков\n"
   ]
  },
  {
   "cell_type": "markdown",
   "id": "cb964515-7017-4e01-b2e6-9c62e3ab9f67",
   "metadata": {
    "tags": []
   },
   "source": [
    "## Описание проекта"
   ]
  },
  {
   "cell_type": "markdown",
   "id": "a7b353f2",
   "metadata": {
    "deletable": false,
    "editable": false,
    "id": "827c20bf"
   },
   "source": [
    "Заказчик — кредитный отдел банка. Нужно разобраться, влияет ли семейное положение и количество детей клиента на факт погашения кредита в срок. Входные данные от банка — статистика о платёжеспособности клиентов.\n",
    "Результаты исследования будут учтены при построении модели кредитного скоринга — специальной системы, которая оценивает способность потенциального заёмщика вернуть кредит банку. \n",
    "\n"
   ]
  },
  {
   "cell_type": "markdown",
   "id": "18364ed7-bcc9-4b8e-938f-de485ae94184",
   "metadata": {
    "tags": []
   },
   "source": [
    "## Описание данных"
   ]
  },
  {
   "cell_type": "markdown",
   "id": "080f0bbb-4d82-4f59-b696-ec944694402c",
   "metadata": {},
   "source": [
    "* children — количество детей в семье\n",
    "* days_employed — общий трудовой стаж в днях\n",
    "* dob_years — возраст клиента в годах\n",
    "* education — уровень образования клиента\n",
    "* education_id — идентификатор уровня образования\n",
    "* family_status — семейное положение\n",
    "* family_status_id — идентификатор семейного положения\n",
    "* gender — пол клиента\n",
    "* income_type — тип занятости\n",
    "* debt — имел ли задолженность по возврату кредитов\n",
    "* total_income — ежемесячный доход\n",
    "* purpose — цель получения кредита"
   ]
  },
  {
   "cell_type": "markdown",
   "id": "205eb181-876e-46ff-84df-5d3a180c988f",
   "metadata": {},
   "source": [
    "## План работ"
   ]
  },
  {
   "cell_type": "markdown",
   "id": "8827451c-e813-485a-b4d8-9a8b328230e2",
   "metadata": {},
   "source": [
    "* Открыть таблицу и изучить общую информацию о данных\n",
    "* Предобработка данных\n",
    "* Анализ данных\n",
    "* Вывод"
   ]
  },
  {
   "cell_type": "markdown",
   "id": "f349d7a0",
   "metadata": {
    "deletable": false,
    "editable": false,
    "id": "744d7639"
   },
   "source": [
    "## Изучение данных"
   ]
  },
  {
   "cell_type": "markdown",
   "id": "80139160",
   "metadata": {
    "deletable": false,
    "editable": false,
    "id": "e7a14c31"
   },
   "source": [
    "Импортируем библиотеку pandas. Считаем данные из csv-файла в датафрейм и сохраним в переменную 'data'. Выведем первые 20 строчек:"
   ]
  },
  {
   "cell_type": "code",
   "execution_count": 1,
   "id": "efef0df4",
   "metadata": {
    "deletable": false,
    "id": "7bcf75c9",
    "tags": []
   },
   "outputs": [
    {
     "name": "stdout",
     "output_type": "stream",
     "text": [
      "local\n"
     ]
    },
    {
     "data": {
      "text/html": [
       "<div>\n",
       "<style scoped>\n",
       "    .dataframe tbody tr th:only-of-type {\n",
       "        vertical-align: middle;\n",
       "    }\n",
       "\n",
       "    .dataframe tbody tr th {\n",
       "        vertical-align: top;\n",
       "    }\n",
       "\n",
       "    .dataframe thead th {\n",
       "        text-align: right;\n",
       "    }\n",
       "</style>\n",
       "<table border=\"1\" class=\"dataframe\">\n",
       "  <thead>\n",
       "    <tr style=\"text-align: right;\">\n",
       "      <th></th>\n",
       "      <th>children</th>\n",
       "      <th>days_employed</th>\n",
       "      <th>dob_years</th>\n",
       "      <th>education</th>\n",
       "      <th>education_id</th>\n",
       "      <th>family_status</th>\n",
       "      <th>family_status_id</th>\n",
       "      <th>gender</th>\n",
       "      <th>income_type</th>\n",
       "      <th>debt</th>\n",
       "      <th>total_income</th>\n",
       "      <th>purpose</th>\n",
       "    </tr>\n",
       "  </thead>\n",
       "  <tbody>\n",
       "    <tr>\n",
       "      <th>0</th>\n",
       "      <td>1</td>\n",
       "      <td>-8437.673028</td>\n",
       "      <td>42</td>\n",
       "      <td>высшее</td>\n",
       "      <td>0</td>\n",
       "      <td>женат / замужем</td>\n",
       "      <td>0</td>\n",
       "      <td>F</td>\n",
       "      <td>сотрудник</td>\n",
       "      <td>0</td>\n",
       "      <td>253875.639453</td>\n",
       "      <td>покупка жилья</td>\n",
       "    </tr>\n",
       "    <tr>\n",
       "      <th>1</th>\n",
       "      <td>1</td>\n",
       "      <td>-4024.803754</td>\n",
       "      <td>36</td>\n",
       "      <td>среднее</td>\n",
       "      <td>1</td>\n",
       "      <td>женат / замужем</td>\n",
       "      <td>0</td>\n",
       "      <td>F</td>\n",
       "      <td>сотрудник</td>\n",
       "      <td>0</td>\n",
       "      <td>112080.014102</td>\n",
       "      <td>приобретение автомобиля</td>\n",
       "    </tr>\n",
       "    <tr>\n",
       "      <th>2</th>\n",
       "      <td>0</td>\n",
       "      <td>-5623.422610</td>\n",
       "      <td>33</td>\n",
       "      <td>Среднее</td>\n",
       "      <td>1</td>\n",
       "      <td>женат / замужем</td>\n",
       "      <td>0</td>\n",
       "      <td>M</td>\n",
       "      <td>сотрудник</td>\n",
       "      <td>0</td>\n",
       "      <td>145885.952297</td>\n",
       "      <td>покупка жилья</td>\n",
       "    </tr>\n",
       "    <tr>\n",
       "      <th>3</th>\n",
       "      <td>3</td>\n",
       "      <td>-4124.747207</td>\n",
       "      <td>32</td>\n",
       "      <td>среднее</td>\n",
       "      <td>1</td>\n",
       "      <td>женат / замужем</td>\n",
       "      <td>0</td>\n",
       "      <td>M</td>\n",
       "      <td>сотрудник</td>\n",
       "      <td>0</td>\n",
       "      <td>267628.550329</td>\n",
       "      <td>дополнительное образование</td>\n",
       "    </tr>\n",
       "    <tr>\n",
       "      <th>4</th>\n",
       "      <td>0</td>\n",
       "      <td>340266.072047</td>\n",
       "      <td>53</td>\n",
       "      <td>среднее</td>\n",
       "      <td>1</td>\n",
       "      <td>гражданский брак</td>\n",
       "      <td>1</td>\n",
       "      <td>F</td>\n",
       "      <td>пенсионер</td>\n",
       "      <td>0</td>\n",
       "      <td>158616.077870</td>\n",
       "      <td>сыграть свадьбу</td>\n",
       "    </tr>\n",
       "    <tr>\n",
       "      <th>5</th>\n",
       "      <td>0</td>\n",
       "      <td>-926.185831</td>\n",
       "      <td>27</td>\n",
       "      <td>высшее</td>\n",
       "      <td>0</td>\n",
       "      <td>гражданский брак</td>\n",
       "      <td>1</td>\n",
       "      <td>M</td>\n",
       "      <td>компаньон</td>\n",
       "      <td>0</td>\n",
       "      <td>255763.565419</td>\n",
       "      <td>покупка жилья</td>\n",
       "    </tr>\n",
       "    <tr>\n",
       "      <th>6</th>\n",
       "      <td>0</td>\n",
       "      <td>-2879.202052</td>\n",
       "      <td>43</td>\n",
       "      <td>высшее</td>\n",
       "      <td>0</td>\n",
       "      <td>женат / замужем</td>\n",
       "      <td>0</td>\n",
       "      <td>F</td>\n",
       "      <td>компаньон</td>\n",
       "      <td>0</td>\n",
       "      <td>240525.971920</td>\n",
       "      <td>операции с жильем</td>\n",
       "    </tr>\n",
       "    <tr>\n",
       "      <th>7</th>\n",
       "      <td>0</td>\n",
       "      <td>-152.779569</td>\n",
       "      <td>50</td>\n",
       "      <td>СРЕДНЕЕ</td>\n",
       "      <td>1</td>\n",
       "      <td>женат / замужем</td>\n",
       "      <td>0</td>\n",
       "      <td>M</td>\n",
       "      <td>сотрудник</td>\n",
       "      <td>0</td>\n",
       "      <td>135823.934197</td>\n",
       "      <td>образование</td>\n",
       "    </tr>\n",
       "    <tr>\n",
       "      <th>8</th>\n",
       "      <td>2</td>\n",
       "      <td>-6929.865299</td>\n",
       "      <td>35</td>\n",
       "      <td>ВЫСШЕЕ</td>\n",
       "      <td>0</td>\n",
       "      <td>гражданский брак</td>\n",
       "      <td>1</td>\n",
       "      <td>F</td>\n",
       "      <td>сотрудник</td>\n",
       "      <td>0</td>\n",
       "      <td>95856.832424</td>\n",
       "      <td>на проведение свадьбы</td>\n",
       "    </tr>\n",
       "    <tr>\n",
       "      <th>9</th>\n",
       "      <td>0</td>\n",
       "      <td>-2188.756445</td>\n",
       "      <td>41</td>\n",
       "      <td>среднее</td>\n",
       "      <td>1</td>\n",
       "      <td>женат / замужем</td>\n",
       "      <td>0</td>\n",
       "      <td>M</td>\n",
       "      <td>сотрудник</td>\n",
       "      <td>0</td>\n",
       "      <td>144425.938277</td>\n",
       "      <td>покупка жилья для семьи</td>\n",
       "    </tr>\n",
       "    <tr>\n",
       "      <th>10</th>\n",
       "      <td>2</td>\n",
       "      <td>-4171.483647</td>\n",
       "      <td>36</td>\n",
       "      <td>высшее</td>\n",
       "      <td>0</td>\n",
       "      <td>женат / замужем</td>\n",
       "      <td>0</td>\n",
       "      <td>M</td>\n",
       "      <td>компаньон</td>\n",
       "      <td>0</td>\n",
       "      <td>113943.491460</td>\n",
       "      <td>покупка недвижимости</td>\n",
       "    </tr>\n",
       "    <tr>\n",
       "      <th>11</th>\n",
       "      <td>0</td>\n",
       "      <td>-792.701887</td>\n",
       "      <td>40</td>\n",
       "      <td>среднее</td>\n",
       "      <td>1</td>\n",
       "      <td>женат / замужем</td>\n",
       "      <td>0</td>\n",
       "      <td>F</td>\n",
       "      <td>сотрудник</td>\n",
       "      <td>0</td>\n",
       "      <td>77069.234271</td>\n",
       "      <td>покупка коммерческой недвижимости</td>\n",
       "    </tr>\n",
       "    <tr>\n",
       "      <th>12</th>\n",
       "      <td>0</td>\n",
       "      <td>NaN</td>\n",
       "      <td>65</td>\n",
       "      <td>среднее</td>\n",
       "      <td>1</td>\n",
       "      <td>гражданский брак</td>\n",
       "      <td>1</td>\n",
       "      <td>M</td>\n",
       "      <td>пенсионер</td>\n",
       "      <td>0</td>\n",
       "      <td>NaN</td>\n",
       "      <td>сыграть свадьбу</td>\n",
       "    </tr>\n",
       "    <tr>\n",
       "      <th>13</th>\n",
       "      <td>0</td>\n",
       "      <td>-1846.641941</td>\n",
       "      <td>54</td>\n",
       "      <td>неоконченное высшее</td>\n",
       "      <td>2</td>\n",
       "      <td>женат / замужем</td>\n",
       "      <td>0</td>\n",
       "      <td>F</td>\n",
       "      <td>сотрудник</td>\n",
       "      <td>0</td>\n",
       "      <td>130458.228857</td>\n",
       "      <td>приобретение автомобиля</td>\n",
       "    </tr>\n",
       "    <tr>\n",
       "      <th>14</th>\n",
       "      <td>0</td>\n",
       "      <td>-1844.956182</td>\n",
       "      <td>56</td>\n",
       "      <td>высшее</td>\n",
       "      <td>0</td>\n",
       "      <td>гражданский брак</td>\n",
       "      <td>1</td>\n",
       "      <td>F</td>\n",
       "      <td>компаньон</td>\n",
       "      <td>1</td>\n",
       "      <td>165127.911772</td>\n",
       "      <td>покупка жилой недвижимости</td>\n",
       "    </tr>\n",
       "    <tr>\n",
       "      <th>15</th>\n",
       "      <td>1</td>\n",
       "      <td>-972.364419</td>\n",
       "      <td>26</td>\n",
       "      <td>среднее</td>\n",
       "      <td>1</td>\n",
       "      <td>женат / замужем</td>\n",
       "      <td>0</td>\n",
       "      <td>F</td>\n",
       "      <td>сотрудник</td>\n",
       "      <td>0</td>\n",
       "      <td>116820.904450</td>\n",
       "      <td>строительство собственной недвижимости</td>\n",
       "    </tr>\n",
       "    <tr>\n",
       "      <th>16</th>\n",
       "      <td>0</td>\n",
       "      <td>-1719.934226</td>\n",
       "      <td>35</td>\n",
       "      <td>среднее</td>\n",
       "      <td>1</td>\n",
       "      <td>женат / замужем</td>\n",
       "      <td>0</td>\n",
       "      <td>F</td>\n",
       "      <td>сотрудник</td>\n",
       "      <td>0</td>\n",
       "      <td>289202.704229</td>\n",
       "      <td>недвижимость</td>\n",
       "    </tr>\n",
       "    <tr>\n",
       "      <th>17</th>\n",
       "      <td>0</td>\n",
       "      <td>-2369.999720</td>\n",
       "      <td>33</td>\n",
       "      <td>высшее</td>\n",
       "      <td>0</td>\n",
       "      <td>гражданский брак</td>\n",
       "      <td>1</td>\n",
       "      <td>M</td>\n",
       "      <td>сотрудник</td>\n",
       "      <td>0</td>\n",
       "      <td>90410.586745</td>\n",
       "      <td>строительство недвижимости</td>\n",
       "    </tr>\n",
       "    <tr>\n",
       "      <th>18</th>\n",
       "      <td>0</td>\n",
       "      <td>400281.136913</td>\n",
       "      <td>53</td>\n",
       "      <td>среднее</td>\n",
       "      <td>1</td>\n",
       "      <td>вдовец / вдова</td>\n",
       "      <td>2</td>\n",
       "      <td>F</td>\n",
       "      <td>пенсионер</td>\n",
       "      <td>0</td>\n",
       "      <td>56823.777243</td>\n",
       "      <td>на покупку подержанного автомобиля</td>\n",
       "    </tr>\n",
       "    <tr>\n",
       "      <th>19</th>\n",
       "      <td>0</td>\n",
       "      <td>-10038.818549</td>\n",
       "      <td>48</td>\n",
       "      <td>СРЕДНЕЕ</td>\n",
       "      <td>1</td>\n",
       "      <td>в разводе</td>\n",
       "      <td>3</td>\n",
       "      <td>F</td>\n",
       "      <td>сотрудник</td>\n",
       "      <td>0</td>\n",
       "      <td>242831.107982</td>\n",
       "      <td>на покупку своего автомобиля</td>\n",
       "    </tr>\n",
       "  </tbody>\n",
       "</table>\n",
       "</div>"
      ],
      "text/plain": [
       "    children  days_employed  dob_years            education  education_id  \\\n",
       "0          1   -8437.673028         42               высшее             0   \n",
       "1          1   -4024.803754         36              среднее             1   \n",
       "2          0   -5623.422610         33              Среднее             1   \n",
       "3          3   -4124.747207         32              среднее             1   \n",
       "4          0  340266.072047         53              среднее             1   \n",
       "5          0    -926.185831         27               высшее             0   \n",
       "6          0   -2879.202052         43               высшее             0   \n",
       "7          0    -152.779569         50              СРЕДНЕЕ             1   \n",
       "8          2   -6929.865299         35               ВЫСШЕЕ             0   \n",
       "9          0   -2188.756445         41              среднее             1   \n",
       "10         2   -4171.483647         36               высшее             0   \n",
       "11         0    -792.701887         40              среднее             1   \n",
       "12         0            NaN         65              среднее             1   \n",
       "13         0   -1846.641941         54  неоконченное высшее             2   \n",
       "14         0   -1844.956182         56               высшее             0   \n",
       "15         1    -972.364419         26              среднее             1   \n",
       "16         0   -1719.934226         35              среднее             1   \n",
       "17         0   -2369.999720         33               высшее             0   \n",
       "18         0  400281.136913         53              среднее             1   \n",
       "19         0  -10038.818549         48              СРЕДНЕЕ             1   \n",
       "\n",
       "       family_status  family_status_id gender income_type  debt  \\\n",
       "0    женат / замужем                 0      F   сотрудник     0   \n",
       "1    женат / замужем                 0      F   сотрудник     0   \n",
       "2    женат / замужем                 0      M   сотрудник     0   \n",
       "3    женат / замужем                 0      M   сотрудник     0   \n",
       "4   гражданский брак                 1      F   пенсионер     0   \n",
       "5   гражданский брак                 1      M   компаньон     0   \n",
       "6    женат / замужем                 0      F   компаньон     0   \n",
       "7    женат / замужем                 0      M   сотрудник     0   \n",
       "8   гражданский брак                 1      F   сотрудник     0   \n",
       "9    женат / замужем                 0      M   сотрудник     0   \n",
       "10   женат / замужем                 0      M   компаньон     0   \n",
       "11   женат / замужем                 0      F   сотрудник     0   \n",
       "12  гражданский брак                 1      M   пенсионер     0   \n",
       "13   женат / замужем                 0      F   сотрудник     0   \n",
       "14  гражданский брак                 1      F   компаньон     1   \n",
       "15   женат / замужем                 0      F   сотрудник     0   \n",
       "16   женат / замужем                 0      F   сотрудник     0   \n",
       "17  гражданский брак                 1      M   сотрудник     0   \n",
       "18    вдовец / вдова                 2      F   пенсионер     0   \n",
       "19         в разводе                 3      F   сотрудник     0   \n",
       "\n",
       "     total_income                                 purpose  \n",
       "0   253875.639453                           покупка жилья  \n",
       "1   112080.014102                 приобретение автомобиля  \n",
       "2   145885.952297                           покупка жилья  \n",
       "3   267628.550329              дополнительное образование  \n",
       "4   158616.077870                         сыграть свадьбу  \n",
       "5   255763.565419                           покупка жилья  \n",
       "6   240525.971920                       операции с жильем  \n",
       "7   135823.934197                             образование  \n",
       "8    95856.832424                   на проведение свадьбы  \n",
       "9   144425.938277                 покупка жилья для семьи  \n",
       "10  113943.491460                    покупка недвижимости  \n",
       "11   77069.234271       покупка коммерческой недвижимости  \n",
       "12            NaN                         сыграть свадьбу  \n",
       "13  130458.228857                 приобретение автомобиля  \n",
       "14  165127.911772              покупка жилой недвижимости  \n",
       "15  116820.904450  строительство собственной недвижимости  \n",
       "16  289202.704229                            недвижимость  \n",
       "17   90410.586745              строительство недвижимости  \n",
       "18   56823.777243      на покупку подержанного автомобиля  \n",
       "19  242831.107982            на покупку своего автомобиля  "
      ]
     },
     "execution_count": 1,
     "metadata": {},
     "output_type": "execute_result"
    }
   ],
   "source": [
    "import pandas as pd\n",
    "try:\n",
    "    data = pd.read_csv('data.csv')\n",
    "    print('local')\n",
    "except:\n",
    "    data = pd.read_csv('https://code.s3.yandex.net/datasets/data.csv')\n",
    "data.head(20)"
   ]
  },
  {
   "cell_type": "code",
   "execution_count": 2,
   "id": "1f12cb9c-9c66-4db5-b172-5a01f7bc1663",
   "metadata": {
    "deletable": false,
    "editable": false,
    "id": "b8038fe3",
    "tags": []
   },
   "outputs": [
    {
     "name": "stdout",
     "output_type": "stream",
     "text": [
      "<class 'pandas.core.frame.DataFrame'>\n",
      "RangeIndex: 21525 entries, 0 to 21524\n",
      "Data columns (total 12 columns):\n",
      " #   Column            Non-Null Count  Dtype  \n",
      "---  ------            --------------  -----  \n",
      " 0   children          21525 non-null  int64  \n",
      " 1   days_employed     19351 non-null  float64\n",
      " 2   dob_years         21525 non-null  int64  \n",
      " 3   education         21525 non-null  object \n",
      " 4   education_id      21525 non-null  int64  \n",
      " 5   family_status     21525 non-null  object \n",
      " 6   family_status_id  21525 non-null  int64  \n",
      " 7   gender            21525 non-null  object \n",
      " 8   income_type       21525 non-null  object \n",
      " 9   debt              21525 non-null  int64  \n",
      " 10  total_income      19351 non-null  float64\n",
      " 11  purpose           21525 non-null  object \n",
      "dtypes: float64(2), int64(5), object(5)\n",
      "memory usage: 2.0+ MB\n"
     ]
    }
   ],
   "source": [
    " data.info()"
   ]
  },
  {
   "cell_type": "markdown",
   "id": "28e0fe4b-dc66-4a39-9ac7-30b69eed193b",
   "metadata": {
    "deletable": false,
    "id": "2a7cab99",
    "outputId": "1a8f3ef2-d323-4ec2-ddf7-89670b5944c4",
    "tags": []
   },
   "source": [
    "Взглянув даже поверхностно можем увидеть, что имеются пропуски, некорректные данные (количество дней *days_employed* не может быть отрицательным), неявные дубликаты в колонке *education*. Все эти проблемы надо обработать."
   ]
  },
  {
   "cell_type": "markdown",
   "id": "6d6a8a1a-5d9f-41f0-bb75-cb45d1d77a14",
   "metadata": {
    "tags": []
   },
   "source": [
    "## Предобработка данных"
   ]
  },
  {
   "cell_type": "markdown",
   "id": "f811ab37-86bc-4680-a3b8-9f84d0ffa008",
   "metadata": {
    "tags": []
   },
   "source": [
    "### Удаление пропусков"
   ]
  },
  {
   "cell_type": "markdown",
   "id": "0cc2083d-ef61-46ee-b960-cec1f7459644",
   "metadata": {},
   "source": [
    "Выведем количество пропущенных значений для каждого столбца. Используем комбинацию двух методов."
   ]
  },
  {
   "cell_type": "code",
   "execution_count": 3,
   "id": "f0863459",
   "metadata": {
    "deletable": false,
    "id": "7f9b2309",
    "outputId": "81f4d817-781c-465c-ed15-91ce4446810d"
   },
   "outputs": [
    {
     "data": {
      "text/plain": [
       "children               0\n",
       "days_employed       2174\n",
       "dob_years              0\n",
       "education              0\n",
       "education_id           0\n",
       "family_status          0\n",
       "family_status_id       0\n",
       "gender                 0\n",
       "income_type            0\n",
       "debt                   0\n",
       "total_income        2174\n",
       "purpose                0\n",
       "dtype: int64"
      ]
     },
     "execution_count": 3,
     "metadata": {},
     "output_type": "execute_result"
    }
   ],
   "source": [
    "data.isna().sum()"
   ]
  },
  {
   "cell_type": "markdown",
   "id": "5b846175",
   "metadata": {
    "deletable": true,
    "id": "db86e27b",
    "tags": []
   },
   "source": [
    "В двух столбцах есть пропущенные значения. Один из них `total_income` — хранит данные о доходах, а `days_employed` - количество отработанных дней. На эти показатели сильнее всего влияет тип занятости, поэтому заполнить пропуски в этих столбцах нужно медианным значением по каждому типу из столбца `income_type`. Например, у человека с типом занятости `сотрудник` пропуск в столбце `total_income` должен быть заполнен медианным доходом среди всех записей с тем же типом."
   ]
  },
  {
   "cell_type": "code",
   "execution_count": 4,
   "id": "0d833e22",
   "metadata": {
    "deletable": false,
    "id": "42006a93"
   },
   "outputs": [],
   "source": [
    "for t in data['income_type'].unique():\n",
    "    data.loc[(data['income_type'] == t) & (data['total_income'].isna()), 'total_income'] = \\\n",
    "    data.loc[(data['income_type'] == t), 'total_income'].median()"
   ]
  },
  {
   "cell_type": "code",
   "execution_count": 5,
   "id": "f09ef5c7-7872-4f9f-97c5-81d0f4cb4fcc",
   "metadata": {
    "tags": []
   },
   "outputs": [],
   "source": [
    "for t in data['income_type'].unique():\n",
    "    data.loc[(data['income_type'] == t) & (data['days_employed'].isna()), 'days_employed'] = \\\n",
    "    data.loc[(data['income_type'] == t), 'days_employed'].median()"
   ]
  },
  {
   "cell_type": "code",
   "execution_count": 6,
   "id": "428a2058-3679-4804-8efd-78dde4219413",
   "metadata": {
    "tags": []
   },
   "outputs": [
    {
     "data": {
      "text/plain": [
       "children            0\n",
       "days_employed       0\n",
       "dob_years           0\n",
       "education           0\n",
       "education_id        0\n",
       "family_status       0\n",
       "family_status_id    0\n",
       "gender              0\n",
       "income_type         0\n",
       "debt                0\n",
       "total_income        0\n",
       "purpose             0\n",
       "dtype: int64"
      ]
     },
     "execution_count": 6,
     "metadata": {},
     "output_type": "execute_result"
    }
   ],
   "source": [
    "data.isna().sum()"
   ]
  },
  {
   "cell_type": "markdown",
   "id": "0094133f-0e06-48c4-a3ba-edd93bc45da7",
   "metadata": {
    "tags": []
   },
   "source": [
    "Убедились, что все пропуски обработаны."
   ]
  },
  {
   "cell_type": "markdown",
   "id": "0075d66b",
   "metadata": {
    "deletable": false,
    "editable": false,
    "id": "89da5ece"
   },
   "source": [
    "### Обработка аномальных значений"
   ]
  },
  {
   "cell_type": "markdown",
   "id": "8c22a92b",
   "metadata": {
    "deletable": true,
    "id": "57964554",
    "tags": []
   },
   "source": [
    "В данных встречаются и артефакты (аномалии) — значения, которые не отражают действительность и появились по какой-то ошибке. Таким артефактом будет отрицательное количество дней трудового стажа в столбце `days_employed`. Заменим все отрицательные значения положительными с помощью метода `abs()`."
   ]
  },
  {
   "cell_type": "code",
   "execution_count": 7,
   "id": "d4fdd8ed",
   "metadata": {
    "deletable": false,
    "id": "f6f055bf"
   },
   "outputs": [
    {
     "data": {
      "text/html": [
       "<div>\n",
       "<style scoped>\n",
       "    .dataframe tbody tr th:only-of-type {\n",
       "        vertical-align: middle;\n",
       "    }\n",
       "\n",
       "    .dataframe tbody tr th {\n",
       "        vertical-align: top;\n",
       "    }\n",
       "\n",
       "    .dataframe thead th {\n",
       "        text-align: right;\n",
       "    }\n",
       "</style>\n",
       "<table border=\"1\" class=\"dataframe\">\n",
       "  <thead>\n",
       "    <tr style=\"text-align: right;\">\n",
       "      <th></th>\n",
       "      <th>children</th>\n",
       "      <th>days_employed</th>\n",
       "      <th>dob_years</th>\n",
       "      <th>education</th>\n",
       "      <th>education_id</th>\n",
       "      <th>family_status</th>\n",
       "      <th>family_status_id</th>\n",
       "      <th>gender</th>\n",
       "      <th>income_type</th>\n",
       "      <th>debt</th>\n",
       "      <th>total_income</th>\n",
       "      <th>purpose</th>\n",
       "    </tr>\n",
       "  </thead>\n",
       "  <tbody>\n",
       "    <tr>\n",
       "      <th>0</th>\n",
       "      <td>1</td>\n",
       "      <td>8437.673028</td>\n",
       "      <td>42</td>\n",
       "      <td>высшее</td>\n",
       "      <td>0</td>\n",
       "      <td>женат / замужем</td>\n",
       "      <td>0</td>\n",
       "      <td>F</td>\n",
       "      <td>сотрудник</td>\n",
       "      <td>0</td>\n",
       "      <td>253875.639453</td>\n",
       "      <td>покупка жилья</td>\n",
       "    </tr>\n",
       "    <tr>\n",
       "      <th>1</th>\n",
       "      <td>1</td>\n",
       "      <td>4024.803754</td>\n",
       "      <td>36</td>\n",
       "      <td>среднее</td>\n",
       "      <td>1</td>\n",
       "      <td>женат / замужем</td>\n",
       "      <td>0</td>\n",
       "      <td>F</td>\n",
       "      <td>сотрудник</td>\n",
       "      <td>0</td>\n",
       "      <td>112080.014102</td>\n",
       "      <td>приобретение автомобиля</td>\n",
       "    </tr>\n",
       "    <tr>\n",
       "      <th>2</th>\n",
       "      <td>0</td>\n",
       "      <td>5623.422610</td>\n",
       "      <td>33</td>\n",
       "      <td>Среднее</td>\n",
       "      <td>1</td>\n",
       "      <td>женат / замужем</td>\n",
       "      <td>0</td>\n",
       "      <td>M</td>\n",
       "      <td>сотрудник</td>\n",
       "      <td>0</td>\n",
       "      <td>145885.952297</td>\n",
       "      <td>покупка жилья</td>\n",
       "    </tr>\n",
       "    <tr>\n",
       "      <th>3</th>\n",
       "      <td>3</td>\n",
       "      <td>4124.747207</td>\n",
       "      <td>32</td>\n",
       "      <td>среднее</td>\n",
       "      <td>1</td>\n",
       "      <td>женат / замужем</td>\n",
       "      <td>0</td>\n",
       "      <td>M</td>\n",
       "      <td>сотрудник</td>\n",
       "      <td>0</td>\n",
       "      <td>267628.550329</td>\n",
       "      <td>дополнительное образование</td>\n",
       "    </tr>\n",
       "    <tr>\n",
       "      <th>4</th>\n",
       "      <td>0</td>\n",
       "      <td>340266.072047</td>\n",
       "      <td>53</td>\n",
       "      <td>среднее</td>\n",
       "      <td>1</td>\n",
       "      <td>гражданский брак</td>\n",
       "      <td>1</td>\n",
       "      <td>F</td>\n",
       "      <td>пенсионер</td>\n",
       "      <td>0</td>\n",
       "      <td>158616.077870</td>\n",
       "      <td>сыграть свадьбу</td>\n",
       "    </tr>\n",
       "  </tbody>\n",
       "</table>\n",
       "</div>"
      ],
      "text/plain": [
       "   children  days_employed  dob_years education  education_id  \\\n",
       "0         1    8437.673028         42    высшее             0   \n",
       "1         1    4024.803754         36   среднее             1   \n",
       "2         0    5623.422610         33   Среднее             1   \n",
       "3         3    4124.747207         32   среднее             1   \n",
       "4         0  340266.072047         53   среднее             1   \n",
       "\n",
       "      family_status  family_status_id gender income_type  debt   total_income  \\\n",
       "0   женат / замужем                 0      F   сотрудник     0  253875.639453   \n",
       "1   женат / замужем                 0      F   сотрудник     0  112080.014102   \n",
       "2   женат / замужем                 0      M   сотрудник     0  145885.952297   \n",
       "3   женат / замужем                 0      M   сотрудник     0  267628.550329   \n",
       "4  гражданский брак                 1      F   пенсионер     0  158616.077870   \n",
       "\n",
       "                      purpose  \n",
       "0               покупка жилья  \n",
       "1     приобретение автомобиля  \n",
       "2               покупка жилья  \n",
       "3  дополнительное образование  \n",
       "4             сыграть свадьбу  "
      ]
     },
     "execution_count": 7,
     "metadata": {},
     "output_type": "execute_result"
    }
   ],
   "source": [
    "data['days_employed'] = data['days_employed'].abs()\n",
    "data.head()"
   ]
  },
  {
   "cell_type": "markdown",
   "id": "92f39b33",
   "metadata": {
    "deletable": true,
    "id": "6107dd2f",
    "tags": []
   },
   "source": [
    "Для каждого типа занятости выведем медианное значение трудового стажа `days_employed` в днях."
   ]
  },
  {
   "cell_type": "code",
   "execution_count": 8,
   "id": "6429ddad",
   "metadata": {
    "deletable": false,
    "id": "85a5faf6",
    "outputId": "801ef80e-522b-4668-f34e-565af7432bcf"
   },
   "outputs": [
    {
     "data": {
      "text/plain": [
       "income_type\n",
       "безработный        366413.652744\n",
       "в декрете            3296.759962\n",
       "госслужащий          2689.368353\n",
       "компаньон            1547.382223\n",
       "пенсионер          365213.306266\n",
       "предприниматель       520.848083\n",
       "сотрудник            1574.202821\n",
       "студент               578.751554\n",
       "Name: days_employed, dtype: float64"
      ]
     },
     "execution_count": 8,
     "metadata": {},
     "output_type": "execute_result"
    }
   ],
   "source": [
    "data.groupby('income_type')['days_employed'].agg('median')"
   ]
  },
  {
   "cell_type": "markdown",
   "id": "ae064b96",
   "metadata": {
    "deletable": true,
    "id": "38d1a030",
    "tags": []
   },
   "source": [
    "У двух типов (безработные и пенсионеры) получатся аномально большие значения. Исправить такие значения сложно, поэтому оставим их пока как есть."
   ]
  },
  {
   "cell_type": "markdown",
   "id": "20dbda03",
   "metadata": {
    "deletable": true,
    "id": "d8a9f147",
    "tags": []
   },
   "source": [
    "Выведем перечень уникальных значений столбца `children`."
   ]
  },
  {
   "cell_type": "code",
   "execution_count": 9,
   "id": "a477bc7c",
   "metadata": {
    "deletable": false,
    "id": "ef5056eb",
    "outputId": "6975b15c-7f95-4697-d16d-a0c79b657b03"
   },
   "outputs": [
    {
     "data": {
      "text/plain": [
       "array([ 1,  0,  3,  2, -1,  4, 20,  5], dtype=int64)"
      ]
     },
     "execution_count": 9,
     "metadata": {},
     "output_type": "execute_result"
    }
   ],
   "source": [
    "data['children'].unique()"
   ]
  },
  {
   "cell_type": "markdown",
   "id": "b60cfea3",
   "metadata": {
    "deletable": true,
    "id": "40b9ebf2",
    "tags": []
   },
   "source": [
    "В столбце `children` есть два аномальных значения. Удалим строки, в которых встречаются такие аномальные значения из датафрейма `data`."
   ]
  },
  {
   "cell_type": "code",
   "execution_count": 10,
   "id": "967d915d",
   "metadata": {
    "deletable": false,
    "id": "3ff9801d"
   },
   "outputs": [],
   "source": [
    "data = data[(data['children'] != -1) & (data['children'] != 20)]"
   ]
  },
  {
   "cell_type": "code",
   "execution_count": 11,
   "id": "dcf36753",
   "metadata": {
    "deletable": false,
    "id": "ad4fa8b7",
    "outputId": "b2097101-d49d-44d9-901b-32a65c9463d1"
   },
   "outputs": [
    {
     "data": {
      "text/plain": [
       "array([1, 0, 3, 2, 4, 5], dtype=int64)"
      ]
     },
     "execution_count": 11,
     "metadata": {},
     "output_type": "execute_result"
    }
   ],
   "source": [
    "data['children'].unique()"
   ]
  },
  {
   "cell_type": "markdown",
   "id": "3ce59ad7-0888-457a-8e44-b8bdba484dda",
   "metadata": {
    "tags": []
   },
   "source": [
    "Убедились, что артефакты удалены."
   ]
  },
  {
   "cell_type": "markdown",
   "id": "c932f896",
   "metadata": {
    "deletable": false,
    "editable": false,
    "id": "ddc81e43"
   },
   "source": [
    "### Изменение типов данных"
   ]
  },
  {
   "cell_type": "markdown",
   "id": "14048ecb",
   "metadata": {
    "deletable": true,
    "id": "42d19d24",
    "tags": []
   },
   "source": [
    "Заменим вещественный тип данных в столбце `total_income` на целочисленный с помощью метода `astype()`"
   ]
  },
  {
   "cell_type": "code",
   "execution_count": 12,
   "id": "ae1d6ba7",
   "metadata": {
    "deletable": false,
    "id": "920b65ad"
   },
   "outputs": [],
   "source": [
    "data['total_income'] = data['total_income'].astype(int)"
   ]
  },
  {
   "cell_type": "markdown",
   "id": "be2631df",
   "metadata": {
    "deletable": false,
    "editable": false,
    "id": "80c420ba"
   },
   "source": [
    "### Обработка дубликатов"
   ]
  },
  {
   "cell_type": "markdown",
   "id": "49e202a7",
   "metadata": {
    "deletable": true,
    "tags": []
   },
   "source": [
    "Обработаем неявные дубликаты в столбце `education`. В этом столбце есть одни и те же значения, но записанные по-разному: с использованием заглавных и строчных букв. Приведем их к нижнему регистру."
   ]
  },
  {
   "cell_type": "code",
   "execution_count": 13,
   "id": "85df95f0",
   "metadata": {
    "deletable": false
   },
   "outputs": [],
   "source": [
    "data['education'] = data['education'].str.lower()"
   ]
  },
  {
   "cell_type": "markdown",
   "id": "ec4dccfa",
   "metadata": {
    "deletable": true,
    "id": "dc587695",
    "tags": []
   },
   "source": [
    "Выведем на экран количество строк-дубликатов в данных. Если такие строки присутствуют, удалим их"
   ]
  },
  {
   "cell_type": "code",
   "execution_count": 14,
   "id": "47634060",
   "metadata": {
    "deletable": false,
    "id": "3ee445e4",
    "outputId": "9684deba-1934-42d1-99e1-cda61740f822"
   },
   "outputs": [
    {
     "data": {
      "text/plain": [
       "71"
      ]
     },
     "execution_count": 14,
     "metadata": {},
     "output_type": "execute_result"
    }
   ],
   "source": [
    "data.duplicated().sum()"
   ]
  },
  {
   "cell_type": "code",
   "execution_count": 15,
   "id": "ebdb30e3",
   "metadata": {
    "deletable": false,
    "id": "8575fe05"
   },
   "outputs": [
    {
     "data": {
      "text/plain": [
       "0"
      ]
     },
     "execution_count": 15,
     "metadata": {},
     "output_type": "execute_result"
    }
   ],
   "source": [
    "data = data.drop_duplicates()\n",
    "data.duplicated().sum()"
   ]
  },
  {
   "cell_type": "markdown",
   "id": "28fd2dcf",
   "metadata": {
    "deletable": false,
    "editable": false,
    "id": "9904cf55"
   },
   "source": [
    "### Категоризация данных"
   ]
  },
  {
   "cell_type": "markdown",
   "id": "9f529a9e",
   "metadata": {
    "deletable": true,
    "id": "72fcc8a2",
    "tags": []
   },
   "source": [
    "На основании диапазонов, указанных ниже, создадим в датафрейме `data` столбец `total_income_category` с категориями:\n",
    "\n",
    "- 0–30000 — `'E'`;\n",
    "- 30001–50000 — `'D'`;\n",
    "- 50001–200000 — `'C'`;\n",
    "- 200001–1000000 — `'B'`;\n",
    "- 1000001 и выше — `'A'`.\n",
    "\n",
    "\n",
    "Например, кредитополучателю с доходом 25000 нужно назначить категорию `'E'`, а клиенту, получающему 235000, — `'B'`. Используем собственную функцию с именем `categorize_income()` и метод `apply()`.**"
   ]
  },
  {
   "cell_type": "code",
   "execution_count": 16,
   "id": "f5362fe2",
   "metadata": {
    "deletable": false,
    "id": "e1771346"
   },
   "outputs": [],
   "source": [
    "def categorize_income(income):\n",
    "    try:\n",
    "        if 0 <= income <= 30000:\n",
    "            return 'E'\n",
    "        elif 30001 <= income <= 50000:\n",
    "            return 'D'\n",
    "        elif 50001 <= income <= 200000:\n",
    "            return 'C'\n",
    "        elif 200001 <= income <= 1000000:\n",
    "            return 'B'\n",
    "        elif income >= 1000001:\n",
    "            return 'A'\n",
    "    except:\n",
    "        pass"
   ]
  },
  {
   "cell_type": "code",
   "execution_count": 17,
   "id": "4fdffa14",
   "metadata": {
    "deletable": false,
    "id": "d5f3586d"
   },
   "outputs": [
    {
     "data": {
      "text/html": [
       "<div>\n",
       "<style scoped>\n",
       "    .dataframe tbody tr th:only-of-type {\n",
       "        vertical-align: middle;\n",
       "    }\n",
       "\n",
       "    .dataframe tbody tr th {\n",
       "        vertical-align: top;\n",
       "    }\n",
       "\n",
       "    .dataframe thead th {\n",
       "        text-align: right;\n",
       "    }\n",
       "</style>\n",
       "<table border=\"1\" class=\"dataframe\">\n",
       "  <thead>\n",
       "    <tr style=\"text-align: right;\">\n",
       "      <th></th>\n",
       "      <th>children</th>\n",
       "      <th>days_employed</th>\n",
       "      <th>dob_years</th>\n",
       "      <th>education</th>\n",
       "      <th>education_id</th>\n",
       "      <th>family_status</th>\n",
       "      <th>family_status_id</th>\n",
       "      <th>gender</th>\n",
       "      <th>income_type</th>\n",
       "      <th>debt</th>\n",
       "      <th>total_income</th>\n",
       "      <th>purpose</th>\n",
       "      <th>total_income_category</th>\n",
       "    </tr>\n",
       "  </thead>\n",
       "  <tbody>\n",
       "    <tr>\n",
       "      <th>0</th>\n",
       "      <td>1</td>\n",
       "      <td>8437.673028</td>\n",
       "      <td>42</td>\n",
       "      <td>высшее</td>\n",
       "      <td>0</td>\n",
       "      <td>женат / замужем</td>\n",
       "      <td>0</td>\n",
       "      <td>F</td>\n",
       "      <td>сотрудник</td>\n",
       "      <td>0</td>\n",
       "      <td>253875</td>\n",
       "      <td>покупка жилья</td>\n",
       "      <td>B</td>\n",
       "    </tr>\n",
       "    <tr>\n",
       "      <th>1</th>\n",
       "      <td>1</td>\n",
       "      <td>4024.803754</td>\n",
       "      <td>36</td>\n",
       "      <td>среднее</td>\n",
       "      <td>1</td>\n",
       "      <td>женат / замужем</td>\n",
       "      <td>0</td>\n",
       "      <td>F</td>\n",
       "      <td>сотрудник</td>\n",
       "      <td>0</td>\n",
       "      <td>112080</td>\n",
       "      <td>приобретение автомобиля</td>\n",
       "      <td>C</td>\n",
       "    </tr>\n",
       "    <tr>\n",
       "      <th>2</th>\n",
       "      <td>0</td>\n",
       "      <td>5623.422610</td>\n",
       "      <td>33</td>\n",
       "      <td>среднее</td>\n",
       "      <td>1</td>\n",
       "      <td>женат / замужем</td>\n",
       "      <td>0</td>\n",
       "      <td>M</td>\n",
       "      <td>сотрудник</td>\n",
       "      <td>0</td>\n",
       "      <td>145885</td>\n",
       "      <td>покупка жилья</td>\n",
       "      <td>C</td>\n",
       "    </tr>\n",
       "    <tr>\n",
       "      <th>3</th>\n",
       "      <td>3</td>\n",
       "      <td>4124.747207</td>\n",
       "      <td>32</td>\n",
       "      <td>среднее</td>\n",
       "      <td>1</td>\n",
       "      <td>женат / замужем</td>\n",
       "      <td>0</td>\n",
       "      <td>M</td>\n",
       "      <td>сотрудник</td>\n",
       "      <td>0</td>\n",
       "      <td>267628</td>\n",
       "      <td>дополнительное образование</td>\n",
       "      <td>B</td>\n",
       "    </tr>\n",
       "    <tr>\n",
       "      <th>4</th>\n",
       "      <td>0</td>\n",
       "      <td>340266.072047</td>\n",
       "      <td>53</td>\n",
       "      <td>среднее</td>\n",
       "      <td>1</td>\n",
       "      <td>гражданский брак</td>\n",
       "      <td>1</td>\n",
       "      <td>F</td>\n",
       "      <td>пенсионер</td>\n",
       "      <td>0</td>\n",
       "      <td>158616</td>\n",
       "      <td>сыграть свадьбу</td>\n",
       "      <td>C</td>\n",
       "    </tr>\n",
       "  </tbody>\n",
       "</table>\n",
       "</div>"
      ],
      "text/plain": [
       "   children  days_employed  dob_years education  education_id  \\\n",
       "0         1    8437.673028         42    высшее             0   \n",
       "1         1    4024.803754         36   среднее             1   \n",
       "2         0    5623.422610         33   среднее             1   \n",
       "3         3    4124.747207         32   среднее             1   \n",
       "4         0  340266.072047         53   среднее             1   \n",
       "\n",
       "      family_status  family_status_id gender income_type  debt  total_income  \\\n",
       "0   женат / замужем                 0      F   сотрудник     0        253875   \n",
       "1   женат / замужем                 0      F   сотрудник     0        112080   \n",
       "2   женат / замужем                 0      M   сотрудник     0        145885   \n",
       "3   женат / замужем                 0      M   сотрудник     0        267628   \n",
       "4  гражданский брак                 1      F   пенсионер     0        158616   \n",
       "\n",
       "                      purpose total_income_category  \n",
       "0               покупка жилья                     B  \n",
       "1     приобретение автомобиля                     C  \n",
       "2               покупка жилья                     C  \n",
       "3  дополнительное образование                     B  \n",
       "4             сыграть свадьбу                     C  "
      ]
     },
     "execution_count": 17,
     "metadata": {},
     "output_type": "execute_result"
    }
   ],
   "source": [
    "data['total_income_category'] = data['total_income'].apply(categorize_income)\n",
    "data.head()"
   ]
  },
  {
   "cell_type": "markdown",
   "id": "395a3e5f",
   "metadata": {
    "deletable": true,
    "id": "dde49b5c",
    "tags": []
   },
   "source": [
    "Выведем на экран перечень уникальных целей взятия кредита из столбца `purpose`."
   ]
  },
  {
   "cell_type": "code",
   "execution_count": 18,
   "id": "c03a10c0",
   "metadata": {
    "deletable": false,
    "id": "f67ce9b3",
    "outputId": "673c12d9-7d7e-4ae0-9812-c622c89dd244"
   },
   "outputs": [
    {
     "data": {
      "text/plain": [
       "array(['покупка жилья', 'приобретение автомобиля',\n",
       "       'дополнительное образование', 'сыграть свадьбу',\n",
       "       'операции с жильем', 'образование', 'на проведение свадьбы',\n",
       "       'покупка жилья для семьи', 'покупка недвижимости',\n",
       "       'покупка коммерческой недвижимости', 'покупка жилой недвижимости',\n",
       "       'строительство собственной недвижимости', 'недвижимость',\n",
       "       'строительство недвижимости', 'на покупку подержанного автомобиля',\n",
       "       'на покупку своего автомобиля',\n",
       "       'операции с коммерческой недвижимостью',\n",
       "       'строительство жилой недвижимости', 'жилье',\n",
       "       'операции со своей недвижимостью', 'автомобили',\n",
       "       'заняться образованием', 'сделка с подержанным автомобилем',\n",
       "       'получение образования', 'автомобиль', 'свадьба',\n",
       "       'получение дополнительного образования', 'покупка своего жилья',\n",
       "       'операции с недвижимостью', 'получение высшего образования',\n",
       "       'свой автомобиль', 'сделка с автомобилем',\n",
       "       'профильное образование', 'высшее образование',\n",
       "       'покупка жилья для сдачи', 'на покупку автомобиля', 'ремонт жилью',\n",
       "       'заняться высшим образованием'], dtype=object)"
      ]
     },
     "execution_count": 18,
     "metadata": {},
     "output_type": "execute_result"
    }
   ],
   "source": [
    "data['purpose'].unique()"
   ]
  },
  {
   "cell_type": "markdown",
   "id": "aa92d07c",
   "metadata": {
    "deletable": true,
    "id": "85d0aef0",
    "tags": []
   },
   "source": [
    "Создадим функцию, которая на основании данных из столбца `purpose` сформирует новый столбец `purpose_category`, в который войдут следующие категории:\n",
    "\n",
    "- `'операции с автомобилем'`,\n",
    "- `'операции с недвижимостью'`,\n",
    "- `'проведение свадьбы'`,\n",
    "- `'получение образования'`.\n",
    "\n",
    "Например, если в столбце `purpose` находится подстрока `'на покупку автомобиля'`, то в столбце `purpose_category` должна появиться строка `'операции с автомобилем'`.**\n",
    "\n",
    "Используем собственную функцию с именем `categorize_purpose()` и метод `apply()`. Изучим данные в столбце `purpose` и определим, какие подстроки помогут вам правильно определить категорию."
   ]
  },
  {
   "cell_type": "code",
   "execution_count": 19,
   "id": "79bd733c",
   "metadata": {
    "deletable": false,
    "id": "e149fab4"
   },
   "outputs": [],
   "source": [
    "def categorize_purpose(row):\n",
    "    try:\n",
    "        if 'автом' in row:\n",
    "            return 'операции с автомобилем'\n",
    "        elif 'жил' in row or 'недвиж' in row:\n",
    "            return 'операции с недвижимостью'\n",
    "        elif 'свад' in row:\n",
    "            return 'проведение свадьбы'\n",
    "        elif 'образов' in row:\n",
    "            return 'получение образования'\n",
    "    except:\n",
    "        return 'нет категории'"
   ]
  },
  {
   "cell_type": "code",
   "execution_count": 20,
   "id": "99fa5a17",
   "metadata": {
    "deletable": false,
    "id": "bf36e69b"
   },
   "outputs": [
    {
     "data": {
      "text/html": [
       "<div>\n",
       "<style scoped>\n",
       "    .dataframe tbody tr th:only-of-type {\n",
       "        vertical-align: middle;\n",
       "    }\n",
       "\n",
       "    .dataframe tbody tr th {\n",
       "        vertical-align: top;\n",
       "    }\n",
       "\n",
       "    .dataframe thead th {\n",
       "        text-align: right;\n",
       "    }\n",
       "</style>\n",
       "<table border=\"1\" class=\"dataframe\">\n",
       "  <thead>\n",
       "    <tr style=\"text-align: right;\">\n",
       "      <th></th>\n",
       "      <th>children</th>\n",
       "      <th>days_employed</th>\n",
       "      <th>dob_years</th>\n",
       "      <th>education</th>\n",
       "      <th>education_id</th>\n",
       "      <th>family_status</th>\n",
       "      <th>family_status_id</th>\n",
       "      <th>gender</th>\n",
       "      <th>income_type</th>\n",
       "      <th>debt</th>\n",
       "      <th>total_income</th>\n",
       "      <th>purpose</th>\n",
       "      <th>total_income_category</th>\n",
       "      <th>purpose_category</th>\n",
       "    </tr>\n",
       "  </thead>\n",
       "  <tbody>\n",
       "    <tr>\n",
       "      <th>0</th>\n",
       "      <td>1</td>\n",
       "      <td>8437.673028</td>\n",
       "      <td>42</td>\n",
       "      <td>высшее</td>\n",
       "      <td>0</td>\n",
       "      <td>женат / замужем</td>\n",
       "      <td>0</td>\n",
       "      <td>F</td>\n",
       "      <td>сотрудник</td>\n",
       "      <td>0</td>\n",
       "      <td>253875</td>\n",
       "      <td>покупка жилья</td>\n",
       "      <td>B</td>\n",
       "      <td>операции с недвижимостью</td>\n",
       "    </tr>\n",
       "    <tr>\n",
       "      <th>1</th>\n",
       "      <td>1</td>\n",
       "      <td>4024.803754</td>\n",
       "      <td>36</td>\n",
       "      <td>среднее</td>\n",
       "      <td>1</td>\n",
       "      <td>женат / замужем</td>\n",
       "      <td>0</td>\n",
       "      <td>F</td>\n",
       "      <td>сотрудник</td>\n",
       "      <td>0</td>\n",
       "      <td>112080</td>\n",
       "      <td>приобретение автомобиля</td>\n",
       "      <td>C</td>\n",
       "      <td>операции с автомобилем</td>\n",
       "    </tr>\n",
       "    <tr>\n",
       "      <th>2</th>\n",
       "      <td>0</td>\n",
       "      <td>5623.422610</td>\n",
       "      <td>33</td>\n",
       "      <td>среднее</td>\n",
       "      <td>1</td>\n",
       "      <td>женат / замужем</td>\n",
       "      <td>0</td>\n",
       "      <td>M</td>\n",
       "      <td>сотрудник</td>\n",
       "      <td>0</td>\n",
       "      <td>145885</td>\n",
       "      <td>покупка жилья</td>\n",
       "      <td>C</td>\n",
       "      <td>операции с недвижимостью</td>\n",
       "    </tr>\n",
       "    <tr>\n",
       "      <th>3</th>\n",
       "      <td>3</td>\n",
       "      <td>4124.747207</td>\n",
       "      <td>32</td>\n",
       "      <td>среднее</td>\n",
       "      <td>1</td>\n",
       "      <td>женат / замужем</td>\n",
       "      <td>0</td>\n",
       "      <td>M</td>\n",
       "      <td>сотрудник</td>\n",
       "      <td>0</td>\n",
       "      <td>267628</td>\n",
       "      <td>дополнительное образование</td>\n",
       "      <td>B</td>\n",
       "      <td>получение образования</td>\n",
       "    </tr>\n",
       "    <tr>\n",
       "      <th>4</th>\n",
       "      <td>0</td>\n",
       "      <td>340266.072047</td>\n",
       "      <td>53</td>\n",
       "      <td>среднее</td>\n",
       "      <td>1</td>\n",
       "      <td>гражданский брак</td>\n",
       "      <td>1</td>\n",
       "      <td>F</td>\n",
       "      <td>пенсионер</td>\n",
       "      <td>0</td>\n",
       "      <td>158616</td>\n",
       "      <td>сыграть свадьбу</td>\n",
       "      <td>C</td>\n",
       "      <td>проведение свадьбы</td>\n",
       "    </tr>\n",
       "  </tbody>\n",
       "</table>\n",
       "</div>"
      ],
      "text/plain": [
       "   children  days_employed  dob_years education  education_id  \\\n",
       "0         1    8437.673028         42    высшее             0   \n",
       "1         1    4024.803754         36   среднее             1   \n",
       "2         0    5623.422610         33   среднее             1   \n",
       "3         3    4124.747207         32   среднее             1   \n",
       "4         0  340266.072047         53   среднее             1   \n",
       "\n",
       "      family_status  family_status_id gender income_type  debt  total_income  \\\n",
       "0   женат / замужем                 0      F   сотрудник     0        253875   \n",
       "1   женат / замужем                 0      F   сотрудник     0        112080   \n",
       "2   женат / замужем                 0      M   сотрудник     0        145885   \n",
       "3   женат / замужем                 0      M   сотрудник     0        267628   \n",
       "4  гражданский брак                 1      F   пенсионер     0        158616   \n",
       "\n",
       "                      purpose total_income_category          purpose_category  \n",
       "0               покупка жилья                     B  операции с недвижимостью  \n",
       "1     приобретение автомобиля                     C    операции с автомобилем  \n",
       "2               покупка жилья                     C  операции с недвижимостью  \n",
       "3  дополнительное образование                     B     получение образования  \n",
       "4             сыграть свадьбу                     C        проведение свадьбы  "
      ]
     },
     "execution_count": 20,
     "metadata": {},
     "output_type": "execute_result"
    }
   ],
   "source": [
    "data['purpose_category'] = data['purpose'].apply(categorize_purpose)\n",
    "data.head()"
   ]
  },
  {
   "cell_type": "markdown",
   "id": "3c74da66",
   "metadata": {
    "deletable": true,
    "id": "09b242bf",
    "tags": []
   },
   "source": [
    "## Исследуем данные и ответим на вопросы"
   ]
  },
  {
   "cell_type": "markdown",
   "id": "e019eedf",
   "metadata": {
    "deletable": true,
    "id": "c5d66278",
    "tags": []
   },
   "source": [
    "### Есть ли зависимость между количеством детей и возвратом кредита в срок?"
   ]
  },
  {
   "cell_type": "markdown",
   "id": "f8122a32-8823-40b9-9b9d-61c000d48fbe",
   "metadata": {},
   "source": [
    "Cоздадим датафрейм,столбцами которого будут сгруппированные по количеству детей данные: \n",
    "1) количество людей с таким количеством детей \n",
    "2) сумма просрочек у людей с таким количеством детей  \n",
    "3) отношение суммы просрочек на количество людей, показывает какой процент с текущим количеством детей имеет задолженность по кредиту"
   ]
  },
  {
   "cell_type": "code",
   "execution_count": 21,
   "id": "66e59d00",
   "metadata": {
    "deletable": false,
    "id": "2cacfc4a"
   },
   "outputs": [
    {
     "data": {
      "text/html": [
       "<div>\n",
       "<style scoped>\n",
       "    .dataframe tbody tr th:only-of-type {\n",
       "        vertical-align: middle;\n",
       "    }\n",
       "\n",
       "    .dataframe tbody tr th {\n",
       "        vertical-align: top;\n",
       "    }\n",
       "\n",
       "    .dataframe thead th {\n",
       "        text-align: right;\n",
       "    }\n",
       "</style>\n",
       "<table border=\"1\" class=\"dataframe\">\n",
       "  <thead>\n",
       "    <tr style=\"text-align: right;\">\n",
       "      <th></th>\n",
       "      <th>count_people</th>\n",
       "      <th>sum_debt</th>\n",
       "      <th>result,%</th>\n",
       "    </tr>\n",
       "    <tr>\n",
       "      <th>children</th>\n",
       "      <th></th>\n",
       "      <th></th>\n",
       "      <th></th>\n",
       "    </tr>\n",
       "  </thead>\n",
       "  <tbody>\n",
       "    <tr>\n",
       "      <th>4</th>\n",
       "      <td>41</td>\n",
       "      <td>4</td>\n",
       "      <td>9.756098</td>\n",
       "    </tr>\n",
       "    <tr>\n",
       "      <th>2</th>\n",
       "      <td>2052</td>\n",
       "      <td>194</td>\n",
       "      <td>9.454191</td>\n",
       "    </tr>\n",
       "    <tr>\n",
       "      <th>1</th>\n",
       "      <td>4808</td>\n",
       "      <td>444</td>\n",
       "      <td>9.234609</td>\n",
       "    </tr>\n",
       "    <tr>\n",
       "      <th>3</th>\n",
       "      <td>330</td>\n",
       "      <td>27</td>\n",
       "      <td>8.181818</td>\n",
       "    </tr>\n",
       "    <tr>\n",
       "      <th>0</th>\n",
       "      <td>14091</td>\n",
       "      <td>1063</td>\n",
       "      <td>7.543822</td>\n",
       "    </tr>\n",
       "    <tr>\n",
       "      <th>5</th>\n",
       "      <td>9</td>\n",
       "      <td>0</td>\n",
       "      <td>0.000000</td>\n",
       "    </tr>\n",
       "  </tbody>\n",
       "</table>\n",
       "</div>"
      ],
      "text/plain": [
       "          count_people  sum_debt  result,%\n",
       "children                                  \n",
       "4                   41         4  9.756098\n",
       "2                 2052       194  9.454191\n",
       "1                 4808       444  9.234609\n",
       "3                  330        27  8.181818\n",
       "0                14091      1063  7.543822\n",
       "5                    9         0  0.000000"
      ]
     },
     "execution_count": 21,
     "metadata": {},
     "output_type": "execute_result"
    }
   ],
   "source": [
    "data_group_children = pd.DataFrame()\n",
    "data_group_children['count_people'] = data.groupby('children')['debt'].count()\n",
    "data_group_children['sum_debt'] = data.groupby('children')['debt'].sum()\n",
    "data_group_children['result,%'] = 100.0 * data_group_children['sum_debt']/data_group_children['count_people']\n",
    "data_group_children.sort_values(by='result,%', ascending=False)"
   ]
  },
  {
   "cell_type": "markdown",
   "id": "ba87d60a",
   "metadata": {
    "deletable": false,
    "id": "3a6b99ec"
   },
   "source": [
    "**Вывод:** Количество детей **влияет** на возврат кредита в срок. Чем больше детей, тем чаще случается задолженность по кредиту. Из закономерности выпадают случаи заемщиков с 3 детьми (процент просрочек меньше, чем для людей с 1 и 2 детьми) и с 5 детьми (совсем нет просрочек). Скорее всего это связано с недостаточно большой выборкой данных."
   ]
  },
  {
   "cell_type": "markdown",
   "id": "c10a767b",
   "metadata": {
    "deletable": true,
    "id": "97be82ca",
    "tags": []
   },
   "source": [
    "### Есть ли зависимость между семейным положением и возвратом кредита в срок?"
   ]
  },
  {
   "cell_type": "markdown",
   "id": "c2cd373f-9317-4c85-bd20-bbed0ef07fb8",
   "metadata": {},
   "source": [
    "Cоздадим датафрейм, столбцами которого будут сгруппированные по семейному положению данные: \n",
    "1) количество людей с таким семейным положением \n",
    "2) сумма просрочек у людей с таким семейным положением \n",
    "3) отношение суммы просрочек на количество людей, показывает какой процент заемщиков с текущим семейным положением имеет задолженность по кредиту"
   ]
  },
  {
   "cell_type": "code",
   "execution_count": 22,
   "id": "d27f0f4b",
   "metadata": {
    "deletable": false,
    "id": "dc3f7ee8"
   },
   "outputs": [
    {
     "data": {
      "text/html": [
       "<div>\n",
       "<style scoped>\n",
       "    .dataframe tbody tr th:only-of-type {\n",
       "        vertical-align: middle;\n",
       "    }\n",
       "\n",
       "    .dataframe tbody tr th {\n",
       "        vertical-align: top;\n",
       "    }\n",
       "\n",
       "    .dataframe thead th {\n",
       "        text-align: right;\n",
       "    }\n",
       "</style>\n",
       "<table border=\"1\" class=\"dataframe\">\n",
       "  <thead>\n",
       "    <tr style=\"text-align: right;\">\n",
       "      <th></th>\n",
       "      <th>count_people</th>\n",
       "      <th>sum_debt</th>\n",
       "      <th>result,%</th>\n",
       "    </tr>\n",
       "    <tr>\n",
       "      <th>family_status</th>\n",
       "      <th></th>\n",
       "      <th></th>\n",
       "      <th></th>\n",
       "    </tr>\n",
       "  </thead>\n",
       "  <tbody>\n",
       "    <tr>\n",
       "      <th>Не женат / не замужем</th>\n",
       "      <td>2796</td>\n",
       "      <td>273</td>\n",
       "      <td>9.763948</td>\n",
       "    </tr>\n",
       "    <tr>\n",
       "      <th>гражданский брак</th>\n",
       "      <td>4134</td>\n",
       "      <td>385</td>\n",
       "      <td>9.313014</td>\n",
       "    </tr>\n",
       "    <tr>\n",
       "      <th>женат / замужем</th>\n",
       "      <td>12261</td>\n",
       "      <td>927</td>\n",
       "      <td>7.560558</td>\n",
       "    </tr>\n",
       "    <tr>\n",
       "      <th>в разводе</th>\n",
       "      <td>1189</td>\n",
       "      <td>84</td>\n",
       "      <td>7.064760</td>\n",
       "    </tr>\n",
       "    <tr>\n",
       "      <th>вдовец / вдова</th>\n",
       "      <td>951</td>\n",
       "      <td>63</td>\n",
       "      <td>6.624606</td>\n",
       "    </tr>\n",
       "  </tbody>\n",
       "</table>\n",
       "</div>"
      ],
      "text/plain": [
       "                       count_people  sum_debt  result,%\n",
       "family_status                                          \n",
       "Не женат / не замужем          2796       273  9.763948\n",
       "гражданский брак               4134       385  9.313014\n",
       "женат / замужем               12261       927  7.560558\n",
       "в разводе                      1189        84  7.064760\n",
       "вдовец / вдова                  951        63  6.624606"
      ]
     },
     "execution_count": 22,
     "metadata": {},
     "output_type": "execute_result"
    }
   ],
   "source": [
    "data_group_family_status = pd.DataFrame()\n",
    "data_group_family_status['count_people'] = data.groupby('family_status')['debt'].count()\n",
    "data_group_family_status['sum_debt'] = data.groupby('family_status')['debt'].sum()\n",
    "data_group_family_status['result,%'] = 100.0 * data_group_family_status['sum_debt']/data_group_family_status['count_people']\n",
    "data_group_family_status=data_group_family_status.sort_values(by=['result,%'],ascending = False)\n",
    "data_group_family_status.sort_values(by='result,%', ascending=False)"
   ]
  },
  {
   "cell_type": "markdown",
   "id": "1723e30d",
   "metadata": {
    "deletable": false,
    "id": "1cef7837"
   },
   "source": [
    "**Вывод:** Зависимость между семейным положением и возвратом кредита в срок **есть**. Люди которые не в браке и которые никогда в браке на состояли чаще имеют задолженность по кредиту."
   ]
  },
  {
   "cell_type": "markdown",
   "id": "2a90741d",
   "metadata": {
    "deletable": true,
    "id": "1e8b2fca",
    "tags": []
   },
   "source": [
    "### Есть ли зависимость между уровнем дохода и возвратом кредита в срок?"
   ]
  },
  {
   "cell_type": "markdown",
   "id": "d4766ce0-6907-483b-bc70-199ffc0d26d7",
   "metadata": {},
   "source": [
    "Cоздадим датафрейм, столбцами которого будут сгруппированные по диапазонам доходов данные: \n",
    "1) количество людей в таком диапазоне доходов \n",
    "2) сумма просрочек у людей с таким доходом \n",
    "3) отношение суммы просрочек на количество людей, показывает какой процент людей в текущем диапазоне доходов имеет задолженность по кредиту"
   ]
  },
  {
   "cell_type": "code",
   "execution_count": 23,
   "id": "5a22bf1e",
   "metadata": {
    "deletable": false,
    "id": "cd7e3720"
   },
   "outputs": [
    {
     "data": {
      "text/html": [
       "<div>\n",
       "<style scoped>\n",
       "    .dataframe tbody tr th:only-of-type {\n",
       "        vertical-align: middle;\n",
       "    }\n",
       "\n",
       "    .dataframe tbody tr th {\n",
       "        vertical-align: top;\n",
       "    }\n",
       "\n",
       "    .dataframe thead th {\n",
       "        text-align: right;\n",
       "    }\n",
       "</style>\n",
       "<table border=\"1\" class=\"dataframe\">\n",
       "  <thead>\n",
       "    <tr style=\"text-align: right;\">\n",
       "      <th></th>\n",
       "      <th>count_people</th>\n",
       "      <th>sum_debt</th>\n",
       "      <th>result,%</th>\n",
       "    </tr>\n",
       "    <tr>\n",
       "      <th>total_income_category</th>\n",
       "      <th></th>\n",
       "      <th></th>\n",
       "      <th></th>\n",
       "    </tr>\n",
       "  </thead>\n",
       "  <tbody>\n",
       "    <tr>\n",
       "      <th>E</th>\n",
       "      <td>22</td>\n",
       "      <td>2</td>\n",
       "      <td>9.090909</td>\n",
       "    </tr>\n",
       "    <tr>\n",
       "      <th>C</th>\n",
       "      <td>15921</td>\n",
       "      <td>1353</td>\n",
       "      <td>8.498210</td>\n",
       "    </tr>\n",
       "    <tr>\n",
       "      <th>A</th>\n",
       "      <td>25</td>\n",
       "      <td>2</td>\n",
       "      <td>8.000000</td>\n",
       "    </tr>\n",
       "    <tr>\n",
       "      <th>B</th>\n",
       "      <td>5014</td>\n",
       "      <td>354</td>\n",
       "      <td>7.060231</td>\n",
       "    </tr>\n",
       "    <tr>\n",
       "      <th>D</th>\n",
       "      <td>349</td>\n",
       "      <td>21</td>\n",
       "      <td>6.017192</td>\n",
       "    </tr>\n",
       "  </tbody>\n",
       "</table>\n",
       "</div>"
      ],
      "text/plain": [
       "                       count_people  sum_debt  result,%\n",
       "total_income_category                                  \n",
       "E                                22         2  9.090909\n",
       "C                             15921      1353  8.498210\n",
       "A                                25         2  8.000000\n",
       "B                              5014       354  7.060231\n",
       "D                               349        21  6.017192"
      ]
     },
     "execution_count": 23,
     "metadata": {},
     "output_type": "execute_result"
    }
   ],
   "source": [
    "data_group_income_category = pd.DataFrame()\n",
    "data_group_income_category['count_people'] = data.groupby('total_income_category')['debt'].count()\n",
    "data_group_income_category['sum_debt'] = data.groupby('total_income_category')['debt'].sum()\n",
    "data_group_income_category['result,%'] = 100.0 * data_group_income_category['sum_debt']/data_group_income_category['count_people']\n",
    "data_group_income_category.sort_values(by='result,%', ascending=False)"
   ]
  },
  {
   "cell_type": "markdown",
   "id": "8462fee2",
   "metadata": {
    "deletable": false,
    "id": "e8593def"
   },
   "source": [
    "**Вывод:** Зависимость между уровнем дохода и возвратом кредита в срок **не прослеживается** хотя низкий доход это несомненно неблагоприятный фактор. Скорее всего это связано с размером кредита (чем выше доход, тем выше сумма кредита) и разбиение на группы по доходам не очень корректное."
   ]
  },
  {
   "cell_type": "markdown",
   "id": "84eee0fd",
   "metadata": {
    "deletable": true,
    "id": "99ecbd1f",
    "tags": []
   },
   "source": [
    "### Как разные цели кредита влияют на его возврат в срок?"
   ]
  },
  {
   "cell_type": "markdown",
   "id": "c3a34836-90b6-4705-9aa8-f5606f489d21",
   "metadata": {},
   "source": [
    "Создадим датафрейм, столбцами которого будут сгруппированные по целям кредита данные: \n",
    "1) Количество людей с такой целью кредита \n",
    "2) Сумма просрочек у людей с такой целью \n",
    "3) Отношение суммы просрочек на количество людей, показывает какой процент людей с текущей целью кредита имеет задолженность по кредиту"
   ]
  },
  {
   "cell_type": "code",
   "execution_count": 24,
   "id": "7a8dfb10",
   "metadata": {
    "deletable": false,
    "id": "2b687290"
   },
   "outputs": [
    {
     "data": {
      "text/html": [
       "<div>\n",
       "<style scoped>\n",
       "    .dataframe tbody tr th:only-of-type {\n",
       "        vertical-align: middle;\n",
       "    }\n",
       "\n",
       "    .dataframe tbody tr th {\n",
       "        vertical-align: top;\n",
       "    }\n",
       "\n",
       "    .dataframe thead th {\n",
       "        text-align: right;\n",
       "    }\n",
       "</style>\n",
       "<table border=\"1\" class=\"dataframe\">\n",
       "  <thead>\n",
       "    <tr style=\"text-align: right;\">\n",
       "      <th></th>\n",
       "      <th>count_people</th>\n",
       "      <th>sum_debt</th>\n",
       "      <th>result,%</th>\n",
       "    </tr>\n",
       "    <tr>\n",
       "      <th>purpose_category</th>\n",
       "      <th></th>\n",
       "      <th></th>\n",
       "      <th></th>\n",
       "    </tr>\n",
       "  </thead>\n",
       "  <tbody>\n",
       "    <tr>\n",
       "      <th>операции с автомобилем</th>\n",
       "      <td>4279</td>\n",
       "      <td>400</td>\n",
       "      <td>9.347978</td>\n",
       "    </tr>\n",
       "    <tr>\n",
       "      <th>получение образования</th>\n",
       "      <td>3988</td>\n",
       "      <td>369</td>\n",
       "      <td>9.252758</td>\n",
       "    </tr>\n",
       "    <tr>\n",
       "      <th>проведение свадьбы</th>\n",
       "      <td>2313</td>\n",
       "      <td>183</td>\n",
       "      <td>7.911803</td>\n",
       "    </tr>\n",
       "    <tr>\n",
       "      <th>операции с недвижимостью</th>\n",
       "      <td>10751</td>\n",
       "      <td>780</td>\n",
       "      <td>7.255139</td>\n",
       "    </tr>\n",
       "  </tbody>\n",
       "</table>\n",
       "</div>"
      ],
      "text/plain": [
       "                          count_people  sum_debt  result,%\n",
       "purpose_category                                          \n",
       "операции с автомобилем            4279       400  9.347978\n",
       "получение образования             3988       369  9.252758\n",
       "проведение свадьбы                2313       183  7.911803\n",
       "операции с недвижимостью         10751       780  7.255139"
      ]
     },
     "execution_count": 24,
     "metadata": {},
     "output_type": "execute_result"
    }
   ],
   "source": [
    "data_group_purpose = pd.DataFrame()\n",
    "data_group_purpose['count_people'] = data.groupby('purpose_category')['debt'].count()\n",
    "data_group_purpose['sum_debt'] = data.groupby('purpose_category')['debt'].sum()\n",
    "data_group_purpose['result,%'] = 100.0 * data_group_purpose['sum_debt']/data_group_purpose['count_people']\n",
    "data_group_purpose = data_group_purpose.sort_values(by = ['result,%'],ascending = False)\n",
    "data_group_purpose.sort_values(by='result,%', ascending=False)"
   ]
  },
  {
   "cell_type": "markdown",
   "id": "0ff5d5e2",
   "metadata": {
    "deletable": false,
    "id": "b4bb2ce6"
   },
   "source": [
    "**Вывод:** Кредиты, взятые для операций с автомобилями и на получение образования, чаще всего просрачиваются. Реже всего просрачиваются кредиты, предназначенные для операций с недвижимостью."
   ]
  },
  {
   "cell_type": "markdown",
   "id": "a063ca01",
   "metadata": {
    "deletable": true,
    "id": "09c3ac4c",
    "tags": []
   },
   "source": [
    "### Приведем возможные причины появления пропусков в исходных данных."
   ]
  },
  {
   "cell_type": "markdown",
   "id": "ae24f2c0-826d-4d8a-834b-4eedce90a870",
   "metadata": {},
   "source": [
    "Вспомним как выглядели данные в изначальном виде:"
   ]
  },
  {
   "cell_type": "code",
   "execution_count": 25,
   "id": "ad899cbf-e24c-47dd-8649-5ff0b838bba1",
   "metadata": {
    "tags": []
   },
   "outputs": [
    {
     "data": {
      "text/html": [
       "<div>\n",
       "<style scoped>\n",
       "    .dataframe tbody tr th:only-of-type {\n",
       "        vertical-align: middle;\n",
       "    }\n",
       "\n",
       "    .dataframe tbody tr th {\n",
       "        vertical-align: top;\n",
       "    }\n",
       "\n",
       "    .dataframe thead th {\n",
       "        text-align: right;\n",
       "    }\n",
       "</style>\n",
       "<table border=\"1\" class=\"dataframe\">\n",
       "  <thead>\n",
       "    <tr style=\"text-align: right;\">\n",
       "      <th></th>\n",
       "      <th>children</th>\n",
       "      <th>days_employed</th>\n",
       "      <th>dob_years</th>\n",
       "      <th>education</th>\n",
       "      <th>education_id</th>\n",
       "      <th>family_status</th>\n",
       "      <th>family_status_id</th>\n",
       "      <th>gender</th>\n",
       "      <th>income_type</th>\n",
       "      <th>debt</th>\n",
       "      <th>total_income</th>\n",
       "      <th>purpose</th>\n",
       "    </tr>\n",
       "  </thead>\n",
       "  <tbody>\n",
       "    <tr>\n",
       "      <th>0</th>\n",
       "      <td>1</td>\n",
       "      <td>-8437.673028</td>\n",
       "      <td>42</td>\n",
       "      <td>высшее</td>\n",
       "      <td>0</td>\n",
       "      <td>женат / замужем</td>\n",
       "      <td>0</td>\n",
       "      <td>F</td>\n",
       "      <td>сотрудник</td>\n",
       "      <td>0</td>\n",
       "      <td>253875.639453</td>\n",
       "      <td>покупка жилья</td>\n",
       "    </tr>\n",
       "    <tr>\n",
       "      <th>1</th>\n",
       "      <td>1</td>\n",
       "      <td>-4024.803754</td>\n",
       "      <td>36</td>\n",
       "      <td>среднее</td>\n",
       "      <td>1</td>\n",
       "      <td>женат / замужем</td>\n",
       "      <td>0</td>\n",
       "      <td>F</td>\n",
       "      <td>сотрудник</td>\n",
       "      <td>0</td>\n",
       "      <td>112080.014102</td>\n",
       "      <td>приобретение автомобиля</td>\n",
       "    </tr>\n",
       "    <tr>\n",
       "      <th>2</th>\n",
       "      <td>0</td>\n",
       "      <td>-5623.422610</td>\n",
       "      <td>33</td>\n",
       "      <td>Среднее</td>\n",
       "      <td>1</td>\n",
       "      <td>женат / замужем</td>\n",
       "      <td>0</td>\n",
       "      <td>M</td>\n",
       "      <td>сотрудник</td>\n",
       "      <td>0</td>\n",
       "      <td>145885.952297</td>\n",
       "      <td>покупка жилья</td>\n",
       "    </tr>\n",
       "    <tr>\n",
       "      <th>3</th>\n",
       "      <td>3</td>\n",
       "      <td>-4124.747207</td>\n",
       "      <td>32</td>\n",
       "      <td>среднее</td>\n",
       "      <td>1</td>\n",
       "      <td>женат / замужем</td>\n",
       "      <td>0</td>\n",
       "      <td>M</td>\n",
       "      <td>сотрудник</td>\n",
       "      <td>0</td>\n",
       "      <td>267628.550329</td>\n",
       "      <td>дополнительное образование</td>\n",
       "    </tr>\n",
       "    <tr>\n",
       "      <th>4</th>\n",
       "      <td>0</td>\n",
       "      <td>340266.072047</td>\n",
       "      <td>53</td>\n",
       "      <td>среднее</td>\n",
       "      <td>1</td>\n",
       "      <td>гражданский брак</td>\n",
       "      <td>1</td>\n",
       "      <td>F</td>\n",
       "      <td>пенсионер</td>\n",
       "      <td>0</td>\n",
       "      <td>158616.077870</td>\n",
       "      <td>сыграть свадьбу</td>\n",
       "    </tr>\n",
       "  </tbody>\n",
       "</table>\n",
       "</div>"
      ],
      "text/plain": [
       "   children  days_employed  dob_years education  education_id  \\\n",
       "0         1   -8437.673028         42    высшее             0   \n",
       "1         1   -4024.803754         36   среднее             1   \n",
       "2         0   -5623.422610         33   Среднее             1   \n",
       "3         3   -4124.747207         32   среднее             1   \n",
       "4         0  340266.072047         53   среднее             1   \n",
       "\n",
       "      family_status  family_status_id gender income_type  debt   total_income  \\\n",
       "0   женат / замужем                 0      F   сотрудник     0  253875.639453   \n",
       "1   женат / замужем                 0      F   сотрудник     0  112080.014102   \n",
       "2   женат / замужем                 0      M   сотрудник     0  145885.952297   \n",
       "3   женат / замужем                 0      M   сотрудник     0  267628.550329   \n",
       "4  гражданский брак                 1      F   пенсионер     0  158616.077870   \n",
       "\n",
       "                      purpose  \n",
       "0               покупка жилья  \n",
       "1     приобретение автомобиля  \n",
       "2               покупка жилья  \n",
       "3  дополнительное образование  \n",
       "4             сыграть свадьбу  "
      ]
     },
     "execution_count": 25,
     "metadata": {},
     "output_type": "execute_result"
    }
   ],
   "source": [
    "try:\n",
    "    data_null = pd.read_csv('data.csv')\n",
    "except:\n",
    "    data_null = pd.read_csv('https://code.s3.yandex.net/datasets/data.csv')\n",
    "data_null.head()"
   ]
  },
  {
   "cell_type": "markdown",
   "id": "ad9cdbd9-d3a3-4154-8d15-3e7687c17bae",
   "metadata": {},
   "source": [
    "В каких столбцах есть пропуски:"
   ]
  },
  {
   "cell_type": "code",
   "execution_count": 26,
   "id": "711290aa-c0e2-4e50-8a22-9a5ed92ddfc2",
   "metadata": {
    "tags": []
   },
   "outputs": [
    {
     "name": "stdout",
     "output_type": "stream",
     "text": [
      "<class 'pandas.core.frame.DataFrame'>\n",
      "RangeIndex: 21525 entries, 0 to 21524\n",
      "Data columns (total 12 columns):\n",
      " #   Column            Non-Null Count  Dtype  \n",
      "---  ------            --------------  -----  \n",
      " 0   children          21525 non-null  int64  \n",
      " 1   days_employed     19351 non-null  float64\n",
      " 2   dob_years         21525 non-null  int64  \n",
      " 3   education         21525 non-null  object \n",
      " 4   education_id      21525 non-null  int64  \n",
      " 5   family_status     21525 non-null  object \n",
      " 6   family_status_id  21525 non-null  int64  \n",
      " 7   gender            21525 non-null  object \n",
      " 8   income_type       21525 non-null  object \n",
      " 9   debt              21525 non-null  int64  \n",
      " 10  total_income      19351 non-null  float64\n",
      " 11  purpose           21525 non-null  object \n",
      "dtypes: float64(2), int64(5), object(5)\n",
      "memory usage: 2.0+ MB\n"
     ]
    }
   ],
   "source": [
    "data_null.info()"
   ]
  },
  {
   "cell_type": "markdown",
   "id": "52f81a12-7a59-4640-b868-521521a55d0e",
   "metadata": {
    "tags": []
   },
   "source": [
    "Пропуски есть в двух столбцах `days_employed` и `total_income`"
   ]
  },
  {
   "cell_type": "markdown",
   "id": "91ea5255-a6f3-4348-b735-2c2ebf50221f",
   "metadata": {},
   "source": [
    "Узнаем как выглядят строки, где пропущены значения"
   ]
  },
  {
   "cell_type": "code",
   "execution_count": 27,
   "id": "827a76ef",
   "metadata": {},
   "outputs": [
    {
     "name": "stdout",
     "output_type": "stream",
     "text": [
      "Номера строк пропусков в столбцах 'days_employed' и 'total_income' совпадают\n"
     ]
    },
    {
     "data": {
      "text/html": [
       "<div>\n",
       "<style scoped>\n",
       "    .dataframe tbody tr th:only-of-type {\n",
       "        vertical-align: middle;\n",
       "    }\n",
       "\n",
       "    .dataframe tbody tr th {\n",
       "        vertical-align: top;\n",
       "    }\n",
       "\n",
       "    .dataframe thead th {\n",
       "        text-align: right;\n",
       "    }\n",
       "</style>\n",
       "<table border=\"1\" class=\"dataframe\">\n",
       "  <thead>\n",
       "    <tr style=\"text-align: right;\">\n",
       "      <th></th>\n",
       "      <th>children</th>\n",
       "      <th>days_employed</th>\n",
       "      <th>dob_years</th>\n",
       "      <th>education</th>\n",
       "      <th>education_id</th>\n",
       "      <th>family_status</th>\n",
       "      <th>family_status_id</th>\n",
       "      <th>gender</th>\n",
       "      <th>income_type</th>\n",
       "      <th>debt</th>\n",
       "      <th>total_income</th>\n",
       "      <th>purpose</th>\n",
       "      <th>NAN</th>\n",
       "    </tr>\n",
       "  </thead>\n",
       "  <tbody>\n",
       "    <tr>\n",
       "      <th>12</th>\n",
       "      <td>0</td>\n",
       "      <td>NaN</td>\n",
       "      <td>65</td>\n",
       "      <td>среднее</td>\n",
       "      <td>1</td>\n",
       "      <td>гражданский брак</td>\n",
       "      <td>1</td>\n",
       "      <td>M</td>\n",
       "      <td>пенсионер</td>\n",
       "      <td>0</td>\n",
       "      <td>NaN</td>\n",
       "      <td>сыграть свадьбу</td>\n",
       "      <td>True</td>\n",
       "    </tr>\n",
       "    <tr>\n",
       "      <th>26</th>\n",
       "      <td>0</td>\n",
       "      <td>NaN</td>\n",
       "      <td>41</td>\n",
       "      <td>среднее</td>\n",
       "      <td>1</td>\n",
       "      <td>женат / замужем</td>\n",
       "      <td>0</td>\n",
       "      <td>M</td>\n",
       "      <td>госслужащий</td>\n",
       "      <td>0</td>\n",
       "      <td>NaN</td>\n",
       "      <td>образование</td>\n",
       "      <td>True</td>\n",
       "    </tr>\n",
       "    <tr>\n",
       "      <th>29</th>\n",
       "      <td>0</td>\n",
       "      <td>NaN</td>\n",
       "      <td>63</td>\n",
       "      <td>среднее</td>\n",
       "      <td>1</td>\n",
       "      <td>Не женат / не замужем</td>\n",
       "      <td>4</td>\n",
       "      <td>F</td>\n",
       "      <td>пенсионер</td>\n",
       "      <td>0</td>\n",
       "      <td>NaN</td>\n",
       "      <td>строительство жилой недвижимости</td>\n",
       "      <td>True</td>\n",
       "    </tr>\n",
       "    <tr>\n",
       "      <th>41</th>\n",
       "      <td>0</td>\n",
       "      <td>NaN</td>\n",
       "      <td>50</td>\n",
       "      <td>среднее</td>\n",
       "      <td>1</td>\n",
       "      <td>женат / замужем</td>\n",
       "      <td>0</td>\n",
       "      <td>F</td>\n",
       "      <td>госслужащий</td>\n",
       "      <td>0</td>\n",
       "      <td>NaN</td>\n",
       "      <td>сделка с подержанным автомобилем</td>\n",
       "      <td>True</td>\n",
       "    </tr>\n",
       "    <tr>\n",
       "      <th>55</th>\n",
       "      <td>0</td>\n",
       "      <td>NaN</td>\n",
       "      <td>54</td>\n",
       "      <td>среднее</td>\n",
       "      <td>1</td>\n",
       "      <td>гражданский брак</td>\n",
       "      <td>1</td>\n",
       "      <td>F</td>\n",
       "      <td>пенсионер</td>\n",
       "      <td>1</td>\n",
       "      <td>NaN</td>\n",
       "      <td>сыграть свадьбу</td>\n",
       "      <td>True</td>\n",
       "    </tr>\n",
       "    <tr>\n",
       "      <th>65</th>\n",
       "      <td>0</td>\n",
       "      <td>NaN</td>\n",
       "      <td>21</td>\n",
       "      <td>среднее</td>\n",
       "      <td>1</td>\n",
       "      <td>Не женат / не замужем</td>\n",
       "      <td>4</td>\n",
       "      <td>M</td>\n",
       "      <td>компаньон</td>\n",
       "      <td>0</td>\n",
       "      <td>NaN</td>\n",
       "      <td>операции с коммерческой недвижимостью</td>\n",
       "      <td>True</td>\n",
       "    </tr>\n",
       "    <tr>\n",
       "      <th>67</th>\n",
       "      <td>0</td>\n",
       "      <td>NaN</td>\n",
       "      <td>52</td>\n",
       "      <td>высшее</td>\n",
       "      <td>0</td>\n",
       "      <td>женат / замужем</td>\n",
       "      <td>0</td>\n",
       "      <td>F</td>\n",
       "      <td>пенсионер</td>\n",
       "      <td>0</td>\n",
       "      <td>NaN</td>\n",
       "      <td>покупка жилья для семьи</td>\n",
       "      <td>True</td>\n",
       "    </tr>\n",
       "    <tr>\n",
       "      <th>72</th>\n",
       "      <td>1</td>\n",
       "      <td>NaN</td>\n",
       "      <td>32</td>\n",
       "      <td>высшее</td>\n",
       "      <td>0</td>\n",
       "      <td>женат / замужем</td>\n",
       "      <td>0</td>\n",
       "      <td>M</td>\n",
       "      <td>госслужащий</td>\n",
       "      <td>0</td>\n",
       "      <td>NaN</td>\n",
       "      <td>операции с коммерческой недвижимостью</td>\n",
       "      <td>True</td>\n",
       "    </tr>\n",
       "    <tr>\n",
       "      <th>82</th>\n",
       "      <td>2</td>\n",
       "      <td>NaN</td>\n",
       "      <td>50</td>\n",
       "      <td>высшее</td>\n",
       "      <td>0</td>\n",
       "      <td>женат / замужем</td>\n",
       "      <td>0</td>\n",
       "      <td>F</td>\n",
       "      <td>сотрудник</td>\n",
       "      <td>0</td>\n",
       "      <td>NaN</td>\n",
       "      <td>жилье</td>\n",
       "      <td>True</td>\n",
       "    </tr>\n",
       "    <tr>\n",
       "      <th>83</th>\n",
       "      <td>0</td>\n",
       "      <td>NaN</td>\n",
       "      <td>52</td>\n",
       "      <td>среднее</td>\n",
       "      <td>1</td>\n",
       "      <td>женат / замужем</td>\n",
       "      <td>0</td>\n",
       "      <td>M</td>\n",
       "      <td>сотрудник</td>\n",
       "      <td>0</td>\n",
       "      <td>NaN</td>\n",
       "      <td>жилье</td>\n",
       "      <td>True</td>\n",
       "    </tr>\n",
       "    <tr>\n",
       "      <th>90</th>\n",
       "      <td>2</td>\n",
       "      <td>NaN</td>\n",
       "      <td>35</td>\n",
       "      <td>высшее</td>\n",
       "      <td>0</td>\n",
       "      <td>женат / замужем</td>\n",
       "      <td>0</td>\n",
       "      <td>F</td>\n",
       "      <td>сотрудник</td>\n",
       "      <td>0</td>\n",
       "      <td>NaN</td>\n",
       "      <td>операции с жильем</td>\n",
       "      <td>True</td>\n",
       "    </tr>\n",
       "    <tr>\n",
       "      <th>94</th>\n",
       "      <td>1</td>\n",
       "      <td>NaN</td>\n",
       "      <td>34</td>\n",
       "      <td>высшее</td>\n",
       "      <td>0</td>\n",
       "      <td>гражданский брак</td>\n",
       "      <td>1</td>\n",
       "      <td>F</td>\n",
       "      <td>компаньон</td>\n",
       "      <td>0</td>\n",
       "      <td>NaN</td>\n",
       "      <td>на проведение свадьбы</td>\n",
       "      <td>True</td>\n",
       "    </tr>\n",
       "    <tr>\n",
       "      <th>96</th>\n",
       "      <td>0</td>\n",
       "      <td>NaN</td>\n",
       "      <td>44</td>\n",
       "      <td>СРЕДНЕЕ</td>\n",
       "      <td>1</td>\n",
       "      <td>женат / замужем</td>\n",
       "      <td>0</td>\n",
       "      <td>F</td>\n",
       "      <td>сотрудник</td>\n",
       "      <td>0</td>\n",
       "      <td>NaN</td>\n",
       "      <td>покупка жилой недвижимости</td>\n",
       "      <td>True</td>\n",
       "    </tr>\n",
       "    <tr>\n",
       "      <th>97</th>\n",
       "      <td>0</td>\n",
       "      <td>NaN</td>\n",
       "      <td>47</td>\n",
       "      <td>высшее</td>\n",
       "      <td>0</td>\n",
       "      <td>женат / замужем</td>\n",
       "      <td>0</td>\n",
       "      <td>F</td>\n",
       "      <td>сотрудник</td>\n",
       "      <td>0</td>\n",
       "      <td>NaN</td>\n",
       "      <td>профильное образование</td>\n",
       "      <td>True</td>\n",
       "    </tr>\n",
       "    <tr>\n",
       "      <th>120</th>\n",
       "      <td>0</td>\n",
       "      <td>NaN</td>\n",
       "      <td>46</td>\n",
       "      <td>среднее</td>\n",
       "      <td>1</td>\n",
       "      <td>женат / замужем</td>\n",
       "      <td>0</td>\n",
       "      <td>F</td>\n",
       "      <td>сотрудник</td>\n",
       "      <td>0</td>\n",
       "      <td>NaN</td>\n",
       "      <td>высшее образование</td>\n",
       "      <td>True</td>\n",
       "    </tr>\n",
       "    <tr>\n",
       "      <th>121</th>\n",
       "      <td>0</td>\n",
       "      <td>NaN</td>\n",
       "      <td>29</td>\n",
       "      <td>высшее</td>\n",
       "      <td>0</td>\n",
       "      <td>женат / замужем</td>\n",
       "      <td>0</td>\n",
       "      <td>F</td>\n",
       "      <td>компаньон</td>\n",
       "      <td>0</td>\n",
       "      <td>NaN</td>\n",
       "      <td>автомобиль</td>\n",
       "      <td>True</td>\n",
       "    </tr>\n",
       "    <tr>\n",
       "      <th>135</th>\n",
       "      <td>0</td>\n",
       "      <td>NaN</td>\n",
       "      <td>27</td>\n",
       "      <td>среднее</td>\n",
       "      <td>1</td>\n",
       "      <td>женат / замужем</td>\n",
       "      <td>0</td>\n",
       "      <td>M</td>\n",
       "      <td>компаньон</td>\n",
       "      <td>0</td>\n",
       "      <td>NaN</td>\n",
       "      <td>жилье</td>\n",
       "      <td>True</td>\n",
       "    </tr>\n",
       "    <tr>\n",
       "      <th>141</th>\n",
       "      <td>0</td>\n",
       "      <td>NaN</td>\n",
       "      <td>39</td>\n",
       "      <td>среднее</td>\n",
       "      <td>1</td>\n",
       "      <td>гражданский брак</td>\n",
       "      <td>1</td>\n",
       "      <td>M</td>\n",
       "      <td>сотрудник</td>\n",
       "      <td>0</td>\n",
       "      <td>NaN</td>\n",
       "      <td>свадьба</td>\n",
       "      <td>True</td>\n",
       "    </tr>\n",
       "    <tr>\n",
       "      <th>145</th>\n",
       "      <td>0</td>\n",
       "      <td>NaN</td>\n",
       "      <td>62</td>\n",
       "      <td>среднее</td>\n",
       "      <td>1</td>\n",
       "      <td>женат / замужем</td>\n",
       "      <td>0</td>\n",
       "      <td>M</td>\n",
       "      <td>пенсионер</td>\n",
       "      <td>0</td>\n",
       "      <td>NaN</td>\n",
       "      <td>строительство недвижимости</td>\n",
       "      <td>True</td>\n",
       "    </tr>\n",
       "    <tr>\n",
       "      <th>174</th>\n",
       "      <td>0</td>\n",
       "      <td>NaN</td>\n",
       "      <td>55</td>\n",
       "      <td>высшее</td>\n",
       "      <td>0</td>\n",
       "      <td>вдовец / вдова</td>\n",
       "      <td>2</td>\n",
       "      <td>F</td>\n",
       "      <td>компаньон</td>\n",
       "      <td>0</td>\n",
       "      <td>NaN</td>\n",
       "      <td>свой автомобиль</td>\n",
       "      <td>True</td>\n",
       "    </tr>\n",
       "  </tbody>\n",
       "</table>\n",
       "</div>"
      ],
      "text/plain": [
       "     children  days_employed  dob_years education  education_id  \\\n",
       "12          0            NaN         65   среднее             1   \n",
       "26          0            NaN         41   среднее             1   \n",
       "29          0            NaN         63   среднее             1   \n",
       "41          0            NaN         50   среднее             1   \n",
       "55          0            NaN         54   среднее             1   \n",
       "65          0            NaN         21   среднее             1   \n",
       "67          0            NaN         52    высшее             0   \n",
       "72          1            NaN         32    высшее             0   \n",
       "82          2            NaN         50    высшее             0   \n",
       "83          0            NaN         52   среднее             1   \n",
       "90          2            NaN         35    высшее             0   \n",
       "94          1            NaN         34    высшее             0   \n",
       "96          0            NaN         44   СРЕДНЕЕ             1   \n",
       "97          0            NaN         47    высшее             0   \n",
       "120         0            NaN         46   среднее             1   \n",
       "121         0            NaN         29    высшее             0   \n",
       "135         0            NaN         27   среднее             1   \n",
       "141         0            NaN         39   среднее             1   \n",
       "145         0            NaN         62   среднее             1   \n",
       "174         0            NaN         55    высшее             0   \n",
       "\n",
       "             family_status  family_status_id gender  income_type  debt  \\\n",
       "12        гражданский брак                 1      M    пенсионер     0   \n",
       "26         женат / замужем                 0      M  госслужащий     0   \n",
       "29   Не женат / не замужем                 4      F    пенсионер     0   \n",
       "41         женат / замужем                 0      F  госслужащий     0   \n",
       "55        гражданский брак                 1      F    пенсионер     1   \n",
       "65   Не женат / не замужем                 4      M    компаньон     0   \n",
       "67         женат / замужем                 0      F    пенсионер     0   \n",
       "72         женат / замужем                 0      M  госслужащий     0   \n",
       "82         женат / замужем                 0      F    сотрудник     0   \n",
       "83         женат / замужем                 0      M    сотрудник     0   \n",
       "90         женат / замужем                 0      F    сотрудник     0   \n",
       "94        гражданский брак                 1      F    компаньон     0   \n",
       "96         женат / замужем                 0      F    сотрудник     0   \n",
       "97         женат / замужем                 0      F    сотрудник     0   \n",
       "120        женат / замужем                 0      F    сотрудник     0   \n",
       "121        женат / замужем                 0      F    компаньон     0   \n",
       "135        женат / замужем                 0      M    компаньон     0   \n",
       "141       гражданский брак                 1      M    сотрудник     0   \n",
       "145        женат / замужем                 0      M    пенсионер     0   \n",
       "174         вдовец / вдова                 2      F    компаньон     0   \n",
       "\n",
       "     total_income                                purpose   NAN  \n",
       "12            NaN                        сыграть свадьбу  True  \n",
       "26            NaN                            образование  True  \n",
       "29            NaN       строительство жилой недвижимости  True  \n",
       "41            NaN       сделка с подержанным автомобилем  True  \n",
       "55            NaN                        сыграть свадьбу  True  \n",
       "65            NaN  операции с коммерческой недвижимостью  True  \n",
       "67            NaN                покупка жилья для семьи  True  \n",
       "72            NaN  операции с коммерческой недвижимостью  True  \n",
       "82            NaN                                  жилье  True  \n",
       "83            NaN                                  жилье  True  \n",
       "90            NaN                      операции с жильем  True  \n",
       "94            NaN                  на проведение свадьбы  True  \n",
       "96            NaN             покупка жилой недвижимости  True  \n",
       "97            NaN                 профильное образование  True  \n",
       "120           NaN                     высшее образование  True  \n",
       "121           NaN                             автомобиль  True  \n",
       "135           NaN                                  жилье  True  \n",
       "141           NaN                                свадьба  True  \n",
       "145           NaN             строительство недвижимости  True  \n",
       "174           NaN                        свой автомобиль  True  "
      ]
     },
     "execution_count": 27,
     "metadata": {},
     "output_type": "execute_result"
    }
   ],
   "source": [
    "if pd.isnull(data_null['days_employed']).equals(other=pd.isnull(data_null['total_income'])):\n",
    "    print('Номера строк пропусков в столбцах \\'days_employed\\' и \\'total_income\\' совпадают')\n",
    "else:\n",
    "    print('Номера строк пропусков в столбцах \\'days_employed\\' и \\'total_income\\' НЕ совпадают')\n",
    "\n",
    "data_null['NAN'] = pd.isnull(data_null['days_employed'])\n",
    "\n",
    "data_null_row = data_null.loc[data_null['NAN']== True,:]\n",
    "data_null_row.head(20)\n"
   ]
  },
  {
   "cell_type": "markdown",
   "id": "76816e5e-f025-48ea-b6cb-6dada2a86953",
   "metadata": {},
   "source": [
    "Никакой закономерности не прослеживается в данных в других столбцах"
   ]
  },
  {
   "cell_type": "markdown",
   "id": "a16f29f4",
   "metadata": {
    "deletable": false,
    "id": "9da2ceda"
   },
   "source": [
    "**Ответ:** пропуски есть только в двух стобцах: days_employed и total_income. Причем пропуски для обоих столбцов в одних и тех же строках. После просмотра строк с пропусками никакая закономерность не вывелась. Скорее всего вина оператора, который, заполняя данные заемщика, иногда пропускает раздел с данными стажа и дохода, но так как пропуски в одних и тех же строках, то скорее всего эти данные заполняются в каком то одном разделе и пропускается этот раздел полностью. Второй вариант, данные о стаже и доходе поступают из одного источника (базы), и или эта база была заполнена с пропусками изначально(опять же человеческий фактор), или передача данных из нее происходила с ошибками (с техническими проблемами).    "
   ]
  },
  {
   "cell_type": "markdown",
   "id": "34e187d2",
   "metadata": {
    "deletable": true,
    "id": "7b0487d6",
    "tags": []
   },
   "source": [
    "### Объяснение, почему заполнить пропуски медианным значением — лучшее решение для количественных переменных."
   ]
  },
  {
   "cell_type": "markdown",
   "id": "6bb7dcc4",
   "metadata": {
    "deletable": false,
    "id": "7ecf2b8e"
   },
   "source": [
    "**Ответ:** На *медианные* значения меньше влияют случайные выбросы и шум."
   ]
  },
  {
   "cell_type": "markdown",
   "id": "ab4a9c98",
   "metadata": {
    "deletable": true,
    "id": "6db5255a",
    "tags": []
   },
   "source": [
    "## Общий вывод"
   ]
  },
  {
   "cell_type": "markdown",
   "id": "b846017b",
   "metadata": {
    "deletable": false,
    "id": "bad65432"
   },
   "source": [
    "1.**Семейное положение** влияет на вероятность платежей по кредиту в срок - люди, которые были в браке чаще плятят в срок чем те, кто не бывали в браке, причем разведенные и овдовевшие платят в срок чаще, чем люди в браке.   \n",
    "2.**Количество детей**. Чем больше у заемщика детей, тем чаще он платит не в срок. Бездетные реже всех просрачивают оплату.  \n",
    "3.**Уровень дохода**. Зависимость между уровнем дохода и возвратом кредита в срок не прослеживается.  \n",
    "4.**Цель кредита**. Кредиты, взятые для операций с автомобилями и на получение образования, чаще всего просрачиваются. Реже всего просрачиваются кредиты, предназначенные для операций с недвижимостью."
   ]
  }
 ],
 "metadata": {
  "ExecuteTimeLog": [
   {
    "duration": 100,
    "start_time": "2023-03-24T06:50:16.809Z"
   },
   {
    "duration": 1443,
    "start_time": "2023-03-24T07:06:39.194Z"
   },
   {
    "duration": 20,
    "start_time": "2023-03-24T07:06:40.639Z"
   },
   {
    "duration": 78,
    "start_time": "2023-03-24T07:06:40.661Z"
   },
   {
    "duration": 14,
    "start_time": "2023-03-24T07:06:40.741Z"
   },
   {
    "duration": 68,
    "start_time": "2023-03-24T07:06:40.757Z"
   },
   {
    "duration": 4,
    "start_time": "2023-03-24T07:06:40.828Z"
   },
   {
    "duration": 15,
    "start_time": "2023-03-24T07:06:40.834Z"
   },
   {
    "duration": 3,
    "start_time": "2023-03-24T07:06:40.851Z"
   },
   {
    "duration": 9,
    "start_time": "2023-03-24T07:06:40.856Z"
   },
   {
    "duration": 4,
    "start_time": "2023-03-24T07:06:40.866Z"
   },
   {
    "duration": 83,
    "start_time": "2023-03-24T07:06:40.871Z"
   },
   {
    "duration": 8,
    "start_time": "2023-03-24T07:06:40.956Z"
   },
   {
    "duration": 3,
    "start_time": "2023-03-24T07:06:40.966Z"
   },
   {
    "duration": 58,
    "start_time": "2023-03-24T07:06:40.971Z"
   },
   {
    "duration": 24,
    "start_time": "2023-03-24T07:06:41.031Z"
   },
   {
    "duration": 60,
    "start_time": "2023-03-24T07:06:41.057Z"
   },
   {
    "duration": 5,
    "start_time": "2023-03-24T07:06:41.132Z"
   },
   {
    "duration": 15,
    "start_time": "2023-03-24T07:06:41.139Z"
   },
   {
    "duration": 13,
    "start_time": "2023-03-24T07:06:41.156Z"
   },
   {
    "duration": 59,
    "start_time": "2023-03-24T07:06:41.171Z"
   },
   {
    "duration": 13,
    "start_time": "2023-03-24T07:06:41.232Z"
   },
   {
    "duration": 13,
    "start_time": "2023-03-24T07:06:44.831Z"
   },
   {
    "duration": 16,
    "start_time": "2023-03-24T07:19:56.211Z"
   },
   {
    "duration": 12,
    "start_time": "2023-03-24T07:30:27.509Z"
   },
   {
    "duration": 19,
    "start_time": "2023-03-24T07:37:20.203Z"
   },
   {
    "duration": 14,
    "start_time": "2023-03-24T07:50:35.545Z"
   },
   {
    "duration": 17,
    "start_time": "2023-03-24T07:52:25.728Z"
   },
   {
    "duration": 27,
    "start_time": "2023-03-24T08:00:54.009Z"
   },
   {
    "duration": 16,
    "start_time": "2023-03-24T08:03:58.126Z"
   },
   {
    "duration": 16,
    "start_time": "2023-03-24T08:04:17.954Z"
   },
   {
    "duration": 44,
    "start_time": "2023-03-24T08:04:39.410Z"
   },
   {
    "duration": 22,
    "start_time": "2023-03-24T08:04:50.210Z"
   },
   {
    "duration": 13,
    "start_time": "2023-03-24T08:05:59.544Z"
   },
   {
    "duration": 19,
    "start_time": "2023-03-24T08:06:40.030Z"
   },
   {
    "duration": 16,
    "start_time": "2023-03-24T08:07:20.316Z"
   },
   {
    "duration": 19,
    "start_time": "2023-03-24T08:07:23.340Z"
   },
   {
    "duration": 14,
    "start_time": "2023-03-24T08:07:27.616Z"
   },
   {
    "duration": 19,
    "start_time": "2023-03-24T08:09:47.810Z"
   },
   {
    "duration": 31,
    "start_time": "2023-03-24T08:11:22.395Z"
   },
   {
    "duration": 103,
    "start_time": "2023-03-24T08:29:42.741Z"
   },
   {
    "duration": 122,
    "start_time": "2023-03-24T08:35:49.818Z"
   },
   {
    "duration": 134,
    "start_time": "2023-03-24T08:36:05.103Z"
   },
   {
    "duration": 88,
    "start_time": "2023-03-24T08:38:27.209Z"
   },
   {
    "duration": 97,
    "start_time": "2023-03-24T08:38:56.799Z"
   },
   {
    "duration": 122,
    "start_time": "2023-03-24T08:39:05.871Z"
   },
   {
    "duration": 123,
    "start_time": "2023-03-24T08:44:02.918Z"
   },
   {
    "duration": 94,
    "start_time": "2023-03-24T08:49:35.405Z"
   },
   {
    "duration": 88,
    "start_time": "2023-03-24T08:50:16.140Z"
   },
   {
    "duration": 91,
    "start_time": "2023-03-24T08:54:07.805Z"
   },
   {
    "duration": 5,
    "start_time": "2023-03-24T09:04:10.435Z"
   },
   {
    "duration": 108,
    "start_time": "2023-03-24T09:04:50.784Z"
   },
   {
    "duration": 102,
    "start_time": "2023-03-24T09:05:26.059Z"
   },
   {
    "duration": 100,
    "start_time": "2023-03-24T09:17:06.952Z"
   },
   {
    "duration": 107,
    "start_time": "2023-03-24T09:18:00.823Z"
   },
   {
    "duration": 113,
    "start_time": "2023-03-24T09:18:07.192Z"
   },
   {
    "duration": 90,
    "start_time": "2023-03-24T09:21:57.942Z"
   },
   {
    "duration": 84,
    "start_time": "2023-03-24T09:27:12.507Z"
   },
   {
    "duration": 82,
    "start_time": "2023-03-24T09:27:53.131Z"
   },
   {
    "duration": 92,
    "start_time": "2023-03-24T09:27:59.801Z"
   },
   {
    "duration": 101,
    "start_time": "2023-03-24T09:30:29.888Z"
   },
   {
    "duration": 4,
    "start_time": "2023-03-24T09:33:21.293Z"
   },
   {
    "duration": 89,
    "start_time": "2023-03-24T09:33:41.469Z"
   },
   {
    "duration": 83,
    "start_time": "2023-03-24T09:34:00.884Z"
   },
   {
    "duration": 89,
    "start_time": "2023-03-24T09:34:49.867Z"
   },
   {
    "duration": 98,
    "start_time": "2023-03-24T09:35:50.794Z"
   },
   {
    "duration": 125,
    "start_time": "2023-03-24T09:36:02.170Z"
   },
   {
    "duration": 104,
    "start_time": "2023-03-24T09:36:43.426Z"
   },
   {
    "duration": 114,
    "start_time": "2023-03-24T09:41:44.426Z"
   },
   {
    "duration": 100,
    "start_time": "2023-03-24T09:45:41.118Z"
   },
   {
    "duration": 99,
    "start_time": "2023-03-24T09:51:46.595Z"
   },
   {
    "duration": 97,
    "start_time": "2023-03-24T09:53:43.198Z"
   },
   {
    "duration": 87,
    "start_time": "2023-03-24T09:55:41.663Z"
   },
   {
    "duration": 561,
    "start_time": "2023-03-25T07:07:56.907Z"
   },
   {
    "duration": 22,
    "start_time": "2023-03-25T07:07:57.470Z"
   },
   {
    "duration": 18,
    "start_time": "2023-03-25T07:07:57.494Z"
   },
   {
    "duration": 14,
    "start_time": "2023-03-25T07:07:57.514Z"
   },
   {
    "duration": 43,
    "start_time": "2023-03-25T07:07:57.529Z"
   },
   {
    "duration": 5,
    "start_time": "2023-03-25T07:07:57.574Z"
   },
   {
    "duration": 31,
    "start_time": "2023-03-25T07:07:57.580Z"
   },
   {
    "duration": 19,
    "start_time": "2023-03-25T07:07:57.612Z"
   },
   {
    "duration": 32,
    "start_time": "2023-03-25T07:07:57.633Z"
   },
   {
    "duration": 7,
    "start_time": "2023-03-25T07:07:57.668Z"
   },
   {
    "duration": 40,
    "start_time": "2023-03-25T07:07:57.677Z"
   },
   {
    "duration": 10,
    "start_time": "2023-03-25T07:07:57.719Z"
   },
   {
    "duration": 9,
    "start_time": "2023-03-25T07:07:57.730Z"
   },
   {
    "duration": 21,
    "start_time": "2023-03-25T07:07:57.741Z"
   },
   {
    "duration": 22,
    "start_time": "2023-03-25T07:07:57.764Z"
   },
   {
    "duration": 28,
    "start_time": "2023-03-25T07:07:57.788Z"
   },
   {
    "duration": 7,
    "start_time": "2023-03-25T07:07:57.819Z"
   },
   {
    "duration": 21,
    "start_time": "2023-03-25T07:07:57.829Z"
   },
   {
    "duration": 7,
    "start_time": "2023-03-25T07:07:57.852Z"
   },
   {
    "duration": 6,
    "start_time": "2023-03-25T07:07:57.861Z"
   },
   {
    "duration": 37,
    "start_time": "2023-03-25T07:07:57.869Z"
   },
   {
    "duration": 36,
    "start_time": "2023-03-25T07:07:57.908Z"
   },
   {
    "duration": 18,
    "start_time": "2023-03-25T07:07:57.945Z"
   },
   {
    "duration": 22,
    "start_time": "2023-03-25T07:07:57.964Z"
   },
   {
    "duration": 20,
    "start_time": "2023-03-25T07:07:57.988Z"
   },
   {
    "duration": 75,
    "start_time": "2023-03-25T07:07:58.010Z"
   },
   {
    "duration": 10,
    "start_time": "2023-03-25T07:08:24.865Z"
   },
   {
    "duration": 12,
    "start_time": "2023-03-25T07:08:28.705Z"
   },
   {
    "duration": 12,
    "start_time": "2023-03-25T07:08:32.905Z"
   }
  ],
  "colab": {
   "name": "dpp_template_part2.ipynb",
   "provenance": []
  },
  "kernelspec": {
   "display_name": "Python 3 (ipykernel)",
   "language": "python",
   "name": "python3"
  },
  "language_info": {
   "codemirror_mode": {
    "name": "ipython",
    "version": 3
   },
   "file_extension": ".py",
   "mimetype": "text/x-python",
   "name": "python",
   "nbconvert_exporter": "python",
   "pygments_lexer": "ipython3",
   "version": "3.9.16"
  },
  "toc": {
   "base_numbering": 1,
   "nav_menu": {},
   "number_sections": true,
   "sideBar": true,
   "skip_h1_title": true,
   "title_cell": "Table of Contents",
   "title_sidebar": "Contents",
   "toc_cell": false,
   "toc_position": {
    "height": "calc(100% - 180px)",
    "left": "10px",
    "top": "150px",
    "width": "366.188px"
   },
   "toc_section_display": true,
   "toc_window_display": true
  }
 },
 "nbformat": 4,
 "nbformat_minor": 5
}
