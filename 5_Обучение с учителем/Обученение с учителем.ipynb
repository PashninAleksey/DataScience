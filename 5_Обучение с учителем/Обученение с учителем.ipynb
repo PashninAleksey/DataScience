{
 "cells": [
  {
   "cell_type": "markdown",
   "metadata": {},
   "source": [
    "# Отток клиентов"
   ]
  },
  {
   "cell_type": "markdown",
   "metadata": {},
   "source": [
    "## Цели проекта"
   ]
  },
  {
   "cell_type": "markdown",
   "metadata": {},
   "source": [
    "* Проанализировать исторические данные о поведении клиентов и расторжении договоров с банком. \n",
    "* Спрогнозировать уход клиента из банка в ближайшее время.\n",
    "* Построить модель классификации, метрика качества f1 (минимальное значение 0.59)\n",
    "* Измерить AUC-ROC, сравнить её значение с f1-мерой."
   ]
  },
  {
   "cell_type": "markdown",
   "metadata": {},
   "source": [
    "## Ход работы"
   ]
  },
  {
   "cell_type": "markdown",
   "metadata": {},
   "source": [
    "* Подготовка данных\n",
    "    1. Загрузка данных\n",
    "    2. Подготовка признаков\n",
    "* Исследование задачи\n",
    "    1. Решающее дерево\n",
    "    2. Случайный лес\n",
    "    3. Логистическая регрессия\n",
    "* Борьба с дисбалансом\n",
    "    1. Взвешивание классов\n",
    "    2. Upsampling \n",
    "    3. Downsampling\n",
    "* Тестирование модели\n",
    "* Общий вывод"
   ]
  },
  {
   "cell_type": "markdown",
   "metadata": {},
   "source": [
    "## Описание данных:"
   ]
  },
  {
   "cell_type": "markdown",
   "metadata": {},
   "source": [
    "Признаки\n",
    "* `RowNumber` — индекс строки в данных\n",
    "* `CustomerId` — уникальный идентификатор клиента\n",
    "* `Surname` — фамилия\n",
    "* `CreditScore` — кредитный рейтинг\n",
    "* `Geography` — страна проживания\n",
    "* `Gender` — пол\n",
    "* `Age` — возраст\n",
    "* `Tenure` — сколько лет человек является клиентом банка\n",
    "* `Balance` — баланс на счёте\n",
    "* `NumOfProducts` — количество продуктов банка, используемых клиентом\n",
    "* `HasCrCard` — наличие кредитной карты\n",
    "* `IsActiveMember` — активность клиента\n",
    "* `EstimatedSalary` — предполагаемая зарплата\n",
    "\n",
    "\n",
    "Целевой признак\n",
    "* `Exited` — факт ухода клиента"
   ]
  },
  {
   "cell_type": "markdown",
   "metadata": {},
   "source": [
    "## Подготовка данных"
   ]
  },
  {
   "cell_type": "markdown",
   "metadata": {},
   "source": [
    "### Загрузка данных"
   ]
  },
  {
   "cell_type": "markdown",
   "metadata": {},
   "source": [
    "Иморт необходимых библиотек:"
   ]
  },
  {
   "cell_type": "code",
   "execution_count": 1,
   "metadata": {
    "tags": []
   },
   "outputs": [],
   "source": [
    "import matplotlib.pyplot as plt\n",
    "import numpy as np\n",
    "import pandas as pd\n",
    "import seaborn as sns\n",
    "from sklearn.ensemble import RandomForestClassifier\n",
    "from sklearn.linear_model import LogisticRegression\n",
    "from sklearn.metrics import f1_score, roc_auc_score\n",
    "from sklearn.model_selection import train_test_split\n",
    "from sklearn.preprocessing import StandardScaler\n",
    "from sklearn.tree import DecisionTreeClassifier\n",
    "from sklearn.utils import shuffle\n",
    "\n",
    "pd.set_option(\"display.max_columns\", None)"
   ]
  },
  {
   "cell_type": "markdown",
   "metadata": {},
   "source": [
    "Загрузим данные, выведем первые 10 строк, оценим характеристики таблицы:"
   ]
  },
  {
   "cell_type": "code",
   "execution_count": 2,
   "metadata": {
    "tags": []
   },
   "outputs": [
    {
     "data": {
      "text/html": [
       "<div>\n",
       "<style scoped>\n",
       "    .dataframe tbody tr th:only-of-type {\n",
       "        vertical-align: middle;\n",
       "    }\n",
       "\n",
       "    .dataframe tbody tr th {\n",
       "        vertical-align: top;\n",
       "    }\n",
       "\n",
       "    .dataframe thead th {\n",
       "        text-align: right;\n",
       "    }\n",
       "</style>\n",
       "<table border=\"1\" class=\"dataframe\">\n",
       "  <thead>\n",
       "    <tr style=\"text-align: right;\">\n",
       "      <th></th>\n",
       "      <th>RowNumber</th>\n",
       "      <th>CustomerId</th>\n",
       "      <th>Surname</th>\n",
       "      <th>CreditScore</th>\n",
       "      <th>Geography</th>\n",
       "      <th>Gender</th>\n",
       "      <th>Age</th>\n",
       "      <th>Tenure</th>\n",
       "      <th>Balance</th>\n",
       "      <th>NumOfProducts</th>\n",
       "      <th>HasCrCard</th>\n",
       "      <th>IsActiveMember</th>\n",
       "      <th>EstimatedSalary</th>\n",
       "      <th>Exited</th>\n",
       "    </tr>\n",
       "  </thead>\n",
       "  <tbody>\n",
       "    <tr>\n",
       "      <th>0</th>\n",
       "      <td>1</td>\n",
       "      <td>15634602</td>\n",
       "      <td>Hargrave</td>\n",
       "      <td>619</td>\n",
       "      <td>France</td>\n",
       "      <td>Female</td>\n",
       "      <td>42</td>\n",
       "      <td>2.0</td>\n",
       "      <td>0.00</td>\n",
       "      <td>1</td>\n",
       "      <td>1</td>\n",
       "      <td>1</td>\n",
       "      <td>101348.88</td>\n",
       "      <td>1</td>\n",
       "    </tr>\n",
       "    <tr>\n",
       "      <th>1</th>\n",
       "      <td>2</td>\n",
       "      <td>15647311</td>\n",
       "      <td>Hill</td>\n",
       "      <td>608</td>\n",
       "      <td>Spain</td>\n",
       "      <td>Female</td>\n",
       "      <td>41</td>\n",
       "      <td>1.0</td>\n",
       "      <td>83807.86</td>\n",
       "      <td>1</td>\n",
       "      <td>0</td>\n",
       "      <td>1</td>\n",
       "      <td>112542.58</td>\n",
       "      <td>0</td>\n",
       "    </tr>\n",
       "    <tr>\n",
       "      <th>2</th>\n",
       "      <td>3</td>\n",
       "      <td>15619304</td>\n",
       "      <td>Onio</td>\n",
       "      <td>502</td>\n",
       "      <td>France</td>\n",
       "      <td>Female</td>\n",
       "      <td>42</td>\n",
       "      <td>8.0</td>\n",
       "      <td>159660.80</td>\n",
       "      <td>3</td>\n",
       "      <td>1</td>\n",
       "      <td>0</td>\n",
       "      <td>113931.57</td>\n",
       "      <td>1</td>\n",
       "    </tr>\n",
       "    <tr>\n",
       "      <th>3</th>\n",
       "      <td>4</td>\n",
       "      <td>15701354</td>\n",
       "      <td>Boni</td>\n",
       "      <td>699</td>\n",
       "      <td>France</td>\n",
       "      <td>Female</td>\n",
       "      <td>39</td>\n",
       "      <td>1.0</td>\n",
       "      <td>0.00</td>\n",
       "      <td>2</td>\n",
       "      <td>0</td>\n",
       "      <td>0</td>\n",
       "      <td>93826.63</td>\n",
       "      <td>0</td>\n",
       "    </tr>\n",
       "    <tr>\n",
       "      <th>4</th>\n",
       "      <td>5</td>\n",
       "      <td>15737888</td>\n",
       "      <td>Mitchell</td>\n",
       "      <td>850</td>\n",
       "      <td>Spain</td>\n",
       "      <td>Female</td>\n",
       "      <td>43</td>\n",
       "      <td>2.0</td>\n",
       "      <td>125510.82</td>\n",
       "      <td>1</td>\n",
       "      <td>1</td>\n",
       "      <td>1</td>\n",
       "      <td>79084.10</td>\n",
       "      <td>0</td>\n",
       "    </tr>\n",
       "    <tr>\n",
       "      <th>5</th>\n",
       "      <td>6</td>\n",
       "      <td>15574012</td>\n",
       "      <td>Chu</td>\n",
       "      <td>645</td>\n",
       "      <td>Spain</td>\n",
       "      <td>Male</td>\n",
       "      <td>44</td>\n",
       "      <td>8.0</td>\n",
       "      <td>113755.78</td>\n",
       "      <td>2</td>\n",
       "      <td>1</td>\n",
       "      <td>0</td>\n",
       "      <td>149756.71</td>\n",
       "      <td>1</td>\n",
       "    </tr>\n",
       "    <tr>\n",
       "      <th>6</th>\n",
       "      <td>7</td>\n",
       "      <td>15592531</td>\n",
       "      <td>Bartlett</td>\n",
       "      <td>822</td>\n",
       "      <td>France</td>\n",
       "      <td>Male</td>\n",
       "      <td>50</td>\n",
       "      <td>7.0</td>\n",
       "      <td>0.00</td>\n",
       "      <td>2</td>\n",
       "      <td>1</td>\n",
       "      <td>1</td>\n",
       "      <td>10062.80</td>\n",
       "      <td>0</td>\n",
       "    </tr>\n",
       "    <tr>\n",
       "      <th>7</th>\n",
       "      <td>8</td>\n",
       "      <td>15656148</td>\n",
       "      <td>Obinna</td>\n",
       "      <td>376</td>\n",
       "      <td>Germany</td>\n",
       "      <td>Female</td>\n",
       "      <td>29</td>\n",
       "      <td>4.0</td>\n",
       "      <td>115046.74</td>\n",
       "      <td>4</td>\n",
       "      <td>1</td>\n",
       "      <td>0</td>\n",
       "      <td>119346.88</td>\n",
       "      <td>1</td>\n",
       "    </tr>\n",
       "    <tr>\n",
       "      <th>8</th>\n",
       "      <td>9</td>\n",
       "      <td>15792365</td>\n",
       "      <td>He</td>\n",
       "      <td>501</td>\n",
       "      <td>France</td>\n",
       "      <td>Male</td>\n",
       "      <td>44</td>\n",
       "      <td>4.0</td>\n",
       "      <td>142051.07</td>\n",
       "      <td>2</td>\n",
       "      <td>0</td>\n",
       "      <td>1</td>\n",
       "      <td>74940.50</td>\n",
       "      <td>0</td>\n",
       "    </tr>\n",
       "    <tr>\n",
       "      <th>9</th>\n",
       "      <td>10</td>\n",
       "      <td>15592389</td>\n",
       "      <td>H?</td>\n",
       "      <td>684</td>\n",
       "      <td>France</td>\n",
       "      <td>Male</td>\n",
       "      <td>27</td>\n",
       "      <td>2.0</td>\n",
       "      <td>134603.88</td>\n",
       "      <td>1</td>\n",
       "      <td>1</td>\n",
       "      <td>1</td>\n",
       "      <td>71725.73</td>\n",
       "      <td>0</td>\n",
       "    </tr>\n",
       "  </tbody>\n",
       "</table>\n",
       "</div>"
      ],
      "text/plain": [
       "   RowNumber  CustomerId   Surname  CreditScore Geography  Gender  Age  \\\n",
       "0          1    15634602  Hargrave          619    France  Female   42   \n",
       "1          2    15647311      Hill          608     Spain  Female   41   \n",
       "2          3    15619304      Onio          502    France  Female   42   \n",
       "3          4    15701354      Boni          699    France  Female   39   \n",
       "4          5    15737888  Mitchell          850     Spain  Female   43   \n",
       "5          6    15574012       Chu          645     Spain    Male   44   \n",
       "6          7    15592531  Bartlett          822    France    Male   50   \n",
       "7          8    15656148    Obinna          376   Germany  Female   29   \n",
       "8          9    15792365        He          501    France    Male   44   \n",
       "9         10    15592389        H?          684    France    Male   27   \n",
       "\n",
       "   Tenure    Balance  NumOfProducts  HasCrCard  IsActiveMember  \\\n",
       "0     2.0       0.00              1          1               1   \n",
       "1     1.0   83807.86              1          0               1   \n",
       "2     8.0  159660.80              3          1               0   \n",
       "3     1.0       0.00              2          0               0   \n",
       "4     2.0  125510.82              1          1               1   \n",
       "5     8.0  113755.78              2          1               0   \n",
       "6     7.0       0.00              2          1               1   \n",
       "7     4.0  115046.74              4          1               0   \n",
       "8     4.0  142051.07              2          0               1   \n",
       "9     2.0  134603.88              1          1               1   \n",
       "\n",
       "   EstimatedSalary  Exited  \n",
       "0        101348.88       1  \n",
       "1        112542.58       0  \n",
       "2        113931.57       1  \n",
       "3         93826.63       0  \n",
       "4         79084.10       0  \n",
       "5        149756.71       1  \n",
       "6         10062.80       0  \n",
       "7        119346.88       1  \n",
       "8         74940.50       0  \n",
       "9         71725.73       0  "
      ]
     },
     "metadata": {},
     "output_type": "display_data"
    },
    {
     "name": "stdout",
     "output_type": "stream",
     "text": [
      "<class 'pandas.core.frame.DataFrame'>\n",
      "RangeIndex: 10000 entries, 0 to 9999\n",
      "Data columns (total 14 columns):\n",
      " #   Column           Non-Null Count  Dtype  \n",
      "---  ------           --------------  -----  \n",
      " 0   RowNumber        10000 non-null  int64  \n",
      " 1   CustomerId       10000 non-null  int64  \n",
      " 2   Surname          10000 non-null  object \n",
      " 3   CreditScore      10000 non-null  int64  \n",
      " 4   Geography        10000 non-null  object \n",
      " 5   Gender           10000 non-null  object \n",
      " 6   Age              10000 non-null  int64  \n",
      " 7   Tenure           9091 non-null   float64\n",
      " 8   Balance          10000 non-null  float64\n",
      " 9   NumOfProducts    10000 non-null  int64  \n",
      " 10  HasCrCard        10000 non-null  int64  \n",
      " 11  IsActiveMember   10000 non-null  int64  \n",
      " 12  EstimatedSalary  10000 non-null  float64\n",
      " 13  Exited           10000 non-null  int64  \n",
      "dtypes: float64(3), int64(8), object(3)\n",
      "memory usage: 1.1+ MB\n"
     ]
    }
   ],
   "source": [
    "try:\n",
    "    df = pd.read_csv(\"/datasets/Churn.csv\")\n",
    "except:\n",
    "    df = pd.read_csv(\"datasets/Churn.csv\")\n",
    "display(df.head(10))\n",
    "df.info()"
   ]
  },
  {
   "cell_type": "markdown",
   "metadata": {},
   "source": [
    "### Подготовка признаков"
   ]
  },
  {
   "cell_type": "markdown",
   "metadata": {},
   "source": [
    "#### Дубликаты"
   ]
  },
  {
   "cell_type": "markdown",
   "metadata": {},
   "source": [
    "Поиск дубликатов:"
   ]
  },
  {
   "cell_type": "code",
   "execution_count": 3,
   "metadata": {},
   "outputs": [
    {
     "data": {
      "text/plain": [
       "0"
      ]
     },
     "execution_count": 3,
     "metadata": {},
     "output_type": "execute_result"
    }
   ],
   "source": [
    "df.duplicated().sum()"
   ]
  },
  {
   "cell_type": "markdown",
   "metadata": {},
   "source": [
    "Явных дубликатов нет."
   ]
  },
  {
   "cell_type": "markdown",
   "metadata": {},
   "source": [
    "#### Количественные признаки"
   ]
  },
  {
   "cell_type": "markdown",
   "metadata": {},
   "source": [
    "Есть пропуски в столбце \"Tenure\"."
   ]
  },
  {
   "cell_type": "code",
   "execution_count": 4,
   "metadata": {
    "scrolled": true,
    "tags": []
   },
   "outputs": [
    {
     "name": "stdout",
     "output_type": "stream",
     "text": [
      "Количество пропусков =  909\n",
      "Доля пропусков =  9.999 %\n"
     ]
    }
   ],
   "source": [
    "print(\"Количество пропусков = \", df[\"Tenure\"].isna().sum())\n",
    "print(\n",
    "    \"Доля пропусков = \",\n",
    "    round(100 * df[\"Tenure\"].isna().sum() / df[\"Tenure\"].count(), 3),\n",
    "    \"%\",\n",
    ")"
   ]
  },
  {
   "cell_type": "markdown",
   "metadata": {},
   "source": [
    "Доля пропусков довольно большая, избавляться от них не будем. Заполним пропуски медианным значением годов."
   ]
  },
  {
   "cell_type": "code",
   "execution_count": 5,
   "metadata": {
    "tags": []
   },
   "outputs": [],
   "source": [
    "df.loc[df[\"Tenure\"].isna(), \"Tenure\"] = int(df[\"Tenure\"].median())"
   ]
  },
  {
   "cell_type": "markdown",
   "metadata": {},
   "source": [
    "Проверим на выбросы количественные признаки:"
   ]
  },
  {
   "cell_type": "code",
   "execution_count": 6,
   "metadata": {
    "tags": []
   },
   "outputs": [],
   "source": [
    "def show_numerics(d, data_label1=\"\", data_label2=\"\"):\n",
    "    if data_label2 != \"\":\n",
    "        f, axes = plt.subplots(1, 2, figsize=(16, 4))\n",
    "        axes[0].set_title(\"Диаграмма размаха для \" + data_label1)\n",
    "        sns.boxplot(data=d, x=data_label1, ax=axes[0])\n",
    "        axes[1].set_title(\"Диаграмма размаха для \" + data_label2)\n",
    "        sns.boxplot(data=d, x=data_label2, ax=axes[1])\n",
    "    else:\n",
    "        f, axes = plt.subplots(1, 1, figsize=(8, 4))\n",
    "        axes.set_title(\"Диаграмма размаха для \" + data_label1)\n",
    "        sns.boxplot(data=d, x=data_label1, ax=axes)\n",
    "    plt.xticks(rotation=45)\n",
    "    plt.show()"
   ]
  },
  {
   "cell_type": "code",
   "execution_count": 7,
   "metadata": {
    "scrolled": true,
    "tags": []
   },
   "outputs": [
    {
     "data": {
      "image/png": "[encoded data removed]",
      "text/plain": [
       "<Figure size 1600x400 with 2 Axes>"
      ]
     },
     "metadata": {},
     "output_type": "display_data"
    },
    {
     "data": {
      "image/png": "[encoded data removed]",
      "text/plain": [
       "<Figure size 1600x400 with 2 Axes>"
      ]
     },
     "metadata": {},
     "output_type": "display_data"
    },
    {
     "data": {
      "image/png": "[encoded data removed]",
      "text/plain": [
       "<Figure size 1600x400 with 2 Axes>"
      ]
     },
     "metadata": {},
     "output_type": "display_data"
    }
   ],
   "source": [
    "numerics = [\n",
    "    \"CreditScore\",\n",
    "    \"Age\",\n",
    "    \"Balance\",\n",
    "    \"EstimatedSalary\",\n",
    "    \"NumOfProducts\",\n",
    "    \"Tenure\",\n",
    "]\n",
    "\n",
    "for i in range(len(numerics) // 2):\n",
    "    show_numerics(df, numerics[2 * i], numerics[2 * i + 1])"
   ]
  },
  {
   "cell_type": "markdown",
   "metadata": {},
   "source": [
    "В целом все данные корректные (возраст 90+ вполне допустим,учитывая, что рассматриваются Европейские страны с высоким уровнем жизни и продолжительностью). \n"
   ]
  },
  {
   "cell_type": "markdown",
   "metadata": {},
   "source": [
    "#### Категориальные признаки"
   ]
  },
  {
   "cell_type": "markdown",
   "metadata": {},
   "source": [
    "Отобразим сколько и какие данные содержатся в категориальных столбцах:"
   ]
  },
  {
   "cell_type": "code",
   "execution_count": 8,
   "metadata": {
    "tags": []
   },
   "outputs": [],
   "source": [
    "def show_categorical(d, data_label1, data_label2=\"\"):\n",
    "    if data_label2 != \"\":\n",
    "        f, axes = plt.subplots(1, 2, figsize=(16, 4))\n",
    "        axes[0].set_title(\"Количество данных для \" + data_label1)\n",
    "        sns.countplot(data=d, x=data_label1, ax=axes[0])\n",
    "        axes[0].set_ylabel(\"Шт.\")\n",
    "        \n",
    "        axes[1].set_title(\"Количество данных для \" + data_label2)\n",
    "        sns.countplot(data=d, x=data_label2, ax=axes[1])\n",
    "        axes[1].set_ylabel(\"Шт.\")\n",
    "    else:\n",
    "        f, axes = plt.subplots(1, 1, figsize=(8, 4))\n",
    "        axes.set_title(\"Количество данных для \" + data_label1)\n",
    "        sns.countplot(data=d, x=data_label1, ax=axes)\n",
    "        axes.set_ylabel(\"Шт.\")\n",
    "    plt.show()\n"
   ]
  },
  {
   "cell_type": "code",
   "execution_count": 9,
   "metadata": {
    "tags": []
   },
   "outputs": [
    {
     "data": {
      "image/png": "[encoded data removed]",
      "text/plain": [
       "<Figure size 1600x400 with 2 Axes>"
      ]
     },
     "metadata": {},
     "output_type": "display_data"
    },
    {
     "data": {
      "image/png": "[encoded data removed]",
      "text/plain": [
       "<Figure size 1600x400 with 2 Axes>"
      ]
     },
     "metadata": {},
     "output_type": "display_data"
    },
    {
     "data": {
      "image/png": "[encoded data removed]",
      "text/plain": [
       "<Figure size 800x400 with 1 Axes>"
      ]
     },
     "metadata": {},
     "output_type": "display_data"
    }
   ],
   "source": [
    "categoricals = [\"Geography\", \"Gender\", \"HasCrCard\", \"IsActiveMember\", \"Exited\", \"\"]\n",
    "for i in range(len(categoricals) // 2):\n",
    "    show_categorical(df, categoricals[2 * i], categoricals[2 * i + 1])"
   ]
  },
  {
   "cell_type": "markdown",
   "metadata": {},
   "source": [
    "Разновидность данных в столбцах *'Geography', 'Gender'* небольшая, можем преобразовать в численный признак с помощью прямого кодирования:"
   ]
  },
  {
   "cell_type": "code",
   "execution_count": 10,
   "metadata": {
    "tags": []
   },
   "outputs": [
    {
     "data": {
      "text/html": [
       "<div>\n",
       "<style scoped>\n",
       "    .dataframe tbody tr th:only-of-type {\n",
       "        vertical-align: middle;\n",
       "    }\n",
       "\n",
       "    .dataframe tbody tr th {\n",
       "        vertical-align: top;\n",
       "    }\n",
       "\n",
       "    .dataframe thead th {\n",
       "        text-align: right;\n",
       "    }\n",
       "</style>\n",
       "<table border=\"1\" class=\"dataframe\">\n",
       "  <thead>\n",
       "    <tr style=\"text-align: right;\">\n",
       "      <th></th>\n",
       "      <th>RowNumber</th>\n",
       "      <th>CustomerId</th>\n",
       "      <th>Surname</th>\n",
       "      <th>CreditScore</th>\n",
       "      <th>Age</th>\n",
       "      <th>Tenure</th>\n",
       "      <th>Balance</th>\n",
       "      <th>NumOfProducts</th>\n",
       "      <th>HasCrCard</th>\n",
       "      <th>IsActiveMember</th>\n",
       "      <th>EstimatedSalary</th>\n",
       "      <th>Exited</th>\n",
       "      <th>Geography_Germany</th>\n",
       "      <th>Geography_Spain</th>\n",
       "      <th>Gender_Male</th>\n",
       "    </tr>\n",
       "  </thead>\n",
       "  <tbody>\n",
       "    <tr>\n",
       "      <th>0</th>\n",
       "      <td>1</td>\n",
       "      <td>15634602</td>\n",
       "      <td>Hargrave</td>\n",
       "      <td>619</td>\n",
       "      <td>42</td>\n",
       "      <td>2.0</td>\n",
       "      <td>0.00</td>\n",
       "      <td>1</td>\n",
       "      <td>1</td>\n",
       "      <td>1</td>\n",
       "      <td>101348.88</td>\n",
       "      <td>1</td>\n",
       "      <td>0</td>\n",
       "      <td>0</td>\n",
       "      <td>0</td>\n",
       "    </tr>\n",
       "    <tr>\n",
       "      <th>1</th>\n",
       "      <td>2</td>\n",
       "      <td>15647311</td>\n",
       "      <td>Hill</td>\n",
       "      <td>608</td>\n",
       "      <td>41</td>\n",
       "      <td>1.0</td>\n",
       "      <td>83807.86</td>\n",
       "      <td>1</td>\n",
       "      <td>0</td>\n",
       "      <td>1</td>\n",
       "      <td>112542.58</td>\n",
       "      <td>0</td>\n",
       "      <td>0</td>\n",
       "      <td>1</td>\n",
       "      <td>0</td>\n",
       "    </tr>\n",
       "    <tr>\n",
       "      <th>2</th>\n",
       "      <td>3</td>\n",
       "      <td>15619304</td>\n",
       "      <td>Onio</td>\n",
       "      <td>502</td>\n",
       "      <td>42</td>\n",
       "      <td>8.0</td>\n",
       "      <td>159660.80</td>\n",
       "      <td>3</td>\n",
       "      <td>1</td>\n",
       "      <td>0</td>\n",
       "      <td>113931.57</td>\n",
       "      <td>1</td>\n",
       "      <td>0</td>\n",
       "      <td>0</td>\n",
       "      <td>0</td>\n",
       "    </tr>\n",
       "    <tr>\n",
       "      <th>3</th>\n",
       "      <td>4</td>\n",
       "      <td>15701354</td>\n",
       "      <td>Boni</td>\n",
       "      <td>699</td>\n",
       "      <td>39</td>\n",
       "      <td>1.0</td>\n",
       "      <td>0.00</td>\n",
       "      <td>2</td>\n",
       "      <td>0</td>\n",
       "      <td>0</td>\n",
       "      <td>93826.63</td>\n",
       "      <td>0</td>\n",
       "      <td>0</td>\n",
       "      <td>0</td>\n",
       "      <td>0</td>\n",
       "    </tr>\n",
       "    <tr>\n",
       "      <th>4</th>\n",
       "      <td>5</td>\n",
       "      <td>15737888</td>\n",
       "      <td>Mitchell</td>\n",
       "      <td>850</td>\n",
       "      <td>43</td>\n",
       "      <td>2.0</td>\n",
       "      <td>125510.82</td>\n",
       "      <td>1</td>\n",
       "      <td>1</td>\n",
       "      <td>1</td>\n",
       "      <td>79084.10</td>\n",
       "      <td>0</td>\n",
       "      <td>0</td>\n",
       "      <td>1</td>\n",
       "      <td>0</td>\n",
       "    </tr>\n",
       "  </tbody>\n",
       "</table>\n",
       "</div>"
      ],
      "text/plain": [
       "   RowNumber  CustomerId   Surname  CreditScore  Age  Tenure    Balance  \\\n",
       "0          1    15634602  Hargrave          619   42     2.0       0.00   \n",
       "1          2    15647311      Hill          608   41     1.0   83807.86   \n",
       "2          3    15619304      Onio          502   42     8.0  159660.80   \n",
       "3          4    15701354      Boni          699   39     1.0       0.00   \n",
       "4          5    15737888  Mitchell          850   43     2.0  125510.82   \n",
       "\n",
       "   NumOfProducts  HasCrCard  IsActiveMember  EstimatedSalary  Exited  \\\n",
       "0              1          1               1        101348.88       1   \n",
       "1              1          0               1        112542.58       0   \n",
       "2              3          1               0        113931.57       1   \n",
       "3              2          0               0         93826.63       0   \n",
       "4              1          1               1         79084.10       0   \n",
       "\n",
       "   Geography_Germany  Geography_Spain  Gender_Male  \n",
       "0                  0                0            0  \n",
       "1                  0                1            0  \n",
       "2                  0                0            0  \n",
       "3                  0                0            0  \n",
       "4                  0                1            0  "
      ]
     },
     "execution_count": 10,
     "metadata": {},
     "output_type": "execute_result"
    }
   ],
   "source": [
    "# для преобразования воспользуемся методом pd.get_dummies\n",
    "df = pd.get_dummies(df, columns=[\"Geography\", \"Gender\"], drop_first=True)\n",
    "df.head()"
   ]
  },
  {
   "cell_type": "markdown",
   "metadata": {},
   "source": [
    "Что касается целевого признака 'Exited', то видим, что есть дисбаланс: нулевых значений в 4 раза больше чем единиц."
   ]
  },
  {
   "cell_type": "markdown",
   "metadata": {},
   "source": [
    "Логично предположить, что данные в колонках *'RowNumber', 'CustomerId', 'Surname'* никак не влияют на то уйдет клиент из банка или нет. Избавимся от этих данных:"
   ]
  },
  {
   "cell_type": "code",
   "execution_count": 11,
   "metadata": {
    "tags": []
   },
   "outputs": [
    {
     "name": "stdout",
     "output_type": "stream",
     "text": [
      "<class 'pandas.core.frame.DataFrame'>\n",
      "RangeIndex: 10000 entries, 0 to 9999\n",
      "Data columns (total 12 columns):\n",
      " #   Column             Non-Null Count  Dtype  \n",
      "---  ------             --------------  -----  \n",
      " 0   CreditScore        10000 non-null  int64  \n",
      " 1   Age                10000 non-null  int64  \n",
      " 2   Tenure             10000 non-null  float64\n",
      " 3   Balance            10000 non-null  float64\n",
      " 4   NumOfProducts      10000 non-null  int64  \n",
      " 5   HasCrCard          10000 non-null  int64  \n",
      " 6   IsActiveMember     10000 non-null  int64  \n",
      " 7   EstimatedSalary    10000 non-null  float64\n",
      " 8   Exited             10000 non-null  int64  \n",
      " 9   Geography_Germany  10000 non-null  uint8  \n",
      " 10  Geography_Spain    10000 non-null  uint8  \n",
      " 11  Gender_Male        10000 non-null  uint8  \n",
      "dtypes: float64(3), int64(6), uint8(3)\n",
      "memory usage: 732.5 KB\n"
     ]
    },
    {
     "data": {
      "text/html": [
       "<div>\n",
       "<style scoped>\n",
       "    .dataframe tbody tr th:only-of-type {\n",
       "        vertical-align: middle;\n",
       "    }\n",
       "\n",
       "    .dataframe tbody tr th {\n",
       "        vertical-align: top;\n",
       "    }\n",
       "\n",
       "    .dataframe thead th {\n",
       "        text-align: right;\n",
       "    }\n",
       "</style>\n",
       "<table border=\"1\" class=\"dataframe\">\n",
       "  <thead>\n",
       "    <tr style=\"text-align: right;\">\n",
       "      <th></th>\n",
       "      <th>CreditScore</th>\n",
       "      <th>Age</th>\n",
       "      <th>Tenure</th>\n",
       "      <th>Balance</th>\n",
       "      <th>NumOfProducts</th>\n",
       "      <th>HasCrCard</th>\n",
       "      <th>IsActiveMember</th>\n",
       "      <th>EstimatedSalary</th>\n",
       "      <th>Exited</th>\n",
       "      <th>Geography_Germany</th>\n",
       "      <th>Geography_Spain</th>\n",
       "      <th>Gender_Male</th>\n",
       "    </tr>\n",
       "  </thead>\n",
       "  <tbody>\n",
       "    <tr>\n",
       "      <th>0</th>\n",
       "      <td>619</td>\n",
       "      <td>42</td>\n",
       "      <td>2.0</td>\n",
       "      <td>0.00</td>\n",
       "      <td>1</td>\n",
       "      <td>1</td>\n",
       "      <td>1</td>\n",
       "      <td>101348.88</td>\n",
       "      <td>1</td>\n",
       "      <td>0</td>\n",
       "      <td>0</td>\n",
       "      <td>0</td>\n",
       "    </tr>\n",
       "    <tr>\n",
       "      <th>1</th>\n",
       "      <td>608</td>\n",
       "      <td>41</td>\n",
       "      <td>1.0</td>\n",
       "      <td>83807.86</td>\n",
       "      <td>1</td>\n",
       "      <td>0</td>\n",
       "      <td>1</td>\n",
       "      <td>112542.58</td>\n",
       "      <td>0</td>\n",
       "      <td>0</td>\n",
       "      <td>1</td>\n",
       "      <td>0</td>\n",
       "    </tr>\n",
       "    <tr>\n",
       "      <th>2</th>\n",
       "      <td>502</td>\n",
       "      <td>42</td>\n",
       "      <td>8.0</td>\n",
       "      <td>159660.80</td>\n",
       "      <td>3</td>\n",
       "      <td>1</td>\n",
       "      <td>0</td>\n",
       "      <td>113931.57</td>\n",
       "      <td>1</td>\n",
       "      <td>0</td>\n",
       "      <td>0</td>\n",
       "      <td>0</td>\n",
       "    </tr>\n",
       "    <tr>\n",
       "      <th>3</th>\n",
       "      <td>699</td>\n",
       "      <td>39</td>\n",
       "      <td>1.0</td>\n",
       "      <td>0.00</td>\n",
       "      <td>2</td>\n",
       "      <td>0</td>\n",
       "      <td>0</td>\n",
       "      <td>93826.63</td>\n",
       "      <td>0</td>\n",
       "      <td>0</td>\n",
       "      <td>0</td>\n",
       "      <td>0</td>\n",
       "    </tr>\n",
       "    <tr>\n",
       "      <th>4</th>\n",
       "      <td>850</td>\n",
       "      <td>43</td>\n",
       "      <td>2.0</td>\n",
       "      <td>125510.82</td>\n",
       "      <td>1</td>\n",
       "      <td>1</td>\n",
       "      <td>1</td>\n",
       "      <td>79084.10</td>\n",
       "      <td>0</td>\n",
       "      <td>0</td>\n",
       "      <td>1</td>\n",
       "      <td>0</td>\n",
       "    </tr>\n",
       "  </tbody>\n",
       "</table>\n",
       "</div>"
      ],
      "text/plain": [
       "   CreditScore  Age  Tenure    Balance  NumOfProducts  HasCrCard  \\\n",
       "0          619   42     2.0       0.00              1          1   \n",
       "1          608   41     1.0   83807.86              1          0   \n",
       "2          502   42     8.0  159660.80              3          1   \n",
       "3          699   39     1.0       0.00              2          0   \n",
       "4          850   43     2.0  125510.82              1          1   \n",
       "\n",
       "   IsActiveMember  EstimatedSalary  Exited  Geography_Germany  \\\n",
       "0               1        101348.88       1                  0   \n",
       "1               1        112542.58       0                  0   \n",
       "2               0        113931.57       1                  0   \n",
       "3               0         93826.63       0                  0   \n",
       "4               1         79084.10       0                  0   \n",
       "\n",
       "   Geography_Spain  Gender_Male  \n",
       "0                0            0  \n",
       "1                1            0  \n",
       "2                0            0  \n",
       "3                0            0  \n",
       "4                1            0  "
      ]
     },
     "execution_count": 11,
     "metadata": {},
     "output_type": "execute_result"
    }
   ],
   "source": [
    "df = df.drop([\"RowNumber\", \"CustomerId\", \"Surname\"], axis=1)\n",
    "df.info()\n",
    "df.head()"
   ]
  },
  {
   "cell_type": "markdown",
   "metadata": {},
   "source": [
    "#### Вывод"
   ]
  },
  {
   "cell_type": "markdown",
   "metadata": {},
   "source": [
    "* Данные успешно загружены. Дубликатов нет.\n",
    "* В целом можно сказать, что выбросов нет.\n",
    "* Категориальные признаки преобразованы методом One-Hot Encoder.\n",
    "* В целевом признаке сооотношение положительных и отрицательных значений равно 1:4 (наблюдается дисбаланс).\n",
    "* В признаке *Tenure* примерно 10% пропусков. Пропуски были заполнены медианным значением.\n",
    "* Избавились от колонок, которые никак не влияют на целевой признак."
   ]
  },
  {
   "cell_type": "markdown",
   "metadata": {},
   "source": [
    "## Исследование задачи"
   ]
  },
  {
   "cell_type": "markdown",
   "metadata": {},
   "source": [
    "В первую очередь разделим данные на признаки и целевой признак:"
   ]
  },
  {
   "cell_type": "code",
   "execution_count": 12,
   "metadata": {
    "tags": []
   },
   "outputs": [],
   "source": [
    "features = df.drop(\"Exited\", axis=1)\n",
    "target = df[\"Exited\"]"
   ]
  },
  {
   "cell_type": "markdown",
   "metadata": {},
   "source": [
    "Далее разобъем данные на обучающую, валидационную и тестовую выборку (пропорции 3:1:1) и масштабируем количественные признаки:"
   ]
  },
  {
   "cell_type": "code",
   "execution_count": 13,
   "metadata": {
    "tags": []
   },
   "outputs": [
    {
     "data": {
      "text/html": [
       "<div>\n",
       "<style scoped>\n",
       "    .dataframe tbody tr th:only-of-type {\n",
       "        vertical-align: middle;\n",
       "    }\n",
       "\n",
       "    .dataframe tbody tr th {\n",
       "        vertical-align: top;\n",
       "    }\n",
       "\n",
       "    .dataframe thead th {\n",
       "        text-align: right;\n",
       "    }\n",
       "</style>\n",
       "<table border=\"1\" class=\"dataframe\">\n",
       "  <thead>\n",
       "    <tr style=\"text-align: right;\">\n",
       "      <th></th>\n",
       "      <th>CreditScore</th>\n",
       "      <th>Age</th>\n",
       "      <th>Tenure</th>\n",
       "      <th>Balance</th>\n",
       "      <th>NumOfProducts</th>\n",
       "      <th>HasCrCard</th>\n",
       "      <th>IsActiveMember</th>\n",
       "      <th>EstimatedSalary</th>\n",
       "      <th>Geography_Germany</th>\n",
       "      <th>Geography_Spain</th>\n",
       "      <th>Gender_Male</th>\n",
       "    </tr>\n",
       "  </thead>\n",
       "  <tbody>\n",
       "    <tr>\n",
       "      <th>7479</th>\n",
       "      <td>-0.886751</td>\n",
       "      <td>-0.373192</td>\n",
       "      <td>1.082277</td>\n",
       "      <td>1.232271</td>\n",
       "      <td>-0.891560</td>\n",
       "      <td>1</td>\n",
       "      <td>0</td>\n",
       "      <td>-0.187705</td>\n",
       "      <td>0</td>\n",
       "      <td>1</td>\n",
       "      <td>1</td>\n",
       "    </tr>\n",
       "    <tr>\n",
       "      <th>3411</th>\n",
       "      <td>0.608663</td>\n",
       "      <td>-0.183385</td>\n",
       "      <td>1.082277</td>\n",
       "      <td>0.600563</td>\n",
       "      <td>-0.891560</td>\n",
       "      <td>0</td>\n",
       "      <td>0</td>\n",
       "      <td>-0.333945</td>\n",
       "      <td>0</td>\n",
       "      <td>0</td>\n",
       "      <td>0</td>\n",
       "    </tr>\n",
       "    <tr>\n",
       "      <th>6027</th>\n",
       "      <td>2.052152</td>\n",
       "      <td>0.480939</td>\n",
       "      <td>-0.737696</td>\n",
       "      <td>1.027098</td>\n",
       "      <td>0.830152</td>\n",
       "      <td>0</td>\n",
       "      <td>1</td>\n",
       "      <td>1.503095</td>\n",
       "      <td>1</td>\n",
       "      <td>0</td>\n",
       "      <td>1</td>\n",
       "    </tr>\n",
       "    <tr>\n",
       "      <th>1247</th>\n",
       "      <td>-1.457915</td>\n",
       "      <td>-1.417129</td>\n",
       "      <td>0.354288</td>\n",
       "      <td>-1.233163</td>\n",
       "      <td>0.830152</td>\n",
       "      <td>1</td>\n",
       "      <td>0</td>\n",
       "      <td>-1.071061</td>\n",
       "      <td>0</td>\n",
       "      <td>0</td>\n",
       "      <td>1</td>\n",
       "    </tr>\n",
       "    <tr>\n",
       "      <th>3716</th>\n",
       "      <td>0.130961</td>\n",
       "      <td>-1.132419</td>\n",
       "      <td>-1.101690</td>\n",
       "      <td>1.140475</td>\n",
       "      <td>-0.891560</td>\n",
       "      <td>0</td>\n",
       "      <td>0</td>\n",
       "      <td>1.524268</td>\n",
       "      <td>1</td>\n",
       "      <td>0</td>\n",
       "      <td>0</td>\n",
       "    </tr>\n",
       "  </tbody>\n",
       "</table>\n",
       "</div>"
      ],
      "text/plain": [
       "      CreditScore       Age    Tenure   Balance  NumOfProducts  HasCrCard  \\\n",
       "7479    -0.886751 -0.373192  1.082277  1.232271      -0.891560          1   \n",
       "3411     0.608663 -0.183385  1.082277  0.600563      -0.891560          0   \n",
       "6027     2.052152  0.480939 -0.737696  1.027098       0.830152          0   \n",
       "1247    -1.457915 -1.417129  0.354288 -1.233163       0.830152          1   \n",
       "3716     0.130961 -1.132419 -1.101690  1.140475      -0.891560          0   \n",
       "\n",
       "      IsActiveMember  EstimatedSalary  Geography_Germany  Geography_Spain  \\\n",
       "7479               0        -0.187705                  0                1   \n",
       "3411               0        -0.333945                  0                0   \n",
       "6027               1         1.503095                  1                0   \n",
       "1247               0        -1.071061                  0                0   \n",
       "3716               0         1.524268                  1                0   \n",
       "\n",
       "      Gender_Male  \n",
       "7479            1  \n",
       "3411            0  \n",
       "6027            1  \n",
       "1247            1  \n",
       "3716            0  "
      ]
     },
     "metadata": {},
     "output_type": "display_data"
    },
    {
     "name": "stdout",
     "output_type": "stream",
     "text": [
      "(6000,)\n",
      "(2000,)\n",
      "(2000,)\n"
     ]
    }
   ],
   "source": [
    "features_train, features_valid, target_train, target_valid = train_test_split(\n",
    "    features, target, test_size=0.4, random_state=12345\n",
    ")\n",
    "features_valid, features_test, target_valid, target_test = train_test_split(\n",
    "    features_valid, target_valid, test_size=0.5, random_state=12345\n",
    ")\n",
    "\n",
    "# Применим к количественным данным масштабировние с помощью *StandardScaler* библиотеки *sklearn*:\n",
    "scaler = StandardScaler()\n",
    "numerics = [\n",
    "    \"CreditScore\",\n",
    "    \"Age\",\n",
    "    \"Balance\",\n",
    "    \"EstimatedSalary\",\n",
    "    \"NumOfProducts\",\n",
    "    \"Tenure\",\n",
    "]\n",
    "pd.options.mode.chained_assignment = None\n",
    "scaler.fit(features_train[numerics])\n",
    "features_train[numerics] = scaler.transform(features_train[numerics])\n",
    "features_valid[numerics] = scaler.transform(features_valid[numerics])\n",
    "features_test[numerics] = scaler.transform(features_test[numerics])\n",
    "# проверим сработало ли масштабирование\n",
    "display(features_train.head())\n",
    "\n",
    "# для проверки разбиения\n",
    "print(target_train.shape)\n",
    "print(target_valid.shape)\n",
    "print(target_test.shape)"
   ]
  },
  {
   "cell_type": "markdown",
   "metadata": {},
   "source": [
    "Далее пробуем обучить различные классификационные модели без учёта дисбаланса, в которых метрикой качества будут f1 и roc_auc:"
   ]
  },
  {
   "cell_type": "markdown",
   "metadata": {},
   "source": [
    "### Решающее дерево"
   ]
  },
  {
   "cell_type": "markdown",
   "metadata": {},
   "source": [
    "Переберем и выберем гиперпараметры, которые обеспечат лучшую метрику качества f1 и найдем соответствующую этим параметрам roc_auc:\n",
    "* max_depth - максимальная глубина дерева\n",
    "* min_samples_split - минимальное количество объектов в узле\n",
    "* min_samples_leaf - минимальное количество объектов в листе\n",
    "* criterion (\"gini\" или \"entropy\") - функция измерения качества разделени\n",
    "* class_weight - вес класса\n"
   ]
  },
  {
   "cell_type": "code",
   "execution_count": 14,
   "metadata": {
    "tags": []
   },
   "outputs": [],
   "source": [
    "def decision_tree(X_train, X_valid, y_train, y_valid, cw=None):\n",
    "    # в параметрах best_params_f1 храним гиперпараметры для best_f1\n",
    "    best_params_f1 = []\n",
    "    best_f1 = 0\n",
    "\n",
    "    roc_auc_interest = 0.5\n",
    "    # проходим в циклах по гиперпараметрам\n",
    "    # для прогресса\n",
    "    i = 0\n",
    "    for max_depth in range(2, 10):\n",
    "        for min_samples_split in range(2, 10):\n",
    "            for min_samples_leaf in range(1, 10):\n",
    "                for criterion in [\"gini\", \"entropy\"]:\n",
    "                    model_dt_clf = DecisionTreeClassifier(\n",
    "                        random_state=12345,\n",
    "                        max_depth=max_depth,\n",
    "                        min_samples_split=min_samples_split,\n",
    "                        min_samples_leaf=min_samples_leaf,\n",
    "                        criterion=criterion,\n",
    "                        class_weight=cw,\n",
    "                    )\n",
    "                    # обучение модели\n",
    "                    model_dt_clf.fit(X_train, y_train)\n",
    "                    # поиск предсказаний\n",
    "                    predictions = model_dt_clf.predict(X_valid)\n",
    "                    # вычисление f1\n",
    "                    f1 = f1_score(y_valid, predictions)\n",
    "                    # аналогично для метрики roc_auc\n",
    "                    probabilities_valid = model_dt_clf.predict_proba(features_valid)\n",
    "                    probabilities_one_valid = probabilities_valid[:, 1]\n",
    "                    roc_auc = roc_auc_score(target_valid, probabilities_one_valid)\n",
    "                    # если текущее значение метрики f1 выше предыдущего лучшего значения,\n",
    "                    # сохраняем параметры модели и текущую метрику f1\n",
    "                    if f1 > best_f1:\n",
    "                        best_params_f1 = [\n",
    "                            max_depth,\n",
    "                            min_samples_split,\n",
    "                            min_samples_leaf,\n",
    "                            criterion,\n",
    "                            cw,\n",
    "                        ]\n",
    "                        best_f1 = f1\n",
    "                        roc_auc_interest = roc_auc\n",
    "                    i += 1\n",
    "                    print(\n",
    "                        \"Готовность расчетов: \" + str(round(i / 1152 * 100, 3)) + \"%\",\n",
    "                        end=\"\\r\",\n",
    "                    )\n",
    "\n",
    "    print(\"Готовность расчетов: \" + str(round(i / 1152 * 100, 3)))\n",
    "    print(\n",
    "        \"\"\"Наилучшая метрика f1: {}\n",
    "    Параметры модели:\n",
    "       max_depth = {}\n",
    "       min_samples_split = {}\n",
    "       min_samples_leaf = {}\n",
    "       criterion = {}\\n\"\"\".format(\n",
    "            round(best_f1, 3),\n",
    "            best_params_f1[0],\n",
    "            best_params_f1[1],\n",
    "            best_params_f1[2],\n",
    "            best_params_f1[3],\n",
    "        )\n",
    "    )\n",
    "\n",
    "    # вывод соответствующей метрики roc_auc\n",
    "    print(\"Соответствующая метрика roc_auc: {}\".format(round(roc_auc_interest, 3)))"
   ]
  },
  {
   "cell_type": "code",
   "execution_count": 15,
   "metadata": {
    "tags": []
   },
   "outputs": [
    {
     "name": "stdout",
     "output_type": "stream",
     "text": [
      "Готовность расчетов: 100.0%%\n",
      "Наилучшая метрика f1: 0.578\n",
      "    Параметры модели:\n",
      "       max_depth = 6\n",
      "       min_samples_split = 8\n",
      "       min_samples_leaf = 2\n",
      "       criterion = gini\n",
      "\n",
      "Соответствующая метрика roc_auc: 0.825\n",
      "CPU times: total: 23.9 s\n",
      "Wall time: 26 s\n"
     ]
    }
   ],
   "source": [
    "%%time\n",
    "decision_tree(features_train, features_valid, target_train, target_valid)"
   ]
  },
  {
   "cell_type": "markdown",
   "metadata": {},
   "source": [
    "Метрика f1 ниже, чем было задано в тех.задании(0.59)."
   ]
  },
  {
   "cell_type": "markdown",
   "metadata": {},
   "source": [
    "### Случайный лес"
   ]
  },
  {
   "cell_type": "markdown",
   "metadata": {},
   "source": [
    "Переберем и выберем гиперпараметры, которые обеспечат лучшую метрику качества f1 и найдем соответствующую этим параметрам roc_auc:\n",
    "\n",
    "* n_estimators - количество деревьев\n",
    "* max_depth - максимальная глубина дерева\n",
    "* min_samples_split - минимальное количество объектов в узле\n",
    "* min_samples_leaf - минимальное количество объектов в листе"
   ]
  },
  {
   "cell_type": "code",
   "execution_count": 16,
   "metadata": {
    "tags": []
   },
   "outputs": [],
   "source": [
    "def random_forest(X_train, X_valid, y_train, y_valid, cw=None):\n",
    "    # в параметрах best_params_f1 храним гиперпараметры для best_f1\n",
    "    best_params_f1 = []\n",
    "    best_f1 = 0\n",
    "    roc_auc_interest = 0.5\n",
    "    # проходим в циклах по всем выбранным гиперпараметрам\n",
    "    i = 0\n",
    "    for n_estimators in range(2, 21, 2):\n",
    "        for max_depth in range(10, 21, 2):\n",
    "            for min_samples_split in range(5, 13):\n",
    "                for min_samples_leaf in range(1, 5):\n",
    "                    # инициализация модели с текущими гиперпараметрами\n",
    "                    model_rf_clf = RandomForestClassifier(\n",
    "                        random_state=12345,\n",
    "                        n_estimators=n_estimators,\n",
    "                        max_depth=max_depth,\n",
    "                        min_samples_split=min_samples_split,\n",
    "                        min_samples_leaf=min_samples_leaf,\n",
    "                        class_weight=cw,\n",
    "                    )\n",
    "                    # обучение модели на тренировочной выборке\n",
    "                    model_rf_clf.fit(X_train, y_train)\n",
    "                    # поиск предсказаний модели на валидационной выбоке\n",
    "                    predictions = model_rf_clf.predict(X_valid)\n",
    "\n",
    "                    # аналогично для метрики roc_auc\n",
    "                    probabilities_valid = model_rf_clf.predict_proba(features_valid)\n",
    "                    probabilities_one_valid = probabilities_valid[:, 1]\n",
    "                    roc_auc = roc_auc_score(target_valid, probabilities_one_valid)\n",
    "                    # вычисление f1 модели методом f1_score\n",
    "                    f1 = f1_score(y_valid, predictions)\n",
    "                    # если текущее значение метрики f1 выше предыдущего лучшего значения,\n",
    "                    # сохраняем параметры модели и текущую метрику f1\n",
    "                    if f1 > best_f1:\n",
    "                        best_params_f1 = [\n",
    "                            n_estimators,\n",
    "                            max_depth,\n",
    "                            min_samples_split,\n",
    "                            min_samples_leaf,\n",
    "                        ]\n",
    "                        best_f1 = f1\n",
    "                        roc_auc_interest = roc_auc\n",
    "                    i += 1\n",
    "                    print(\n",
    "                        \"Готовность расчетов: \" + str(round(i / 1920 * 100, 3)) + \"%\",\n",
    "                        end=\"\\r\",\n",
    "                    )\n",
    "\n",
    "    print(\"Готовность расчетов: \" + str(round(i / 1920 * 100, 3)))\n",
    "\n",
    "    # вывод наилучшей метрики f1 и параметров модели.\n",
    "    print(\n",
    "        \"\"\"Наилучшая метрика f1: {}\n",
    "    Парамтеры модели:\n",
    "       n_estimators = {}\n",
    "       max_depth = {}\n",
    "       min_samples_split = {}\n",
    "       min_samples_leaf = {} \\n\"\"\".format(\n",
    "            round(best_f1, 3),\n",
    "            best_params_f1[0],\n",
    "            best_params_f1[1],\n",
    "            best_params_f1[2],\n",
    "            best_params_f1[3],\n",
    "        )\n",
    "    )\n",
    "\n",
    "    # вывод соответствующей метрики roc_auc\n",
    "    print(\"Соответствующая метрика roc_auc: {}\".format(round(roc_auc_interest, 3)))"
   ]
  },
  {
   "cell_type": "code",
   "execution_count": 17,
   "metadata": {
    "tags": []
   },
   "outputs": [
    {
     "name": "stdout",
     "output_type": "stream",
     "text": [
      "Готовность расчетов: 100.0%%\n",
      "Наилучшая метрика f1: 0.616\n",
      "    Парамтеры модели:\n",
      "       n_estimators = 16\n",
      "       max_depth = 20\n",
      "       min_samples_split = 11\n",
      "       min_samples_leaf = 1 \n",
      "\n",
      "Соответствующая метрика roc_auc: 0.833\n",
      "CPU times: total: 3min 27s\n",
      "Wall time: 3min 42s\n"
     ]
    }
   ],
   "source": [
    "%%time\n",
    "random_forest(features_train, features_valid, target_train, target_valid)"
   ]
  },
  {
   "cell_type": "markdown",
   "metadata": {},
   "source": [
    "f1 показала значение выше, чем было задано в тех.задании(0.616>0.59) и roc_auc тоже выше, чем для \"Дерева решений\" (0.833>0.825)."
   ]
  },
  {
   "cell_type": "markdown",
   "metadata": {},
   "source": [
    "### Логистическая регрессия"
   ]
  },
  {
   "cell_type": "markdown",
   "metadata": {},
   "source": [
    "Переберем и выберем гиперпараметры, которые обеспечат лучшую метрику качества f1 и найдем соответствующую этим параметрам roc_auc:\n",
    "* С - инверсия силы регуляризации\n",
    "* max_iter - максимальное количество итераций\n",
    "* solver - алгоритм оптимизации"
   ]
  },
  {
   "cell_type": "code",
   "execution_count": 18,
   "metadata": {
    "tags": []
   },
   "outputs": [],
   "source": [
    "def log_regress(X_train, X_valid, y_train, y_valid, cw=None):\n",
    "    # в параметрах best_params_f1 храним гиперпараметры для best_f1\n",
    "    best_params_f1 = []\n",
    "    best_f1 = 0\n",
    "    # в параметрах best_params_roc_auc храним гиперпараметры для best_roc_auc\n",
    "    best_params_roc_auc = []\n",
    "    best_roc_auc = 0.5\n",
    "\n",
    "    cs = range(1, 11, 1)\n",
    "    max_iteration = range(100, 1001, 100)\n",
    "\n",
    "    # проходим в циклах по всем выбранным гиперпараметрам\n",
    "    i = 0\n",
    "    for C in cs:\n",
    "        for max_iter in max_iteration:\n",
    "            for solver in [\"lbfgs\", \"liblinear\"]:\n",
    "                # инициация модели с текущими гиперпараметрами\n",
    "                model_lr_clf = LogisticRegression(\n",
    "                    random_state=12345,\n",
    "                    C=C,\n",
    "                    max_iter=max_iter,\n",
    "                    solver=solver,\n",
    "                    class_weight=cw,\n",
    "                )\n",
    "                # обучение модели на тренировочной выборке\n",
    "                model_lr_clf.fit(X_train, y_train)\n",
    "                # поиск предсказаний модели на валидационной выбоке\n",
    "                predictions = model_lr_clf.predict(X_valid)\n",
    "\n",
    "                # аналогично для метрики roc_auc\n",
    "                probabilities_valid = model_lr_clf.predict_proba(features_valid)\n",
    "                probabilities_one_valid = probabilities_valid[:, 1]\n",
    "                roc_auc = roc_auc_score(target_valid, probabilities_one_valid)\n",
    "                # вычисление f1 модели методом f1_score\n",
    "                f1 = f1_score(y_valid, predictions)\n",
    "                # если текущее значение метрики f1 выше предыдущего лучшего значения,\n",
    "                # сохраняем параметры модели и текущую метрику f1\n",
    "                if f1 > best_f1:\n",
    "                    best_params_f1 = [C, max_iter, solver]\n",
    "                    best_f1 = f1\n",
    "                    roc_auc_interest = roc_auc\n",
    "                i += 1\n",
    "                print(\n",
    "                    \"Готовность расчетов: \" + str(round(i / 200 * 100, 3)) + \"%\",\n",
    "                    end=\"\\r\",\n",
    "                )\n",
    "    print(\"Готовность расчетов: \" + str(round(i / 200 * 100, 3)))\n",
    "\n",
    "    # вывод наилучшей метрики f1 и параметров модели.\n",
    "    print(\n",
    "        \"\"\"Наилучшая метрика f1: {}\n",
    "    Параметры модели:\n",
    "       С = {}\n",
    "       max_iter = {}\n",
    "       solver = {} \\n\"\"\".format(\n",
    "            round(best_f1, 3), best_params_f1[0], best_params_f1[1], best_params_f1[2]\n",
    "        )\n",
    "    )\n",
    "\n",
    "    # вывод соответствующей метрики roc_auc\n",
    "    print(\"Соответствующая метрика roc_auc: {}\".format(round(roc_auc_interest, 3)))"
   ]
  },
  {
   "cell_type": "code",
   "execution_count": 19,
   "metadata": {
    "tags": []
   },
   "outputs": [
    {
     "name": "stdout",
     "output_type": "stream",
     "text": [
      "Готовность расчетов: 100.0%\n",
      "Наилучшая метрика f1: 0.331\n",
      "    Параметры модели:\n",
      "       С = 1\n",
      "       max_iter = 100\n",
      "       solver = lbfgs \n",
      "\n",
      "Соответствующая метрика roc_auc: 0.759\n",
      "CPU times: total: 15.8 s\n",
      "Wall time: 2.35 s\n"
     ]
    }
   ],
   "source": [
    "%%time\n",
    "log_regress(features_train, features_valid, target_train, target_valid)"
   ]
  },
  {
   "cell_type": "markdown",
   "metadata": {},
   "source": [
    "Метрика f1 совсем далека от установленного значения 0.59."
   ]
  },
  {
   "cell_type": "markdown",
   "metadata": {},
   "source": [
    "### Вывод"
   ]
  },
  {
   "cell_type": "markdown",
   "metadata": {},
   "source": [
    "* Данные разделены на обучающую, валидационную и тестовую выборки в соотношении 3:1:1.\n",
    "* Масштабированы числовые признаки.\n",
    "* Обучены модели \"Решающее Дерево\", \"Случайный лес\", \"Логистическая Регрессия\" без учёта дисбаланса классов. Максимальное значение метрики **f1 = 0.616** получено при обучении модели типа \"Случайный лес\". Качество модели удовлетворяет условию технического задания (>0.59).\n",
    "* Соответствующее максимальной метрике f1 метрика **roc_auc = 0.833**."
   ]
  },
  {
   "cell_type": "markdown",
   "metadata": {},
   "source": [
    "## Борьба с дисбалансом"
   ]
  },
  {
   "cell_type": "markdown",
   "metadata": {},
   "source": [
    "Напомним, что соотношение значений целевого признака 4:1 (для классов 0 и 1 соответственно).<br>\n",
    "Для борьбы с дисбалансом классов попробуем:\n",
    "* взвешивание классов (class_weight='balanced')\n",
    "* увеличение выборки положительного класса (upsampling)\n",
    "* уменьшение выборки отрицательного класса (downsampling )"
   ]
  },
  {
   "cell_type": "markdown",
   "metadata": {},
   "source": [
    "### Взвешивание классов"
   ]
  },
  {
   "cell_type": "markdown",
   "metadata": {},
   "source": [
    "Взвешивание классов для \"Дерева решений\":"
   ]
  },
  {
   "cell_type": "code",
   "execution_count": 20,
   "metadata": {
    "tags": []
   },
   "outputs": [
    {
     "name": "stdout",
     "output_type": "stream",
     "text": [
      "Готовность расчетов: 100.0%%\n",
      "Наилучшая метрика f1: 0.601\n",
      "    Параметры модели:\n",
      "       max_depth = 5\n",
      "       min_samples_split = 2\n",
      "       min_samples_leaf = 7\n",
      "       criterion = entropy\n",
      "\n",
      "Соответствующая метрика roc_auc: 0.835\n",
      "CPU times: total: 30.1 s\n",
      "Wall time: 30.7 s\n"
     ]
    }
   ],
   "source": [
    "%%time\n",
    "decision_tree(features_train, features_valid, target_train, target_valid, cw=\"balanced\")"
   ]
  },
  {
   "cell_type": "markdown",
   "metadata": {},
   "source": [
    "* Взвешивание классов дало прирост в метрике f1 (0.601>0.578), теперь значение f1 выше заданного в тех.задании 0.59.\n",
    "* Взвешивание классов дало прирост и в метрике roc_auc (0.835>0.825)."
   ]
  },
  {
   "cell_type": "markdown",
   "metadata": {},
   "source": [
    "Взвешивание классов для \"Случайного леса\":"
   ]
  },
  {
   "cell_type": "code",
   "execution_count": 21,
   "metadata": {
    "tags": []
   },
   "outputs": [
    {
     "name": "stdout",
     "output_type": "stream",
     "text": [
      "Готовность расчетов: 100.0%%\n",
      "Наилучшая метрика f1: 0.639\n",
      "    Парамтеры модели:\n",
      "       n_estimators = 18\n",
      "       max_depth = 10\n",
      "       min_samples_split = 12\n",
      "       min_samples_leaf = 4 \n",
      "\n",
      "Соответствующая метрика roc_auc: 0.851\n",
      "CPU times: total: 3min 24s\n",
      "Wall time: 3min 37s\n"
     ]
    }
   ],
   "source": [
    "%%time\n",
    "random_forest(features_train, features_valid, target_train, target_valid, cw=\"balanced\")"
   ]
  },
  {
   "cell_type": "markdown",
   "metadata": {},
   "source": [
    "* Взвешивание классов дало прирост в метрике f1 (0.639>0.616).\n",
    "* Взвешивание классов дало прирост и в метрике roc_auc (0.851>0.833)."
   ]
  },
  {
   "cell_type": "code",
   "execution_count": 22,
   "metadata": {
    "tags": []
   },
   "outputs": [
    {
     "name": "stdout",
     "output_type": "stream",
     "text": [
      "Готовность расчетов: 100.0%\n",
      "Наилучшая метрика f1: 0.489\n",
      "    Параметры модели:\n",
      "       С = 1\n",
      "       max_iter = 100\n",
      "       solver = lbfgs \n",
      "\n",
      "Соответствующая метрика roc_auc: 0.764\n",
      "CPU times: total: 16.5 s\n",
      "Wall time: 2.63 s\n"
     ]
    }
   ],
   "source": [
    "%%time\n",
    "log_regress(features_train, features_valid, target_train, target_valid, cw=\"balanced\")"
   ]
  },
  {
   "cell_type": "markdown",
   "metadata": {},
   "source": [
    "* Взвешивание классов дало прирост в метрике f1 (0.489>0.331).\n",
    "* Взвешивание классов дало прирост и в метрике roc_auc (0.764>0.759).\n",
    "* Далее можно не рассматривать логистическую регрессию так как явно уступает двум другим моделям."
   ]
  },
  {
   "cell_type": "markdown",
   "metadata": {},
   "source": [
    "### Upsampling"
   ]
  },
  {
   "cell_type": "markdown",
   "metadata": {},
   "source": [
    "Перебирая параметр repeat (во сколько раз увеличить количество положительных целевых признаков), обучим \"Дерево решений\" и \"Случайный лес\":"
   ]
  },
  {
   "cell_type": "code",
   "execution_count": 23,
   "metadata": {
    "tags": []
   },
   "outputs": [],
   "source": [
    "# функция для увеличения выборки\n",
    "def upsample(features, target, repeat):\n",
    "    features_zeros = features[target == 0]\n",
    "    features_ones = features[target == 1]\n",
    "    target_zeros = target[target == 0]\n",
    "    target_ones = target[target == 1]\n",
    "\n",
    "    features_upsampled = pd.concat([features_zeros] + [features_ones] * repeat)\n",
    "    target_upsampled = pd.concat([target_zeros] + [target_ones] * repeat)\n",
    "\n",
    "    features_upsampled, target_upsampled = shuffle(\n",
    "        features_upsampled, target_upsampled, random_state=12345\n",
    "    )\n",
    "    return features_upsampled, target_upsampled"
   ]
  },
  {
   "cell_type": "code",
   "execution_count": 24,
   "metadata": {
    "tags": []
   },
   "outputs": [
    {
     "name": "stdout",
     "output_type": "stream",
     "text": [
      "При repeat =  2\n",
      "Решающее дерево:\n",
      "Готовность расчетов: 100.0%%\n",
      "Наилучшая метрика f1: 0.608\n",
      "    Параметры модели:\n",
      "       max_depth = 6\n",
      "       min_samples_split = 2\n",
      "       min_samples_leaf = 6\n",
      "       criterion = gini\n",
      "\n",
      "Соответствующая метрика roc_auc: 0.831\n",
      "Случайный лес:\n",
      "Готовность расчетов: 100.0%%\n",
      "Наилучшая метрика f1: 0.645\n",
      "    Парамтеры модели:\n",
      "       n_estimators = 18\n",
      "       max_depth = 10\n",
      "       min_samples_split = 11\n",
      "       min_samples_leaf = 4 \n",
      "\n",
      "Соответствующая метрика roc_auc: 0.845\n",
      "=============================================================\n",
      "При repeat =  3\n",
      "Решающее дерево:\n",
      "Готовность расчетов: 100.0%%\n",
      "Наилучшая метрика f1: 0.599\n",
      "    Параметры модели:\n",
      "       max_depth = 8\n",
      "       min_samples_split = 2\n",
      "       min_samples_leaf = 9\n",
      "       criterion = gini\n",
      "\n",
      "Соответствующая метрика roc_auc: 0.823\n",
      "Случайный лес:\n",
      "Готовность расчетов: 100.0%%\n",
      "Наилучшая метрика f1: 0.643\n",
      "    Парамтеры модели:\n",
      "       n_estimators = 16\n",
      "       max_depth = 12\n",
      "       min_samples_split = 12\n",
      "       min_samples_leaf = 1 \n",
      "\n",
      "Соответствующая метрика roc_auc: 0.845\n",
      "=============================================================\n",
      "При repeat =  4\n",
      "Решающее дерево:\n",
      "Готовность расчетов: 100.0%%\n",
      "Наилучшая метрика f1: 0.601\n",
      "    Параметры модели:\n",
      "       max_depth = 5\n",
      "       min_samples_split = 2\n",
      "       min_samples_leaf = 4\n",
      "       criterion = entropy\n",
      "\n",
      "Соответствующая метрика roc_auc: 0.834\n",
      "Случайный лес:\n",
      "Готовность расчетов: 100.0%%\n",
      "Наилучшая метрика f1: 0.634\n",
      "    Парамтеры модели:\n",
      "       n_estimators = 16\n",
      "       max_depth = 12\n",
      "       min_samples_split = 12\n",
      "       min_samples_leaf = 1 \n",
      "\n",
      "Соответствующая метрика roc_auc: 0.838\n",
      "=============================================================\n"
     ]
    }
   ],
   "source": [
    "for repeat in range(2, 5, 1):\n",
    "    print(\"При repeat = \", repeat)\n",
    "    X_train_upsampled, y_train_upsampled = upsample(\n",
    "        features_train, target_train, repeat\n",
    "    )\n",
    "    print(\"Решающее дерево:\")\n",
    "    decision_tree(X_train_upsampled, features_valid, y_train_upsampled, target_valid)\n",
    "    print(\"Случайный лес:\")\n",
    "    random_forest(X_train_upsampled, features_valid, y_train_upsampled, target_valid)\n",
    "    print(\"=============================================================\")"
   ]
  },
  {
   "cell_type": "markdown",
   "metadata": {},
   "source": [
    "* C помощью *repeat*=**2** удалось улучшить метрику f1 для \"Решающего дерева\" до  **0.608**, при этом  roc_auc=**0.831**.\n",
    "    * Параметры модели:\n",
    "       * max_depth = 6\n",
    "       * min_samples_split = 2\n",
    "       * min_samples_leaf = 6\n",
    "       * criterion = gini\n",
    "* C помощью *repeat*=**2** удалось улучшить метрику f1 для \"Случайного леса\" до  **0.645**, при этом  roc_auc=**0.845**.\n",
    "    * Параметры модели:\n",
    "       * n_estimators = 18\n",
    "       * max_depth = 10\n",
    "       * min_samples_split = 11\n",
    "       * min_samples_leaf = 4 "
   ]
  },
  {
   "cell_type": "markdown",
   "metadata": {},
   "source": [
    "### Unsampling"
   ]
  },
  {
   "cell_type": "code",
   "execution_count": 25,
   "metadata": {
    "tags": []
   },
   "outputs": [],
   "source": [
    "def downsample(features, target, fraction):\n",
    "    features_zeros = features[target == 0]\n",
    "    features_ones = features[target == 1]\n",
    "    target_zeros = target[target == 0]\n",
    "    target_ones = target[target == 1]\n",
    "\n",
    "    features_downsampled = pd.concat(\n",
    "        [features_zeros.sample(frac=fraction, random_state=12345)] + [features_ones]\n",
    "    )\n",
    "    target_downsampled = pd.concat(\n",
    "        [target_zeros.sample(frac=fraction, random_state=12345)] + [target_ones]\n",
    "    )\n",
    "\n",
    "    features_downsampled, target_downsampled = shuffle(\n",
    "        features_downsampled, target_downsampled, random_state=12345\n",
    "    )\n",
    "    return features_downsampled, target_downsampled"
   ]
  },
  {
   "cell_type": "code",
   "execution_count": 26,
   "metadata": {
    "tags": []
   },
   "outputs": [
    {
     "name": "stdout",
     "output_type": "stream",
     "text": [
      "При frac =  0.2\n",
      "\n",
      "Решающее дерево:\n",
      "Готовность расчетов: 100.0%%\n",
      "Наилучшая метрика f1: 0.583\n",
      "    Параметры модели:\n",
      "       max_depth = 6\n",
      "       min_samples_split = 2\n",
      "       min_samples_leaf = 5\n",
      "       criterion = entropy\n",
      "\n",
      "Соответствующая метрика roc_auc: 0.833\n",
      "\n",
      "Случайный лес:\n",
      "Готовность расчетов: 100.0%%\n",
      "Наилучшая метрика f1: 0.582\n",
      "    Парамтеры модели:\n",
      "       n_estimators = 14\n",
      "       max_depth = 12\n",
      "       min_samples_split = 12\n",
      "       min_samples_leaf = 1 \n",
      "\n",
      "Соответствующая метрика roc_auc: 0.837\n",
      "=============================================================\n",
      "При frac =  0.30000000000000004\n",
      "\n",
      "Решающее дерево:\n",
      "Готовность расчетов: 100.0%%\n",
      "Наилучшая метрика f1: 0.608\n",
      "    Параметры модели:\n",
      "       max_depth = 5\n",
      "       min_samples_split = 2\n",
      "       min_samples_leaf = 8\n",
      "       criterion = entropy\n",
      "\n",
      "Соответствующая метрика roc_auc: 0.83\n",
      "\n",
      "Случайный лес:\n",
      "Готовность расчетов: 100.0%%\n",
      "Наилучшая метрика f1: 0.62\n",
      "    Парамтеры модели:\n",
      "       n_estimators = 20\n",
      "       max_depth = 10\n",
      "       min_samples_split = 12\n",
      "       min_samples_leaf = 4 \n",
      "\n",
      "Соответствующая метрика roc_auc: 0.847\n",
      "=============================================================\n",
      "При frac =  0.4000000000000001\n",
      "\n",
      "Решающее дерево:\n",
      "Готовность расчетов: 100.0%%\n",
      "Наилучшая метрика f1: 0.6\n",
      "    Параметры модели:\n",
      "       max_depth = 6\n",
      "       min_samples_split = 2\n",
      "       min_samples_leaf = 8\n",
      "       criterion = entropy\n",
      "\n",
      "Соответствующая метрика roc_auc: 0.826\n",
      "\n",
      "Случайный лес:\n",
      "Готовность расчетов: 100.0%%\n",
      "Наилучшая метрика f1: 0.641\n",
      "    Парамтеры модели:\n",
      "       n_estimators = 20\n",
      "       max_depth = 12\n",
      "       min_samples_split = 9\n",
      "       min_samples_leaf = 4 \n",
      "\n",
      "Соответствующая метрика roc_auc: 0.842\n",
      "=============================================================\n"
     ]
    }
   ],
   "source": [
    "for frac in np.arange(0.2, 0.5, 0.1):\n",
    "    print(\"При frac = \", frac)\n",
    "    print(\"\")\n",
    "    X_train_downsampled, y_train_downsampled = downsample(\n",
    "        features_train, target_train, frac\n",
    "    )\n",
    "    print(\"Решающее дерево:\")\n",
    "    decision_tree(\n",
    "        X_train_downsampled, features_valid, y_train_downsampled, target_valid\n",
    "    )\n",
    "    print(\"\")\n",
    "    print(\"Случайный лес:\")\n",
    "    random_forest(\n",
    "        X_train_downsampled, features_valid, y_train_downsampled, target_valid\n",
    "    )\n",
    "    print(\"=============================================================\")"
   ]
  },
  {
   "cell_type": "markdown",
   "metadata": {},
   "source": [
    "* C помощью *fraction*=**0.3** удалось получить максимальную метрику f1 для \"Решающего дерева\" **0.608**, при этом  roc_auc=**0.830**.\n",
    "    * Параметры модели:\n",
    "       * max_depth = 5\n",
    "       * min_samples_split = 2\n",
    "       * min_samples_leaf = 8\n",
    "       * criterion = entropy\n",
    "* C помощью *fraction*=**0.4** удалось получить максимальную метрику f1 для \"Случайного леса\" **0.641**, при этом  roc_auc=**0.842**.\n",
    "    * Парамтеры модели:\n",
    "       * n_estimators = 20\n",
    "       * max_depth = 12\n",
    "       * min_samples_split = 9\n",
    "       * min_samples_leaf = 4"
   ]
  },
  {
   "cell_type": "markdown",
   "metadata": {},
   "source": [
    "### Вывод"
   ]
  },
  {
   "cell_type": "markdown",
   "metadata": {},
   "source": [
    "* Взвешивание классов для модели \"Дерево решений\" с помощью параметра class_weight='balanced' дало незначительное увеличение метрики f1: **0.601**>0.578 и теперь значение f1 выше заданной в тех.задании величины 0.59. Также взвешивание классов дало прирост в метрике roc_auc: 0.835>0.825.   \n",
    "\n",
    "* Взвешивание классов для модели \"Случайный лес\" с помощью параметра class_weight='balanced' дало незначительное увеличение метрики f1: **0.637**>0.616. Также взвешивание классов дало прирост в метрике roc_auc: 0.842>0.833. \n",
    "\n",
    "* Взвешивание классов для модели \"Логистическая регрессия\" с помощью параметра class_weight='balanced' дало незначительное увеличение метрики f1: **0.489**>0.331. Также взвешивание классов дало прирост в метрике roc_auc: 0.764>0.759. Далее решено было не рассматривать логистическую регрессию так как она явно уступает двум другим моделям.\n",
    "\n",
    "* C помощью ***Upsampling*** подобрали значение *repeat* = **2** при котором удалось улучшить метрику f1 для \"Решающего дерева\" до  **0.608**, при этом  roc_auc=**0.831**. Также подобрали значение *repeat* =**2** при котором удалось улучшить метрику f1 для \"Случайного леса\" до  **0.645**, при этом  roc_auc=**0.845**.\n",
    "\n",
    "\n",
    "* C помощью ***Unsampling*** подобрали значение *fraction* = **0.3** при котором удалось улучшить метрику f1 для \"Решающего дерева\" до  **0.608**, при этом  roc_auc=**0.830**. Также подобрали значение *fraction* = **0.4** при котором удалось улучшить метрику f1 для \"Случайного леса\" до  **0.641**, при этом  roc_auc=**0.842**.\n",
    "\n",
    "\n",
    "***Итог***: наибольшее качество модели получили при борьбе с дисбалансом выборки с помощью увеличения размера выборки (***Upsampling***) для модели \"Случайный лес\" со следующими параметрами:<br> \n",
    "\n",
    "* Наилучшая метрика f1 = **0.645** <br>\n",
    "* *repeat* = **2**\n",
    "* *n_estimators* = **18**\n",
    "* *max_depth* = **10**\n",
    "* *min_samples_split* = **11**\n",
    "* *min_samples_leaf* = **4** \n",
    "* *roc_auc* = **0.845** <br>\n"
   ]
  },
  {
   "cell_type": "markdown",
   "metadata": {},
   "source": [
    "## Тестирование модели"
   ]
  },
  {
   "cell_type": "markdown",
   "metadata": {},
   "source": [
    "Вычислим метрики f1 и roc_auc на тестовой выборке для модели \"Случайный лес\" с вышеперечисленными параметрами."
   ]
  },
  {
   "cell_type": "code",
   "execution_count": 27,
   "metadata": {
    "tags": []
   },
   "outputs": [
    {
     "name": "stdout",
     "output_type": "stream",
     "text": [
      " f1 = 0.592, \n",
      " roc_auc = 0.853\n"
     ]
    }
   ],
   "source": [
    "X_upsampled, y_upsampled = upsample(features_train, target_train, 2)\n",
    "model_rfc_final = RandomForestClassifier(\n",
    "    random_state=12345,\n",
    "    n_estimators=18,\n",
    "    max_depth=10,\n",
    "    min_samples_split=11,\n",
    "    min_samples_leaf=4,\n",
    ")\n",
    "model_rfc_final.fit(X_upsampled, y_upsampled)\n",
    "predictions = model_rfc_final.predict(features_test)\n",
    "f1 = f1_score(target_test, predictions)\n",
    "probabilities_test = model_rfc_final.predict_proba(features_test)\n",
    "probabilities_one_test = probabilities_test[:, 1]\n",
    "roc_auc = roc_auc_score(target_test, probabilities_one_test)\n",
    "print(\" f1 = {}, \\n roc_auc = {}\".format(round(f1, 3), round(roc_auc, 3)))"
   ]
  },
  {
   "cell_type": "markdown",
   "metadata": {},
   "source": [
    "### Вывод"
   ]
  },
  {
   "cell_type": "markdown",
   "metadata": {},
   "source": [
    "На тестовой выборке удалось достичь удовлетворяющее техническому заданию  значение метрики f1 **0.592** > **0.59** c помощью модели \"Случайный лес\"<br>. Так же нашли метрику roc_auc = 0.853."
   ]
  },
  {
   "cell_type": "markdown",
   "metadata": {},
   "source": [
    "## Итоговый вывод"
   ]
  },
  {
   "cell_type": "markdown",
   "metadata": {},
   "source": [
    "1. Произведена загрузка и предобработка данных.\n",
    "2. В признаке Tenure обнаружено около 10% пропусков. Пропуски были заменены медианным значением данного признака.\n",
    "3. Числовые признаки масштабированы с помощью *StandardScaler*. Категориальные признаки преобразованы методом One-Hot Encoder.\n",
    "4. Целевой признак распределён в сооотношении 4:1\n",
    "5. Исходные данные разделены на обучающую, валидационную и тестовую выборки в соотношении 3:1:1 соответственно. Обучены модели \"Решающее Дерево\", \"Случайный лес\", \"Логистическая Регрессия\" без учёта дисбаланса классов. Максимальное значение метрики f1 = **0.616**  получено при обучении модели \"Случайный лес\". Качество этой модели также оценено по метрике roc_auc = **0.833**. \n",
    "6. Проведёно устранение дисбаланса классов.  \n",
    "* Сделали взвешивание классов с помощью параметра class_weight, что дало незначительные увеличение метрик для всех моделей:\n",
    "    * Дерево решений: 0.578 -> 0.601\n",
    "    * Случайный лес: 0.616 -> 0.637\n",
    "    * Логистическая регрессия: 0.331 -> 0.489 (дальше было решено не рассматривать данную модель из за низких показателей)\n",
    "* Upsampling положительного класса дал прирост f1 при repeat=2 для \"Решающего дерева\" до **0.608**, для \"Случайный лес\" при repeat=2 до **0.645**.\n",
    "* Downsampling отрицательного класса дал прирост f1 при fraction=0.3 для \"Решающего дерева\" до **0.608**, для \"Случайный лес\" при fraction=0.4 до **0.641**.\n",
    "* Итог: лучше всего справился с увелчением значения интересующей нас метрики f1 метод **Upsampling**.\n",
    "7. Было проведено тестирование с помощью модели \"Случайный лес\" c учетом дисбаланса на тестовой выборке. Были получены следующие значения метрик:\n",
    "*  f1 = **0.592**, roc_auc = 0.853 <br>\n",
    "Полученное значение метрики ***f1*** выше чем заданное в тех.задании значение **0.59**."
   ]
  }
 ],
 "metadata": {
  "ExecuteTimeLog": [
   {
    "duration": 5,
    "start_time": "2023-06-07T05:42:43.633Z"
   },
   {
    "duration": 3,
    "start_time": "2023-06-07T05:42:58.239Z"
   },
   {
    "duration": 50,
    "start_time": "2023-06-07T05:52:47.542Z"
   },
   {
    "duration": 1692,
    "start_time": "2023-06-07T05:52:55.578Z"
   },
   {
    "duration": 220,
    "start_time": "2023-06-07T05:55:25.608Z"
   },
   {
    "duration": 3,
    "start_time": "2023-06-07T07:04:19.309Z"
   },
   {
    "duration": 3,
    "start_time": "2023-06-07T07:04:22.241Z"
   },
   {
    "duration": 11,
    "start_time": "2023-06-07T07:25:49.918Z"
   },
   {
    "duration": 14,
    "start_time": "2023-06-07T07:30:05.264Z"
   },
   {
    "duration": 45,
    "start_time": "2023-06-07T07:30:21.458Z"
   },
   {
    "duration": 79,
    "start_time": "2023-06-07T07:50:30.089Z"
   },
   {
    "duration": 12,
    "start_time": "2023-06-07T07:50:36.147Z"
   },
   {
    "duration": 156,
    "start_time": "2023-06-07T07:55:07.743Z"
   },
   {
    "duration": 4,
    "start_time": "2023-06-07T07:55:16.444Z"
   },
   {
    "duration": 24,
    "start_time": "2023-06-07T07:55:18.091Z"
   },
   {
    "duration": 5,
    "start_time": "2023-06-07T07:55:41.075Z"
   },
   {
    "duration": 76,
    "start_time": "2023-06-07T07:55:41.082Z"
   },
   {
    "duration": 12,
    "start_time": "2023-06-07T07:55:41.159Z"
   },
   {
    "duration": 5,
    "start_time": "2023-06-07T07:55:41.173Z"
   },
   {
    "duration": 21,
    "start_time": "2023-06-07T07:55:44.477Z"
   },
   {
    "duration": 16,
    "start_time": "2023-06-07T08:07:16.072Z"
   },
   {
    "duration": 4,
    "start_time": "2023-06-07T08:08:40.071Z"
   },
   {
    "duration": 13,
    "start_time": "2023-06-07T08:08:43.572Z"
   },
   {
    "duration": 3,
    "start_time": "2023-06-07T08:13:52.014Z"
   },
   {
    "duration": 27,
    "start_time": "2023-06-07T08:13:53.772Z"
   },
   {
    "duration": 17,
    "start_time": "2023-06-07T08:15:32.768Z"
   },
   {
    "duration": 10,
    "start_time": "2023-06-07T08:15:42.768Z"
   },
   {
    "duration": 17,
    "start_time": "2023-06-07T08:15:46.355Z"
   },
   {
    "duration": 18,
    "start_time": "2023-06-07T08:16:18.396Z"
   },
   {
    "duration": 18,
    "start_time": "2023-06-07T08:16:43.556Z"
   },
   {
    "duration": 3,
    "start_time": "2023-06-07T08:18:06.388Z"
   },
   {
    "duration": 513,
    "start_time": "2023-06-07T08:18:09.189Z"
   },
   {
    "duration": 515,
    "start_time": "2023-06-07T08:18:21.904Z"
   },
   {
    "duration": 3,
    "start_time": "2023-06-07T08:32:33.092Z"
   },
   {
    "duration": 129,
    "start_time": "2023-06-07T08:32:35.340Z"
   },
   {
    "duration": 4,
    "start_time": "2023-06-07T08:34:34.952Z"
   },
   {
    "duration": 105,
    "start_time": "2023-06-07T08:34:36.782Z"
   },
   {
    "duration": 4,
    "start_time": "2023-06-07T08:35:00.476Z"
   },
   {
    "duration": 132,
    "start_time": "2023-06-07T08:35:02.584Z"
   },
   {
    "duration": 4,
    "start_time": "2023-06-07T08:35:49.269Z"
   },
   {
    "duration": 121,
    "start_time": "2023-06-07T08:35:51.223Z"
   },
   {
    "duration": 3,
    "start_time": "2023-06-07T08:37:48.273Z"
   },
   {
    "duration": 101,
    "start_time": "2023-06-07T08:37:50.146Z"
   },
   {
    "duration": 4,
    "start_time": "2023-06-07T08:37:58.769Z"
   },
   {
    "duration": 374,
    "start_time": "2023-06-07T08:38:00.563Z"
   },
   {
    "duration": 4,
    "start_time": "2023-06-07T08:40:01.294Z"
   },
   {
    "duration": 576,
    "start_time": "2023-06-07T08:40:03.890Z"
   },
   {
    "duration": 5,
    "start_time": "2023-06-07T08:40:14.517Z"
   },
   {
    "duration": 355,
    "start_time": "2023-06-07T08:40:16.652Z"
   },
   {
    "duration": 4,
    "start_time": "2023-06-07T08:40:37.975Z"
   },
   {
    "duration": 128,
    "start_time": "2023-06-07T08:40:40.052Z"
   },
   {
    "duration": 3,
    "start_time": "2023-06-07T08:42:31.469Z"
   },
   {
    "duration": 615,
    "start_time": "2023-06-07T08:42:31.474Z"
   },
   {
    "duration": 20,
    "start_time": "2023-06-07T08:47:23.043Z"
   },
   {
    "duration": 23,
    "start_time": "2023-06-07T08:48:08.718Z"
   },
   {
    "duration": 21,
    "start_time": "2023-06-07T08:50:53.772Z"
   },
   {
    "duration": 2,
    "start_time": "2023-06-07T08:51:30.877Z"
   },
   {
    "duration": 3,
    "start_time": "2023-06-07T08:52:03.181Z"
   },
   {
    "duration": 3,
    "start_time": "2023-06-07T08:52:44.280Z"
   },
   {
    "duration": 4,
    "start_time": "2023-06-07T08:58:08.147Z"
   },
   {
    "duration": 413,
    "start_time": "2023-06-07T08:58:15.955Z"
   },
   {
    "duration": 6,
    "start_time": "2023-06-07T09:09:53.871Z"
   },
   {
    "duration": 5,
    "start_time": "2023-06-07T09:11:10.268Z"
   },
   {
    "duration": 19,
    "start_time": "2023-06-07T09:11:12.500Z"
   },
   {
    "duration": 5,
    "start_time": "2023-06-07T09:11:27.791Z"
   },
   {
    "duration": 20,
    "start_time": "2023-06-07T09:11:30.304Z"
   },
   {
    "duration": 5,
    "start_time": "2023-06-07T09:11:51.059Z"
   },
   {
    "duration": 443,
    "start_time": "2023-06-07T09:11:53.039Z"
   },
   {
    "duration": 6,
    "start_time": "2023-06-07T09:15:05.194Z"
   },
   {
    "duration": 420,
    "start_time": "2023-06-07T09:15:07.065Z"
   },
   {
    "duration": 11,
    "start_time": "2023-06-07T09:17:17.577Z"
   },
   {
    "duration": 5,
    "start_time": "2023-06-07T09:17:30.093Z"
   },
   {
    "duration": 11,
    "start_time": "2023-06-07T09:17:31.759Z"
   },
   {
    "duration": 1036,
    "start_time": "2023-06-07T09:17:47.584Z"
   },
   {
    "duration": 62,
    "start_time": "2023-06-07T09:18:34.221Z"
   },
   {
    "duration": 624,
    "start_time": "2023-06-07T09:20:33.974Z"
   },
   {
    "duration": 899,
    "start_time": "2023-06-07T09:21:04.643Z"
   },
   {
    "duration": 5,
    "start_time": "2023-06-07T09:22:11.480Z"
   },
   {
    "duration": 909,
    "start_time": "2023-06-07T09:22:26.684Z"
   },
   {
    "duration": 6,
    "start_time": "2023-06-07T09:23:31.407Z"
   },
   {
    "duration": 854,
    "start_time": "2023-06-07T09:23:37.084Z"
   },
   {
    "duration": 5,
    "start_time": "2023-06-07T09:24:53.548Z"
   },
   {
    "duration": 907,
    "start_time": "2023-06-07T09:24:55.907Z"
   },
   {
    "duration": 5,
    "start_time": "2023-06-07T09:25:28.795Z"
   },
   {
    "duration": 1076,
    "start_time": "2023-06-07T09:25:29.713Z"
   },
   {
    "duration": 11,
    "start_time": "2023-06-07T09:25:45.421Z"
   },
   {
    "duration": 876,
    "start_time": "2023-06-07T09:25:48.295Z"
   },
   {
    "duration": 10,
    "start_time": "2023-06-07T09:25:58.835Z"
   },
   {
    "duration": 1026,
    "start_time": "2023-06-07T09:26:01.315Z"
   },
   {
    "duration": 5,
    "start_time": "2023-06-07T09:26:13.840Z"
   },
   {
    "duration": 853,
    "start_time": "2023-06-07T09:26:16.847Z"
   },
   {
    "duration": 221,
    "start_time": "2023-06-07T09:30:07.352Z"
   },
   {
    "duration": 277,
    "start_time": "2023-06-07T09:30:19.081Z"
   },
   {
    "duration": 6,
    "start_time": "2023-06-07T09:32:57.904Z"
   },
   {
    "duration": 115,
    "start_time": "2023-06-07T09:32:57.912Z"
   },
   {
    "duration": 17,
    "start_time": "2023-06-07T09:32:58.031Z"
   },
   {
    "duration": 5,
    "start_time": "2023-06-07T09:32:58.051Z"
   },
   {
    "duration": 497,
    "start_time": "2023-06-07T09:32:58.059Z"
   },
   {
    "duration": 34,
    "start_time": "2023-06-07T09:32:58.561Z"
   },
   {
    "duration": 7,
    "start_time": "2023-06-07T09:32:58.598Z"
   },
   {
    "duration": 892,
    "start_time": "2023-06-07T09:32:58.625Z"
   },
   {
    "duration": 22,
    "start_time": "2023-06-07T09:33:01.564Z"
   },
   {
    "duration": 66,
    "start_time": "2023-06-07T09:39:46.423Z"
   },
   {
    "duration": 7,
    "start_time": "2023-06-07T11:11:40.819Z"
   },
   {
    "duration": 8,
    "start_time": "2023-06-07T11:12:10.571Z"
   },
   {
    "duration": 7,
    "start_time": "2023-06-07T11:12:17.263Z"
   },
   {
    "duration": 6,
    "start_time": "2023-06-07T11:12:28.784Z"
   },
   {
    "duration": 6,
    "start_time": "2023-06-07T11:12:32.708Z"
   },
   {
    "duration": 5,
    "start_time": "2023-06-07T11:18:09.014Z"
   },
   {
    "duration": 15,
    "start_time": "2023-06-07T11:18:18.054Z"
   },
   {
    "duration": 20,
    "start_time": "2023-06-07T11:31:29.678Z"
   },
   {
    "duration": 28,
    "start_time": "2023-06-07T11:31:47.140Z"
   },
   {
    "duration": 5,
    "start_time": "2023-06-07T11:35:00.367Z"
   },
   {
    "duration": 208,
    "start_time": "2023-06-07T11:37:32.006Z"
   },
   {
    "duration": 57,
    "start_time": "2023-06-07T11:44:23.356Z"
   },
   {
    "duration": 255,
    "start_time": "2023-06-07T11:44:40.500Z"
   },
   {
    "duration": 4,
    "start_time": "2023-06-07T11:45:22.188Z"
   },
   {
    "duration": 102,
    "start_time": "2023-06-07T11:45:22.194Z"
   },
   {
    "duration": 13,
    "start_time": "2023-06-07T11:45:22.299Z"
   },
   {
    "duration": 8,
    "start_time": "2023-06-07T11:45:22.314Z"
   },
   {
    "duration": 450,
    "start_time": "2023-06-07T11:45:22.325Z"
   },
   {
    "duration": 22,
    "start_time": "2023-06-07T11:45:22.777Z"
   },
   {
    "duration": 5,
    "start_time": "2023-06-07T11:45:22.800Z"
   },
   {
    "duration": 820,
    "start_time": "2023-06-07T11:45:22.825Z"
   },
   {
    "duration": 32,
    "start_time": "2023-06-07T11:45:23.648Z"
   },
   {
    "duration": 6,
    "start_time": "2023-06-07T11:45:23.682Z"
   },
   {
    "duration": 36,
    "start_time": "2023-06-07T11:45:23.690Z"
   },
   {
    "duration": 22,
    "start_time": "2023-06-07T11:45:26.207Z"
   },
   {
    "duration": 634,
    "start_time": "2023-06-07T11:46:40.067Z"
   },
   {
    "duration": 5,
    "start_time": "2023-06-07T11:46:44.193Z"
   },
   {
    "duration": 81,
    "start_time": "2023-06-07T11:46:44.201Z"
   },
   {
    "duration": 105,
    "start_time": "2023-06-07T11:46:44.284Z"
   },
   {
    "duration": 5,
    "start_time": "2023-06-07T11:46:44.391Z"
   },
   {
    "duration": 447,
    "start_time": "2023-06-07T11:46:44.398Z"
   },
   {
    "duration": 21,
    "start_time": "2023-06-07T11:46:44.847Z"
   },
   {
    "duration": 4,
    "start_time": "2023-06-07T11:46:44.870Z"
   },
   {
    "duration": 833,
    "start_time": "2023-06-07T11:46:44.876Z"
   },
   {
    "duration": 39,
    "start_time": "2023-06-07T11:46:45.711Z"
   },
   {
    "duration": 5,
    "start_time": "2023-06-07T11:46:45.753Z"
   },
   {
    "duration": 7,
    "start_time": "2023-06-07T11:46:45.760Z"
   },
   {
    "duration": 17,
    "start_time": "2023-06-07T11:46:47.259Z"
   },
   {
    "duration": 5,
    "start_time": "2023-06-07T11:46:57.109Z"
   },
   {
    "duration": 78,
    "start_time": "2023-06-07T11:46:57.116Z"
   },
   {
    "duration": 11,
    "start_time": "2023-06-07T11:46:57.196Z"
   },
   {
    "duration": 4,
    "start_time": "2023-06-07T11:46:57.209Z"
   },
   {
    "duration": 467,
    "start_time": "2023-06-07T11:46:57.215Z"
   },
   {
    "duration": 25,
    "start_time": "2023-06-07T11:46:57.684Z"
   },
   {
    "duration": 7,
    "start_time": "2023-06-07T11:46:57.739Z"
   },
   {
    "duration": 947,
    "start_time": "2023-06-07T11:46:57.748Z"
   },
   {
    "duration": 43,
    "start_time": "2023-06-07T11:46:58.698Z"
   },
   {
    "duration": 7,
    "start_time": "2023-06-07T11:46:58.742Z"
   },
   {
    "duration": 6,
    "start_time": "2023-06-07T11:46:58.751Z"
   },
   {
    "duration": 25,
    "start_time": "2023-06-07T11:46:58.759Z"
   },
   {
    "duration": 33,
    "start_time": "2023-06-07T11:47:14.339Z"
   },
   {
    "duration": 5,
    "start_time": "2023-06-07T11:48:17.308Z"
   },
   {
    "duration": 23,
    "start_time": "2023-06-07T11:48:23.620Z"
   },
   {
    "duration": 8,
    "start_time": "2023-06-07T11:48:28.737Z"
   },
   {
    "duration": 63,
    "start_time": "2023-06-07T11:48:28.748Z"
   },
   {
    "duration": 11,
    "start_time": "2023-06-07T11:48:28.813Z"
   },
   {
    "duration": 11,
    "start_time": "2023-06-07T11:48:28.827Z"
   },
   {
    "duration": 457,
    "start_time": "2023-06-07T11:48:28.842Z"
   },
   {
    "duration": 48,
    "start_time": "2023-06-07T11:48:29.301Z"
   },
   {
    "duration": 5,
    "start_time": "2023-06-07T11:48:29.352Z"
   },
   {
    "duration": 945,
    "start_time": "2023-06-07T11:48:29.359Z"
   },
   {
    "duration": 39,
    "start_time": "2023-06-07T11:48:30.306Z"
   },
   {
    "duration": 28,
    "start_time": "2023-06-07T11:48:30.347Z"
   },
   {
    "duration": 33,
    "start_time": "2023-06-07T11:48:30.377Z"
   },
   {
    "duration": 56,
    "start_time": "2023-06-07T11:48:30.412Z"
   },
   {
    "duration": 15,
    "start_time": "2023-06-07T11:53:12.953Z"
   },
   {
    "duration": 6,
    "start_time": "2023-06-07T11:53:18.968Z"
   },
   {
    "duration": 111,
    "start_time": "2023-06-07T11:53:18.976Z"
   },
   {
    "duration": 13,
    "start_time": "2023-06-07T11:53:19.089Z"
   },
   {
    "duration": 5,
    "start_time": "2023-06-07T11:53:19.104Z"
   },
   {
    "duration": 439,
    "start_time": "2023-06-07T11:53:19.111Z"
   },
   {
    "duration": 22,
    "start_time": "2023-06-07T11:53:19.552Z"
   },
   {
    "duration": 5,
    "start_time": "2023-06-07T11:53:19.576Z"
   },
   {
    "duration": 1058,
    "start_time": "2023-06-07T11:53:19.582Z"
   },
   {
    "duration": 22,
    "start_time": "2023-06-07T11:53:20.643Z"
   },
   {
    "duration": 7,
    "start_time": "2023-06-07T11:53:20.667Z"
   },
   {
    "duration": 24,
    "start_time": "2023-06-07T11:53:20.675Z"
   },
   {
    "duration": 53,
    "start_time": "2023-06-07T11:53:20.701Z"
   },
   {
    "duration": 15,
    "start_time": "2023-06-07T11:57:21.553Z"
   },
   {
    "duration": 6,
    "start_time": "2023-06-07T11:57:32.666Z"
   },
   {
    "duration": 81,
    "start_time": "2023-06-07T11:57:32.682Z"
   },
   {
    "duration": 12,
    "start_time": "2023-06-07T11:57:32.785Z"
   },
   {
    "duration": 5,
    "start_time": "2023-06-07T11:57:32.799Z"
   },
   {
    "duration": 463,
    "start_time": "2023-06-07T11:57:32.806Z"
   },
   {
    "duration": 24,
    "start_time": "2023-06-07T11:57:33.272Z"
   },
   {
    "duration": 5,
    "start_time": "2023-06-07T11:57:33.298Z"
   },
   {
    "duration": 864,
    "start_time": "2023-06-07T11:57:33.327Z"
   },
   {
    "duration": 47,
    "start_time": "2023-06-07T11:57:34.192Z"
   },
   {
    "duration": 7,
    "start_time": "2023-06-07T11:57:34.241Z"
   },
   {
    "duration": 24,
    "start_time": "2023-06-07T11:57:34.251Z"
   },
   {
    "duration": 55,
    "start_time": "2023-06-07T11:57:34.278Z"
   },
   {
    "duration": 14,
    "start_time": "2023-06-07T11:59:44.510Z"
   },
   {
    "duration": 9,
    "start_time": "2023-06-07T11:59:47.938Z"
   },
   {
    "duration": 62,
    "start_time": "2023-06-07T11:59:47.954Z"
   },
   {
    "duration": 21,
    "start_time": "2023-06-07T11:59:48.018Z"
   },
   {
    "duration": 7,
    "start_time": "2023-06-07T11:59:48.045Z"
   },
   {
    "duration": 491,
    "start_time": "2023-06-07T11:59:48.056Z"
   },
   {
    "duration": 25,
    "start_time": "2023-06-07T11:59:48.550Z"
   },
   {
    "duration": 5,
    "start_time": "2023-06-07T11:59:48.577Z"
   },
   {
    "duration": 1111,
    "start_time": "2023-06-07T11:59:48.584Z"
   },
   {
    "duration": 54,
    "start_time": "2023-06-07T11:59:49.698Z"
   },
   {
    "duration": 12,
    "start_time": "2023-06-07T11:59:49.755Z"
   },
   {
    "duration": 20,
    "start_time": "2023-06-07T11:59:49.770Z"
   },
   {
    "duration": 69,
    "start_time": "2023-06-07T11:59:49.792Z"
   },
   {
    "duration": 7,
    "start_time": "2023-06-07T12:06:24.854Z"
   },
   {
    "duration": 5,
    "start_time": "2023-06-07T12:06:51.669Z"
   },
   {
    "duration": 89,
    "start_time": "2023-06-07T12:06:51.690Z"
   },
   {
    "duration": 14,
    "start_time": "2023-06-07T12:06:51.782Z"
   },
   {
    "duration": 5,
    "start_time": "2023-06-07T12:06:51.798Z"
   },
   {
    "duration": 519,
    "start_time": "2023-06-07T12:06:51.805Z"
   },
   {
    "duration": 37,
    "start_time": "2023-06-07T12:06:52.330Z"
   },
   {
    "duration": 21,
    "start_time": "2023-06-07T12:06:52.369Z"
   },
   {
    "duration": 999,
    "start_time": "2023-06-07T12:06:52.391Z"
   },
   {
    "duration": 59,
    "start_time": "2023-06-07T12:06:53.393Z"
   },
   {
    "duration": 13,
    "start_time": "2023-06-07T12:06:53.460Z"
   },
   {
    "duration": 20,
    "start_time": "2023-06-07T12:06:53.476Z"
   },
   {
    "duration": 13,
    "start_time": "2023-06-07T12:06:53.499Z"
   },
   {
    "duration": 50,
    "start_time": "2023-06-07T12:06:53.514Z"
   },
   {
    "duration": 4,
    "start_time": "2023-06-07T12:10:48.243Z"
   },
   {
    "duration": 87,
    "start_time": "2023-06-07T12:10:48.250Z"
   },
   {
    "duration": 12,
    "start_time": "2023-06-07T12:10:48.343Z"
   },
   {
    "duration": 5,
    "start_time": "2023-06-07T12:10:48.357Z"
   },
   {
    "duration": 27,
    "start_time": "2023-06-07T12:15:28.950Z"
   },
   {
    "duration": 6,
    "start_time": "2023-06-07T12:15:28.979Z"
   },
   {
    "duration": 1016,
    "start_time": "2023-06-07T12:15:28.987Z"
   },
   {
    "duration": 49,
    "start_time": "2023-06-07T12:15:30.005Z"
   },
   {
    "duration": 9,
    "start_time": "2023-06-07T12:15:30.058Z"
   },
   {
    "duration": 41,
    "start_time": "2023-06-07T12:15:30.070Z"
   },
   {
    "duration": 54,
    "start_time": "2023-06-07T12:15:30.113Z"
   },
   {
    "duration": 114,
    "start_time": "2023-06-07T12:15:30.170Z"
   },
   {
    "duration": 7,
    "start_time": "2023-06-07T12:15:30.287Z"
   },
   {
    "duration": 362697,
    "start_time": "2023-06-07T12:15:30.296Z"
   },
   {
    "duration": 6,
    "start_time": "2023-06-07T12:43:01.465Z"
   },
   {
    "duration": 6,
    "start_time": "2023-06-07T12:55:07.967Z"
   },
   {
    "duration": 5,
    "start_time": "2023-06-07T12:55:15.514Z"
   },
   {
    "duration": 66,
    "start_time": "2023-06-07T12:55:15.522Z"
   },
   {
    "duration": 11,
    "start_time": "2023-06-07T12:55:15.590Z"
   },
   {
    "duration": 10,
    "start_time": "2023-06-07T12:55:15.603Z"
   },
   {
    "duration": 1729,
    "start_time": "2023-06-07T12:56:48.913Z"
   },
   {
    "duration": 75,
    "start_time": "2023-06-07T12:56:50.645Z"
   },
   {
    "duration": 21,
    "start_time": "2023-06-07T12:56:50.722Z"
   },
   {
    "duration": 8,
    "start_time": "2023-06-07T12:56:50.745Z"
   },
   {
    "duration": 595,
    "start_time": "2023-06-07T12:56:50.755Z"
   },
   {
    "duration": 181,
    "start_time": "2023-06-07T12:56:51.352Z"
   },
   {
    "duration": 0,
    "start_time": "2023-06-07T12:56:51.535Z"
   },
   {
    "duration": 0,
    "start_time": "2023-06-07T12:56:51.535Z"
   },
   {
    "duration": 0,
    "start_time": "2023-06-07T12:56:51.536Z"
   },
   {
    "duration": 0,
    "start_time": "2023-06-07T12:56:51.537Z"
   },
   {
    "duration": 0,
    "start_time": "2023-06-07T12:56:51.537Z"
   },
   {
    "duration": 0,
    "start_time": "2023-06-07T12:56:51.539Z"
   },
   {
    "duration": 0,
    "start_time": "2023-06-07T12:56:51.540Z"
   },
   {
    "duration": 26,
    "start_time": "2023-06-07T12:57:46.041Z"
   },
   {
    "duration": 5,
    "start_time": "2023-06-07T12:58:04.203Z"
   },
   {
    "duration": 81,
    "start_time": "2023-06-07T12:58:04.210Z"
   },
   {
    "duration": 13,
    "start_time": "2023-06-07T12:58:04.293Z"
   },
   {
    "duration": 95,
    "start_time": "2023-06-07T12:58:04.308Z"
   },
   {
    "duration": 583,
    "start_time": "2023-06-07T12:58:04.406Z"
   },
   {
    "duration": 41,
    "start_time": "2023-06-07T12:58:04.991Z"
   },
   {
    "duration": 8,
    "start_time": "2023-06-07T12:58:05.042Z"
   },
   {
    "duration": 885,
    "start_time": "2023-06-07T12:58:05.052Z"
   },
   {
    "duration": 32,
    "start_time": "2023-06-07T12:58:05.939Z"
   },
   {
    "duration": 16,
    "start_time": "2023-06-07T12:58:05.974Z"
   },
   {
    "duration": 11,
    "start_time": "2023-06-07T12:58:05.992Z"
   },
   {
    "duration": 31,
    "start_time": "2023-06-07T12:58:06.005Z"
   },
   {
    "duration": 31,
    "start_time": "2023-06-07T12:58:06.039Z"
   },
   {
    "duration": 219,
    "start_time": "2023-06-07T12:58:56.649Z"
   },
   {
    "duration": 6,
    "start_time": "2023-06-07T12:59:00.093Z"
   },
   {
    "duration": 98,
    "start_time": "2023-06-07T12:59:00.102Z"
   },
   {
    "duration": 11,
    "start_time": "2023-06-07T12:59:00.202Z"
   },
   {
    "duration": 29,
    "start_time": "2023-06-07T12:59:00.215Z"
   },
   {
    "duration": 562,
    "start_time": "2023-06-07T12:59:00.247Z"
   },
   {
    "duration": 47,
    "start_time": "2023-06-07T12:59:00.811Z"
   },
   {
    "duration": 17,
    "start_time": "2023-06-07T12:59:00.860Z"
   },
   {
    "duration": 886,
    "start_time": "2023-06-07T12:59:00.879Z"
   },
   {
    "duration": 34,
    "start_time": "2023-06-07T12:59:01.767Z"
   },
   {
    "duration": 32,
    "start_time": "2023-06-07T12:59:01.803Z"
   },
   {
    "duration": 32,
    "start_time": "2023-06-07T12:59:01.841Z"
   },
   {
    "duration": 68,
    "start_time": "2023-06-07T12:59:01.876Z"
   },
   {
    "duration": 73,
    "start_time": "2023-06-07T12:59:01.947Z"
   },
   {
    "duration": 4,
    "start_time": "2023-06-07T13:07:21.713Z"
   },
   {
    "duration": 5,
    "start_time": "2023-06-07T13:10:39.513Z"
   },
   {
    "duration": 57,
    "start_time": "2023-06-07T13:11:23.298Z"
   },
   {
    "duration": 14,
    "start_time": "2023-06-07T13:29:45.253Z"
   },
   {
    "duration": 9,
    "start_time": "2023-06-07T13:40:12.343Z"
   },
   {
    "duration": 13,
    "start_time": "2023-06-07T13:40:28.096Z"
   },
   {
    "duration": 75,
    "start_time": "2023-06-07T13:41:47.517Z"
   },
   {
    "duration": 12,
    "start_time": "2023-06-07T14:45:24.967Z"
   },
   {
    "duration": 8,
    "start_time": "2023-06-07T14:45:26.780Z"
   },
   {
    "duration": 115,
    "start_time": "2023-06-07T14:57:42.452Z"
   },
   {
    "duration": 1710,
    "start_time": "2023-06-07T14:57:46.255Z"
   },
   {
    "duration": 82,
    "start_time": "2023-06-07T14:57:47.968Z"
   },
   {
    "duration": 12,
    "start_time": "2023-06-07T14:57:48.059Z"
   },
   {
    "duration": 6,
    "start_time": "2023-06-07T14:57:48.074Z"
   },
   {
    "duration": 686,
    "start_time": "2023-06-07T14:57:48.082Z"
   },
   {
    "duration": 27,
    "start_time": "2023-06-07T14:57:48.770Z"
   },
   {
    "duration": 35,
    "start_time": "2023-06-07T14:57:48.799Z"
   },
   {
    "duration": 931,
    "start_time": "2023-06-07T14:57:48.836Z"
   },
   {
    "duration": 33,
    "start_time": "2023-06-07T14:57:49.769Z"
   },
   {
    "duration": 31,
    "start_time": "2023-06-07T14:57:49.805Z"
   },
   {
    "duration": 8,
    "start_time": "2023-06-07T14:57:49.839Z"
   },
   {
    "duration": 16,
    "start_time": "2023-06-07T14:57:49.849Z"
   },
   {
    "duration": 64,
    "start_time": "2023-06-07T14:57:49.871Z"
   },
   {
    "duration": 6,
    "start_time": "2023-06-07T14:57:49.937Z"
   },
   {
    "duration": 25,
    "start_time": "2023-06-07T14:57:49.949Z"
   },
   {
    "duration": 16,
    "start_time": "2023-06-07T14:57:49.977Z"
   },
   {
    "duration": 367055,
    "start_time": "2023-06-07T14:57:49.995Z"
   },
   {
    "duration": 11,
    "start_time": "2023-06-07T15:07:45.362Z"
   },
   {
    "duration": 61477,
    "start_time": "2023-06-07T15:07:49.398Z"
   },
   {
    "duration": 61331,
    "start_time": "2023-06-07T15:10:32.715Z"
   },
   {
    "duration": 66002,
    "start_time": "2023-06-07T15:12:27.986Z"
   },
   {
    "duration": 10,
    "start_time": "2023-06-07T15:19:25.856Z"
   },
   {
    "duration": 1760,
    "start_time": "2023-06-07T15:20:12.547Z"
   },
   {
    "duration": 80,
    "start_time": "2023-06-07T15:20:14.310Z"
   },
   {
    "duration": 15,
    "start_time": "2023-06-07T15:20:14.391Z"
   },
   {
    "duration": 5,
    "start_time": "2023-06-07T15:20:14.408Z"
   },
   {
    "duration": 591,
    "start_time": "2023-06-07T15:20:14.417Z"
   },
   {
    "duration": 59,
    "start_time": "2023-06-07T15:20:15.010Z"
   },
   {
    "duration": 59,
    "start_time": "2023-06-07T15:20:15.072Z"
   },
   {
    "duration": 848,
    "start_time": "2023-06-07T15:20:15.134Z"
   },
   {
    "duration": 26,
    "start_time": "2023-06-07T15:20:15.984Z"
   },
   {
    "duration": 14,
    "start_time": "2023-06-07T15:20:16.031Z"
   },
   {
    "duration": 12,
    "start_time": "2023-06-07T15:20:16.050Z"
   },
   {
    "duration": 14,
    "start_time": "2023-06-07T15:20:16.064Z"
   },
   {
    "duration": 67,
    "start_time": "2023-06-07T15:20:16.079Z"
   },
   {
    "duration": 7,
    "start_time": "2023-06-07T15:20:16.150Z"
   },
   {
    "duration": 30,
    "start_time": "2023-06-07T15:20:16.159Z"
   },
   {
    "duration": 14,
    "start_time": "2023-06-07T15:20:16.192Z"
   },
   {
    "duration": 65593,
    "start_time": "2023-06-07T15:20:16.209Z"
   },
   {
    "duration": 96,
    "start_time": "2023-06-07T15:26:34.786Z"
   },
   {
    "duration": 75,
    "start_time": "2023-06-07T15:26:58.006Z"
   },
   {
    "duration": 20,
    "start_time": "2023-06-07T15:27:21.452Z"
   },
   {
    "duration": 1754,
    "start_time": "2023-06-07T15:27:53.747Z"
   },
   {
    "duration": 110,
    "start_time": "2023-06-07T15:27:55.504Z"
   },
   {
    "duration": 20,
    "start_time": "2023-06-07T15:27:55.617Z"
   },
   {
    "duration": 16,
    "start_time": "2023-06-07T15:27:55.640Z"
   },
   {
    "duration": 801,
    "start_time": "2023-06-07T15:27:55.664Z"
   },
   {
    "duration": 38,
    "start_time": "2023-06-07T15:27:56.469Z"
   },
   {
    "duration": 38,
    "start_time": "2023-06-07T15:27:56.508Z"
   },
   {
    "duration": 983,
    "start_time": "2023-06-07T15:27:56.557Z"
   },
   {
    "duration": 32,
    "start_time": "2023-06-07T15:27:57.542Z"
   },
   {
    "duration": 8,
    "start_time": "2023-06-07T15:27:57.577Z"
   },
   {
    "duration": 38,
    "start_time": "2023-06-07T15:27:57.587Z"
   },
   {
    "duration": 11,
    "start_time": "2023-06-07T15:27:57.628Z"
   },
   {
    "duration": 43,
    "start_time": "2023-06-07T15:27:57.642Z"
   },
   {
    "duration": 37,
    "start_time": "2023-06-07T15:27:57.692Z"
   },
   {
    "duration": 40,
    "start_time": "2023-06-07T15:27:57.733Z"
   },
   {
    "duration": 15,
    "start_time": "2023-06-07T15:27:57.777Z"
   },
   {
    "duration": 66111,
    "start_time": "2023-06-07T15:27:57.794Z"
   },
   {
    "duration": 8,
    "start_time": "2023-06-07T15:29:03.908Z"
   },
   {
    "duration": 13,
    "start_time": "2023-06-07T15:29:13.222Z"
   },
   {
    "duration": 65689,
    "start_time": "2023-06-07T15:29:15.224Z"
   },
   {
    "duration": 26,
    "start_time": "2023-06-07T15:30:20.916Z"
   },
   {
    "duration": 11,
    "start_time": "2023-06-07T15:31:26.691Z"
   },
   {
    "duration": 66416,
    "start_time": "2023-06-07T15:31:29.087Z"
   },
   {
    "duration": 22,
    "start_time": "2023-06-07T15:43:59.915Z"
   },
   {
    "duration": 75145,
    "start_time": "2023-06-07T15:44:01.646Z"
   },
   {
    "duration": 58,
    "start_time": "2023-06-07T15:51:50.763Z"
   },
   {
    "duration": 8,
    "start_time": "2023-06-07T15:53:32.214Z"
   },
   {
    "duration": 8,
    "start_time": "2023-06-07T15:54:56.881Z"
   },
   {
    "duration": 8,
    "start_time": "2023-06-07T15:55:04.075Z"
   },
   {
    "duration": 1521,
    "start_time": "2023-06-07T16:00:42.945Z"
   },
   {
    "duration": 83,
    "start_time": "2023-06-07T16:00:44.468Z"
   },
   {
    "duration": 12,
    "start_time": "2023-06-07T16:00:44.553Z"
   },
   {
    "duration": 6,
    "start_time": "2023-06-07T16:00:44.567Z"
   },
   {
    "duration": 630,
    "start_time": "2023-06-07T16:00:44.576Z"
   },
   {
    "duration": 39,
    "start_time": "2023-06-07T16:00:45.207Z"
   },
   {
    "duration": 23,
    "start_time": "2023-06-07T16:00:45.248Z"
   },
   {
    "duration": 838,
    "start_time": "2023-06-07T16:00:45.274Z"
   },
   {
    "duration": 30,
    "start_time": "2023-06-07T16:00:46.124Z"
   },
   {
    "duration": 7,
    "start_time": "2023-06-07T16:00:46.157Z"
   },
   {
    "duration": 5,
    "start_time": "2023-06-07T16:00:46.167Z"
   },
   {
    "duration": 9,
    "start_time": "2023-06-07T16:00:46.174Z"
   },
   {
    "duration": 68,
    "start_time": "2023-06-07T16:00:46.185Z"
   },
   {
    "duration": 5,
    "start_time": "2023-06-07T16:00:46.255Z"
   },
   {
    "duration": 15,
    "start_time": "2023-06-07T16:00:46.262Z"
   },
   {
    "duration": 19,
    "start_time": "2023-06-07T16:00:46.279Z"
   },
   {
    "duration": 60645,
    "start_time": "2023-06-07T16:00:46.300Z"
   },
   {
    "duration": 8,
    "start_time": "2023-06-07T16:01:46.948Z"
   },
   {
    "duration": 261849,
    "start_time": "2023-06-07T16:01:46.958Z"
   },
   {
    "duration": 15,
    "start_time": "2023-06-07T16:10:00.218Z"
   },
   {
    "duration": 153452,
    "start_time": "2023-06-07T16:10:04.999Z"
   },
   {
    "duration": 4,
    "start_time": "2023-06-07T16:13:37.747Z"
   },
   {
    "duration": 11,
    "start_time": "2023-06-07T16:26:52.812Z"
   },
   {
    "duration": 154532,
    "start_time": "2023-06-07T16:27:08.042Z"
   },
   {
    "duration": 12,
    "start_time": "2023-06-07T16:29:48.780Z"
   },
   {
    "duration": 1701,
    "start_time": "2023-06-07T16:31:58.254Z"
   },
   {
    "duration": 88,
    "start_time": "2023-06-07T16:31:59.962Z"
   },
   {
    "duration": 17,
    "start_time": "2023-06-07T16:32:00.052Z"
   },
   {
    "duration": 42,
    "start_time": "2023-06-07T16:32:00.072Z"
   },
   {
    "duration": 772,
    "start_time": "2023-06-07T16:32:00.117Z"
   },
   {
    "duration": 59,
    "start_time": "2023-06-07T16:32:00.891Z"
   },
   {
    "duration": 7,
    "start_time": "2023-06-07T16:32:00.953Z"
   },
   {
    "duration": 969,
    "start_time": "2023-06-07T16:32:00.963Z"
   },
   {
    "duration": 34,
    "start_time": "2023-06-07T16:32:01.935Z"
   },
   {
    "duration": 66,
    "start_time": "2023-06-07T16:32:01.971Z"
   },
   {
    "duration": 86,
    "start_time": "2023-06-07T16:32:02.039Z"
   },
   {
    "duration": 16,
    "start_time": "2023-06-07T16:32:02.127Z"
   },
   {
    "duration": 42,
    "start_time": "2023-06-07T16:32:02.145Z"
   },
   {
    "duration": 5,
    "start_time": "2023-06-07T16:32:02.190Z"
   },
   {
    "duration": 18,
    "start_time": "2023-06-07T16:32:02.224Z"
   },
   {
    "duration": 37,
    "start_time": "2023-06-07T16:32:02.244Z"
   },
   {
    "duration": 60460,
    "start_time": "2023-06-07T16:32:02.283Z"
   },
   {
    "duration": 9,
    "start_time": "2023-06-07T16:33:02.745Z"
   },
   {
    "duration": 149107,
    "start_time": "2023-06-07T16:33:02.757Z"
   },
   {
    "duration": 8,
    "start_time": "2023-06-07T16:35:31.867Z"
   },
   {
    "duration": 116424,
    "start_time": "2023-06-07T16:35:31.878Z"
   },
   {
    "duration": 8,
    "start_time": "2023-06-07T16:37:47.739Z"
   },
   {
    "duration": 123253,
    "start_time": "2023-06-07T16:37:49.882Z"
   },
   {
    "duration": 11,
    "start_time": "2023-06-07T16:42:57.600Z"
   },
   {
    "duration": 139683,
    "start_time": "2023-06-07T16:43:01.654Z"
   },
   {
    "duration": 9,
    "start_time": "2023-06-07T16:46:26.148Z"
   },
   {
    "duration": 74409,
    "start_time": "2023-06-07T16:46:29.533Z"
   },
   {
    "duration": 10,
    "start_time": "2023-06-07T16:48:16.011Z"
   },
   {
    "duration": 75673,
    "start_time": "2023-06-07T16:48:20.861Z"
   },
   {
    "duration": 4,
    "start_time": "2023-06-07T16:52:31.445Z"
   },
   {
    "duration": 8,
    "start_time": "2023-06-07T16:59:35.185Z"
   },
   {
    "duration": 30231,
    "start_time": "2023-06-07T16:59:39.330Z"
   },
   {
    "duration": 35799,
    "start_time": "2023-06-08T06:33:19.094Z"
   },
   {
    "duration": 3,
    "start_time": "2023-06-08T06:44:27.546Z"
   },
   {
    "duration": 14,
    "start_time": "2023-06-08T07:30:33.168Z"
   },
   {
    "duration": 5,
    "start_time": "2023-06-08T07:30:41.838Z"
   },
   {
    "duration": 22613,
    "start_time": "2023-06-08T07:30:43.909Z"
   },
   {
    "duration": 10051,
    "start_time": "2023-06-08T07:31:27.231Z"
   },
   {
    "duration": 83131,
    "start_time": "2023-06-08T07:31:45.061Z"
   },
   {
    "duration": 1380927,
    "start_time": "2023-06-08T07:33:10.068Z"
   },
   {
    "duration": 7552,
    "start_time": "2023-06-08T08:00:27.286Z"
   },
   {
    "duration": 435271,
    "start_time": "2023-06-08T08:00:45.301Z"
   },
   {
    "duration": 904322,
    "start_time": "2023-06-08T08:08:20.743Z"
   },
   {
    "duration": 6,
    "start_time": "2023-06-08T08:23:25.068Z"
   },
   {
    "duration": 522917,
    "start_time": "2023-06-08T08:25:53.794Z"
   },
   {
    "duration": 12,
    "start_time": "2023-06-08T08:34:36.713Z"
   },
   {
    "duration": 12,
    "start_time": "2023-06-08T08:34:36.726Z"
   },
   {
    "duration": 6,
    "start_time": "2023-06-08T08:40:03.518Z"
   },
   {
    "duration": 6,
    "start_time": "2023-06-08T08:42:12.555Z"
   },
   {
    "duration": 33,
    "start_time": "2023-06-08T08:49:26.912Z"
   },
   {
    "duration": 51,
    "start_time": "2023-06-08T08:58:40.189Z"
   },
   {
    "duration": 31013,
    "start_time": "2023-06-08T09:00:23.242Z"
   },
   {
    "duration": 703508,
    "start_time": "2023-06-08T09:01:09.753Z"
   },
   {
    "duration": 877171,
    "start_time": "2023-06-08T09:14:46.165Z"
   },
   {
    "duration": 9,
    "start_time": "2023-06-08T09:40:32.834Z"
   },
   {
    "duration": 66653,
    "start_time": "2023-06-08T09:40:34.744Z"
   },
   {
    "duration": 740898,
    "start_time": "2023-06-08T09:42:18.052Z"
   },
   {
    "duration": 1193966,
    "start_time": "2023-06-08T09:54:59.405Z"
   },
   {
    "duration": 1696213,
    "start_time": "2023-06-08T10:42:06.107Z"
   },
   {
    "duration": 223781,
    "start_time": "2023-06-08T11:10:43.165Z"
   },
   {
    "duration": 1300386,
    "start_time": "2023-06-08T11:14:31.550Z"
   },
   {
    "duration": 0,
    "start_time": "2023-06-08T11:56:24.802Z"
   },
   {
    "duration": 4,
    "start_time": "2023-06-08T13:01:19.405Z"
   },
   {
    "duration": 57,
    "start_time": "2023-06-08T13:08:01.612Z"
   },
   {
    "duration": 1601,
    "start_time": "2023-06-08T13:21:18.569Z"
   },
   {
    "duration": 81,
    "start_time": "2023-06-08T13:21:20.172Z"
   },
   {
    "duration": 12,
    "start_time": "2023-06-08T13:21:20.255Z"
   },
   {
    "duration": 9,
    "start_time": "2023-06-08T13:21:20.269Z"
   },
   {
    "duration": 558,
    "start_time": "2023-06-08T13:21:20.280Z"
   },
   {
    "duration": 25,
    "start_time": "2023-06-08T13:21:20.840Z"
   },
   {
    "duration": 14,
    "start_time": "2023-06-08T13:21:20.867Z"
   },
   {
    "duration": 776,
    "start_time": "2023-06-08T13:21:20.883Z"
   },
   {
    "duration": 22,
    "start_time": "2023-06-08T13:21:21.661Z"
   },
   {
    "duration": 6,
    "start_time": "2023-06-08T13:21:21.686Z"
   },
   {
    "duration": 7,
    "start_time": "2023-06-08T13:21:21.694Z"
   },
   {
    "duration": 12,
    "start_time": "2023-06-08T13:21:21.726Z"
   },
   {
    "duration": 27,
    "start_time": "2023-06-08T13:21:21.740Z"
   },
   {
    "duration": 4,
    "start_time": "2023-06-08T13:21:21.768Z"
   },
   {
    "duration": 11,
    "start_time": "2023-06-08T13:21:21.774Z"
   },
   {
    "duration": 8,
    "start_time": "2023-06-08T13:21:21.787Z"
   },
   {
    "duration": 28558,
    "start_time": "2023-06-08T13:21:21.797Z"
   },
   {
    "duration": 10,
    "start_time": "2023-06-08T13:21:50.357Z"
   },
   {
    "duration": 147907,
    "start_time": "2023-06-08T13:21:50.369Z"
   },
   {
    "duration": 8,
    "start_time": "2023-06-08T13:24:18.278Z"
   },
   {
    "duration": 76646,
    "start_time": "2023-06-08T13:24:18.288Z"
   },
   {
    "duration": 30548,
    "start_time": "2023-06-08T13:25:34.941Z"
   },
   {
    "duration": 4,
    "start_time": "2023-06-08T13:26:05.491Z"
   },
   {
    "duration": 642590,
    "start_time": "2023-06-08T13:26:05.497Z"
   },
   {
    "duration": 6,
    "start_time": "2023-06-08T13:36:48.090Z"
   },
   {
    "duration": 33044,
    "start_time": "2023-06-08T13:36:48.099Z"
   },
   {
    "duration": 0,
    "start_time": "2023-06-08T13:37:21.145Z"
   },
   {
    "duration": 0,
    "start_time": "2023-06-08T13:37:21.147Z"
   },
   {
    "duration": 345480,
    "start_time": "2023-06-08T13:37:29.898Z"
   },
   {
    "duration": 53,
    "start_time": "2023-06-08T13:46:06.092Z"
   },
   {
    "duration": 194,
    "start_time": "2023-06-08T13:46:13.716Z"
   },
   {
    "duration": 51,
    "start_time": "2023-06-08T13:46:31.448Z"
   },
   {
    "duration": 37,
    "start_time": "2023-06-08T13:47:05.459Z"
   },
   {
    "duration": 187,
    "start_time": "2023-06-08T13:47:10.580Z"
   },
   {
    "duration": 3,
    "start_time": "2023-06-08T13:47:36.306Z"
   },
   {
    "duration": 5,
    "start_time": "2023-06-08T14:15:28.689Z"
   },
   {
    "duration": 80,
    "start_time": "2023-06-08T14:15:28.697Z"
   },
   {
    "duration": 12,
    "start_time": "2023-06-08T14:15:28.779Z"
   },
   {
    "duration": 5,
    "start_time": "2023-06-08T14:15:28.793Z"
   },
   {
    "duration": 715,
    "start_time": "2023-06-08T14:15:28.800Z"
   },
   {
    "duration": 46,
    "start_time": "2023-06-08T14:15:29.517Z"
   },
   {
    "duration": 13,
    "start_time": "2023-06-08T14:15:29.565Z"
   },
   {
    "duration": 877,
    "start_time": "2023-06-08T14:15:29.581Z"
   },
   {
    "duration": 23,
    "start_time": "2023-06-08T14:15:30.462Z"
   },
   {
    "duration": 22,
    "start_time": "2023-06-08T14:15:30.488Z"
   },
   {
    "duration": 35,
    "start_time": "2023-06-08T14:15:30.512Z"
   },
   {
    "duration": 57,
    "start_time": "2023-06-08T14:15:30.549Z"
   },
   {
    "duration": 70,
    "start_time": "2023-06-08T14:15:30.608Z"
   },
   {
    "duration": 21,
    "start_time": "2023-06-08T14:15:30.680Z"
   },
   {
    "duration": 83,
    "start_time": "2023-06-08T14:15:30.703Z"
   },
   {
    "duration": 66,
    "start_time": "2023-06-08T14:15:30.788Z"
   },
   {
    "duration": 29589,
    "start_time": "2023-06-08T14:15:30.856Z"
   },
   {
    "duration": 11,
    "start_time": "2023-06-08T14:16:00.453Z"
   },
   {
    "duration": 163325,
    "start_time": "2023-06-08T14:16:00.466Z"
   },
   {
    "duration": 8,
    "start_time": "2023-06-08T14:18:43.793Z"
   },
   {
    "duration": 155831,
    "start_time": "2023-06-08T14:18:43.802Z"
   },
   {
    "duration": 31790,
    "start_time": "2023-06-08T14:21:19.646Z"
   },
   {
    "duration": 8,
    "start_time": "2023-06-08T14:21:51.442Z"
   },
   {
    "duration": 752291,
    "start_time": "2023-06-08T14:21:51.452Z"
   },
   {
    "duration": 8,
    "start_time": "2023-06-08T14:34:23.745Z"
   },
   {
    "duration": 376882,
    "start_time": "2023-06-08T14:34:23.755Z"
   },
   {
    "duration": 40,
    "start_time": "2023-06-08T14:40:40.639Z"
   },
   {
    "duration": 217,
    "start_time": "2023-06-08T14:40:40.683Z"
   },
   {
    "duration": 1940,
    "start_time": "2023-06-08T15:01:47.204Z"
   },
   {
    "duration": 110,
    "start_time": "2023-06-08T15:01:49.146Z"
   },
   {
    "duration": 12,
    "start_time": "2023-06-08T15:01:49.257Z"
   },
   {
    "duration": 5,
    "start_time": "2023-06-08T15:01:49.271Z"
   },
   {
    "duration": 523,
    "start_time": "2023-06-08T15:01:49.277Z"
   },
   {
    "duration": 25,
    "start_time": "2023-06-08T15:01:49.801Z"
   },
   {
    "duration": 5,
    "start_time": "2023-06-08T15:01:49.828Z"
   },
   {
    "duration": 717,
    "start_time": "2023-06-08T15:01:49.834Z"
   },
   {
    "duration": 24,
    "start_time": "2023-06-08T15:01:50.553Z"
   },
   {
    "duration": 5,
    "start_time": "2023-06-08T15:01:50.580Z"
   },
   {
    "duration": 7,
    "start_time": "2023-06-08T15:01:50.587Z"
   },
   {
    "duration": 12,
    "start_time": "2023-06-08T15:01:50.596Z"
   },
   {
    "duration": 26,
    "start_time": "2023-06-08T15:01:50.610Z"
   },
   {
    "duration": 3,
    "start_time": "2023-06-08T15:01:50.638Z"
   },
   {
    "duration": 35,
    "start_time": "2023-06-08T15:01:50.643Z"
   },
   {
    "duration": 8,
    "start_time": "2023-06-08T15:01:50.680Z"
   },
   {
    "duration": 24757,
    "start_time": "2023-06-08T15:01:50.690Z"
   },
   {
    "duration": 8,
    "start_time": "2023-06-08T15:02:15.449Z"
   },
   {
    "duration": 132399,
    "start_time": "2023-06-08T15:02:15.459Z"
   },
   {
    "duration": 18,
    "start_time": "2023-06-08T15:04:27.860Z"
   },
   {
    "duration": 80908,
    "start_time": "2023-06-08T15:04:27.880Z"
   },
   {
    "duration": 26536,
    "start_time": "2023-06-08T15:05:48.791Z"
   },
   {
    "duration": 4,
    "start_time": "2023-06-08T15:06:15.329Z"
   },
   {
    "duration": 600797,
    "start_time": "2023-06-08T15:06:15.334Z"
   },
   {
    "duration": 6,
    "start_time": "2023-06-08T15:16:16.134Z"
   },
   {
    "duration": 312796,
    "start_time": "2023-06-08T15:16:16.142Z"
   },
   {
    "duration": 49,
    "start_time": "2023-06-08T15:21:28.939Z"
   },
   {
    "duration": 157,
    "start_time": "2023-06-08T15:21:28.992Z"
   },
   {
    "duration": 2413,
    "start_time": "2023-06-08T16:21:48.013Z"
   },
   {
    "duration": 4,
    "start_time": "2023-06-08T16:23:41.963Z"
   },
   {
    "duration": 389,
    "start_time": "2023-06-08T16:24:26.272Z"
   },
   {
    "duration": 3,
    "start_time": "2023-06-08T18:42:23.257Z"
   },
   {
    "duration": 262,
    "start_time": "2023-06-08T18:42:23.262Z"
   },
   {
    "duration": 17,
    "start_time": "2023-06-08T18:42:23.526Z"
   },
   {
    "duration": 25,
    "start_time": "2023-06-08T18:42:23.545Z"
   },
   {
    "duration": 658,
    "start_time": "2023-06-08T18:42:25.799Z"
   },
   {
    "duration": 6,
    "start_time": "2023-06-08T18:46:10.750Z"
   },
   {
    "duration": 6,
    "start_time": "2023-06-08T18:46:12.664Z"
   },
   {
    "duration": 153,
    "start_time": "2023-06-08T18:47:56.115Z"
   },
   {
    "duration": 6,
    "start_time": "2023-06-08T18:48:09.550Z"
   },
   {
    "duration": 5,
    "start_time": "2023-06-08T18:49:20.955Z"
   },
   {
    "duration": 180,
    "start_time": "2023-06-08T18:49:20.962Z"
   },
   {
    "duration": 15,
    "start_time": "2023-06-08T18:49:21.145Z"
   },
   {
    "duration": 6,
    "start_time": "2023-06-08T18:49:21.162Z"
   },
   {
    "duration": 12,
    "start_time": "2023-06-08T18:49:23.620Z"
   },
   {
    "duration": 8,
    "start_time": "2023-06-08T18:49:25.555Z"
   },
   {
    "duration": 675,
    "start_time": "2023-06-08T18:49:26.683Z"
   },
   {
    "duration": 9,
    "start_time": "2023-06-08T18:49:54.336Z"
   },
   {
    "duration": 14,
    "start_time": "2023-06-08T18:50:01.012Z"
   },
   {
    "duration": 6,
    "start_time": "2023-06-08T18:50:02.719Z"
   },
   {
    "duration": 699,
    "start_time": "2023-06-08T18:50:03.608Z"
   },
   {
    "duration": 7,
    "start_time": "2023-06-08T18:53:09.827Z"
   },
   {
    "duration": 655,
    "start_time": "2023-06-08T18:53:12.275Z"
   },
   {
    "duration": 3,
    "start_time": "2023-06-08T18:56:28.104Z"
   },
   {
    "duration": 11,
    "start_time": "2023-06-08T18:58:48.382Z"
   },
   {
    "duration": 4,
    "start_time": "2023-06-08T19:03:34.922Z"
   },
   {
    "duration": 120,
    "start_time": "2023-06-08T19:03:34.928Z"
   },
   {
    "duration": 24,
    "start_time": "2023-06-08T19:03:35.050Z"
   },
   {
    "duration": 104,
    "start_time": "2023-06-08T19:03:35.076Z"
   },
   {
    "duration": 62,
    "start_time": "2023-06-08T19:03:35.182Z"
   },
   {
    "duration": 36,
    "start_time": "2023-06-08T19:03:35.245Z"
   },
   {
    "duration": 908,
    "start_time": "2023-06-08T19:03:35.283Z"
   },
   {
    "duration": 15,
    "start_time": "2023-06-08T19:03:36.195Z"
   },
   {
    "duration": 724,
    "start_time": "2023-06-08T19:03:36.217Z"
   },
   {
    "duration": 29,
    "start_time": "2023-06-08T19:03:36.946Z"
   },
   {
    "duration": 164,
    "start_time": "2023-06-08T19:03:36.981Z"
   },
   {
    "duration": 34,
    "start_time": "2023-06-08T19:03:37.151Z"
   },
   {
    "duration": 110,
    "start_time": "2023-06-08T19:03:37.191Z"
   },
   {
    "duration": 144,
    "start_time": "2023-06-08T19:03:37.310Z"
   },
   {
    "duration": 213,
    "start_time": "2023-06-08T19:03:40.151Z"
   },
   {
    "duration": 122,
    "start_time": "2023-06-08T19:08:10.948Z"
   },
   {
    "duration": 102,
    "start_time": "2023-06-08T19:08:39.169Z"
   },
   {
    "duration": 233,
    "start_time": "2023-06-08T19:10:31.599Z"
   },
   {
    "duration": 66,
    "start_time": "2023-06-08T19:13:14.009Z"
   },
   {
    "duration": 217,
    "start_time": "2023-06-08T19:29:47.823Z"
   },
   {
    "duration": 26,
    "start_time": "2023-06-08T19:30:15.183Z"
   },
   {
    "duration": 281,
    "start_time": "2023-06-08T19:30:22.047Z"
   },
   {
    "duration": 30,
    "start_time": "2023-06-08T19:30:39.004Z"
   },
   {
    "duration": 10666,
    "start_time": "2023-06-08T19:30:41.964Z"
   },
   {
    "duration": 31,
    "start_time": "2023-06-08T19:31:57.583Z"
   },
   {
    "duration": 35268,
    "start_time": "2023-06-08T19:32:00.800Z"
   },
   {
    "duration": 10,
    "start_time": "2023-06-08T19:36:06.363Z"
   },
   {
    "duration": 167,
    "start_time": "2023-06-08T19:36:12.603Z"
   },
   {
    "duration": 9,
    "start_time": "2023-06-08T19:36:34.967Z"
   },
   {
    "duration": 178705,
    "start_time": "2023-06-08T19:36:37.523Z"
   },
   {
    "duration": 16,
    "start_time": "2023-06-08T19:45:53.215Z"
   },
   {
    "duration": 75403,
    "start_time": "2023-06-08T19:45:55.011Z"
   },
   {
    "duration": 8,
    "start_time": "2023-06-08T19:50:58.742Z"
   },
   {
    "duration": 197755,
    "start_time": "2023-06-08T19:51:00.451Z"
   },
   {
    "duration": 163,
    "start_time": "2023-06-08T19:54:18.207Z"
   },
   {
    "duration": 0,
    "start_time": "2023-06-08T19:54:18.372Z"
   },
   {
    "duration": 0,
    "start_time": "2023-06-08T19:54:18.373Z"
   },
   {
    "duration": 33403,
    "start_time": "2023-06-08T19:54:44.364Z"
   },
   {
    "duration": 197993,
    "start_time": "2023-06-08T19:56:43.109Z"
   },
   {
    "duration": 259,
    "start_time": "2023-06-08T20:00:08.609Z"
   },
   {
    "duration": 8,
    "start_time": "2023-06-08T20:00:27.362Z"
   },
   {
    "duration": 63877,
    "start_time": "2023-06-08T20:00:36.649Z"
   },
   {
    "duration": 79562,
    "start_time": "2023-06-08T20:01:40.533Z"
   },
   {
    "duration": 4,
    "start_time": "2023-06-08T20:04:16.923Z"
   },
   {
    "duration": 4,
    "start_time": "2023-06-08T20:04:44.961Z"
   },
   {
    "duration": 723177,
    "start_time": "2023-06-08T20:04:47.220Z"
   },
   {
    "duration": 6,
    "start_time": "2023-06-08T20:20:30.547Z"
   },
   {
    "duration": 369042,
    "start_time": "2023-06-08T20:20:44.948Z"
   },
   {
    "duration": 151,
    "start_time": "2023-06-08T20:38:35.820Z"
   },
   {
    "duration": 241,
    "start_time": "2023-06-08T20:39:04.180Z"
   },
   {
    "duration": 166,
    "start_time": "2023-06-08T20:39:21.766Z"
   },
   {
    "duration": 171,
    "start_time": "2023-06-08T20:53:56.261Z"
   },
   {
    "duration": 70,
    "start_time": "2023-06-08T20:59:36.538Z"
   },
   {
    "duration": 4424,
    "start_time": "2023-06-08T21:00:11.288Z"
   },
   {
    "duration": 4,
    "start_time": "2023-06-08T21:00:45.907Z"
   },
   {
    "duration": 83,
    "start_time": "2023-06-08T21:00:45.913Z"
   },
   {
    "duration": 13,
    "start_time": "2023-06-08T21:00:45.997Z"
   },
   {
    "duration": 22,
    "start_time": "2023-06-08T21:00:46.012Z"
   },
   {
    "duration": 36,
    "start_time": "2023-06-08T21:00:46.036Z"
   },
   {
    "duration": 10,
    "start_time": "2023-06-08T21:00:46.074Z"
   },
   {
    "duration": 597,
    "start_time": "2023-06-08T21:00:46.086Z"
   },
   {
    "duration": 5,
    "start_time": "2023-06-08T21:00:46.684Z"
   },
   {
    "duration": 434,
    "start_time": "2023-06-08T21:00:46.690Z"
   },
   {
    "duration": 16,
    "start_time": "2023-06-08T21:00:47.127Z"
   },
   {
    "duration": 2,
    "start_time": "2023-06-08T21:00:47.145Z"
   },
   {
    "duration": 10,
    "start_time": "2023-06-08T21:00:47.148Z"
   },
   {
    "duration": 27,
    "start_time": "2023-06-08T21:00:47.159Z"
   },
   {
    "duration": 3,
    "start_time": "2023-06-08T21:00:47.188Z"
   },
   {
    "duration": 42,
    "start_time": "2023-06-08T21:00:47.192Z"
   },
   {
    "duration": 6,
    "start_time": "2023-06-08T21:00:47.235Z"
   },
   {
    "duration": 24485,
    "start_time": "2023-06-08T21:00:47.243Z"
   },
   {
    "duration": 6,
    "start_time": "2023-06-08T21:01:11.730Z"
   },
   {
    "duration": 152063,
    "start_time": "2023-06-08T21:01:11.737Z"
   },
   {
    "duration": 6,
    "start_time": "2023-06-08T21:03:43.802Z"
   },
   {
    "duration": 35777,
    "start_time": "2023-06-08T21:03:43.809Z"
   },
   {
    "duration": 23854,
    "start_time": "2023-06-08T21:04:19.587Z"
   },
   {
    "duration": 151490,
    "start_time": "2023-06-08T21:04:43.443Z"
   },
   {
    "duration": 35857,
    "start_time": "2023-06-08T21:07:14.935Z"
   },
   {
    "duration": 91,
    "start_time": "2023-06-08T21:07:50.794Z"
   },
   {
    "duration": 636548,
    "start_time": "2023-06-08T21:07:50.887Z"
   },
   {
    "duration": 4,
    "start_time": "2023-06-08T21:18:27.437Z"
   },
   {
    "duration": 313752,
    "start_time": "2023-06-08T21:18:27.444Z"
   },
   {
    "duration": 146,
    "start_time": "2023-06-08T21:23:41.197Z"
   },
   {
    "duration": 1368,
    "start_time": "2023-06-09T10:39:28.637Z"
   },
   {
    "duration": 100,
    "start_time": "2023-06-09T10:39:30.006Z"
   },
   {
    "duration": 11,
    "start_time": "2023-06-09T10:39:30.107Z"
   },
   {
    "duration": 29,
    "start_time": "2023-06-09T10:39:30.119Z"
   },
   {
    "duration": 28,
    "start_time": "2023-06-09T10:39:30.149Z"
   },
   {
    "duration": 37,
    "start_time": "2023-06-09T10:39:30.178Z"
   },
   {
    "duration": 550,
    "start_time": "2023-06-09T10:39:30.217Z"
   },
   {
    "duration": 4,
    "start_time": "2023-06-09T10:39:30.768Z"
   },
   {
    "duration": 597,
    "start_time": "2023-06-09T10:39:30.774Z"
   },
   {
    "duration": 18,
    "start_time": "2023-06-09T10:39:31.373Z"
   },
   {
    "duration": 16,
    "start_time": "2023-06-09T10:39:31.392Z"
   },
   {
    "duration": 34,
    "start_time": "2023-06-09T10:39:31.410Z"
   },
   {
    "duration": 55,
    "start_time": "2023-06-09T10:39:31.445Z"
   },
   {
    "duration": 34,
    "start_time": "2023-06-09T10:39:31.502Z"
   },
   {
    "duration": 76,
    "start_time": "2023-06-09T10:39:31.537Z"
   },
   {
    "duration": 11,
    "start_time": "2023-06-09T10:39:31.615Z"
   },
   {
    "duration": 23305,
    "start_time": "2023-06-09T10:39:31.627Z"
   },
   {
    "duration": 9,
    "start_time": "2023-06-09T10:39:54.934Z"
   },
   {
    "duration": 152278,
    "start_time": "2023-06-09T10:39:54.945Z"
   },
   {
    "duration": 7,
    "start_time": "2023-06-09T10:42:27.225Z"
   },
   {
    "duration": 52797,
    "start_time": "2023-06-09T10:42:27.233Z"
   },
   {
    "duration": 24294,
    "start_time": "2023-06-09T10:43:20.032Z"
   },
   {
    "duration": 153261,
    "start_time": "2023-06-09T10:43:44.329Z"
   },
   {
    "duration": 48133,
    "start_time": "2023-06-09T10:46:17.592Z"
   },
   {
    "duration": 7,
    "start_time": "2023-06-09T10:47:05.728Z"
   },
   {
    "duration": 651491,
    "start_time": "2023-06-09T10:47:05.825Z"
   },
   {
    "duration": 8,
    "start_time": "2023-06-09T10:57:57.318Z"
   },
   {
    "duration": 338970,
    "start_time": "2023-06-09T10:57:57.328Z"
   },
   {
    "duration": 163,
    "start_time": "2023-06-09T11:03:36.300Z"
   },
   {
    "duration": 77,
    "start_time": "2023-06-09T11:32:51.856Z"
   },
   {
    "duration": 1703,
    "start_time": "2023-06-09T11:32:58.282Z"
   },
   {
    "duration": 196,
    "start_time": "2023-06-09T11:32:59.987Z"
   },
   {
    "duration": 10,
    "start_time": "2023-06-09T11:33:00.185Z"
   },
   {
    "duration": 17,
    "start_time": "2023-06-09T11:33:00.197Z"
   },
   {
    "duration": 6,
    "start_time": "2023-06-09T11:33:00.216Z"
   },
   {
    "duration": 29,
    "start_time": "2023-06-09T11:33:00.224Z"
   },
   {
    "duration": 740,
    "start_time": "2023-06-09T11:33:00.255Z"
   },
   {
    "duration": 5,
    "start_time": "2023-06-09T11:33:00.997Z"
   },
   {
    "duration": 771,
    "start_time": "2023-06-09T11:33:01.004Z"
   },
   {
    "duration": 29,
    "start_time": "2023-06-09T11:33:01.779Z"
   },
   {
    "duration": 3,
    "start_time": "2023-06-09T11:33:01.809Z"
   },
   {
    "duration": 31,
    "start_time": "2023-06-09T11:33:01.814Z"
   },
   {
    "duration": 48,
    "start_time": "2023-06-09T11:33:01.847Z"
   },
   {
    "duration": 5,
    "start_time": "2023-06-09T11:33:01.898Z"
   },
   {
    "duration": 39,
    "start_time": "2023-06-09T11:33:04.573Z"
   },
   {
    "duration": 7,
    "start_time": "2023-06-09T11:33:55.293Z"
   },
   {
    "duration": 24581,
    "start_time": "2023-06-09T11:34:01.396Z"
   },
   {
    "duration": 8,
    "start_time": "2023-06-09T11:34:58.035Z"
   },
   {
    "duration": 164045,
    "start_time": "2023-06-09T11:34:59.946Z"
   },
   {
    "duration": 7,
    "start_time": "2023-06-09T11:38:03.751Z"
   },
   {
    "duration": 54742,
    "start_time": "2023-06-09T11:38:06.014Z"
   },
   {
    "duration": 26762,
    "start_time": "2023-06-09T11:40:45.818Z"
   },
   {
    "duration": 171176,
    "start_time": "2023-06-09T11:41:51.240Z"
   },
   {
    "duration": 69908,
    "start_time": "2023-06-09T11:45:30.467Z"
   },
   {
    "duration": 4,
    "start_time": "2023-06-09T11:46:59.698Z"
   },
   {
    "duration": 709405,
    "start_time": "2023-06-09T11:47:02.674Z"
   },
   {
    "duration": 6,
    "start_time": "2023-06-09T11:58:58.394Z"
   },
   {
    "duration": 368702,
    "start_time": "2023-06-09T11:59:02.706Z"
   },
   {
    "duration": 140,
    "start_time": "2023-06-09T12:06:30.712Z"
   },
   {
    "duration": 1791,
    "start_time": "2023-06-09T13:46:52.229Z"
   },
   {
    "duration": 109,
    "start_time": "2023-06-09T13:46:54.022Z"
   },
   {
    "duration": 10,
    "start_time": "2023-06-09T13:46:54.133Z"
   },
   {
    "duration": 6,
    "start_time": "2023-06-09T13:46:54.145Z"
   },
   {
    "duration": 16,
    "start_time": "2023-06-09T13:46:54.153Z"
   },
   {
    "duration": 8,
    "start_time": "2023-06-09T13:46:54.171Z"
   },
   {
    "duration": 595,
    "start_time": "2023-06-09T13:46:54.181Z"
   },
   {
    "duration": 7,
    "start_time": "2023-06-09T13:46:54.777Z"
   },
   {
    "duration": 545,
    "start_time": "2023-06-09T13:46:54.786Z"
   },
   {
    "duration": 17,
    "start_time": "2023-06-09T13:46:55.333Z"
   },
   {
    "duration": 2,
    "start_time": "2023-06-09T13:46:55.352Z"
   },
   {
    "duration": 9,
    "start_time": "2023-06-09T13:46:55.355Z"
   },
   {
    "duration": 34,
    "start_time": "2023-06-09T13:46:55.365Z"
   },
   {
    "duration": 3,
    "start_time": "2023-06-09T13:46:55.400Z"
   },
   {
    "duration": 50,
    "start_time": "2023-06-09T13:46:55.405Z"
   },
   {
    "duration": 7,
    "start_time": "2023-06-09T13:46:55.457Z"
   },
   {
    "duration": 23490,
    "start_time": "2023-06-09T13:46:55.466Z"
   },
   {
    "duration": 6,
    "start_time": "2023-06-09T13:47:18.957Z"
   },
   {
    "duration": 151539,
    "start_time": "2023-06-09T13:47:18.964Z"
   },
   {
    "duration": 6,
    "start_time": "2023-06-09T13:49:50.505Z"
   },
   {
    "duration": 37680,
    "start_time": "2023-06-09T13:49:50.512Z"
   },
   {
    "duration": 23969,
    "start_time": "2023-06-09T13:50:28.194Z"
   },
   {
    "duration": 151978,
    "start_time": "2023-06-09T13:50:52.164Z"
   },
   {
    "duration": 36340,
    "start_time": "2023-06-09T13:53:24.144Z"
   },
   {
    "duration": 5,
    "start_time": "2023-06-09T13:54:00.486Z"
   },
   {
    "duration": 644697,
    "start_time": "2023-06-09T13:54:00.492Z"
   },
   {
    "duration": 4,
    "start_time": "2023-06-09T14:04:45.191Z"
   },
   {
    "duration": 317341,
    "start_time": "2023-06-09T14:04:45.197Z"
   },
   {
    "duration": 134,
    "start_time": "2023-06-09T14:10:02.540Z"
   }
  ],
  "kernelspec": {
   "display_name": "Python 3 (ipykernel)",
   "language": "python",
   "name": "python3"
  },
  "language_info": {
   "codemirror_mode": {
    "name": "ipython",
    "version": 3
   },
   "file_extension": ".py",
   "mimetype": "text/x-python",
   "name": "python",
   "nbconvert_exporter": "python",
   "pygments_lexer": "ipython3",
   "version": "3.9.13"
  },
  "toc": {
   "base_numbering": 1,
   "nav_menu": {},
   "number_sections": true,
   "sideBar": true,
   "skip_h1_title": true,
   "title_cell": "Содержание",
   "title_sidebar": "Contents",
   "toc_cell": true,
   "toc_position": {
    "height": "calc(100% - 180px)",
    "left": "10px",
    "top": "150px",
    "width": "198px"
   },
   "toc_section_display": true,
   "toc_window_display": true
  },
  "toc-autonumbering": false
 },
 "nbformat": 4,
 "nbformat_minor": 4
}
