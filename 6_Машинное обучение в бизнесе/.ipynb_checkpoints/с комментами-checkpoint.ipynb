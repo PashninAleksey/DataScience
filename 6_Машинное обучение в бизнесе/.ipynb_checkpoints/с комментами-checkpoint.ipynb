{
 "cells": [
  {
   "cell_type": "markdown",
   "id": "75d99002",
   "metadata": {},
   "source": [
    "Привет! меня зовут Люман Аблаев. Сегодня я проверю твой проект.\n",
    "<br> Дальнейшее общение будет происходить на \"ты\" если это не вызывает никаких проблем.\n",
    "<br> Желательно реагировать на красные комментарии ('исправил', 'не понятно как исправить ошибку', ...)\n",
    "<br> Пожалуйста, не удаляй комментарии ревьюера, так как они повышают качество повторного ревью.\n",
    "\n",
    "Комментарии будут в <font color='green'>зеленой</font>, <font color='blue'>синей</font> или <font color='red'>красной</font> рамках:\n",
    "\n",
    "\n",
    "<div class=\"alert alert-block alert-success\">\n",
    "<b>Успех:</b> Если все сделано отлично\n",
    "</div>\n",
    "\n",
    "<div class=\"alert alert-block alert-info\">\n",
    "<b>Совет: </b> Если можно немного улучшить\n",
    "</div>\n",
    "\n",
    "<div class=\"alert alert-block alert-danger\">\n",
    "<b>Ошибка:</b> Если требуются исправления. Работа не может быть принята с красными комментариями.\n",
    "</div>\n",
    "\n",
    "-------------------\n",
    "\n",
    "Будет очень хорошо, если ты будешь помечать свои действия следующим образом:\n",
    "<div class=\"alert alert-block alert-warning\">\n",
    "<b>Комментарий студента:</b> ..\n",
    "</div>\n",
    "<div class=\"alert alert-block alert-warning\">\n",
    "<b>Изменения:</b> Были внесены следующие изменения ...\n",
    "</div>\n",
    "\n",
    "<font color='orange' style='font-size:24px; font-weight:bold'>Общее впечатление</font>\n",
    "* Спасибо за  качественную работу, было интересно ее проверять.\n",
    "- Я оставил некоторые советы надеюсь они будут полезными или интересными.\n",
    "\n",
    "- Техника бутстрап применилась корректно, было проведено тщательное исследование и выбран правильный регион!\n",
    "- Отправляю проект назад, чтобы у тебя была возможность задать вопросы, если они у тебя есть. Если их нет, то можешь просто отправить проект еще раз и я его зачту\n"
   ]
  },
  {
   "cell_type": "markdown",
   "id": "3f258e1a-5b57-4817-83ee-5ebd8f932b37",
   "metadata": {},
   "source": [
    "# Выбор локации для скважины"
   ]
  },
  {
   "cell_type": "markdown",
   "id": "b4efe552-c5a4-4b05-8fdb-8dfffd44bde8",
   "metadata": {},
   "source": [
    "## Цель работы"
   ]
  },
  {
   "cell_type": "markdown",
   "id": "44670ea7-02c3-485f-9d1a-44e2b4addcc5",
   "metadata": {},
   "source": [
    "Предоставлены пробы нефти в трёх регионах. Характеристики для каждой скважины в регионе уже известны. Необходимо построить модель для определения региона, где добыча принесёт наибольшую прибыль. Проанализировать возможную прибыль и риски техникой Bootstrap."
   ]
  },
  {
   "cell_type": "markdown",
   "id": "f939d308-46d0-4b91-96ae-99a83e1881ad",
   "metadata": {},
   "source": [
    "## План работ"
   ]
  },
  {
   "cell_type": "markdown",
   "id": "20357c66-83fe-49a0-913b-895f84a6465c",
   "metadata": {},
   "source": [
    "* Загрузка и подготовка данных\n",
    "* Обучение и проверка модели\n",
    "* Подготовка к расчёту прибыли\n",
    "* Расчёт прибыли и рисков"
   ]
  },
  {
   "cell_type": "markdown",
   "id": "b704bd15-3e63-481b-8b58-7172748504b7",
   "metadata": {
    "tags": []
   },
   "source": [
    "## Описание данных"
   ]
  },
  {
   "cell_type": "markdown",
   "id": "8560e9f3-b209-49a0-bc1d-8f4ec73d163f",
   "metadata": {},
   "source": [
    "**Данные**:\n",
    "* Данные геологоразведки трёх регионов находятся в файлах: \n",
    "  * geo_data_0.csv - 1 регион\n",
    "  * geo_data_1.csv - 2 регион\n",
    "  * geo_data_2.csv - 3 регион\n",
    "* id — уникальный идентификатор скважины;\n",
    "* f0, f1, f2 — три признака точек (неважно, что они означают, но сами признаки значимы);\n",
    "* product — объём запасов в скважине (тыс. баррелей).\n",
    "\n",
    "\n",
    "\n",
    "**Условия задачи**:\n",
    "* Для обучения модели подходит только линейная регрессия (остальные — недостаточно предсказуемые).\n",
    "* При разведке региона исследуют 500 точек, из которых с помощью машинного обучения выбирают 200 лучших для разработки.\n",
    "* Бюджет на разработку скважин в регионе — 10 млрд рублей.\n",
    "* При нынешних ценах один баррель сырья приносит 450 рублей дохода. Доход с каждой единицы продукта составляет 450 тыс. рублей, поскольку объём указан в тысячах баррелей.\n",
    "* После оценки рисков нужно оставить лишь те регионы, в которых вероятность убытков меньше 2.5%. Среди них выбирают регион с наибольшей средней прибылью."
   ]
  },
  {
   "cell_type": "markdown",
   "id": "9e05e6fd-310d-4517-a3a4-a18f73f303f7",
   "metadata": {},
   "source": [
    "## Загрузка и подготовка данных"
   ]
  },
  {
   "cell_type": "markdown",
   "id": "b465747f-186e-4f37-9ab8-777d32ca6d19",
   "metadata": {},
   "source": [
    "### Импорт библиотек, создание небходимых функций, загрузка данных "
   ]
  },
  {
   "cell_type": "markdown",
   "id": "25966fdc-55a9-4750-a870-21114a21a577",
   "metadata": {
    "tags": []
   },
   "source": [
    "Сперва импорт необходимых библиотек:"
   ]
  },
  {
   "cell_type": "code",
   "execution_count": 9,
   "id": "b379b8c0-228b-4aed-a978-7f2d8d171ffa",
   "metadata": {},
   "outputs": [],
   "source": [
    "import matplotlib.pyplot as plt\n",
    "import numpy as np\n",
    "import pandas as pd\n",
    "import seaborn as sns\n",
    "from numpy.random import RandomState\n",
    "from sklearn.compose import ColumnTransformer\n",
    "from sklearn.linear_model import LinearRegression\n",
    "from sklearn.metrics import mean_squared_error\n",
    "from sklearn.model_selection import train_test_split\n",
    "from sklearn.pipeline import Pipeline\n",
    "from sklearn.preprocessing import StandardScaler\n",
    "from tqdm import tqdm\n",
    "\n",
    "%matplotlib inline\n",
    "plt.rcParams[\"font.size\"] = 14"
   ]
  },
  {
   "cell_type": "markdown",
   "id": "421f6a28",
   "metadata": {},
   "source": [
    "<div class=\"alert alert-block alert-success\">\n",
    "<b>Успех:</b> Импорты  на месте\n",
    "</div>"
   ]
  },
  {
   "cell_type": "markdown",
   "id": "aeafad34-81a5-4b7a-9aed-df04e53b1b6d",
   "metadata": {},
   "source": [
    "Функция для постройки коробчатой диаграммы:"
   ]
  },
  {
   "cell_type": "code",
   "execution_count": 10,
   "id": "0c99069b-0019-48ab-9a3b-bd8423e13868",
   "metadata": {
    "tags": []
   },
   "outputs": [],
   "source": [
    "def plot_boxplot(loc_df):\n",
    "    columns = [\"f0\", \"f1\", \"f2\", \"product\"]\n",
    "    for i in range(0, len(loc_df)):\n",
    "        fig, axs = plt.subplots(1, 4, figsize=(20, 15))\n",
    "        for j in range(0, len(columns)):\n",
    "            axx = sns.boxplot(data=loc_df[i][columns[j]], ax=axs[j])\n",
    "            if j != \"product\":\n",
    "                axx.set(ylabel=\"\", title=columns[j])\n",
    "            else:\n",
    "                axx.set(ylabel=\"тыс. баррелей\", title=columns[j])\n",
    "\n",
    "        fig.suptitle(\"df\" + str(i + 1), fontsize=18);"
   ]
  },
  {
   "cell_type": "markdown",
   "id": "99252419-fa07-4c44-bd25-925930e205e6",
   "metadata": {},
   "source": [
    "Функция для удаления выбросов:"
   ]
  },
  {
   "cell_type": "code",
   "execution_count": 11,
   "id": "6f3c0b73-6e8d-47bd-8946-ba60a8d3608a",
   "metadata": {
    "tags": []
   },
   "outputs": [],
   "source": [
    "def remove_ouliers(dframe, column):\n",
    "    q25 = dframe[column].quantile(0.25)\n",
    "    q75 = dframe[column].quantile(0.75)\n",
    "    first_part = q25 - 1.5 * (q75 - q25)\n",
    "    second_part = q75 + 1.5 * (q75 - q25)\n",
    "    len_before = len(dframe)\n",
    "    dframe = dframe.loc[\n",
    "        (dframe[column] <= second_part) & (dframe[column] >= first_part)\n",
    "    ]\n",
    "    len_after = len(dframe)\n",
    "\n",
    "    print(\"Количество удаленных строк: \", len_before - len_after)\n",
    "    return dframe"
   ]
  },
  {
   "cell_type": "markdown",
   "id": "551c1037-1fe8-4267-8e11-037d5dd77d5d",
   "metadata": {},
   "source": [
    "Функция для постройки матрицы корреляции и heatmap:"
   ]
  },
  {
   "cell_type": "code",
   "execution_count": 12,
   "id": "6b6efff4-63f3-4a2c-87f3-f375b28f4ef2",
   "metadata": {
    "tags": []
   },
   "outputs": [],
   "source": [
    "def corr_heatmap(dframe):\n",
    "    display(dframe.corr(numeric_only=True))\n",
    "    sns.heatmap(dframe.corr(numeric_only=True))\n",
    "    plt.show()"
   ]
  },
  {
   "cell_type": "markdown",
   "id": "1400ec6c",
   "metadata": {},
   "source": [
    "<div class=\"alert alert-block alert-success\">\n",
    "<b>Успех:</b> Хорошие помощники\n",
    "</div>"
   ]
  },
  {
   "cell_type": "markdown",
   "id": "ea71e606",
   "metadata": {},
   "source": [
    "\n",
    "\n",
    "<div class=\"alert alert-block alert-info\">\n",
    "<b>Совет:</b>  Советую обратить внимание на библиотеки sweetviz и pandas_profiling помогут в проведении более тщательного EDA анализа. Исследовательский анализ можно делать и с помощью ручного вызова функций дефолтных библиотек. Данные библиотеки хороши для максимизации комфорта презентации результатов анализа бизнес-пользователям.  \n",
    "\n",
    "Очень просты в использоовании, на вход кладется датафрейм: pandas_profiling.ProfileReport(df) \n",
    "</div>\n",
    "\n"
   ]
  },
  {
   "cell_type": "markdown",
   "id": "9536133c",
   "metadata": {},
   "source": [
    "<div class=\"alert alert-block alert-warning\">\n",
    "<b>Комментарий студента:</b> Сначала сделал с помощью pandas_profiling, но как то слишком много всего там, показалось избыточным.\n",
    "</div>"
   ]
  },
  {
   "cell_type": "markdown",
   "id": "8b813362",
   "metadata": {},
   "source": [
    "\n",
    "<div class=\"alert alert-block alert-success\">\n",
    "    \n",
    "<b>Успех[2]:</b> Данный инструмент помогает сделать первичный осмотр и направить разработчика в нужное русло)  Главное во время обучения не злоупотреблять, чтобы руки не забыл как делать EDA анализ)\n",
    "</div>"
   ]
  },
  {
   "cell_type": "markdown",
   "id": "bae7ba1e-e1ec-4e01-bfa1-d9abf82f4d11",
   "metadata": {
    "tags": []
   },
   "source": [
    "Загрузка данных:"
   ]
  },
  {
   "cell_type": "code",
   "execution_count": 13,
   "id": "6cae0f69",
   "metadata": {
    "tags": []
   },
   "outputs": [
    {
     "name": "stdout",
     "output_type": "stream",
     "text": [
      "Инфо df1:\n",
      "<class 'pandas.core.frame.DataFrame'>\n",
      "RangeIndex: 100000 entries, 0 to 99999\n",
      "Data columns (total 5 columns):\n",
      " #   Column   Non-Null Count   Dtype  \n",
      "---  ------   --------------   -----  \n",
      " 0   id       100000 non-null  object \n",
      " 1   f0       100000 non-null  float64\n",
      " 2   f1       100000 non-null  float64\n",
      " 3   f2       100000 non-null  float64\n",
      " 4   product  100000 non-null  float64\n",
      "dtypes: float64(4), object(1)\n",
      "memory usage: 3.8+ MB\n",
      "\n",
      "Инфо df2:\n",
      "<class 'pandas.core.frame.DataFrame'>\n",
      "RangeIndex: 100000 entries, 0 to 99999\n",
      "Data columns (total 5 columns):\n",
      " #   Column   Non-Null Count   Dtype  \n",
      "---  ------   --------------   -----  \n",
      " 0   id       100000 non-null  object \n",
      " 1   f0       100000 non-null  float64\n",
      " 2   f1       100000 non-null  float64\n",
      " 3   f2       100000 non-null  float64\n",
      " 4   product  100000 non-null  float64\n",
      "dtypes: float64(4), object(1)\n",
      "memory usage: 3.8+ MB\n",
      "\n",
      "Инфо df3:\n",
      "<class 'pandas.core.frame.DataFrame'>\n",
      "RangeIndex: 100000 entries, 0 to 99999\n",
      "Data columns (total 5 columns):\n",
      " #   Column   Non-Null Count   Dtype  \n",
      "---  ------   --------------   -----  \n",
      " 0   id       100000 non-null  object \n",
      " 1   f0       100000 non-null  float64\n",
      " 2   f1       100000 non-null  float64\n",
      " 3   f2       100000 non-null  float64\n",
      " 4   product  100000 non-null  float64\n",
      "dtypes: float64(4), object(1)\n",
      "memory usage: 3.8+ MB\n",
      "\n"
     ]
    }
   ],
   "source": [
    "df1 = pd.read_csv(\"/datasets/geo_data_0.csv\")\n",
    "df2 = pd.read_csv(\"/datasets/geo_data_1.csv\")\n",
    "df3 = pd.read_csv(\"/datasets/geo_data_2.csv\")\n",
    "df = [df1, df2, df3]\n",
    "for i in range(0, len(df)):\n",
    "    print(\"Инфо df{}:\".format(i + 1))\n",
    "    df[i].info()\n",
    "    print(\"\")"
   ]
  },
  {
   "cell_type": "markdown",
   "id": "732b90a1",
   "metadata": {},
   "source": [
    "<div class=\"alert alert-block alert-info\">\n",
    "<b>Совет:</b>\n",
    "    \n",
    "Пожалуйста не забывай предусматривать подгрузку данных на платформе, чтобы на платформе код отрабатывал без моего вмешательства\n",
    "</div>\n"
   ]
  },
  {
   "cell_type": "markdown",
   "id": "40bd15e0",
   "metadata": {},
   "source": [
    "<div class=\"alert alert-block alert-warning\">\n",
    "<b>Комментарий студента:</b> Спасибо, учту. Впервый раз делаю не в JupyterHub.\n",
    "</div>"
   ]
  },
  {
   "cell_type": "markdown",
   "id": "d1686d93",
   "metadata": {},
   "source": [
    "<div class=\"alert alert-block alert-success\">\n",
    "    \n",
    "<b>Успех[2]:</b> 👍\n",
    "</div>"
   ]
  },
  {
   "cell_type": "markdown",
   "id": "22e3de78-6ff1-4afa-9803-c2a89d61c307",
   "metadata": {},
   "source": [
    "### Борьба с выбросами"
   ]
  },
  {
   "cell_type": "code",
   "execution_count": 14,
   "id": "db9a5892-d090-4559-a995-39d9696a759d",
   "metadata": {
    "tags": []
   },
   "outputs": [
    {
     "data": {
      "image/png": "[encoded data removed]",
      "text/plain": [
       "<Figure size 1440x1080 with 4 Axes>"
      ]
     },
     "metadata": {
      "needs_background": "light"
     },
     "output_type": "display_data"
    },
    {
     "data": {
      "image/png": "[encoded data removed]",
      "text/plain": [
       "<Figure size 1440x1080 with 4 Axes>"
      ]
     },
     "metadata": {
      "needs_background": "light"
     },
     "output_type": "display_data"
    },
    {
     "data": {
      "image/png": "[encoded data removed]",
      "text/plain": [
       "<Figure size 1440x1080 with 4 Axes>"
      ]
     },
     "metadata": {
      "needs_background": "light"
     },
     "output_type": "display_data"
    }
   ],
   "source": [
    "plot_boxplot(df)"
   ]
  },
  {
   "cell_type": "markdown",
   "id": "e04a9044-8828-445d-9f17-956c15dda147",
   "metadata": {},
   "source": [
    "Имеются выбросы:\n",
    "* df1 - столбец *f2*\n",
    "* df2 - столбец *f0, f1*\n",
    "* df3 - столбец *f0, f1, f2*\n",
    "\n",
    "\n",
    "Избавимся от них:"
   ]
  },
  {
   "cell_type": "code",
   "execution_count": 15,
   "id": "b53b72fe-136d-45e5-b4b9-75f1e6814c8c",
   "metadata": {
    "tags": []
   },
   "outputs": [
    {
     "name": "stdout",
     "output_type": "stream",
     "text": [
      "Удаление выбросов df1[\"f2\"]\n",
      "Количество удаленных строк:  506\n",
      " \n",
      "Удаление выбросов df2[\"f0\"]\n",
      "Количество удаленных строк:  1\n",
      "Удаление выбросов df2[\"f1\"]\n",
      "Количество удаленных строк:  636\n",
      " \n",
      "Удаление выбросов df3[\"f0\"]\n",
      "Количество удаленных строк:  733\n",
      "Удаление выбросов df3[\"f1\"]\n",
      "Количество удаленных строк:  682\n",
      "Удаление выбросов df3[\"f2\"]\n",
      "Количество удаленных строк:  582\n"
     ]
    }
   ],
   "source": [
    "# f1\n",
    "\n",
    "print('Удаление выбросов df1[\"f2\"]')\n",
    "df1 = remove_ouliers(df1, \"f2\")\n",
    "print(\" \")\n",
    "\n",
    "# f2\n",
    "print('Удаление выбросов df2[\"f0\"]')\n",
    "df2 = remove_ouliers(df2, \"f0\")\n",
    "print('Удаление выбросов df2[\"f1\"]')\n",
    "df2 = remove_ouliers(df2, \"f1\")\n",
    "print(\" \")\n",
    "\n",
    "# f3\n",
    "print('Удаление выбросов df3[\"f0\"]')\n",
    "df3 = remove_ouliers(df3, \"f0\")\n",
    "print('Удаление выбросов df3[\"f1\"]')\n",
    "df3 = remove_ouliers(df3, \"f1\")\n",
    "print('Удаление выбросов df3[\"f2\"]')\n",
    "df3 = remove_ouliers(df3, \"f2\")"
   ]
  },
  {
   "cell_type": "code",
   "execution_count": 16,
   "id": "b9038a65-fbb2-4877-beb1-1e9e1166ae88",
   "metadata": {
    "tags": []
   },
   "outputs": [
    {
     "data": {
      "image/png": "[encoded data removed]",
      "text/plain": [
       "<Figure size 1440x1080 with 4 Axes>"
      ]
     },
     "metadata": {
      "needs_background": "light"
     },
     "output_type": "display_data"
    },
    {
     "data": {
      "image/png": "[encoded data removed]",
      "text/plain": [
       "<Figure size 1440x1080 with 4 Axes>"
      ]
     },
     "metadata": {
      "needs_background": "light"
     },
     "output_type": "display_data"
    },
    {
     "data": {
      "image/png": "[encoded data removed]",
      "text/plain": [
       "<Figure size 1440x1080 with 4 Axes>"
      ]
     },
     "metadata": {
      "needs_background": "light"
     },
     "output_type": "display_data"
    }
   ],
   "source": [
    "df = [df1, df2, df3]\n",
    "plot_boxplot(df)"
   ]
  },
  {
   "cell_type": "markdown",
   "id": "a699231b-692d-47bd-b1ee-516045711d44",
   "metadata": {},
   "source": [
    "Как видим, от выбросов избавились. Доля выбросов:\n",
    "* df1 - 0.506%\n",
    "* df2 - 0.637%\n",
    "* df3 - 1.997%\n",
    "\n",
    "Несущественные величины от которых можно было избавиться."
   ]
  },
  {
   "cell_type": "markdown",
   "id": "c6e86ac1-8127-4c5e-a6a5-be36a344e6ac",
   "metadata": {},
   "source": [
    "### Дубликаты"
   ]
  },
  {
   "cell_type": "markdown",
   "id": "baa9ec0a-9e4e-49b6-a0e4-eb5fd87f131d",
   "metadata": {},
   "source": [
    "Количество дубликатов по строкам:"
   ]
  },
  {
   "cell_type": "code",
   "execution_count": 17,
   "id": "b1d4e105-cafa-45bc-b2dd-8e5f6f946bb4",
   "metadata": {
    "tags": []
   },
   "outputs": [
    {
     "name": "stdout",
     "output_type": "stream",
     "text": [
      "Количество дубликатов в df1 по строкам=0\n",
      "Количество дубликатов в df2 по строкам=0\n",
      "Количество дубликатов в df3 по строкам=0\n"
     ]
    }
   ],
   "source": [
    "for i in range(0, len(df)):\n",
    "    print(\n",
    "        \"Количество дубликатов в df{} по строкам={}\".format(\n",
    "            i + 1, df[i].duplicated().sum()\n",
    "        )\n",
    "    )"
   ]
  },
  {
   "cell_type": "markdown",
   "id": "dbd4b754-43a0-4a92-8041-ff50356a1a5d",
   "metadata": {},
   "source": [
    "Отдельно рассмотрим столбец *id* где по условию должны храниться уникальные идентификаторы скважины, то есть если там встречаются одинаковые значения, то тут что то не так:"
   ]
  },
  {
   "cell_type": "code",
   "execution_count": 18,
   "id": "dc35bbd9-61e9-427a-945c-ab2f627a58fa",
   "metadata": {
    "tags": []
   },
   "outputs": [
    {
     "name": "stdout",
     "output_type": "stream",
     "text": [
      "Количество дубликатов в df1 по столбцу id=10\n",
      "Количество дубликатов в df2 по столбцу id=4\n",
      "Количество дубликатов в df3 по столбцу id=4\n"
     ]
    }
   ],
   "source": [
    "for i in range(0, len(df)):\n",
    "    print(\n",
    "        \"Количество дубликатов в df{} по столбцу id={}\".format(\n",
    "            i + 1, df[i][\"id\"].duplicated().sum()\n",
    "        )\n",
    "    )"
   ]
  },
  {
   "cell_type": "markdown",
   "id": "bd085842-c772-4491-8369-b5954b6f53d9",
   "metadata": {},
   "source": [
    "Как видим, есть повторы. Мы не можем определить какие из строк верные, поэтому лучше удалить все дубликаты, тем более их очень мало по отношению к общему количеству строк: "
   ]
  },
  {
   "cell_type": "code",
   "execution_count": 19,
   "id": "0625822c-b593-44ca-a633-4eb868a09338",
   "metadata": {
    "tags": []
   },
   "outputs": [
    {
     "name": "stdout",
     "output_type": "stream",
     "text": [
      "Количество дубликатов в df1 по столбцу id=0\n",
      "Количество дубликатов в df2 по столбцу id=0\n",
      "Количество дубликатов в df3 по столбцу id=0\n"
     ]
    }
   ],
   "source": [
    "for i in range(0, len(df)):\n",
    "    df[i] = df[i].drop_duplicates(subset=[\"id\"], keep=False)\n",
    "    print(\n",
    "        \"Количество дубликатов в df{} по столбцу id={}\".format(\n",
    "            i + 1, df[i][\"id\"].duplicated().sum()\n",
    "        )\n",
    "    )"
   ]
  },
  {
   "cell_type": "markdown",
   "id": "ed7a61ba-6a31-45ef-8d26-18245bd8b7a6",
   "metadata": {},
   "source": [
    "### Матрица корреляции"
   ]
  },
  {
   "cell_type": "code",
   "execution_count": null,
   "id": "d6efa419",
   "metadata": {
    "tags": []
   },
   "outputs": [],
   "source": [
    "df = [df1, df2, df3]\n",
    "for i in range(0, len(df)):\n",
    "    print(\"Матрица корреляции для df{}:\".format(i + 1))\n",
    "    corr_heatmap(df[i])"
   ]
  },
  {
   "cell_type": "markdown",
   "id": "96e6bf8f-ed92-410c-ac36-aa94f2d73d10",
   "metadata": {},
   "source": [
    "Как видим между признаками в целом корреляция отсутствует, только у df1 между *f0* и *f1* умеренная отрицательная корреляция -0.44, и у df2 между *f0* и *f1* слабая положительная корреляция 0.179. Критического влияния на обучение наших моделей такие значения не должны иметь."
   ]
  },
  {
   "cell_type": "markdown",
   "id": "b252fb8c-9d27-46f7-b82e-cbf9f3e31ac2",
   "metadata": {},
   "source": [
    "### Промежуточный вывод"
   ]
  },
  {
   "cell_type": "markdown",
   "id": "a0972254-3485-4a48-a7dd-701639170b22",
   "metadata": {
    "tags": []
   },
   "source": [
    "Рассмотрим итоговые получившиеся таблицы:"
   ]
  },
  {
   "cell_type": "code",
   "execution_count": 21,
   "id": "efd396da-55cc-4946-9d3c-4bba947e69cc",
   "metadata": {
    "tags": []
   },
   "outputs": [
    {
     "name": "stdout",
     "output_type": "stream",
     "text": [
      "Инфо df1:\n",
      "<class 'pandas.core.frame.DataFrame'>\n",
      "Int64Index: 99494 entries, 0 to 99999\n",
      "Data columns (total 5 columns):\n",
      " #   Column   Non-Null Count  Dtype  \n",
      "---  ------   --------------  -----  \n",
      " 0   id       99494 non-null  object \n",
      " 1   f0       99494 non-null  float64\n",
      " 2   f1       99494 non-null  float64\n",
      " 3   f2       99494 non-null  float64\n",
      " 4   product  99494 non-null  float64\n",
      "dtypes: float64(4), object(1)\n",
      "memory usage: 6.6+ MB\n"
     ]
    },
    {
     "data": {
      "text/html": [
       "<div>\n",
       "<style scoped>\n",
       "    .dataframe tbody tr th:only-of-type {\n",
       "        vertical-align: middle;\n",
       "    }\n",
       "\n",
       "    .dataframe tbody tr th {\n",
       "        vertical-align: top;\n",
       "    }\n",
       "\n",
       "    .dataframe thead th {\n",
       "        text-align: right;\n",
       "    }\n",
       "</style>\n",
       "<table border=\"1\" class=\"dataframe\">\n",
       "  <thead>\n",
       "    <tr style=\"text-align: right;\">\n",
       "      <th></th>\n",
       "      <th>id</th>\n",
       "      <th>f0</th>\n",
       "      <th>f1</th>\n",
       "      <th>f2</th>\n",
       "      <th>product</th>\n",
       "    </tr>\n",
       "  </thead>\n",
       "  <tbody>\n",
       "    <tr>\n",
       "      <th>0</th>\n",
       "      <td>txEyH</td>\n",
       "      <td>0.705745</td>\n",
       "      <td>-0.497823</td>\n",
       "      <td>1.221170</td>\n",
       "      <td>105.280062</td>\n",
       "    </tr>\n",
       "    <tr>\n",
       "      <th>1</th>\n",
       "      <td>2acmU</td>\n",
       "      <td>1.334711</td>\n",
       "      <td>-0.340164</td>\n",
       "      <td>4.365080</td>\n",
       "      <td>73.037750</td>\n",
       "    </tr>\n",
       "    <tr>\n",
       "      <th>2</th>\n",
       "      <td>409Wp</td>\n",
       "      <td>1.022732</td>\n",
       "      <td>0.151990</td>\n",
       "      <td>1.419926</td>\n",
       "      <td>85.265647</td>\n",
       "    </tr>\n",
       "    <tr>\n",
       "      <th>3</th>\n",
       "      <td>iJLyR</td>\n",
       "      <td>-0.032172</td>\n",
       "      <td>0.139033</td>\n",
       "      <td>2.978566</td>\n",
       "      <td>168.620776</td>\n",
       "    </tr>\n",
       "    <tr>\n",
       "      <th>4</th>\n",
       "      <td>Xdl7t</td>\n",
       "      <td>1.988431</td>\n",
       "      <td>0.155413</td>\n",
       "      <td>4.751769</td>\n",
       "      <td>154.036647</td>\n",
       "    </tr>\n",
       "  </tbody>\n",
       "</table>\n",
       "</div>"
      ],
      "text/plain": [
       "      id        f0        f1        f2     product\n",
       "0  txEyH  0.705745 -0.497823  1.221170  105.280062\n",
       "1  2acmU  1.334711 -0.340164  4.365080   73.037750\n",
       "2  409Wp  1.022732  0.151990  1.419926   85.265647\n",
       "3  iJLyR -0.032172  0.139033  2.978566  168.620776\n",
       "4  Xdl7t  1.988431  0.155413  4.751769  154.036647"
      ]
     },
     "metadata": {},
     "output_type": "display_data"
    },
    {
     "name": "stdout",
     "output_type": "stream",
     "text": [
      "Инфо df2:\n",
      "<class 'pandas.core.frame.DataFrame'>\n",
      "Int64Index: 99363 entries, 0 to 99999\n",
      "Data columns (total 5 columns):\n",
      " #   Column   Non-Null Count  Dtype  \n",
      "---  ------   --------------  -----  \n",
      " 0   id       99363 non-null  object \n",
      " 1   f0       99363 non-null  float64\n",
      " 2   f1       99363 non-null  float64\n",
      " 3   f2       99363 non-null  float64\n",
      " 4   product  99363 non-null  float64\n",
      "dtypes: float64(4), object(1)\n",
      "memory usage: 6.6+ MB\n"
     ]
    },
    {
     "data": {
      "text/html": [
       "<div>\n",
       "<style scoped>\n",
       "    .dataframe tbody tr th:only-of-type {\n",
       "        vertical-align: middle;\n",
       "    }\n",
       "\n",
       "    .dataframe tbody tr th {\n",
       "        vertical-align: top;\n",
       "    }\n",
       "\n",
       "    .dataframe thead th {\n",
       "        text-align: right;\n",
       "    }\n",
       "</style>\n",
       "<table border=\"1\" class=\"dataframe\">\n",
       "  <thead>\n",
       "    <tr style=\"text-align: right;\">\n",
       "      <th></th>\n",
       "      <th>id</th>\n",
       "      <th>f0</th>\n",
       "      <th>f1</th>\n",
       "      <th>f2</th>\n",
       "      <th>product</th>\n",
       "    </tr>\n",
       "  </thead>\n",
       "  <tbody>\n",
       "    <tr>\n",
       "      <th>0</th>\n",
       "      <td>kBEdx</td>\n",
       "      <td>-15.001348</td>\n",
       "      <td>-8.276000</td>\n",
       "      <td>-0.005876</td>\n",
       "      <td>3.179103</td>\n",
       "    </tr>\n",
       "    <tr>\n",
       "      <th>1</th>\n",
       "      <td>62mP7</td>\n",
       "      <td>14.272088</td>\n",
       "      <td>-3.475083</td>\n",
       "      <td>0.999183</td>\n",
       "      <td>26.953261</td>\n",
       "    </tr>\n",
       "    <tr>\n",
       "      <th>2</th>\n",
       "      <td>vyE1P</td>\n",
       "      <td>6.263187</td>\n",
       "      <td>-5.948386</td>\n",
       "      <td>5.001160</td>\n",
       "      <td>134.766305</td>\n",
       "    </tr>\n",
       "    <tr>\n",
       "      <th>3</th>\n",
       "      <td>KcrkZ</td>\n",
       "      <td>-13.081196</td>\n",
       "      <td>-11.506057</td>\n",
       "      <td>4.999415</td>\n",
       "      <td>137.945408</td>\n",
       "    </tr>\n",
       "    <tr>\n",
       "      <th>4</th>\n",
       "      <td>AHL4O</td>\n",
       "      <td>12.702195</td>\n",
       "      <td>-8.147433</td>\n",
       "      <td>5.004363</td>\n",
       "      <td>134.766305</td>\n",
       "    </tr>\n",
       "  </tbody>\n",
       "</table>\n",
       "</div>"
      ],
      "text/plain": [
       "      id         f0         f1        f2     product\n",
       "0  kBEdx -15.001348  -8.276000 -0.005876    3.179103\n",
       "1  62mP7  14.272088  -3.475083  0.999183   26.953261\n",
       "2  vyE1P   6.263187  -5.948386  5.001160  134.766305\n",
       "3  KcrkZ -13.081196 -11.506057  4.999415  137.945408\n",
       "4  AHL4O  12.702195  -8.147433  5.004363  134.766305"
      ]
     },
     "metadata": {},
     "output_type": "display_data"
    },
    {
     "name": "stdout",
     "output_type": "stream",
     "text": [
      "Инфо df3:\n",
      "<class 'pandas.core.frame.DataFrame'>\n",
      "Int64Index: 98003 entries, 0 to 99999\n",
      "Data columns (total 5 columns):\n",
      " #   Column   Non-Null Count  Dtype  \n",
      "---  ------   --------------  -----  \n",
      " 0   id       98003 non-null  object \n",
      " 1   f0       98003 non-null  float64\n",
      " 2   f1       98003 non-null  float64\n",
      " 3   f2       98003 non-null  float64\n",
      " 4   product  98003 non-null  float64\n",
      "dtypes: float64(4), object(1)\n",
      "memory usage: 6.5+ MB\n"
     ]
    },
    {
     "data": {
      "text/html": [
       "<div>\n",
       "<style scoped>\n",
       "    .dataframe tbody tr th:only-of-type {\n",
       "        vertical-align: middle;\n",
       "    }\n",
       "\n",
       "    .dataframe tbody tr th {\n",
       "        vertical-align: top;\n",
       "    }\n",
       "\n",
       "    .dataframe thead th {\n",
       "        text-align: right;\n",
       "    }\n",
       "</style>\n",
       "<table border=\"1\" class=\"dataframe\">\n",
       "  <thead>\n",
       "    <tr style=\"text-align: right;\">\n",
       "      <th></th>\n",
       "      <th>id</th>\n",
       "      <th>f0</th>\n",
       "      <th>f1</th>\n",
       "      <th>f2</th>\n",
       "      <th>product</th>\n",
       "    </tr>\n",
       "  </thead>\n",
       "  <tbody>\n",
       "    <tr>\n",
       "      <th>0</th>\n",
       "      <td>fwXo0</td>\n",
       "      <td>-1.146987</td>\n",
       "      <td>0.963328</td>\n",
       "      <td>-0.828965</td>\n",
       "      <td>27.758673</td>\n",
       "    </tr>\n",
       "    <tr>\n",
       "      <th>1</th>\n",
       "      <td>WJtFt</td>\n",
       "      <td>0.262778</td>\n",
       "      <td>0.269839</td>\n",
       "      <td>-2.530187</td>\n",
       "      <td>56.069697</td>\n",
       "    </tr>\n",
       "    <tr>\n",
       "      <th>2</th>\n",
       "      <td>ovLUW</td>\n",
       "      <td>0.194587</td>\n",
       "      <td>0.289035</td>\n",
       "      <td>-5.586433</td>\n",
       "      <td>62.871910</td>\n",
       "    </tr>\n",
       "    <tr>\n",
       "      <th>3</th>\n",
       "      <td>q6cA6</td>\n",
       "      <td>2.236060</td>\n",
       "      <td>-0.553760</td>\n",
       "      <td>0.930038</td>\n",
       "      <td>114.572842</td>\n",
       "    </tr>\n",
       "    <tr>\n",
       "      <th>4</th>\n",
       "      <td>WPMUX</td>\n",
       "      <td>-0.515993</td>\n",
       "      <td>1.716266</td>\n",
       "      <td>5.899011</td>\n",
       "      <td>149.600746</td>\n",
       "    </tr>\n",
       "  </tbody>\n",
       "</table>\n",
       "</div>"
      ],
      "text/plain": [
       "      id        f0        f1        f2     product\n",
       "0  fwXo0 -1.146987  0.963328 -0.828965   27.758673\n",
       "1  WJtFt  0.262778  0.269839 -2.530187   56.069697\n",
       "2  ovLUW  0.194587  0.289035 -5.586433   62.871910\n",
       "3  q6cA6  2.236060 -0.553760  0.930038  114.572842\n",
       "4  WPMUX -0.515993  1.716266  5.899011  149.600746"
      ]
     },
     "metadata": {},
     "output_type": "display_data"
    }
   ],
   "source": [
    "for i in range(0, len(df)):\n",
    "    print(\"Инфо df{}:\".format(i + 1))\n",
    "    df[i].info()\n",
    "    display(df[i].head())"
   ]
  },
  {
   "cell_type": "markdown",
   "id": "4c5a9946-2969-4e7f-88ce-8d49eebdae64",
   "metadata": {},
   "source": [
    "1. В данных отсутствуют пропуски.\n",
    "1. Убрали выбросы.\n",
    "2. Выдержана стилистика наименования столбцов.\n",
    "3. Отсутствуют дубликаты строк.\n",
    "4. Избавились от строк с дубликатами в столбце *id*.\n",
    "5. Корреляция между признаками выше умеренной отсутствует."
   ]
  },
  {
   "cell_type": "markdown",
   "id": "dbcc3119",
   "metadata": {},
   "source": [
    "<div class=\"alert alert-block alert-success\">\n",
    "<b>Успех:</b> Данные осмотрены хорошо, особенно радует, что изучены корреляции, так как мы планируем использовать линейные модели, а для них это важно. \n",
    "</div>\n"
   ]
  },
  {
   "cell_type": "markdown",
   "id": "ca81a1fe-5a70-48f0-8d09-5d455d9a8a7f",
   "metadata": {},
   "source": [
    "## Обучение и проверка модели"
   ]
  },
  {
   "cell_type": "markdown",
   "id": "1b7c2d88-47c8-4151-a2fa-3c969779efb6",
   "metadata": {
    "tags": []
   },
   "source": [
    "### Разделение на обучающую и валидационную выборки"
   ]
  },
  {
   "cell_type": "markdown",
   "id": "460f66b8-b12f-4ad7-824f-440ec2b28bdf",
   "metadata": {},
   "source": [
    "Для обучения нам не понадобятся значения из столбца *id*:"
   ]
  },
  {
   "cell_type": "code",
   "execution_count": 22,
   "id": "eb427def-b37b-41a1-af74-634d3b33a197",
   "metadata": {
    "tags": []
   },
   "outputs": [
    {
     "name": "stdout",
     "output_type": "stream",
     "text": [
      "Index(['f0', 'f1', 'f2', 'product'], dtype='object')\n",
      "Index(['f0', 'f1', 'f2', 'product'], dtype='object')\n",
      "Index(['f0', 'f1', 'f2', 'product'], dtype='object')\n"
     ]
    }
   ],
   "source": [
    "# будем хранить датафреймы в которых нет столбца \"id\"\n",
    "df_model = []\n",
    "for i in range(0, len(df)):\n",
    "    df_model.append(df[i].drop(\"id\", axis=1))\n",
    "    print(df_model[i].columns)"
   ]
  },
  {
   "cell_type": "markdown",
   "id": "fc6d002a-212a-496d-bef7-79efede163a4",
   "metadata": {},
   "source": [
    "Разделим данные на признаки и целевой признак:"
   ]
  },
  {
   "cell_type": "code",
   "execution_count": 23,
   "id": "4df088fa-6915-465f-bf82-03b553b8c81f",
   "metadata": {
    "tags": []
   },
   "outputs": [],
   "source": [
    "features = []\n",
    "target = []\n",
    "for i in range(0, len(df_model)):\n",
    "    features.append(df_model[i].drop(\"product\", axis=1))\n",
    "    target.append(df_model[i][\"product\"])"
   ]
  },
  {
   "cell_type": "markdown",
   "id": "e6a3fd62-e918-41fd-bb04-2cb3e1f26c19",
   "metadata": {},
   "source": [
    "Далее разобьём данные на обучающую и валидационную (пропорции 75:25):"
   ]
  },
  {
   "cell_type": "code",
   "execution_count": 24,
   "id": "4e874efb-61f7-4cf4-afeb-afc02846fd91",
   "metadata": {
    "tags": []
   },
   "outputs": [
    {
     "name": "stdout",
     "output_type": "stream",
     "text": [
      "Размер features_train0 = 74620\n",
      "Размер target_train0 = 74620\n",
      "Размер features_valid0 = 24874\n",
      "Размер target_valid0 = 24874\n",
      "\n",
      "Размер features_train1 = 74522\n",
      "Размер target_train1 = 74522\n",
      "Размер features_valid1 = 24841\n",
      "Размер target_valid1 = 24841\n",
      "\n",
      "Размер features_train2 = 73502\n",
      "Размер target_train2 = 73502\n",
      "Размер features_valid2 = 24501\n",
      "Размер target_valid2 = 24501\n",
      "\n"
     ]
    }
   ],
   "source": [
    "features_train = []\n",
    "target_train = []\n",
    "features_valid = []\n",
    "target_valid = []\n",
    "\n",
    "for i in range(0, len(df_model)):\n",
    "    features_trainx, features_validx, target_trainx, target_validx = train_test_split(\n",
    "        features[i], target[i], test_size=0.25, random_state=12345\n",
    "    )\n",
    "\n",
    "    features_train.append(features_trainx)\n",
    "    features_valid.append(features_validx)\n",
    "    target_train.append(target_trainx)\n",
    "    target_valid.append(target_validx)\n",
    "\n",
    "    print(\"Размер features_train{} = {}\".format(i, features_trainx.shape[0]))\n",
    "    print(\"Размер target_train{} = {}\".format(i, target_trainx.shape[0]))\n",
    "    print(\"Размер features_valid{} = {}\".format(i, features_validx.shape[0]))\n",
    "    print(\"Размер target_valid{} = {}\".format(i, target_validx.shape[0]))\n",
    "    print(\"\")"
   ]
  },
  {
   "cell_type": "markdown",
   "id": "dd29e803-c183-4c91-a152-aea508ab9be7",
   "metadata": {},
   "source": [
    "### Масштабирование параметров и обучение модели"
   ]
  },
  {
   "cell_type": "markdown",
   "id": "50860c86-f77e-4d46-86ac-99b63a030838",
   "metadata": {
    "tags": []
   },
   "source": [
    "Далее воспользуемся для удобства конвейером *Pipeline*. Пропишем стандартизацию данных с помощью *StandardScaler, и модель линейной регрессии *LinearRegression*:"
   ]
  },
  {
   "cell_type": "code",
   "execution_count": 25,
   "id": "e4a384fd-1309-4609-ba37-377dbc764441",
   "metadata": {
    "tags": []
   },
   "outputs": [
    {
     "data": {
      "text/plain": [
       "Pipeline(steps=[('scaler', StandardScaler()),\n",
       "                ('regressor', LinearRegression())])"
      ]
     },
     "execution_count": 25,
     "metadata": {},
     "output_type": "execute_result"
    }
   ],
   "source": [
    "models = []\n",
    "for i in range(0, len(df_model)):\n",
    "    models.append(\n",
    "        Pipeline(\n",
    "            steps=[(\"scaler\", StandardScaler()), (\"regressor\", LinearRegression())]\n",
    "        )\n",
    "    )\n",
    "models[0]"
   ]
  },
  {
   "cell_type": "markdown",
   "id": "8601e02e-b8c3-4164-8d53-b5aeb5ad2d74",
   "metadata": {
    "tags": []
   },
   "source": [
    "Далее масштабируем наши данные и обучим модель линейной регрессии:"
   ]
  },
  {
   "cell_type": "code",
   "execution_count": 26,
   "id": "d3ff14da-fe1c-4e60-a4eb-94db86ba605f",
   "metadata": {
    "tags": []
   },
   "outputs": [
    {
     "name": "stdout",
     "output_type": "stream",
     "text": [
      "done\n"
     ]
    }
   ],
   "source": [
    "pd.options.mode.chained_assignment = None\n",
    "\n",
    "for i in range(0, len(df_model)):\n",
    "    models[i].fit(features_train[i], target_train[i])\n",
    "print(\"done\")"
   ]
  },
  {
   "cell_type": "code",
   "execution_count": 27,
   "id": "dc6c7d8b-0086-4f9e-bc96-1351141c1323",
   "metadata": {
    "tags": []
   },
   "outputs": [
    {
     "name": "stdout",
     "output_type": "stream",
     "text": [
      "МЕСТОРОЖДЕНИЕ  1\n",
      "RMSE 1-ого месторождение = 37.923\n",
      "Cредний запас предсказанного сырья = 92.725 тыс. баррелей\n",
      "\n",
      "МЕСТОРОЖДЕНИЕ  2\n",
      "RMSE 2-ого месторождение = 0.889\n",
      "Cредний запас предсказанного сырья = 68.572 тыс. баррелей\n",
      "\n",
      "МЕСТОРОЖДЕНИЕ  3\n",
      "RMSE 3-ого месторождение = 40.177\n",
      "Cредний запас предсказанного сырья = 94.677 тыс. баррелей\n",
      "\n"
     ]
    }
   ],
   "source": [
    "# предсказанные объемы нефти\n",
    "y_pred = []\n",
    "\n",
    "for i in range(0, len(df_model)):\n",
    "    y_pred.append(models[i].predict(features_valid[i]))\n",
    "    print(\"МЕСТОРОЖДЕНИЕ \", i + 1)\n",
    "    print(\n",
    "        \"RMSE {}-ого месторождение = {}\".format(\n",
    "            i + 1,\n",
    "            round(mean_squared_error(target_valid[i], y_pred[i], squared=False), 3),\n",
    "        )\n",
    "    )\n",
    "    print(\n",
    "        \"Cредний запас предсказанного сырья = {} тыс. баррелей\".format(\n",
    "            round(y_pred[i].mean(), 3)\n",
    "        )\n",
    "    )\n",
    "    print(\"\")"
   ]
  },
  {
   "cell_type": "markdown",
   "id": "9f230623-d894-4edc-90a2-de0c9eb32088",
   "metadata": {
    "tags": []
   },
   "source": [
    "### Промежуточный вывод"
   ]
  },
  {
   "cell_type": "markdown",
   "id": "8dbd2e4a-e496-4ea6-b3d8-3fecd28612d1",
   "metadata": {},
   "source": [
    "Обучили по модели линейной регрессии для каждого месторождения и получили следующие данные: <br>\n",
    "**Рейтинг по запасам нефти**:\n",
    "* *3 месторождение* - **94.677** тыс. баррелей\n",
    "* *1 месторождение* - **92.725** тыс. баррелей\n",
    "* *2 месторождение* - **68.572** тыс. баррелей\n",
    "\n",
    "**Рейтинг по показателю RMSE**:\n",
    "* *2 месторождение* - **0.889** тыс. баррелей\n",
    "* *1 месторождение* - **37.923** тыс. баррелей\n",
    "* *3 месторождение* - **40.177** тыс. баррелей"
   ]
  },
  {
   "cell_type": "markdown",
   "id": "0daecb6e",
   "metadata": {},
   "source": [
    "<div class=\"alert alert-block alert-success\">\n",
    "<b>Успех:</b> Шаг проделан лаконично, все метрики посчитаны корректно\n",
    "</div> \n"
   ]
  },
  {
   "cell_type": "markdown",
   "id": "4f80ef19",
   "metadata": {},
   "source": [
    "<div class=\"alert alert-block alert-warning\">\n",
    "<b>Комментарий студента:</b> Есть вопрос. В строчке y_pred.append(models[i].predict(features_valid[i])) подаем в predict  признаки валидационные features_valid[i]. Она тоже проходит сначала fit и потом transform? или только transform? если сначала еще и fit, то это разве не значит что может иначе масштабироваться, нежеле обучающие признаки\n",
    "</div>  "
   ]
  },
  {
   "cell_type": "markdown",
   "id": "63d39613",
   "metadata": {},
   "source": [
    "<div class=\"alert alert-block alert-success\">\n",
    "    \n",
    "<b>Успех[2]:</b> Только transform выполняется, так как все препроцессоры обучаются на обучающих факторах - и это правильно, чтобы данные были масштабированы соответствующе и использовались статистики тренировочной выборке, так как они могут отличаться. \n",
    "</div>"
   ]
  },
  {
   "cell_type": "markdown",
   "id": "1451a981-911e-48b1-a29f-129033ed9604",
   "metadata": {},
   "source": [
    "## Подготовка к расчёту прибыли"
   ]
  },
  {
   "cell_type": "markdown",
   "id": "38cf08c1-4a23-4d61-a5a2-e7822b8513b8",
   "metadata": {
    "tags": []
   },
   "source": [
    "### Переменные с данными"
   ]
  },
  {
   "cell_type": "markdown",
   "id": "af6f6fa2-3865-4330-b2cc-8df36e05a7d2",
   "metadata": {},
   "source": [
    "Сохраним в отдельные переменные изначально заданные данные в условиях задач: "
   ]
  },
  {
   "cell_type": "code",
   "execution_count": 28,
   "id": "cf453e6a-3798-430f-8b2f-02c1e9786adc",
   "metadata": {
    "tags": []
   },
   "outputs": [],
   "source": [
    "TOTAL_POINTS_COUNTS = 500  # количество точек при разведке\n",
    "BEST_POINTS_COUNTS = 200  # количество лучших точек\n",
    "BUDGET = 10**10  # бюджет на разработку скважин в регионе\n",
    "THOUSAND_BARREL = 450000  # доход с 1000 баррелей нефти\n",
    "LOSS_PROBABILITY = 0.025  # вероятность убытков\n",
    "NO_LOSS_VOL = 0  # объем нефти в одной скважине для безубыточной разработки"
   ]
  },
  {
   "cell_type": "markdown",
   "id": "4949b234",
   "metadata": {},
   "source": [
    "\n",
    "\n",
    "\n",
    "<div class=\"alert alert-block alert-success\">\n",
    "<b>Успех:</b> Лайк за константы в верхнем регистре, не забываешь про PEP8\n",
    "</div> \n",
    "\n",
    "\n",
    "\n",
    "\n",
    "<div class=\"alert alert-block alert-info\">\n",
    "    \n",
    "<b>Совет:</b> большие значение можно записывать так: `450_000`.\n",
    "</div> "
   ]
  },
  {
   "cell_type": "markdown",
   "id": "1d0ff97c",
   "metadata": {},
   "source": [
    "<div class=\"alert alert-block alert-warning\">\n",
    "<b>Комментарий студента:</b> О, учту\n",
    "</div>  "
   ]
  },
  {
   "cell_type": "markdown",
   "id": "1df116ef-6c97-4bc7-ac3d-903c38d268c6",
   "metadata": {},
   "source": [
    "### Достаточный объём сырья"
   ]
  },
  {
   "cell_type": "markdown",
   "id": "f3224dd6-a3b6-480f-a869-aa56f90c1923",
   "metadata": {},
   "source": [
    "Далее найдем объем нефти в одной скважине для безубыточной разработки:"
   ]
  },
  {
   "cell_type": "code",
   "execution_count": 29,
   "id": "d2f0cfcc-5574-4de9-99fc-41b7aeb89477",
   "metadata": {
    "tags": []
   },
   "outputs": [
    {
     "name": "stdout",
     "output_type": "stream",
     "text": [
      "Достаточный объём сырья для безубыточной разработки новой скважины = 111.111 тыс.баррелей\n"
     ]
    }
   ],
   "source": [
    "NO_LOSS_VOL = (BUDGET / (THOUSAND_BARREL)) / BEST_POINTS_COUNTS\n",
    "print(\n",
    "    \"Достаточный объём сырья для безубыточной разработки новой скважины = {} тыс.баррелей\".format(\n",
    "        round(NO_LOSS_VOL, 3)\n",
    "    )\n",
    ")"
   ]
  },
  {
   "cell_type": "markdown",
   "id": "f9cbf5df-a95a-44b2-90c7-a03ef464ca37",
   "metadata": {
    "tags": []
   },
   "source": [
    "Среднее значение сырья по регионам:"
   ]
  },
  {
   "cell_type": "code",
   "execution_count": 30,
   "id": "52de90a6-8b73-4938-abb1-9aed377ce93d",
   "metadata": {
    "tags": []
   },
   "outputs": [
    {
     "name": "stdout",
     "output_type": "stream",
     "text": [
      "Средний объем нефти в одной скважине региона 1 = 92.501\n",
      "Средний объем нефти в одной скважине региона 2 = 68.809\n",
      "Средний объем нефти в одной скважине региона 3 = 94.785\n"
     ]
    }
   ],
   "source": [
    "for i in range(0, len(df_model)):\n",
    "    print(\n",
    "        \"Средний объем нефти в одной скважине региона {} = {}\".format(\n",
    "            i + 1, round(df_model[i][\"product\"].mean(), 3)\n",
    "        )\n",
    "    )"
   ]
  },
  {
   "cell_type": "markdown",
   "id": "04f45730-14d8-4858-a713-ead01ed43f0e",
   "metadata": {
    "tags": []
   },
   "source": [
    "Средний объем нефти у всех скважин каждого региона ниже минимально допустимого объема 111.111 тыс. баррелей, необходимого для безубыточной разработки."
   ]
  },
  {
   "cell_type": "markdown",
   "id": "7137f15a-9028-40b2-81bc-aab84ca167d8",
   "metadata": {},
   "source": [
    "Попробуем узнать, какой процент скважин имеют объем больше 111.111 тыс. баррелей у каждого региона:"
   ]
  },
  {
   "cell_type": "code",
   "execution_count": 31,
   "id": "04b3f40e-2070-469d-af54-ee8120c78613",
   "metadata": {
    "tags": []
   },
   "outputs": [
    {
     "name": "stdout",
     "output_type": "stream",
     "text": [
      "Процент скважин с запасами выше 111.11 тыс.баррелей у месторождения 1 = 36.5 %\n",
      "Процент скважин с запасами выше 111.11 тыс.баррелей у месторождения 2 = 16.5 %\n",
      "Процент скважин с запасами выше 111.11 тыс.баррелей у месторождения 3 = 38.0 %\n"
     ]
    }
   ],
   "source": [
    "for i in range(0, len(df_model)):\n",
    "    tmp = df_model[i].sort_values(by=\"product\", ascending=True).reset_index(drop=True)\n",
    "    for j in range(0, df_model[i].shape[0]):\n",
    "        if tmp[\"product\"][j] > NO_LOSS_VOL:\n",
    "            print(\n",
    "                \"Процент скважин с запасами выше 111.11 тыс.баррелей у месторождения {} = {} %\".format(\n",
    "                    i + 1, 100 * round(1 - j / len(df_model[i]), 3)\n",
    "                )\n",
    "            )\n",
    "            break"
   ]
  },
  {
   "cell_type": "markdown",
   "id": "3650530e-2aa1-4f22-8df7-fd88a6a4df86",
   "metadata": {
    "tags": []
   },
   "source": [
    "Среднее значение сырья по регионам у 500 лучших скважин:"
   ]
  },
  {
   "cell_type": "code",
   "execution_count": 32,
   "id": "d0591579-4d28-4060-b55c-656cc1121caf",
   "metadata": {
    "tags": []
   },
   "outputs": [
    {
     "name": "stdout",
     "output_type": "stream",
     "text": [
      "Средний объем нефти в одной скважине региона 1 = 184.099\n",
      "\n",
      "Средний объем нефти в одной скважине региона 2 = 137.945\n",
      "\n",
      "Средний объем нефти в одной скважине региона 3 = 188.818\n",
      "\n"
     ]
    }
   ],
   "source": [
    "for i in range(0, len(df_model)):\n",
    "    print(\n",
    "        \"Средний объем нефти в одной скважине региона {} = {}\".format(\n",
    "            i + 1,\n",
    "            round(\n",
    "                df_model[i]\n",
    "                .sort_values(by=\"product\", ascending=False)[\"product\"][\n",
    "                    :TOTAL_POINTS_COUNTS\n",
    "                ]\n",
    "                .mean(),\n",
    "                3,\n",
    "            ),\n",
    "        )\n",
    "    )\n",
    "    print(\"\")"
   ]
  },
  {
   "cell_type": "markdown",
   "id": "e88235c1-ed6a-40e1-835f-92cfe78d5306",
   "metadata": {
    "tags": []
   },
   "source": [
    "Как видим, средний объем нефти у 500 лучших скважин каждого региона превышает минимально допустимый объем 111.111 тыс. баррелей, необходимых для безубыточной разработки."
   ]
  },
  {
   "cell_type": "markdown",
   "id": "450ecdba-e641-4d5f-8714-3c2b59895bde",
   "metadata": {},
   "source": [
    "### Промежуточный вывод"
   ]
  },
  {
   "cell_type": "markdown",
   "id": "90f666f3-210f-4afb-af73-c2ec3122a7de",
   "metadata": {},
   "source": [
    "1. Все ключевые значения для расчётов сохранили в отдельные переменные\n",
    "2. Рассчитали достаточный объём сырья для безубыточной разработки новой скважины, который оказался равен **111.11** тыс.баррелей.\n",
    "3. Выяснили процент скважин у которых объем нефти выше **111.11** тыс.баррелей:\n",
    "* 1 месторождение - 36.5 %\n",
    "* 2 месторождение - 16.5 %\n",
    "* 3 месторождение - 38 %\n",
    "4. Посчитали среднее значение у 500 самых богатых сырьем скважин и выяснили, что у всех месторождений это значение выше **111.11** тыс.баррелей."
   ]
  },
  {
   "cell_type": "markdown",
   "id": "1dfc35b7",
   "metadata": {},
   "source": [
    "\n",
    "<div class=\"alert alert-block alert-success\">\n",
    "<b>Успех:</b> Значение для безубыточной разработки посчитано верно, с выводом согласен  \n",
    "</div>\n"
   ]
  },
  {
   "cell_type": "markdown",
   "id": "1f318315-04d5-4aec-83e4-37b2ea21b4f6",
   "metadata": {},
   "source": [
    "## Расчёт прибыли и рисков"
   ]
  },
  {
   "cell_type": "markdown",
   "id": "c76f2ebc-16f1-4b2e-a360-af9696a68c38",
   "metadata": {},
   "source": [
    "Сперва напишем функцию для расчета прибыли. В нее будем подавать предсказанные моделью значения (*pred_targ*), валидационную выборку с целевыми признаками (*targ*) и интересующее нас количество скважин (*count*). Далее отсортируем *pred_targ* по убыванию и возьмем первые *count* скважин. Затем применим индексы ранее отсортированной выборки как маску к датафрейму *targ* содержащему истинные объемы сырья и найдем суммарный объем получившейся выборки и вернем значение прибыли.  "
   ]
  },
  {
   "cell_type": "code",
   "execution_count": 33,
   "id": "5e760f41-7a81-43b3-ab0f-63d7c75d5d58",
   "metadata": {
    "tags": []
   },
   "outputs": [],
   "source": [
    "# функция для расчета прибыли\n",
    "def income(targ, pred_targ, count):\n",
    "    pred_sorted = pred_targ.sort_values(ascending=False)[:count]\n",
    "    selected = targ.iloc[pred_sorted.index]\n",
    "    return round((selected.sum() * THOUSAND_BARREL - BUDGET) / 10**9, 3)"
   ]
  },
  {
   "cell_type": "markdown",
   "id": "e27133ef",
   "metadata": {},
   "source": [
    "\n",
    "<div class=\"alert alert-block alert-success\">\n",
    "<b>Успех:</b> Ф-ция для подсчета прибыли определена верно\n",
    "</div>\n"
   ]
  },
  {
   "cell_type": "markdown",
   "id": "f3e70257-5908-413f-b2a0-f360c4d69ab7",
   "metadata": {},
   "source": [
    "Применим технику *Bootstrap* с 1000 выборок, чтобы найти распределение прибыли:"
   ]
  },
  {
   "cell_type": "code",
   "execution_count": 34,
   "id": "7b968dff-6330-4229-811b-ba025a91a4eb",
   "metadata": {
    "tags": []
   },
   "outputs": [],
   "source": [
    "state = RandomState(12345)\n",
    "\n",
    "\n",
    "def bootstrap1000(targ, pred_targ):\n",
    "    samples = []\n",
    "    for i in tqdm(range(1000)):\n",
    "        sample = pd.Series(pred_targ).sample(\n",
    "            n=TOTAL_POINTS_COUNTS, replace=True, random_state=state\n",
    "        )\n",
    "        samples.append(income(targ, sample, BEST_POINTS_COUNTS))\n",
    "\n",
    "    samples = pd.Series(samples)\n",
    "    lower = samples.quantile(0.025)\n",
    "    upper = samples.quantile(0.975)\n",
    "    return (\n",
    "        round(samples.mean(), 3),\n",
    "        round(samples.apply(lambda x: x < 0).sum() / len(samples), 3),\n",
    "        round(lower, 3),\n",
    "        round(upper, 3),\n",
    "    )"
   ]
  },
  {
   "cell_type": "markdown",
   "id": "d6495c78",
   "metadata": {},
   "source": [
    "\n",
    "<div class=\"alert alert-block alert-success\">\n",
    "<b>Успех:</b> С бутстрапом тоже все в порядке, метрики считаются верным образом!  \n",
    "</div>"
   ]
  },
  {
   "cell_type": "code",
   "execution_count": 35,
   "id": "e00b5a56-c8d6-4d95-bd2e-06fd02bf7c79",
   "metadata": {
    "tags": []
   },
   "outputs": [
    {
     "name": "stderr",
     "output_type": "stream",
     "text": [
      "100%|██████████| 1000/1000 [00:00<00:00, 1241.99it/s]\n"
     ]
    },
    {
     "name": "stdout",
     "output_type": "stream",
     "text": [
      "Месторождение 1:\n",
      "Средняя прибыль = 0.366 млрд. рублей\n",
      "95% доверительный интервал от -0.164 до 0.893 млрд.рублей\n",
      "Процент риска = 8.9 %\n"
     ]
    },
    {
     "name": "stderr",
     "output_type": "stream",
     "text": [
      "100%|██████████| 1000/1000 [00:00<00:00, 1304.14it/s]\n"
     ]
    },
    {
     "name": "stdout",
     "output_type": "stream",
     "text": [
      "Месторождение 2:\n",
      "Средняя прибыль = 0.434 млрд. рублей\n",
      "95% доверительный интервал от 0.043 до 0.841 млрд.рублей\n",
      "Процент риска = 1.7000000000000002 %\n"
     ]
    },
    {
     "name": "stderr",
     "output_type": "stream",
     "text": [
      "100%|██████████| 1000/1000 [00:00<00:00, 1223.68it/s]"
     ]
    },
    {
     "name": "stdout",
     "output_type": "stream",
     "text": [
      "Месторождение 3:\n",
      "Средняя прибыль = 0.345 млрд. рублей\n",
      "95% доверительный интервал от -0.216 до 0.896 млрд.рублей\n",
      "Процент риска = 10.4 %\n"
     ]
    },
    {
     "name": "stderr",
     "output_type": "stream",
     "text": [
      "\n"
     ]
    }
   ],
   "source": [
    "for i in range(0, len(df_model)):\n",
    "    data = bootstrap1000(target_valid[i], y_pred[i])\n",
    "    print(\"Месторождение {}:\".format(i + 1))\n",
    "    print(\"Средняя прибыль = {} млрд. рублей\".format(data[0]))\n",
    "    print(\"95% доверительный интервал от {} до {} млрд.рублей\".format(data[2], data[3]))\n",
    "    print(\"Процент риска = {} %\".format(data[1] * 100))"
   ]
  },
  {
   "cell_type": "markdown",
   "id": "61afef00-e403-4576-bfc2-4e8258d6fdd6",
   "metadata": {},
   "source": [
    "### Промежуточный вывод"
   ]
  },
  {
   "cell_type": "markdown",
   "id": "923eb2f2-c7f6-46fa-9dc8-87ee93ccdf74",
   "metadata": {},
   "source": [
    "Нашли среднюю прибыль, 95%-й доверительный интервал и риск убытков у трех месторождений. Наименьший риск и наибольшая средняя прибыль у месторождения под номером **2**. Соответственно, именно она предлагается для разработки."
   ]
  },
  {
   "cell_type": "markdown",
   "id": "cab1e905",
   "metadata": {},
   "source": [
    "<div class=\"alert alert-block alert-success\">\n",
    "<b>Успех:</b> Отлично, проведено детальное исследование и был выбран правильный регион!\n",
    "</div>\n",
    "\n",
    "\n",
    "\n",
    "<div class=\"alert alert-block alert-info\">\n",
    "<b>Совет: </b> Если интересно изучить тему бутстрапа глубже - я оставлю  ниже несколько интересных и полезных ссылок по теме:\n",
    "        \n",
    "1. \"Bootstrap Hypothesis Testing in Statistics with Example\" \n",
    "        \n",
    "https://www.youtube.com/watch?v=9STZ7MxkNVg\n",
    "        \n",
    "2. \"How to Calculate Bootstrap Confidence Intervals For Machine Learning Results in Python\" \n",
    "        \n",
    "https://machinelearningmastery.com/calculate-bootstrap-confidence-intervals-machine-learning-results-python/\n",
    "        \n",
    "3. \"A Gentle Introduction to the Bootstrap Method\" \n",
    "\n",
    "https://machinelearningmastery.com/a-gentle-introduction-to-the-bootstrap-method/\n",
    "        \n",
    "4. \"An Introduction to the Bootstrap Method\" \n",
    "        \n",
    "https://towardsdatascience.com/an-introduction-to-the-bootstrap-method-58bcb51b4d60#:~:text=The%20basic%20idea%20of%20bootstrap,population%20mean)%20on%20sample%20data.&amp;text=A%20sample%20from%20population%20with%20sample%20size%20n\n",
    "        \n",
    "5. \"Bootstrapping and Resampling in Statistics with Example\" \n",
    "        \n",
    "        \n",
    "https://www.youtube.com/watch?v=O_Fj4q8lgmc\n",
    "\n",
    "6. Также одна из программ на рынке по этой теме управлненеческого моделирования - AnyLogic - интересный продукт. Можешь видео из интернета посмотреть по какому-нибудь примеру с её использованием. Тогда тема управленческого моделирования и бутстрапа может по-другому лечь.\n",
    "</div>\n",
    "\n"
   ]
  },
  {
   "cell_type": "markdown",
   "id": "24f7e2d7",
   "metadata": {},
   "source": [
    "<div class=\"alert alert-block alert-warning\">\n",
    "<b>Комментарий студента:</b> Благодарю!)\n",
    "</div>  "
   ]
  },
  {
   "cell_type": "markdown",
   "id": "8988c76f",
   "metadata": {},
   "source": [
    "<div class=\"alert alert-block alert-success\">\n",
    "    \n",
    "<b>Успех[2]:</b> 🤝\n",
    "</div>\n"
   ]
  },
  {
   "cell_type": "markdown",
   "id": "71aec759-48e5-4bf9-a392-c2cf6bc39749",
   "metadata": {},
   "source": [
    "## Итоговой вывод"
   ]
  },
  {
   "cell_type": "markdown",
   "id": "b72d0c73-322a-4e71-b650-a394b72ec913",
   "metadata": {},
   "source": [
    "1. Изучены предлагаемые датафреймы. Проведена подготовка данных:\n",
    "* убраны выбросы\n",
    "* избавились от строк с дубликатами в столбце id.\n",
    "* проверили отсутствие пропусков\n",
    "* проверили отсутствие дубликатов строк\n",
    "2. Обучили модели для каждого месторождения (датафрейма df1, df2, df3). Спрогнозировали целевые признаки (запасы нефти) и оценили метрику *RMSE*:\n",
    "\n",
    "\n",
    "***Рейтинг по запасам нефти:***\n",
    "\n",
    "* 3 месторождение - 94.677 тыс. баррелей\n",
    "* 1 месторождение - 92.725 тыс. баррелей\n",
    "* 2 месторождение - 68.572 тыс. баррелей\n",
    "\n",
    "\n",
    "***Рейтинг по показателю RMSE:***\n",
    "\n",
    "* 2 месторождение - 0.889 тыс. баррелей\n",
    "* 1 месторождение - 37.923 тыс. баррелей\n",
    "* 3 месторождение - 40.177 тыс. баррелей\n",
    "\n",
    "Как видим, самая точная модель получилась у **2** месторождения, хотя при этом у него самые маленький средний запас нефти в одной скважине.\n",
    "\n",
    "3. Составлена функция для расчета прибыли в регионе. \n",
    "4. Посчитаны прибыль, риски и 95%-й доверительный интервал с помощью *bootstrap*-а для каждого региона.\n",
    "\n",
    "***Итог:***\n",
    "* Второй регион (месторождение) - самая высокая средняя прибыль и при этом самый низкий процент риска. Рекомендуется для разработки!"
   ]
  },
  {
   "cell_type": "markdown",
   "id": "0e1873a0",
   "metadata": {},
   "source": [
    "\n",
    "\n",
    "<div class=\"alert alert-block alert-success\">\n",
    "<b>Успех:</b> Всегда приятно наблюдать подробный и структурированный итоговый вывод в конце работы! \n",
    "</div>\n"
   ]
  }
 ],
 "metadata": {
  "ExecuteTimeLog": [
   {
    "duration": 5748,
    "start_time": "2023-06-21T08:43:34.580Z"
   },
   {
    "duration": 6,
    "start_time": "2023-06-21T08:43:40.330Z"
   },
   {
    "duration": 93,
    "start_time": "2023-06-21T08:43:40.337Z"
   },
   {
    "duration": 39,
    "start_time": "2023-06-21T08:43:40.433Z"
   },
   {
    "duration": 295,
    "start_time": "2023-06-21T08:43:40.477Z"
   },
   {
    "duration": 0,
    "start_time": "2023-06-21T08:43:40.787Z"
   },
   {
    "duration": 1,
    "start_time": "2023-06-21T08:43:40.794Z"
   },
   {
    "duration": 0,
    "start_time": "2023-06-21T08:43:40.798Z"
   },
   {
    "duration": 0,
    "start_time": "2023-06-21T08:43:40.805Z"
   },
   {
    "duration": 0,
    "start_time": "2023-06-21T08:43:40.806Z"
   },
   {
    "duration": 0,
    "start_time": "2023-06-21T08:43:40.809Z"
   },
   {
    "duration": 0,
    "start_time": "2023-06-21T08:43:40.810Z"
   },
   {
    "duration": 0,
    "start_time": "2023-06-21T08:43:40.816Z"
   },
   {
    "duration": 0,
    "start_time": "2023-06-21T08:43:40.817Z"
   },
   {
    "duration": 0,
    "start_time": "2023-06-21T08:43:40.817Z"
   },
   {
    "duration": 0,
    "start_time": "2023-06-21T08:43:40.819Z"
   },
   {
    "duration": 0,
    "start_time": "2023-06-21T08:43:40.820Z"
   },
   {
    "duration": 0,
    "start_time": "2023-06-21T08:43:40.821Z"
   },
   {
    "duration": 0,
    "start_time": "2023-06-21T08:43:40.822Z"
   },
   {
    "duration": 0,
    "start_time": "2023-06-21T08:43:40.824Z"
   },
   {
    "duration": 0,
    "start_time": "2023-06-21T08:43:40.825Z"
   },
   {
    "duration": 0,
    "start_time": "2023-06-21T08:43:40.826Z"
   },
   {
    "duration": 0,
    "start_time": "2023-06-21T08:43:40.827Z"
   },
   {
    "duration": 0,
    "start_time": "2023-06-21T08:43:40.827Z"
   },
   {
    "duration": 0,
    "start_time": "2023-06-21T08:43:40.828Z"
   },
   {
    "duration": 0,
    "start_time": "2023-06-21T08:43:40.830Z"
   },
   {
    "duration": 0,
    "start_time": "2023-06-21T08:43:40.831Z"
   },
   {
    "duration": 89,
    "start_time": "2023-06-21T08:44:26.829Z"
   },
   {
    "duration": 59,
    "start_time": "2023-06-21T08:44:30.878Z"
   },
   {
    "duration": 576,
    "start_time": "2023-06-21T08:44:35.325Z"
   },
   {
    "duration": 7,
    "start_time": "2023-06-21T08:44:37.207Z"
   },
   {
    "duration": 18,
    "start_time": "2023-06-21T08:44:37.216Z"
   },
   {
    "duration": 48,
    "start_time": "2023-06-21T08:44:37.235Z"
   },
   {
    "duration": 38,
    "start_time": "2023-06-21T08:44:37.285Z"
   },
   {
    "duration": 543,
    "start_time": "2023-06-21T08:44:37.326Z"
   },
   {
    "duration": 1778,
    "start_time": "2023-06-21T08:44:37.871Z"
   },
   {
    "duration": 112,
    "start_time": "2023-06-21T08:44:39.651Z"
   },
   {
    "duration": 1577,
    "start_time": "2023-06-21T08:44:39.765Z"
   },
   {
    "duration": 167,
    "start_time": "2023-06-21T08:44:41.344Z"
   },
   {
    "duration": 72,
    "start_time": "2023-06-21T08:44:41.512Z"
   },
   {
    "duration": 148,
    "start_time": "2023-06-21T08:44:41.586Z"
   },
   {
    "duration": 35,
    "start_time": "2023-06-21T08:44:41.737Z"
   },
   {
    "duration": 0,
    "start_time": "2023-06-21T08:44:41.779Z"
   },
   {
    "duration": 0,
    "start_time": "2023-06-21T08:44:41.780Z"
   },
   {
    "duration": 0,
    "start_time": "2023-06-21T08:44:41.781Z"
   },
   {
    "duration": 0,
    "start_time": "2023-06-21T08:44:41.782Z"
   },
   {
    "duration": 0,
    "start_time": "2023-06-21T08:44:41.782Z"
   },
   {
    "duration": 0,
    "start_time": "2023-06-21T08:44:41.783Z"
   },
   {
    "duration": 0,
    "start_time": "2023-06-21T08:44:41.783Z"
   },
   {
    "duration": 0,
    "start_time": "2023-06-21T08:44:41.784Z"
   },
   {
    "duration": 0,
    "start_time": "2023-06-21T08:44:41.786Z"
   },
   {
    "duration": 0,
    "start_time": "2023-06-21T08:44:41.787Z"
   },
   {
    "duration": 0,
    "start_time": "2023-06-21T08:44:41.788Z"
   },
   {
    "duration": 0,
    "start_time": "2023-06-21T08:44:41.789Z"
   },
   {
    "duration": 0,
    "start_time": "2023-06-21T08:44:41.791Z"
   },
   {
    "duration": 0,
    "start_time": "2023-06-21T08:44:41.792Z"
   },
   {
    "duration": 0,
    "start_time": "2023-06-21T08:44:41.793Z"
   },
   {
    "duration": 81,
    "start_time": "2023-06-21T08:45:12.808Z"
   },
   {
    "duration": 11,
    "start_time": "2023-06-21T08:45:14.109Z"
   },
   {
    "duration": 35,
    "start_time": "2023-06-21T08:45:14.252Z"
   },
   {
    "duration": 46,
    "start_time": "2023-06-21T08:45:14.427Z"
   },
   {
    "duration": 9,
    "start_time": "2023-06-21T08:45:14.711Z"
   },
   {
    "duration": 54,
    "start_time": "2023-06-21T08:45:14.845Z"
   },
   {
    "duration": 240,
    "start_time": "2023-06-21T08:45:14.925Z"
   },
   {
    "duration": 3,
    "start_time": "2023-06-21T08:45:15.510Z"
   },
   {
    "duration": 5,
    "start_time": "2023-06-21T08:45:15.844Z"
   },
   {
    "duration": 8,
    "start_time": "2023-06-21T08:45:16.026Z"
   },
   {
    "duration": 1195,
    "start_time": "2023-06-21T08:45:16.640Z"
   },
   {
    "duration": 63,
    "start_time": "2023-06-21T08:45:17.838Z"
   },
   {
    "duration": 5,
    "start_time": "2023-06-21T08:45:18.810Z"
   },
   {
    "duration": 9,
    "start_time": "2023-06-21T08:45:19.307Z"
   },
   {
    "duration": 2414,
    "start_time": "2023-06-21T08:45:19.812Z"
   },
   {
    "duration": 448,
    "start_time": "2023-06-21T08:48:10.456Z"
   },
   {
    "duration": 195,
    "start_time": "2023-06-21T08:50:59.610Z"
   },
   {
    "duration": 297,
    "start_time": "2023-06-21T08:58:37.012Z"
   }
  ],
  "kernelspec": {
   "display_name": "Python 3 (ipykernel)",
   "language": "python",
   "name": "python3"
  },
  "language_info": {
   "codemirror_mode": {
    "name": "ipython",
    "version": 3
   },
   "file_extension": ".py",
   "mimetype": "text/x-python",
   "name": "python",
   "nbconvert_exporter": "python",
   "pygments_lexer": "ipython3",
   "version": "3.9.5"
  },
  "toc": {
   "base_numbering": 1,
   "nav_menu": {},
   "number_sections": true,
   "sideBar": true,
   "skip_h1_title": true,
   "title_cell": "Table of Contents",
   "title_sidebar": "Contents",
   "toc_cell": false,
   "toc_position": {},
   "toc_section_display": true,
   "toc_window_display": false
  },
  "toc-autonumbering": false
 },
 "nbformat": 4,
 "nbformat_minor": 5
}
